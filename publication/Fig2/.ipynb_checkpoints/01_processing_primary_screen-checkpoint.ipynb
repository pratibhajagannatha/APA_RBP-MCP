{
 "cells": [
  {
   "cell_type": "code",
   "execution_count": 1,
   "id": "927baa4f",
   "metadata": {},
   "outputs": [],
   "source": [
    "import pandas as pd\n",
    "import numpy as np\n",
    "import os\n",
    "import seaborn as sns\n",
    "import matplotlib.pyplot as plt\n",
    "from tqdm import tqdm\n",
    "import pickle\n",
    "import glob"
   ]
  },
  {
   "cell_type": "markdown",
   "id": "43cde9ba-efd0-4928-9050-c51d05ea218b",
   "metadata": {},
   "source": [
    "removing isoforms/keeping the highest ranking isoform "
   ]
  },
  {
   "cell_type": "markdown",
   "id": "37935715",
   "metadata": {},
   "source": [
    "### Setting Working Directories"
   ]
  },
  {
   "cell_type": "code",
   "execution_count": 2,
   "id": "fa6d0cbd",
   "metadata": {},
   "outputs": [],
   "source": [
    "data_dir = '/tscc/nfs/home/pjaganna1/projects/apa_screen_yongsheng/analyzed_data/output_files_may22'"
   ]
  },
  {
   "cell_type": "code",
   "execution_count": 3,
   "id": "94a8bdad",
   "metadata": {},
   "outputs": [],
   "source": [
    "input_dir = '/tscc/nfs/home/pjaganna1/projects/apa_screen_yongsheng'"
   ]
  },
  {
   "cell_type": "code",
   "execution_count": 4,
   "id": "6a045a32-9e07-4d9e-8558-b6c3f86571fb",
   "metadata": {},
   "outputs": [],
   "source": [
    "fig_dir = '/tscc/nfs/home/pjaganna1/projects/apa_screen_yongsheng/notebooks/revision/figures'"
   ]
  },
  {
   "cell_type": "code",
   "execution_count": 5,
   "id": "b2c1462a",
   "metadata": {
    "scrolled": true,
    "tags": []
   },
   "outputs": [
    {
     "name": "stdout",
     "output_type": "stream",
     "text": [
      "reading file : GYRBP001_A_Downstream.txt\n",
      "reading file : GYRBP001_A_Upstream.txt\n",
      "reading file : GYRBP001_B_Downstream.txt\n",
      "reading file : GYRBP001_B_Upstream.txt\n",
      "reading file : GYRBP001_C_Downstream.txt\n",
      "reading file : GYRBP001_C_Upstream.txt\n",
      "reading file : GYRBP001_D_Downstream.txt\n",
      "reading file : GYRBP001_D_Upstream.txt\n",
      "reading file : GYRBP001_E_Downstream.txt\n",
      "reading file : GYRBP001_E_Upstream.txt\n",
      "reading file : GYRBP001_F_Downstream.txt\n",
      "reading file : GYRBP001_F_Upstream.txt\n",
      "reading file : GYRBP001_G_Downstream.txt\n",
      "reading file : GYRBP001_G_Upstream.txt\n",
      "reading file : GYRBP001_H_Downstream.txt\n",
      "reading file : GYRBP001_H_Upstream.txt\n",
      "reading file : GYRBP002_A_Downstream.txt\n",
      "reading file : GYRBP002_A_Upstream.txt\n",
      "reading file : GYRBP002_B_Downstream.txt\n",
      "reading file : GYRBP002_B_Upstream.txt\n",
      "reading file : GYRBP002_C_Downstream.txt\n",
      "reading file : GYRBP002_C_Upstream.txt\n",
      "reading file : GYRBP002_D_Downstream.txt\n",
      "reading file : GYRBP002_D_Upstream.txt\n",
      "reading file : GYRBP002_E_Downstream.txt\n",
      "reading file : GYRBP002_E_Upstream.txt\n",
      "reading file : GYRBP002_F_Downstream.txt\n",
      "reading file : GYRBP002_F_Upstream.txt\n",
      "reading file : GYRBP002_G_Downstream.txt\n",
      "reading file : GYRBP002_G_Upstream.txt\n",
      "reading file : GYRBP002_H_Downstream.txt\n",
      "reading file : GYRBP002_H_Upstream.txt\n",
      "reading file : GYRBP003_A_Downstream.txt\n",
      "reading file : GYRBP003_A_Upstream.txt\n",
      "reading file : GYRBP003_B_Downstream.txt\n",
      "reading file : GYRBP003_B_Upstream.txt\n",
      "reading file : GYRBP003_C_Downstream.txt\n",
      "reading file : GYRBP003_C_Upstream.txt\n",
      "reading file : GYRBP003_D_Downstream.txt\n",
      "reading file : GYRBP003_D_Upstream.txt\n",
      "reading file : GYRBP003_E_Downstream.txt\n",
      "reading file : GYRBP003_E_Upstream.txt\n",
      "reading file : GYRBP003_F_Downstream.txt\n",
      "reading file : GYRBP003_F_Upstream.txt\n",
      "reading file : GYRBP003_G_Downstream.txt\n",
      "reading file : GYRBP003_G_Upstream.txt\n",
      "reading file : GYRBP003_H_Downstream.txt\n",
      "reading file : GYRBP003_H_Upstream.txt\n",
      "reading file : GYRBP004_A_Downstream.txt\n",
      "reading file : GYRBP004_A_Upstream.txt\n",
      "reading file : GYRBP004_B_Downstream.txt\n",
      "reading file : GYRBP004_B_Upstream.txt\n",
      "reading file : GYRBP004_C_Downstream.txt\n",
      "reading file : GYRBP004_C_Upstream.txt\n",
      "reading file : GYRBP004_D_Downstream.txt\n",
      "reading file : GYRBP004_D_Upstream.txt\n",
      "reading file : GYRBP004_E_Downstream.txt\n",
      "reading file : GYRBP004_E_Upstream.txt\n",
      "reading file : GYRBP004_F_Downstream.txt\n",
      "reading file : GYRBP004_F_Upstream.txt\n",
      "reading file : GYRBP004_G_Downstream.txt\n",
      "reading file : GYRBP004_G_Upstream.txt\n",
      "reading file : GYRBP004_H_Downstream.txt\n",
      "reading file : GYRBP004_H_Upstream.txt\n",
      "reading file : GYRBP005_A_Downstream.txt\n",
      "reading file : GYRBP005_A_Upstream.txt\n",
      "reading file : GYRBP005_B_Downstream.txt\n",
      "reading file : GYRBP005_B_Upstream.txt\n",
      "reading file : GYRBP005_C_Downstream.txt\n",
      "reading file : GYRBP005_C_Upstream.txt\n",
      "reading file : GYRBP005_D_Downstream.txt\n",
      "reading file : GYRBP005_D_Upstream.txt\n",
      "reading file : GYRBP005_E_Downstream.txt\n",
      "reading file : GYRBP005_E_Upstream.txt\n",
      "reading file : GYRBP005_F_Downstream.txt\n",
      "reading file : GYRBP005_F_Upstream.txt\n",
      "reading file : GYRBP005_G_Downstream.txt\n",
      "reading file : GYRBP005_G_Upstream.txt\n",
      "reading file : GYRBP005_H_Downstream.txt\n",
      "reading file : GYRBP005_H_Upstream.txt\n",
      "reading file : GYRBP006_A_Downstream.txt\n",
      "reading file : GYRBP006_A_Upstream.txt\n",
      "reading file : GYRBP006_B_Downstream.txt\n",
      "reading file : GYRBP006_B_Upstream.txt\n",
      "reading file : GYRBP006_C_Downstream.txt\n",
      "reading file : GYRBP006_C_Upstream.txt\n",
      "reading file : GYRBP006_D_Downstream.txt\n",
      "reading file : GYRBP006_D_Upstream.txt\n",
      "reading file : GYRBP006_E_Downstream.txt\n",
      "reading file : GYRBP006_E_Upstream.txt\n",
      "reading file : GYRBP006_F_Downstream.txt\n",
      "reading file : GYRBP006_F_Upstream.txt\n",
      "reading file : GYRBP006_G_Downstream.txt\n",
      "reading file : GYRBP006_G_Upstream.txt\n",
      "reading file : GYRBP006_H_Downstream.txt\n",
      "reading file : GYRBP006_H_Upstream.txt\n",
      "reading file : GYRBP007_A_Downstream.txt\n",
      "reading file : GYRBP007_A_Upstream.txt\n",
      "reading file : GYRBP007_B_Downstream.txt\n",
      "reading file : GYRBP007_B_Upstream.txt\n",
      "reading file : GYRBP007_C_Downstream.txt\n",
      "reading file : GYRBP007_C_Upstream.txt\n",
      "reading file : GYRBP007_D_Downstream.txt\n",
      "reading file : GYRBP007_D_Upstream.txt\n",
      "reading file : GYRBP007_E_Downstream.txt\n",
      "reading file : GYRBP007_E_Upstream.txt\n",
      "reading file : GYRBP007_F_Downstream.txt\n",
      "reading file : GYRBP007_F_Upstream.txt\n",
      "reading file : GYRBP007_G_Downstream.txt\n",
      "reading file : GYRBP007_G_Upstream.txt\n",
      "reading file : GYRBP007_H_Downstream.txt\n",
      "reading file : GYRBP007_H_Upstream.txt\n",
      "reading file : GYRBP008_A_Downstream.txt\n",
      "reading file : GYRBP008_A_Upstream.txt\n",
      "reading file : GYRBP008_B_Downstream.txt\n",
      "reading file : GYRBP008_B_Upstream.txt\n",
      "reading file : GYRBP008_C_Downstream.txt\n",
      "reading file : GYRBP008_C_Upstream.txt\n",
      "reading file : GYRBP008_D_Downstream.txt\n",
      "reading file : GYRBP008_D_Upstream.txt\n",
      "reading file : GYRBP008_E_Downstream.txt\n",
      "reading file : GYRBP008_E_Upstream.txt\n",
      "reading file : GYRBP008_F_Downstream.txt\n",
      "reading file : GYRBP008_F_Upstream.txt\n",
      "reading file : GYRBP008_G_Downstream.txt\n",
      "reading file : GYRBP008_G_Upstream.txt\n",
      "reading file : GYRBP008_H_Downstream.txt\n",
      "reading file : GYRBP008_H_Upstream.txt\n",
      "reading file : DNASU001_A_Downstream.txt\n",
      "reading file : DNASU001_A_Upstream.txt\n",
      "reading file : DNASU001_B_Downstream.txt\n",
      "reading file : DNASU001_B_Upstream.txt\n",
      "reading file : DNASU001_C_Downstream.txt\n",
      "reading file : DNASU001_C_Upstream.txt\n",
      "reading file : DNASU001_D_Downstream.txt\n",
      "reading file : DNASU001_D_Upstream.txt\n",
      "reading file : DNASU001_E_Downstream.txt\n",
      "reading file : DNASU001_E_Upstream.txt\n",
      "reading file : DNASU001_F_Downstream.txt\n",
      "reading file : DNASU001_F_Upstream.txt\n",
      "reading file : DNASU001_G_Downstream.txt\n",
      "reading file : DNASU001_G_Upstream.txt\n",
      "reading file : DNASU001_H_Downstream.txt\n",
      "reading file : DNASU001_H_Upstream.txt\n",
      "reading file : DNASU002_A_Downstream.txt\n",
      "reading file : DNASU002_A_Upstream.txt\n",
      "reading file : DNASU002_B_Downstream.txt\n",
      "reading file : DNASU002_B_Upstream.txt\n",
      "reading file : DNASU002_C_Downstream.txt\n",
      "reading file : DNASU002_C_Upstream.txt\n",
      "reading file : DNASU002_D_Downstream.txt\n",
      "reading file : DNASU002_D_Upstream.txt\n",
      "reading file : DNASU002_E_Downstream.txt\n",
      "reading file : DNASU002_E_Upstream.txt\n",
      "reading file : DNASU002_F_Downstream.txt\n",
      "reading file : DNASU002_F_Upstream.txt\n",
      "reading file : DNASU002_G_Downstream.txt\n",
      "reading file : DNASU002_G_Upstream.txt\n",
      "reading file : DNASU002_H_Downstream.txt\n",
      "reading file : DNASU002_H_Upstream.txt\n",
      "reading file : Missing_Wells_A_Downstream.txt\n",
      "reading file : Missing_Wells_A_Upstream.txt\n",
      "reading file : Missing_Wells_B_Downstream.txt\n",
      "reading file : Missing_Wells_B_Upstream.txt\n"
     ]
    }
   ],
   "source": [
    "all_table=pd.DataFrame()\n",
    "with open(os.path.join(input_dir,'plate_row_list.txt')) as file:\n",
    "    for line in file:\n",
    "        for r in ['Downstream', 'Upstream']:\n",
    "            x = line.strip('\\n').split(' ')\n",
    "            x.append(r)\n",
    "            fileName = '_'.join(x) + '.txt'\n",
    "            print('reading file : {}'.format(fileName))\n",
    "            if os.stat(os.path.join(data_dir,fileName)).st_size != 0:\n",
    "                t = pd.read_csv((os.path.join(data_dir,fileName)), sep='\\t', index_col=0)\n",
    "                t['RBPmean-NEGmean'] = t['mean']-t.loc['NEG','mean']\n",
    "                t['|RBPmean-NEGmean|'] = abs(t['RBPmean-NEGmean'])\n",
    "                t['mean_normalized'] = t['mean']/t.loc['NEG','mean']\n",
    "                if r=='Downstream':\n",
    "                    t['reporter']='Downstream'#annotating whether it is upstream or downstream\n",
    "                elif r=='Upstream':\n",
    "                    t['reporter']='Upstream'#annotating whether it is upstream or downstream\n",
    "                all_table=pd.concat([all_table, t])\n"
   ]
  },
  {
   "cell_type": "code",
   "execution_count": 6,
   "id": "4fe164d1",
   "metadata": {},
   "outputs": [],
   "source": [
    "all_table = all_table.reset_index()"
   ]
  },
  {
   "cell_type": "markdown",
   "id": "cb53ec52",
   "metadata": {},
   "source": [
    "## Removing missing wells"
   ]
  },
  {
   "cell_type": "code",
   "execution_count": 7,
   "id": "c6442371",
   "metadata": {},
   "outputs": [],
   "source": [
    "missing_wells = pd.read_csv(os.path.join(input_dir, 'manifest_final_missing_wells.tsv'), sep='\\t', header=None)"
   ]
  },
  {
   "cell_type": "code",
   "execution_count": 8,
   "id": "35a2228b",
   "metadata": {},
   "outputs": [
    {
     "data": {
      "text/html": [
       "<div>\n",
       "<style scoped>\n",
       "    .dataframe tbody tr th:only-of-type {\n",
       "        vertical-align: middle;\n",
       "    }\n",
       "\n",
       "    .dataframe tbody tr th {\n",
       "        vertical-align: top;\n",
       "    }\n",
       "\n",
       "    .dataframe thead th {\n",
       "        text-align: right;\n",
       "    }\n",
       "</style>\n",
       "<table border=\"1\" class=\"dataframe\">\n",
       "  <thead>\n",
       "    <tr style=\"text-align: right;\">\n",
       "      <th></th>\n",
       "      <th>0</th>\n",
       "      <th>1</th>\n",
       "      <th>2</th>\n",
       "      <th>3</th>\n",
       "    </tr>\n",
       "  </thead>\n",
       "  <tbody>\n",
       "    <tr>\n",
       "      <th>0</th>\n",
       "      <td>GYRBP001 A</td>\n",
       "      <td>HTATSF1</td>\n",
       "      <td>A10</td>\n",
       "      <td>Down</td>\n",
       "    </tr>\n",
       "    <tr>\n",
       "      <th>1</th>\n",
       "      <td>GYRBP001 B</td>\n",
       "      <td>SNRPD2</td>\n",
       "      <td>B4</td>\n",
       "      <td>Up/Down</td>\n",
       "    </tr>\n",
       "    <tr>\n",
       "      <th>2</th>\n",
       "      <td>GYRBP001 B</td>\n",
       "      <td>RPL28</td>\n",
       "      <td>B6</td>\n",
       "      <td>Up/Down</td>\n",
       "    </tr>\n",
       "    <tr>\n",
       "      <th>3</th>\n",
       "      <td>GYRBP001 C</td>\n",
       "      <td>NOP10</td>\n",
       "      <td>C1</td>\n",
       "      <td>Down</td>\n",
       "    </tr>\n",
       "    <tr>\n",
       "      <th>4</th>\n",
       "      <td>GYRBP001 C</td>\n",
       "      <td>NANOS2</td>\n",
       "      <td>C6</td>\n",
       "      <td>Up/Down</td>\n",
       "    </tr>\n",
       "  </tbody>\n",
       "</table>\n",
       "</div>"
      ],
      "text/plain": [
       "            0        1    2        3\n",
       "0  GYRBP001 A  HTATSF1  A10     Down\n",
       "1  GYRBP001 B   SNRPD2   B4  Up/Down\n",
       "2  GYRBP001 B    RPL28   B6  Up/Down\n",
       "3  GYRBP001 C    NOP10   C1     Down\n",
       "4  GYRBP001 C   NANOS2   C6  Up/Down"
      ]
     },
     "execution_count": 8,
     "metadata": {},
     "output_type": "execute_result"
    }
   ],
   "source": [
    "missing_wells.head()"
   ]
  },
  {
   "cell_type": "code",
   "execution_count": 9,
   "id": "f5e713eb",
   "metadata": {},
   "outputs": [
    {
     "data": {
      "text/plain": [
       "(88, 4)"
      ]
     },
     "execution_count": 9,
     "metadata": {},
     "output_type": "execute_result"
    }
   ],
   "source": [
    "missing_wells.shape"
   ]
  },
  {
   "cell_type": "code",
   "execution_count": 10,
   "id": "64c6b1dd",
   "metadata": {},
   "outputs": [
    {
     "data": {
      "text/html": [
       "<div>\n",
       "<style scoped>\n",
       "    .dataframe tbody tr th:only-of-type {\n",
       "        vertical-align: middle;\n",
       "    }\n",
       "\n",
       "    .dataframe tbody tr th {\n",
       "        vertical-align: top;\n",
       "    }\n",
       "\n",
       "    .dataframe thead th {\n",
       "        text-align: right;\n",
       "    }\n",
       "</style>\n",
       "<table border=\"1\" class=\"dataframe\">\n",
       "  <thead>\n",
       "    <tr style=\"text-align: right;\">\n",
       "      <th></th>\n",
       "      <th>0</th>\n",
       "      <th>1</th>\n",
       "      <th>2</th>\n",
       "      <th>3</th>\n",
       "    </tr>\n",
       "  </thead>\n",
       "  <tbody>\n",
       "  </tbody>\n",
       "</table>\n",
       "</div>"
      ],
      "text/plain": [
       "Empty DataFrame\n",
       "Columns: [0, 1, 2, 3]\n",
       "Index: []"
      ]
     },
     "execution_count": 10,
     "metadata": {},
     "output_type": "execute_result"
    }
   ],
   "source": [
    "#There are no missing wells all from a single row of a plate\n",
    "#Double checking this because it requires different code\n",
    "missing_wells[missing_wells[2]=='All']"
   ]
  },
  {
   "cell_type": "code",
   "execution_count": 11,
   "id": "94ef236b",
   "metadata": {},
   "outputs": [
    {
     "data": {
      "text/plain": [
       "0     None\n",
       "1     None\n",
       "2     None\n",
       "3     None\n",
       "4     None\n",
       "      ... \n",
       "83    None\n",
       "84    None\n",
       "85    None\n",
       "86    None\n",
       "87    None\n",
       "Length: 88, dtype: object"
      ]
     },
     "execution_count": 11,
     "metadata": {},
     "output_type": "execute_result"
    }
   ],
   "source": [
    "def format_well_id_and_categorize(df):\n",
    "    if int(df[2][1:])<10:  #need this if statement to match how numbers <10 are represented in the MCP library file\n",
    "        well = df[0].split(' ')[0] + '.' + df[2][0] + '0' + df[2][1:]\n",
    "    else:   \n",
    "        well = df[0].split(' ')[0] + '.' + df[2]\n",
    "    if df[3]=='Down':\n",
    "        missing['downstream'].append(well)\n",
    "    elif df[3]=='Upstream':\n",
    "        missing['upstream'].append(well)\n",
    "    elif df[3]=='Up/Down':\n",
    "        missing['upstream'].append(well)\n",
    "        missing['downstream'].append(well)\n",
    "\n",
    "missing = {'upstream':[], 'downstream': []}\n",
    "missing_wells.apply(format_well_id_and_categorize, axis=1)"
   ]
  },
  {
   "cell_type": "code",
   "execution_count": 12,
   "id": "d396a6cb",
   "metadata": {},
   "outputs": [
    {
     "data": {
      "text/plain": [
       "['GYRBP001.B04',\n",
       " 'GYRBP001.B06',\n",
       " 'GYRBP001.C06',\n",
       " 'GYRBP001.C07',\n",
       " 'GYRBP001.C11']"
      ]
     },
     "execution_count": 12,
     "metadata": {},
     "output_type": "execute_result"
    }
   ],
   "source": [
    "#Checking that numbers <10 are formatted correctly\n",
    "missing['upstream'][:5]"
   ]
  },
  {
   "cell_type": "code",
   "execution_count": 13,
   "id": "bf804620",
   "metadata": {
    "scrolled": true
   },
   "outputs": [
    {
     "data": {
      "text/plain": [
       "83"
      ]
     },
     "execution_count": 13,
     "metadata": {},
     "output_type": "execute_result"
    }
   ],
   "source": [
    "len(missing['upstream'])"
   ]
  },
  {
   "cell_type": "code",
   "execution_count": 14,
   "id": "0554671e",
   "metadata": {},
   "outputs": [
    {
     "data": {
      "text/plain": [
       "87"
      ]
     },
     "execution_count": 14,
     "metadata": {},
     "output_type": "execute_result"
    }
   ],
   "source": [
    "len(missing['downstream'])"
   ]
  },
  {
   "cell_type": "code",
   "execution_count": 15,
   "id": "2dd631ce",
   "metadata": {},
   "outputs": [
    {
     "data": {
      "text/plain": [
       "(1312, 13)"
      ]
     },
     "execution_count": 15,
     "metadata": {},
     "output_type": "execute_result"
    }
   ],
   "source": [
    "all_table[all_table['reporter']=='Upstream'].shape"
   ]
  },
  {
   "cell_type": "code",
   "execution_count": 16,
   "id": "edce0c89",
   "metadata": {},
   "outputs": [
    {
     "data": {
      "text/plain": [
       "(1312, 13)"
      ]
     },
     "execution_count": 16,
     "metadata": {},
     "output_type": "execute_result"
    }
   ],
   "source": [
    "all_table[all_table['reporter']=='Downstream'].shape"
   ]
  },
  {
   "cell_type": "markdown",
   "id": "942f9dba",
   "metadata": {},
   "source": [
    "## Categorizing Upstream and Downstream Results"
   ]
  },
  {
   "cell_type": "code",
   "execution_count": 17,
   "id": "aeef2090",
   "metadata": {},
   "outputs": [],
   "source": [
    "upstream_results = all_table[all_table['reporter']=='Upstream']"
   ]
  },
  {
   "cell_type": "code",
   "execution_count": 18,
   "id": "2d334598",
   "metadata": {},
   "outputs": [],
   "source": [
    "#removing all wells that are in the missing wells dictionary\n",
    "upstream_results = upstream_results[~upstream_results['well_id'].isin(missing['upstream'])]"
   ]
  },
  {
   "cell_type": "code",
   "execution_count": 19,
   "id": "134edad1",
   "metadata": {},
   "outputs": [
    {
     "data": {
      "text/plain": [
       "(1229, 13)"
      ]
     },
     "execution_count": 19,
     "metadata": {},
     "output_type": "execute_result"
    }
   ],
   "source": [
    "upstream_results.shape"
   ]
  },
  {
   "cell_type": "code",
   "execution_count": 20,
   "id": "43895735-99ff-493a-8e5e-629aa726fc83",
   "metadata": {},
   "outputs": [],
   "source": [
    "# using 2 sig figs to make pvalues more interpretable\n",
    "upstream_results['pvalue'] = upstream_results['pvalue'].apply(lambda x: float(f\"{x:.2g}\"))"
   ]
  },
  {
   "cell_type": "code",
   "execution_count": 21,
   "id": "86d6b580",
   "metadata": {},
   "outputs": [
    {
     "data": {
      "text/html": [
       "<div>\n",
       "<style scoped>\n",
       "    .dataframe tbody tr th:only-of-type {\n",
       "        vertical-align: middle;\n",
       "    }\n",
       "\n",
       "    .dataframe tbody tr th {\n",
       "        vertical-align: top;\n",
       "    }\n",
       "\n",
       "    .dataframe thead th {\n",
       "        text-align: right;\n",
       "    }\n",
       "</style>\n",
       "<table border=\"1\" class=\"dataframe\">\n",
       "  <thead>\n",
       "    <tr style=\"text-align: right;\">\n",
       "      <th></th>\n",
       "      <th>index</th>\n",
       "      <th>rep1</th>\n",
       "      <th>rep2</th>\n",
       "      <th>rep3</th>\n",
       "      <th>mean</th>\n",
       "      <th>std</th>\n",
       "      <th>pvalue</th>\n",
       "      <th>stars</th>\n",
       "      <th>well_id</th>\n",
       "      <th>RBPmean-NEGmean</th>\n",
       "      <th>|RBPmean-NEGmean|</th>\n",
       "      <th>mean_normalized</th>\n",
       "      <th>reporter</th>\n",
       "    </tr>\n",
       "  </thead>\n",
       "  <tbody>\n",
       "    <tr>\n",
       "      <th>16</th>\n",
       "      <td>NEG</td>\n",
       "      <td>0.708242</td>\n",
       "      <td>0.634997</td>\n",
       "      <td>0.814653</td>\n",
       "      <td>0.719297</td>\n",
       "      <td>0.063878</td>\n",
       "      <td>NaN</td>\n",
       "      <td>NaN</td>\n",
       "      <td>controls</td>\n",
       "      <td>0.000000</td>\n",
       "      <td>0.000000</td>\n",
       "      <td>1.000000</td>\n",
       "      <td>Upstream</td>\n",
       "    </tr>\n",
       "    <tr>\n",
       "      <th>17</th>\n",
       "      <td>CPSF5</td>\n",
       "      <td>7.995807</td>\n",
       "      <td>8.223180</td>\n",
       "      <td>9.084158</td>\n",
       "      <td>8.434382</td>\n",
       "      <td>0.468744</td>\n",
       "      <td>0.0015</td>\n",
       "      <td>***</td>\n",
       "      <td>controls</td>\n",
       "      <td>7.715085</td>\n",
       "      <td>7.715085</td>\n",
       "      <td>11.725863</td>\n",
       "      <td>Upstream</td>\n",
       "    </tr>\n",
       "    <tr>\n",
       "      <th>18</th>\n",
       "      <td>CPSF6</td>\n",
       "      <td>2.715237</td>\n",
       "      <td>3.115819</td>\n",
       "      <td>4.217557</td>\n",
       "      <td>3.349538</td>\n",
       "      <td>0.635196</td>\n",
       "      <td>0.0270</td>\n",
       "      <td>*</td>\n",
       "      <td>controls</td>\n",
       "      <td>2.630240</td>\n",
       "      <td>2.630240</td>\n",
       "      <td>4.656680</td>\n",
       "      <td>Upstream</td>\n",
       "    </tr>\n",
       "    <tr>\n",
       "      <th>19</th>\n",
       "      <td>HNRNPCL1</td>\n",
       "      <td>0.165337</td>\n",
       "      <td>0.213614</td>\n",
       "      <td>0.216191</td>\n",
       "      <td>0.198381</td>\n",
       "      <td>0.023389</td>\n",
       "      <td>0.0058</td>\n",
       "      <td>**</td>\n",
       "      <td>controls</td>\n",
       "      <td>-0.520917</td>\n",
       "      <td>0.520917</td>\n",
       "      <td>0.275798</td>\n",
       "      <td>Upstream</td>\n",
       "    </tr>\n",
       "    <tr>\n",
       "      <th>20</th>\n",
       "      <td>CPNE3</td>\n",
       "      <td>0.272727</td>\n",
       "      <td>0.499700</td>\n",
       "      <td>0.473919</td>\n",
       "      <td>0.415449</td>\n",
       "      <td>0.124271</td>\n",
       "      <td>0.0310</td>\n",
       "      <td>*</td>\n",
       "      <td>GYRBP001.A01</td>\n",
       "      <td>-0.303849</td>\n",
       "      <td>0.303849</td>\n",
       "      <td>0.577576</td>\n",
       "      <td>Upstream</td>\n",
       "    </tr>\n",
       "  </tbody>\n",
       "</table>\n",
       "</div>"
      ],
      "text/plain": [
       "       index      rep1      rep2      rep3      mean       std  pvalue stars  \\\n",
       "16       NEG  0.708242  0.634997  0.814653  0.719297  0.063878     NaN   NaN   \n",
       "17     CPSF5  7.995807  8.223180  9.084158  8.434382  0.468744  0.0015   ***   \n",
       "18     CPSF6  2.715237  3.115819  4.217557  3.349538  0.635196  0.0270     *   \n",
       "19  HNRNPCL1  0.165337  0.213614  0.216191  0.198381  0.023389  0.0058    **   \n",
       "20     CPNE3  0.272727  0.499700  0.473919  0.415449  0.124271  0.0310     *   \n",
       "\n",
       "         well_id  RBPmean-NEGmean  |RBPmean-NEGmean|  mean_normalized  \\\n",
       "16      controls         0.000000           0.000000         1.000000   \n",
       "17      controls         7.715085           7.715085        11.725863   \n",
       "18      controls         2.630240           2.630240         4.656680   \n",
       "19      controls        -0.520917           0.520917         0.275798   \n",
       "20  GYRBP001.A01        -0.303849           0.303849         0.577576   \n",
       "\n",
       "    reporter  \n",
       "16  Upstream  \n",
       "17  Upstream  \n",
       "18  Upstream  \n",
       "19  Upstream  \n",
       "20  Upstream  "
      ]
     },
     "execution_count": 21,
     "metadata": {},
     "output_type": "execute_result"
    }
   ],
   "source": [
    "upstream_results.head()"
   ]
  },
  {
   "cell_type": "code",
   "execution_count": 22,
   "id": "7e373492",
   "metadata": {},
   "outputs": [],
   "source": [
    "downstream_results = all_table[all_table['reporter']=='Downstream']"
   ]
  },
  {
   "cell_type": "code",
   "execution_count": 23,
   "id": "26f9878e",
   "metadata": {},
   "outputs": [],
   "source": [
    "#removing all wells that in the missing wells dictionary\n",
    "downstream_results = downstream_results[~downstream_results['well_id'].isin(missing['downstream'])]"
   ]
  },
  {
   "cell_type": "code",
   "execution_count": 24,
   "id": "ea5789b7",
   "metadata": {},
   "outputs": [
    {
     "data": {
      "text/plain": [
       "(1225, 13)"
      ]
     },
     "execution_count": 24,
     "metadata": {},
     "output_type": "execute_result"
    }
   ],
   "source": [
    "downstream_results.shape"
   ]
  },
  {
   "cell_type": "code",
   "execution_count": 25,
   "id": "66522d23-ad47-433d-b183-9a1afff1ac0f",
   "metadata": {},
   "outputs": [],
   "source": [
    "# using 2 sig figs to make pvalues more interpretable\n",
    "downstream_results['pvalue'] = downstream_results['pvalue'].apply(lambda x: float(f\"{x:.2g}\"))"
   ]
  },
  {
   "cell_type": "code",
   "execution_count": 26,
   "id": "82ce0ddf",
   "metadata": {},
   "outputs": [
    {
     "data": {
      "text/html": [
       "<div>\n",
       "<style scoped>\n",
       "    .dataframe tbody tr th:only-of-type {\n",
       "        vertical-align: middle;\n",
       "    }\n",
       "\n",
       "    .dataframe tbody tr th {\n",
       "        vertical-align: top;\n",
       "    }\n",
       "\n",
       "    .dataframe thead th {\n",
       "        text-align: right;\n",
       "    }\n",
       "</style>\n",
       "<table border=\"1\" class=\"dataframe\">\n",
       "  <thead>\n",
       "    <tr style=\"text-align: right;\">\n",
       "      <th></th>\n",
       "      <th>index</th>\n",
       "      <th>rep1</th>\n",
       "      <th>rep2</th>\n",
       "      <th>rep3</th>\n",
       "      <th>mean</th>\n",
       "      <th>std</th>\n",
       "      <th>pvalue</th>\n",
       "      <th>stars</th>\n",
       "      <th>well_id</th>\n",
       "      <th>RBPmean-NEGmean</th>\n",
       "      <th>|RBPmean-NEGmean|</th>\n",
       "      <th>mean_normalized</th>\n",
       "      <th>reporter</th>\n",
       "    </tr>\n",
       "  </thead>\n",
       "  <tbody>\n",
       "    <tr>\n",
       "      <th>0</th>\n",
       "      <td>NEG</td>\n",
       "      <td>1.073910</td>\n",
       "      <td>1.316469</td>\n",
       "      <td>1.392488</td>\n",
       "      <td>1.260955</td>\n",
       "      <td>0.117653</td>\n",
       "      <td>NaN</td>\n",
       "      <td>NaN</td>\n",
       "      <td>controls</td>\n",
       "      <td>0.000000</td>\n",
       "      <td>0.000000</td>\n",
       "      <td>1.000000</td>\n",
       "      <td>Downstream</td>\n",
       "    </tr>\n",
       "    <tr>\n",
       "      <th>1</th>\n",
       "      <td>CPSF5</td>\n",
       "      <td>0.782044</td>\n",
       "      <td>0.950250</td>\n",
       "      <td>0.927488</td>\n",
       "      <td>0.886594</td>\n",
       "      <td>0.074510</td>\n",
       "      <td>0.0400</td>\n",
       "      <td>*</td>\n",
       "      <td>controls</td>\n",
       "      <td>-0.374361</td>\n",
       "      <td>0.374361</td>\n",
       "      <td>0.703113</td>\n",
       "      <td>Downstream</td>\n",
       "    </tr>\n",
       "    <tr>\n",
       "      <th>2</th>\n",
       "      <td>CPSF6</td>\n",
       "      <td>1.061556</td>\n",
       "      <td>1.101359</td>\n",
       "      <td>6.000000</td>\n",
       "      <td>2.720972</td>\n",
       "      <td>2.318680</td>\n",
       "      <td>0.4700</td>\n",
       "      <td>NaN</td>\n",
       "      <td>controls</td>\n",
       "      <td>1.460016</td>\n",
       "      <td>1.460016</td>\n",
       "      <td>2.157865</td>\n",
       "      <td>Downstream</td>\n",
       "    </tr>\n",
       "    <tr>\n",
       "      <th>3</th>\n",
       "      <td>HNRNPCL1</td>\n",
       "      <td>0.111297</td>\n",
       "      <td>0.119194</td>\n",
       "      <td>0.250000</td>\n",
       "      <td>0.160164</td>\n",
       "      <td>0.063606</td>\n",
       "      <td>0.0024</td>\n",
       "      <td>***</td>\n",
       "      <td>controls</td>\n",
       "      <td>-1.100792</td>\n",
       "      <td>1.100792</td>\n",
       "      <td>0.127018</td>\n",
       "      <td>Downstream</td>\n",
       "    </tr>\n",
       "    <tr>\n",
       "      <th>4</th>\n",
       "      <td>CPNE3</td>\n",
       "      <td>1.666667</td>\n",
       "      <td>0.907135</td>\n",
       "      <td>0.793279</td>\n",
       "      <td>1.122360</td>\n",
       "      <td>0.474808</td>\n",
       "      <td>0.6700</td>\n",
       "      <td>NaN</td>\n",
       "      <td>GYRBP001.A01</td>\n",
       "      <td>-0.138595</td>\n",
       "      <td>0.138595</td>\n",
       "      <td>0.890087</td>\n",
       "      <td>Downstream</td>\n",
       "    </tr>\n",
       "  </tbody>\n",
       "</table>\n",
       "</div>"
      ],
      "text/plain": [
       "      index      rep1      rep2      rep3      mean       std  pvalue stars  \\\n",
       "0       NEG  1.073910  1.316469  1.392488  1.260955  0.117653     NaN   NaN   \n",
       "1     CPSF5  0.782044  0.950250  0.927488  0.886594  0.074510  0.0400     *   \n",
       "2     CPSF6  1.061556  1.101359  6.000000  2.720972  2.318680  0.4700   NaN   \n",
       "3  HNRNPCL1  0.111297  0.119194  0.250000  0.160164  0.063606  0.0024   ***   \n",
       "4     CPNE3  1.666667  0.907135  0.793279  1.122360  0.474808  0.6700   NaN   \n",
       "\n",
       "        well_id  RBPmean-NEGmean  |RBPmean-NEGmean|  mean_normalized  \\\n",
       "0      controls         0.000000           0.000000         1.000000   \n",
       "1      controls        -0.374361           0.374361         0.703113   \n",
       "2      controls         1.460016           1.460016         2.157865   \n",
       "3      controls        -1.100792           1.100792         0.127018   \n",
       "4  GYRBP001.A01        -0.138595           0.138595         0.890087   \n",
       "\n",
       "     reporter  \n",
       "0  Downstream  \n",
       "1  Downstream  \n",
       "2  Downstream  \n",
       "3  Downstream  \n",
       "4  Downstream  "
      ]
     },
     "execution_count": 26,
     "metadata": {},
     "output_type": "execute_result"
    }
   ],
   "source": [
    "downstream_results.head()"
   ]
  },
  {
   "cell_type": "markdown",
   "id": "f74fbf0f",
   "metadata": {},
   "source": [
    "## Annotating Lists"
   ]
  },
  {
   "cell_type": "code",
   "execution_count": 27,
   "id": "45372415",
   "metadata": {},
   "outputs": [],
   "source": [
    "MCP_list = pd.read_csv('/tscc/nfs/home/pjaganna1/projects/apa_screen_yongsheng/Updated-RBP_V5_MCP.txt', sep='\\t').set_index('Symbol')[['Plate Location', 'Gene ID', 'Size', 'Accession', 'nt_sequence', 'aa_sequence']]\n",
    "Missing_Wells_MCP_list= pd.read_csv('/tscc/nfs/home/pjaganna1/projects/apa_screen_yongsheng/Missing_Wells_List.txt', sep='\\t').set_index('Symbol')[['Plate Location', 'Gene ID', 'Size', 'Accession', 'nt_sequence', 'aa_sequence']]\n",
    "Missing_Wells_MCP_list=Missing_Wells_MCP_list.dropna(subset=['Plate Location'])\n",
    "MCP_list_all = pd.concat([MCP_list, Missing_Wells_MCP_list]).reset_index()\n"
   ]
  },
  {
   "cell_type": "code",
   "execution_count": 28,
   "id": "b08c1220",
   "metadata": {},
   "outputs": [
    {
     "data": {
      "text/html": [
       "<div>\n",
       "<style scoped>\n",
       "    .dataframe tbody tr th:only-of-type {\n",
       "        vertical-align: middle;\n",
       "    }\n",
       "\n",
       "    .dataframe tbody tr th {\n",
       "        vertical-align: top;\n",
       "    }\n",
       "\n",
       "    .dataframe thead th {\n",
       "        text-align: right;\n",
       "    }\n",
       "</style>\n",
       "<table border=\"1\" class=\"dataframe\">\n",
       "  <thead>\n",
       "    <tr style=\"text-align: right;\">\n",
       "      <th></th>\n",
       "      <th>Symbol</th>\n",
       "      <th>Plate Location</th>\n",
       "      <th>Gene ID</th>\n",
       "      <th>Size</th>\n",
       "      <th>Accession</th>\n",
       "      <th>nt_sequence</th>\n",
       "      <th>aa_sequence</th>\n",
       "    </tr>\n",
       "  </thead>\n",
       "  <tbody>\n",
       "    <tr>\n",
       "      <th>1036</th>\n",
       "      <td>DDX41</td>\n",
       "      <td>Missing_Wells.B10</td>\n",
       "      <td>51428.0</td>\n",
       "      <td>1869.0</td>\n",
       "      <td>BC015476.1</td>\n",
       "      <td>ATGGAGGAGTCGGAACCCGAACGGAAGCGGGCTCGCACCGACGAGG...</td>\n",
       "      <td>MEESEPERKRARTDEVPAGGSRSEAEDEDDEDYVPYVPLRQRRQLL...</td>\n",
       "    </tr>\n",
       "    <tr>\n",
       "      <th>1037</th>\n",
       "      <td>BCDIN3D</td>\n",
       "      <td>Missing_Wells.A11</td>\n",
       "      <td>144233.0</td>\n",
       "      <td>879.0</td>\n",
       "      <td>BC053560.1</td>\n",
       "      <td>ATGGCGGTGCCCACGGAACTGGATGGAGGGAGTGTTAAGGAGACCG...</td>\n",
       "      <td>MAVPTELDGGSVKETAAEEESRVLAPGAAPFGNFPHYSRFHPPEQR...</td>\n",
       "    </tr>\n",
       "    <tr>\n",
       "      <th>1038</th>\n",
       "      <td>RPS10</td>\n",
       "      <td>Missing_Wells.B11</td>\n",
       "      <td>6204.0</td>\n",
       "      <td>498.0</td>\n",
       "      <td>BC001032.2, BC001955.1, BC005012.1</td>\n",
       "      <td>ATGTTGATGCCTAAGAAGAACCGGATTGCCATTTATGAACTCCTTT...</td>\n",
       "      <td>MLMPKKNRIAIYELLFKEGVMVAKKDVHMPKHPELADKNVPNLHVM...</td>\n",
       "    </tr>\n",
       "    <tr>\n",
       "      <th>1039</th>\n",
       "      <td>RPLP0</td>\n",
       "      <td>Missing_Wells.A12</td>\n",
       "      <td>6175.0</td>\n",
       "      <td>954.0</td>\n",
       "      <td>BC000087.2, BC008092.1, BC008594.1, BC009867.2...</td>\n",
       "      <td>ATGCCCAGGGAAGACAGGGCGACCTGGAAGTCCAACTACTTCCTTA...</td>\n",
       "      <td>MPREDRATWKSNYFLKIIQLLDDYPKCFIVGADNVGSKQMQQIRMS...</td>\n",
       "    </tr>\n",
       "    <tr>\n",
       "      <th>1040</th>\n",
       "      <td>LGALS1</td>\n",
       "      <td>Missing_Wells.B12</td>\n",
       "      <td>3956.0</td>\n",
       "      <td>408.0</td>\n",
       "      <td>BC001693.1, BC020675.1</td>\n",
       "      <td>ATGGCTTGTGGTCTGGTCGCCAGCAACCTGAATCTCAAACCTGGAG...</td>\n",
       "      <td>MACGLVASNLNLKPGECLRVRGEVAPDAKSFVLNLGKDSNNLCLHF...</td>\n",
       "    </tr>\n",
       "  </tbody>\n",
       "</table>\n",
       "</div>"
      ],
      "text/plain": [
       "       Symbol     Plate Location   Gene ID    Size  \\\n",
       "1036    DDX41  Missing_Wells.B10   51428.0  1869.0   \n",
       "1037  BCDIN3D  Missing_Wells.A11  144233.0   879.0   \n",
       "1038    RPS10  Missing_Wells.B11    6204.0   498.0   \n",
       "1039    RPLP0  Missing_Wells.A12    6175.0   954.0   \n",
       "1040   LGALS1  Missing_Wells.B12    3956.0   408.0   \n",
       "\n",
       "                                              Accession  \\\n",
       "1036                                         BC015476.1   \n",
       "1037                                         BC053560.1   \n",
       "1038                 BC001032.2, BC001955.1, BC005012.1   \n",
       "1039  BC000087.2, BC008092.1, BC008594.1, BC009867.2...   \n",
       "1040                             BC001693.1, BC020675.1   \n",
       "\n",
       "                                            nt_sequence  \\\n",
       "1036  ATGGAGGAGTCGGAACCCGAACGGAAGCGGGCTCGCACCGACGAGG...   \n",
       "1037  ATGGCGGTGCCCACGGAACTGGATGGAGGGAGTGTTAAGGAGACCG...   \n",
       "1038  ATGTTGATGCCTAAGAAGAACCGGATTGCCATTTATGAACTCCTTT...   \n",
       "1039  ATGCCCAGGGAAGACAGGGCGACCTGGAAGTCCAACTACTTCCTTA...   \n",
       "1040  ATGGCTTGTGGTCTGGTCGCCAGCAACCTGAATCTCAAACCTGGAG...   \n",
       "\n",
       "                                            aa_sequence  \n",
       "1036  MEESEPERKRARTDEVPAGGSRSEAEDEDDEDYVPYVPLRQRRQLL...  \n",
       "1037  MAVPTELDGGSVKETAAEEESRVLAPGAAPFGNFPHYSRFHPPEQR...  \n",
       "1038  MLMPKKNRIAIYELLFKEGVMVAKKDVHMPKHPELADKNVPNLHVM...  \n",
       "1039  MPREDRATWKSNYFLKIIQLLDDYPKCFIVGADNVGSKQMQQIRMS...  \n",
       "1040  MACGLVASNLNLKPGECLRVRGEVAPDAKSFVLNLGKDSNNLCLHF...  "
      ]
     },
     "execution_count": 28,
     "metadata": {},
     "output_type": "execute_result"
    }
   ],
   "source": [
    "# This includes missing well annotations\n",
    "MCP_list_all.tail()"
   ]
  },
  {
   "cell_type": "code",
   "execution_count": 29,
   "id": "f5196cb9",
   "metadata": {},
   "outputs": [],
   "source": [
    "annotated_upstream_results = pd.merge(upstream_results, MCP_list_all, left_on='well_id', right_on='Plate Location').dropna(subset=['reporter']).dropna(subset=['Plate Location'])"
   ]
  },
  {
   "cell_type": "code",
   "execution_count": 30,
   "id": "2591cddb",
   "metadata": {},
   "outputs": [
    {
     "data": {
      "text/plain": [
       "(901, 20)"
      ]
     },
     "execution_count": 30,
     "metadata": {},
     "output_type": "execute_result"
    }
   ],
   "source": [
    "annotated_upstream_results.shape"
   ]
  },
  {
   "cell_type": "code",
   "execution_count": 31,
   "id": "53aa2036",
   "metadata": {},
   "outputs": [],
   "source": [
    "annotated_downstream_results = pd.merge(downstream_results, MCP_list_all, left_on='well_id', right_on='Plate Location').dropna(subset=['reporter']).dropna(subset=['Plate Location'])"
   ]
  },
  {
   "cell_type": "code",
   "execution_count": 32,
   "id": "db72bae1",
   "metadata": {},
   "outputs": [
    {
     "data": {
      "text/plain": [
       "(897, 20)"
      ]
     },
     "execution_count": 32,
     "metadata": {},
     "output_type": "execute_result"
    }
   ],
   "source": [
    "annotated_downstream_results.shape"
   ]
  },
  {
   "cell_type": "markdown",
   "id": "0dc56b0f",
   "metadata": {},
   "source": [
    "## Remove wells that are repeats from the missing wells plates"
   ]
  },
  {
   "cell_type": "code",
   "execution_count": 33,
   "id": "e05928f0",
   "metadata": {},
   "outputs": [],
   "source": [
    "m = pd.read_csv('/tscc/nfs/home/pjaganna1/projects/apa_screen_yongsheng/Missing_Wells_List.txt', sep='\\t').dropna(subset=['Plate Location'])"
   ]
  },
  {
   "cell_type": "code",
   "execution_count": 34,
   "id": "7231fcf4",
   "metadata": {},
   "outputs": [],
   "source": [
    "missing_wells_duplicates = pd.merge(m,MCP_list.reset_index(),on='aa_sequence', how='inner')[['Plate Location_x', 'Symbol_x', 'Plate Location_y','Symbol_y']].drop_duplicates(subset=['Plate Location_x'])['Plate Location_y'].tolist()"
   ]
  },
  {
   "cell_type": "code",
   "execution_count": 35,
   "id": "139789de",
   "metadata": {
    "scrolled": true
   },
   "outputs": [
    {
     "data": {
      "text/plain": [
       "['GYRBP004.B04',\n",
       " 'GYRBP004.F01',\n",
       " 'GYRBP004.B05',\n",
       " 'GYRBP004.G01',\n",
       " 'GYRBP004.B09',\n",
       " 'GYRBP004.G02',\n",
       " 'GYRBP004.B10',\n",
       " 'GYRBP004.G08',\n",
       " 'GYRBP004.C03',\n",
       " 'GYRBP004.G12',\n",
       " 'GYRBP004.C04',\n",
       " 'GYRBP004.H02',\n",
       " 'GYRBP004.C08',\n",
       " 'GYRBP004.H03',\n",
       " 'GYRBP004.C10',\n",
       " 'GYRBP004.H04',\n",
       " 'GYRBP004.D01',\n",
       " 'GYRBP004.H05',\n",
       " 'GYRBP004.D10',\n",
       " 'GYRBP007.H05',\n",
       " 'GYRBP004.D11',\n",
       " 'GYRBP002.C05',\n",
       " 'GYRBP004.E01',\n",
       " 'GYRBP002.B03']"
      ]
     },
     "execution_count": 35,
     "metadata": {},
     "output_type": "execute_result"
    }
   ],
   "source": [
    "missing_wells_duplicates"
   ]
  },
  {
   "cell_type": "code",
   "execution_count": 36,
   "id": "11cbc01d",
   "metadata": {},
   "outputs": [],
   "source": [
    "annotated_upstream_results = annotated_upstream_results[~annotated_upstream_results['well_id'].isin(missing_wells_duplicates)]"
   ]
  },
  {
   "cell_type": "code",
   "execution_count": 37,
   "id": "cf13c07a",
   "metadata": {},
   "outputs": [
    {
     "data": {
      "text/plain": [
       "(879, 20)"
      ]
     },
     "execution_count": 37,
     "metadata": {},
     "output_type": "execute_result"
    }
   ],
   "source": [
    "annotated_upstream_results.shape"
   ]
  },
  {
   "cell_type": "code",
   "execution_count": 38,
   "id": "08a6e5ba",
   "metadata": {},
   "outputs": [],
   "source": [
    "annotated_downstream_results = annotated_downstream_results[~annotated_downstream_results['well_id'].isin(missing_wells_duplicates)]"
   ]
  },
  {
   "cell_type": "code",
   "execution_count": 39,
   "id": "d956c220",
   "metadata": {},
   "outputs": [
    {
     "data": {
      "text/plain": [
       "(875, 20)"
      ]
     },
     "execution_count": 39,
     "metadata": {},
     "output_type": "execute_result"
    }
   ],
   "source": [
    "annotated_downstream_results.shape"
   ]
  },
  {
   "cell_type": "code",
   "execution_count": 40,
   "id": "d52fb3b8-6f4b-4731-99b2-b7c787d9c28e",
   "metadata": {},
   "outputs": [
    {
     "data": {
      "text/plain": [
       "(867, 20)"
      ]
     },
     "execution_count": 40,
     "metadata": {},
     "output_type": "execute_result"
    }
   ],
   "source": [
    "annotated_downstream_results.drop_duplicates(['Symbol','Accession']).shape"
   ]
  },
  {
   "cell_type": "markdown",
   "id": "08322eaf",
   "metadata": {},
   "source": [
    "## Categorize as activator or inhibitor effect"
   ]
  },
  {
   "cell_type": "code",
   "execution_count": 41,
   "id": "8d6b72dd",
   "metadata": {},
   "outputs": [],
   "source": [
    "def assign_positive_or_negative(df):\n",
    "    if (df['RBPmean-NEGmean'] <0) and (df['pvalue']<0.05):\n",
    "        return 'inhibitor' #inhibitor is equivalent to positive\n",
    "    elif (df['RBPmean-NEGmean'] >0) and (df['pvalue']<0.05):\n",
    "        return 'activator' # activator is equivalent to negative\n",
    "    else:\n",
    "        return 'neither'"
   ]
  },
  {
   "cell_type": "code",
   "execution_count": 42,
   "id": "9e54caeb",
   "metadata": {},
   "outputs": [],
   "source": [
    "annotated_upstream_results['Effect'] = annotated_upstream_results.apply(assign_positive_or_negative, axis=1)"
   ]
  },
  {
   "cell_type": "code",
   "execution_count": 43,
   "id": "b6d9fade",
   "metadata": {},
   "outputs": [
    {
     "data": {
      "text/html": [
       "<div>\n",
       "<style scoped>\n",
       "    .dataframe tbody tr th:only-of-type {\n",
       "        vertical-align: middle;\n",
       "    }\n",
       "\n",
       "    .dataframe tbody tr th {\n",
       "        vertical-align: top;\n",
       "    }\n",
       "\n",
       "    .dataframe thead th {\n",
       "        text-align: right;\n",
       "    }\n",
       "</style>\n",
       "<table border=\"1\" class=\"dataframe\">\n",
       "  <thead>\n",
       "    <tr style=\"text-align: right;\">\n",
       "      <th></th>\n",
       "      <th>index</th>\n",
       "      <th>rep1</th>\n",
       "      <th>rep2</th>\n",
       "      <th>rep3</th>\n",
       "      <th>mean</th>\n",
       "      <th>std</th>\n",
       "      <th>pvalue</th>\n",
       "      <th>stars</th>\n",
       "      <th>well_id</th>\n",
       "      <th>RBPmean-NEGmean</th>\n",
       "      <th>...</th>\n",
       "      <th>mean_normalized</th>\n",
       "      <th>reporter</th>\n",
       "      <th>Symbol</th>\n",
       "      <th>Plate Location</th>\n",
       "      <th>Gene ID</th>\n",
       "      <th>Size</th>\n",
       "      <th>Accession</th>\n",
       "      <th>nt_sequence</th>\n",
       "      <th>aa_sequence</th>\n",
       "      <th>Effect</th>\n",
       "    </tr>\n",
       "  </thead>\n",
       "  <tbody>\n",
       "    <tr>\n",
       "      <th>0</th>\n",
       "      <td>CPNE3</td>\n",
       "      <td>0.272727</td>\n",
       "      <td>0.499700</td>\n",
       "      <td>0.473919</td>\n",
       "      <td>0.415449</td>\n",
       "      <td>0.124271</td>\n",
       "      <td>0.0310</td>\n",
       "      <td>*</td>\n",
       "      <td>GYRBP001.A01</td>\n",
       "      <td>-0.303849</td>\n",
       "      <td>...</td>\n",
       "      <td>0.577576</td>\n",
       "      <td>Upstream</td>\n",
       "      <td>CPNE3</td>\n",
       "      <td>GYRBP001.A01</td>\n",
       "      <td>8895.0</td>\n",
       "      <td>135.0</td>\n",
       "      <td>BC015734.1</td>\n",
       "      <td>ATGCTTGGAAACAGCATAGATATGTTGCTGTGGTTTTCAGAATTTT...</td>\n",
       "      <td>MLGNSIDMLLWFSEFSLLITRSLLKNDLHIFSCTVKQTEVSLSV</td>\n",
       "      <td>inhibitor</td>\n",
       "    </tr>\n",
       "    <tr>\n",
       "      <th>1</th>\n",
       "      <td>SNRPG</td>\n",
       "      <td>0.297710</td>\n",
       "      <td>0.418187</td>\n",
       "      <td>0.474384</td>\n",
       "      <td>0.396760</td>\n",
       "      <td>0.090265</td>\n",
       "      <td>0.0120</td>\n",
       "      <td>*</td>\n",
       "      <td>GYRBP001.A02</td>\n",
       "      <td>-0.322537</td>\n",
       "      <td>...</td>\n",
       "      <td>0.551594</td>\n",
       "      <td>Upstream</td>\n",
       "      <td>SNRPG</td>\n",
       "      <td>GYRBP001.A02</td>\n",
       "      <td>6637.0</td>\n",
       "      <td>231.0</td>\n",
       "      <td>BC000070.2, BC022432.1, BC066302.1</td>\n",
       "      <td>ATGAGCAAAGCTCACCCTCCCGAGTTGAAAAAATTTATGGACAAGA...</td>\n",
       "      <td>MSKAHPPELKKFMDKKLSLKLNGGRHVQGILRGFDPFMNLVIDECV...</td>\n",
       "      <td>inhibitor</td>\n",
       "    </tr>\n",
       "    <tr>\n",
       "      <th>2</th>\n",
       "      <td>SUMO1</td>\n",
       "      <td>0.546217</td>\n",
       "      <td>0.642401</td>\n",
       "      <td>0.639564</td>\n",
       "      <td>0.609394</td>\n",
       "      <td>0.054731</td>\n",
       "      <td>0.1600</td>\n",
       "      <td>NaN</td>\n",
       "      <td>GYRBP001.A03</td>\n",
       "      <td>-0.109903</td>\n",
       "      <td>...</td>\n",
       "      <td>0.847207</td>\n",
       "      <td>Upstream</td>\n",
       "      <td>SUMO1</td>\n",
       "      <td>GYRBP001.A03</td>\n",
       "      <td>7341.0</td>\n",
       "      <td>306.0</td>\n",
       "      <td>BC006462.1, BC053528.1</td>\n",
       "      <td>ATGTCTGACCAGGAGGCAAAACCTTCAACTGAGGACTTGGGGGATA...</td>\n",
       "      <td>MSDQEAKPSTEDLGDKKEGEYIKLKVIGQDSSEIHFKVKMTTHLKK...</td>\n",
       "      <td>neither</td>\n",
       "    </tr>\n",
       "    <tr>\n",
       "      <th>3</th>\n",
       "      <td>FAM32A</td>\n",
       "      <td>0.564965</td>\n",
       "      <td>0.699513</td>\n",
       "      <td>0.554290</td>\n",
       "      <td>0.606256</td>\n",
       "      <td>0.080939</td>\n",
       "      <td>0.1800</td>\n",
       "      <td>NaN</td>\n",
       "      <td>GYRBP001.A04</td>\n",
       "      <td>-0.113041</td>\n",
       "      <td>...</td>\n",
       "      <td>0.842845</td>\n",
       "      <td>Upstream</td>\n",
       "      <td>FAM32A</td>\n",
       "      <td>GYRBP001.A04</td>\n",
       "      <td>26017.0</td>\n",
       "      <td>339.0</td>\n",
       "      <td>BC000639.1, BC017286.1</td>\n",
       "      <td>ATGGAGGCCTACGAGCAGGTCCAAAAGGGACCCCTGAAGCTGAAAG...</td>\n",
       "      <td>MEAYEQVQKGPLKLKGVAELGVTKRKKKKKDKDKAKLLEAMGTSKK...</td>\n",
       "      <td>neither</td>\n",
       "    </tr>\n",
       "    <tr>\n",
       "      <th>4</th>\n",
       "      <td>LSM1</td>\n",
       "      <td>1.071083</td>\n",
       "      <td>1.154260</td>\n",
       "      <td>1.132387</td>\n",
       "      <td>1.119243</td>\n",
       "      <td>0.043118</td>\n",
       "      <td>0.0072</td>\n",
       "      <td>**</td>\n",
       "      <td>GYRBP001.A05</td>\n",
       "      <td>0.399946</td>\n",
       "      <td>...</td>\n",
       "      <td>1.556023</td>\n",
       "      <td>Upstream</td>\n",
       "      <td>LSM1</td>\n",
       "      <td>GYRBP001.A05</td>\n",
       "      <td>27257.0</td>\n",
       "      <td>402.0</td>\n",
       "      <td>BC001767.1</td>\n",
       "      <td>ATGAACTATATGCCTGGCACCGCCAGCCTCATCGAGGACATTGACA...</td>\n",
       "      <td>MNYMPGTASLIEDIDKKHLVLLRDGRTLIGFLRSIDQFANLVLHQT...</td>\n",
       "      <td>activator</td>\n",
       "    </tr>\n",
       "  </tbody>\n",
       "</table>\n",
       "<p>5 rows × 21 columns</p>\n",
       "</div>"
      ],
      "text/plain": [
       "    index      rep1      rep2      rep3      mean       std  pvalue stars  \\\n",
       "0   CPNE3  0.272727  0.499700  0.473919  0.415449  0.124271  0.0310     *   \n",
       "1   SNRPG  0.297710  0.418187  0.474384  0.396760  0.090265  0.0120     *   \n",
       "2   SUMO1  0.546217  0.642401  0.639564  0.609394  0.054731  0.1600   NaN   \n",
       "3  FAM32A  0.564965  0.699513  0.554290  0.606256  0.080939  0.1800   NaN   \n",
       "4    LSM1  1.071083  1.154260  1.132387  1.119243  0.043118  0.0072    **   \n",
       "\n",
       "        well_id  RBPmean-NEGmean  ...  mean_normalized  reporter  Symbol  \\\n",
       "0  GYRBP001.A01        -0.303849  ...         0.577576  Upstream   CPNE3   \n",
       "1  GYRBP001.A02        -0.322537  ...         0.551594  Upstream   SNRPG   \n",
       "2  GYRBP001.A03        -0.109903  ...         0.847207  Upstream   SUMO1   \n",
       "3  GYRBP001.A04        -0.113041  ...         0.842845  Upstream  FAM32A   \n",
       "4  GYRBP001.A05         0.399946  ...         1.556023  Upstream    LSM1   \n",
       "\n",
       "  Plate Location  Gene ID   Size                           Accession  \\\n",
       "0   GYRBP001.A01   8895.0  135.0                          BC015734.1   \n",
       "1   GYRBP001.A02   6637.0  231.0  BC000070.2, BC022432.1, BC066302.1   \n",
       "2   GYRBP001.A03   7341.0  306.0              BC006462.1, BC053528.1   \n",
       "3   GYRBP001.A04  26017.0  339.0              BC000639.1, BC017286.1   \n",
       "4   GYRBP001.A05  27257.0  402.0                          BC001767.1   \n",
       "\n",
       "                                         nt_sequence  \\\n",
       "0  ATGCTTGGAAACAGCATAGATATGTTGCTGTGGTTTTCAGAATTTT...   \n",
       "1  ATGAGCAAAGCTCACCCTCCCGAGTTGAAAAAATTTATGGACAAGA...   \n",
       "2  ATGTCTGACCAGGAGGCAAAACCTTCAACTGAGGACTTGGGGGATA...   \n",
       "3  ATGGAGGCCTACGAGCAGGTCCAAAAGGGACCCCTGAAGCTGAAAG...   \n",
       "4  ATGAACTATATGCCTGGCACCGCCAGCCTCATCGAGGACATTGACA...   \n",
       "\n",
       "                                         aa_sequence     Effect  \n",
       "0       MLGNSIDMLLWFSEFSLLITRSLLKNDLHIFSCTVKQTEVSLSV  inhibitor  \n",
       "1  MSKAHPPELKKFMDKKLSLKLNGGRHVQGILRGFDPFMNLVIDECV...  inhibitor  \n",
       "2  MSDQEAKPSTEDLGDKKEGEYIKLKVIGQDSSEIHFKVKMTTHLKK...    neither  \n",
       "3  MEAYEQVQKGPLKLKGVAELGVTKRKKKKKDKDKAKLLEAMGTSKK...    neither  \n",
       "4  MNYMPGTASLIEDIDKKHLVLLRDGRTLIGFLRSIDQFANLVLHQT...  activator  \n",
       "\n",
       "[5 rows x 21 columns]"
      ]
     },
     "execution_count": 43,
     "metadata": {},
     "output_type": "execute_result"
    }
   ],
   "source": [
    "annotated_upstream_results.head()"
   ]
  },
  {
   "cell_type": "code",
   "execution_count": 44,
   "id": "b946f17b",
   "metadata": {},
   "outputs": [],
   "source": [
    "annotated_downstream_results['Effect'] = annotated_downstream_results.apply(assign_positive_or_negative, axis=1)"
   ]
  },
  {
   "cell_type": "code",
   "execution_count": 45,
   "id": "3b691771",
   "metadata": {},
   "outputs": [
    {
     "data": {
      "text/html": [
       "<div>\n",
       "<style scoped>\n",
       "    .dataframe tbody tr th:only-of-type {\n",
       "        vertical-align: middle;\n",
       "    }\n",
       "\n",
       "    .dataframe tbody tr th {\n",
       "        vertical-align: top;\n",
       "    }\n",
       "\n",
       "    .dataframe thead th {\n",
       "        text-align: right;\n",
       "    }\n",
       "</style>\n",
       "<table border=\"1\" class=\"dataframe\">\n",
       "  <thead>\n",
       "    <tr style=\"text-align: right;\">\n",
       "      <th></th>\n",
       "      <th>index</th>\n",
       "      <th>rep1</th>\n",
       "      <th>rep2</th>\n",
       "      <th>rep3</th>\n",
       "      <th>mean</th>\n",
       "      <th>std</th>\n",
       "      <th>pvalue</th>\n",
       "      <th>stars</th>\n",
       "      <th>well_id</th>\n",
       "      <th>RBPmean-NEGmean</th>\n",
       "      <th>...</th>\n",
       "      <th>mean_normalized</th>\n",
       "      <th>reporter</th>\n",
       "      <th>Symbol</th>\n",
       "      <th>Plate Location</th>\n",
       "      <th>Gene ID</th>\n",
       "      <th>Size</th>\n",
       "      <th>Accession</th>\n",
       "      <th>nt_sequence</th>\n",
       "      <th>aa_sequence</th>\n",
       "      <th>Effect</th>\n",
       "    </tr>\n",
       "  </thead>\n",
       "  <tbody>\n",
       "    <tr>\n",
       "      <th>0</th>\n",
       "      <td>CPNE3</td>\n",
       "      <td>1.666667</td>\n",
       "      <td>0.907135</td>\n",
       "      <td>0.793279</td>\n",
       "      <td>1.122360</td>\n",
       "      <td>0.474808</td>\n",
       "      <td>0.67000</td>\n",
       "      <td>NaN</td>\n",
       "      <td>GYRBP001.A01</td>\n",
       "      <td>-0.138595</td>\n",
       "      <td>...</td>\n",
       "      <td>0.890087</td>\n",
       "      <td>Downstream</td>\n",
       "      <td>CPNE3</td>\n",
       "      <td>GYRBP001.A01</td>\n",
       "      <td>8895.0</td>\n",
       "      <td>135.0</td>\n",
       "      <td>BC015734.1</td>\n",
       "      <td>ATGCTTGGAAACAGCATAGATATGTTGCTGTGGTTTTCAGAATTTT...</td>\n",
       "      <td>MLGNSIDMLLWFSEFSLLITRSLLKNDLHIFSCTVKQTEVSLSV</td>\n",
       "      <td>neither</td>\n",
       "    </tr>\n",
       "    <tr>\n",
       "      <th>1</th>\n",
       "      <td>SNRPG</td>\n",
       "      <td>2.266279</td>\n",
       "      <td>2.082801</td>\n",
       "      <td>1.901468</td>\n",
       "      <td>2.083516</td>\n",
       "      <td>0.182407</td>\n",
       "      <td>0.00460</td>\n",
       "      <td>***</td>\n",
       "      <td>GYRBP001.A02</td>\n",
       "      <td>0.822561</td>\n",
       "      <td>...</td>\n",
       "      <td>1.652331</td>\n",
       "      <td>Downstream</td>\n",
       "      <td>SNRPG</td>\n",
       "      <td>GYRBP001.A02</td>\n",
       "      <td>6637.0</td>\n",
       "      <td>231.0</td>\n",
       "      <td>BC000070.2, BC022432.1, BC066302.1</td>\n",
       "      <td>ATGAGCAAAGCTCACCCTCCCGAGTTGAAAAAATTTATGGACAAGA...</td>\n",
       "      <td>MSKAHPPELKKFMDKKLSLKLNGGRHVQGILRGFDPFMNLVIDECV...</td>\n",
       "      <td>activator</td>\n",
       "    </tr>\n",
       "    <tr>\n",
       "      <th>2</th>\n",
       "      <td>SUMO1</td>\n",
       "      <td>1.541465</td>\n",
       "      <td>1.228903</td>\n",
       "      <td>1.625911</td>\n",
       "      <td>1.465426</td>\n",
       "      <td>0.209141</td>\n",
       "      <td>0.26000</td>\n",
       "      <td>NaN</td>\n",
       "      <td>GYRBP001.A03</td>\n",
       "      <td>0.204471</td>\n",
       "      <td>...</td>\n",
       "      <td>1.162156</td>\n",
       "      <td>Downstream</td>\n",
       "      <td>SUMO1</td>\n",
       "      <td>GYRBP001.A03</td>\n",
       "      <td>7341.0</td>\n",
       "      <td>306.0</td>\n",
       "      <td>BC006462.1, BC053528.1</td>\n",
       "      <td>ATGTCTGACCAGGAGGCAAAACCTTCAACTGAGGACTTGGGGGATA...</td>\n",
       "      <td>MSDQEAKPSTEDLGDKKEGEYIKLKVIGQDSSEIHFKVKMTTHLKK...</td>\n",
       "      <td>neither</td>\n",
       "    </tr>\n",
       "    <tr>\n",
       "      <th>3</th>\n",
       "      <td>FAM32A</td>\n",
       "      <td>0.545535</td>\n",
       "      <td>0.597955</td>\n",
       "      <td>0.488889</td>\n",
       "      <td>0.544126</td>\n",
       "      <td>0.054547</td>\n",
       "      <td>0.01100</td>\n",
       "      <td>*</td>\n",
       "      <td>GYRBP001.A04</td>\n",
       "      <td>-0.716829</td>\n",
       "      <td>...</td>\n",
       "      <td>0.431519</td>\n",
       "      <td>Downstream</td>\n",
       "      <td>FAM32A</td>\n",
       "      <td>GYRBP001.A04</td>\n",
       "      <td>26017.0</td>\n",
       "      <td>339.0</td>\n",
       "      <td>BC000639.1, BC017286.1</td>\n",
       "      <td>ATGGAGGCCTACGAGCAGGTCCAAAAGGGACCCCTGAAGCTGAAAG...</td>\n",
       "      <td>MEAYEQVQKGPLKLKGVAELGVTKRKKKKKDKDKAKLLEAMGTSKK...</td>\n",
       "      <td>inhibitor</td>\n",
       "    </tr>\n",
       "    <tr>\n",
       "      <th>4</th>\n",
       "      <td>LSM1</td>\n",
       "      <td>2.961159</td>\n",
       "      <td>3.421189</td>\n",
       "      <td>3.220879</td>\n",
       "      <td>3.201076</td>\n",
       "      <td>0.230653</td>\n",
       "      <td>0.00049</td>\n",
       "      <td>***</td>\n",
       "      <td>GYRBP001.A05</td>\n",
       "      <td>1.940120</td>\n",
       "      <td>...</td>\n",
       "      <td>2.538611</td>\n",
       "      <td>Downstream</td>\n",
       "      <td>LSM1</td>\n",
       "      <td>GYRBP001.A05</td>\n",
       "      <td>27257.0</td>\n",
       "      <td>402.0</td>\n",
       "      <td>BC001767.1</td>\n",
       "      <td>ATGAACTATATGCCTGGCACCGCCAGCCTCATCGAGGACATTGACA...</td>\n",
       "      <td>MNYMPGTASLIEDIDKKHLVLLRDGRTLIGFLRSIDQFANLVLHQT...</td>\n",
       "      <td>activator</td>\n",
       "    </tr>\n",
       "  </tbody>\n",
       "</table>\n",
       "<p>5 rows × 21 columns</p>\n",
       "</div>"
      ],
      "text/plain": [
       "    index      rep1      rep2      rep3      mean       std   pvalue stars  \\\n",
       "0   CPNE3  1.666667  0.907135  0.793279  1.122360  0.474808  0.67000   NaN   \n",
       "1   SNRPG  2.266279  2.082801  1.901468  2.083516  0.182407  0.00460   ***   \n",
       "2   SUMO1  1.541465  1.228903  1.625911  1.465426  0.209141  0.26000   NaN   \n",
       "3  FAM32A  0.545535  0.597955  0.488889  0.544126  0.054547  0.01100     *   \n",
       "4    LSM1  2.961159  3.421189  3.220879  3.201076  0.230653  0.00049   ***   \n",
       "\n",
       "        well_id  RBPmean-NEGmean  ...  mean_normalized    reporter  Symbol  \\\n",
       "0  GYRBP001.A01        -0.138595  ...         0.890087  Downstream   CPNE3   \n",
       "1  GYRBP001.A02         0.822561  ...         1.652331  Downstream   SNRPG   \n",
       "2  GYRBP001.A03         0.204471  ...         1.162156  Downstream   SUMO1   \n",
       "3  GYRBP001.A04        -0.716829  ...         0.431519  Downstream  FAM32A   \n",
       "4  GYRBP001.A05         1.940120  ...         2.538611  Downstream    LSM1   \n",
       "\n",
       "  Plate Location  Gene ID   Size                           Accession  \\\n",
       "0   GYRBP001.A01   8895.0  135.0                          BC015734.1   \n",
       "1   GYRBP001.A02   6637.0  231.0  BC000070.2, BC022432.1, BC066302.1   \n",
       "2   GYRBP001.A03   7341.0  306.0              BC006462.1, BC053528.1   \n",
       "3   GYRBP001.A04  26017.0  339.0              BC000639.1, BC017286.1   \n",
       "4   GYRBP001.A05  27257.0  402.0                          BC001767.1   \n",
       "\n",
       "                                         nt_sequence  \\\n",
       "0  ATGCTTGGAAACAGCATAGATATGTTGCTGTGGTTTTCAGAATTTT...   \n",
       "1  ATGAGCAAAGCTCACCCTCCCGAGTTGAAAAAATTTATGGACAAGA...   \n",
       "2  ATGTCTGACCAGGAGGCAAAACCTTCAACTGAGGACTTGGGGGATA...   \n",
       "3  ATGGAGGCCTACGAGCAGGTCCAAAAGGGACCCCTGAAGCTGAAAG...   \n",
       "4  ATGAACTATATGCCTGGCACCGCCAGCCTCATCGAGGACATTGACA...   \n",
       "\n",
       "                                         aa_sequence     Effect  \n",
       "0       MLGNSIDMLLWFSEFSLLITRSLLKNDLHIFSCTVKQTEVSLSV    neither  \n",
       "1  MSKAHPPELKKFMDKKLSLKLNGGRHVQGILRGFDPFMNLVIDECV...  activator  \n",
       "2  MSDQEAKPSTEDLGDKKEGEYIKLKVIGQDSSEIHFKVKMTTHLKK...    neither  \n",
       "3  MEAYEQVQKGPLKLKGVAELGVTKRKKKKKDKDKAKLLEAMGTSKK...  inhibitor  \n",
       "4  MNYMPGTASLIEDIDKKHLVLLRDGRTLIGFLRSIDQFANLVLHQT...  activator  \n",
       "\n",
       "[5 rows x 21 columns]"
      ]
     },
     "execution_count": 45,
     "metadata": {},
     "output_type": "execute_result"
    }
   ],
   "source": [
    "annotated_downstream_results.head()"
   ]
  },
  {
   "cell_type": "code",
   "execution_count": 46,
   "id": "6eb92ad4",
   "metadata": {},
   "outputs": [
    {
     "data": {
      "text/plain": [
       "(879, 21)"
      ]
     },
     "execution_count": 46,
     "metadata": {},
     "output_type": "execute_result"
    }
   ],
   "source": [
    "annotated_upstream_results.shape"
   ]
  },
  {
   "cell_type": "code",
   "execution_count": 47,
   "id": "807d89b3-cd53-433f-ab14-d45f2ab16b41",
   "metadata": {},
   "outputs": [],
   "source": [
    "def make_key(d):\n",
    "    return f'{d[\"Symbol\"]}_{\"_\".join([i.strip(\" \") for i in str(d[\"Accession\"]).replace(\".\", \"-\").split(\",\")])}'"
   ]
  },
  {
   "cell_type": "markdown",
   "id": "cf427656-5497-4308-94ca-02220559219b",
   "metadata": {},
   "source": [
    "### Getting/Checking background lists"
   ]
  },
  {
   "cell_type": "code",
   "execution_count": 48,
   "id": "74088f90-934b-4770-bc38-2a42c5f8d58a",
   "metadata": {},
   "outputs": [],
   "source": [
    "upstream_background = annotated_upstream_results.copy()\n",
    "upstream_background = upstream_background[['index', 'Plate Location', 'Accession', 'aa_sequence', 'Symbol','reporter']]"
   ]
  },
  {
   "cell_type": "code",
   "execution_count": 49,
   "id": "4c13383e-fd9f-41de-807a-22dbea3b037c",
   "metadata": {},
   "outputs": [],
   "source": [
    "downstream_background = annotated_downstream_results.copy()\n",
    "downstream_background = downstream_background[['index', 'Plate Location', 'Accession', 'aa_sequence','Symbol','reporter']]"
   ]
  },
  {
   "cell_type": "code",
   "execution_count": 53,
   "id": "8423554f-5cb1-4842-88fc-f39d39f22b39",
   "metadata": {},
   "outputs": [],
   "source": [
    "# Everything screened, duplicate sequence well and all \n",
    "## (missing wells and re-done wells to fill in missing have been accounted for)\n",
    "### This is 879 ORFs\n",
    "all_screened = pd.concat([upstream_background, downstream_background]).drop_duplicates(['index', 'Plate Location', 'Accession', 'aa_sequence'])\n",
    "#all_screened = pd.concat([upstream_background, downstream_background]).drop_duplicates(['index', 'Plate Location', 'Accession', 'aa_sequence']).to_csv('all_screened.txt', sep='\\t', index=False)"
   ]
  },
  {
   "cell_type": "code",
   "execution_count": 54,
   "id": "9f8eec52-8d6c-4abb-8b7a-e20c636a4b82",
   "metadata": {},
   "outputs": [],
   "source": [
    "all_screened['key'] = all_screened.apply(make_key, axis=1)"
   ]
  },
  {
   "cell_type": "markdown",
   "id": "be6d7e82-28fd-4f71-a188-8a0a79c7c5f1",
   "metadata": {},
   "source": [
    "##### All screened includes wells that contain the same sequence. "
   ]
  },
  {
   "cell_type": "code",
   "execution_count": 55,
   "id": "a282b3eb-ea6c-48f1-9694-89e493cd5d76",
   "metadata": {},
   "outputs": [],
   "source": [
    "dubs = all_screened[all_screened.duplicated(['index','Accession','aa_sequence'])]['index'].tolist()"
   ]
  },
  {
   "cell_type": "code",
   "execution_count": 56,
   "id": "53aceec2-f89c-47f3-b309-a4cf9b4be0fe",
   "metadata": {},
   "outputs": [
    {
     "data": {
      "text/html": [
       "<div>\n",
       "<style scoped>\n",
       "    .dataframe tbody tr th:only-of-type {\n",
       "        vertical-align: middle;\n",
       "    }\n",
       "\n",
       "    .dataframe tbody tr th {\n",
       "        vertical-align: top;\n",
       "    }\n",
       "\n",
       "    .dataframe thead th {\n",
       "        text-align: right;\n",
       "    }\n",
       "</style>\n",
       "<table border=\"1\" class=\"dataframe\">\n",
       "  <thead>\n",
       "    <tr style=\"text-align: right;\">\n",
       "      <th></th>\n",
       "      <th>index</th>\n",
       "      <th>Plate Location</th>\n",
       "      <th>Accession</th>\n",
       "      <th>aa_sequence</th>\n",
       "      <th>Symbol</th>\n",
       "      <th>reporter</th>\n",
       "      <th>key</th>\n",
       "    </tr>\n",
       "  </thead>\n",
       "  <tbody>\n",
       "    <tr>\n",
       "      <th>690</th>\n",
       "      <td>FAM120A</td>\n",
       "      <td>GYRBP008.E07</td>\n",
       "      <td>BC098584.1</td>\n",
       "      <td>MGVQGFQDYIEKHCPSAVVPVELQKLARGSLVGGGRQRPPQTPLRL...</td>\n",
       "      <td>FAM120A</td>\n",
       "      <td>Upstream</td>\n",
       "      <td>FAM120A_BC098584-1</td>\n",
       "    </tr>\n",
       "    <tr>\n",
       "      <th>875</th>\n",
       "      <td>FAM120A</td>\n",
       "      <td>DNASU002.H11</td>\n",
       "      <td>BC098584.1</td>\n",
       "      <td>MGVQGFQDYIEKHCPSAVVPVELQKLARGSLVGGGRQRPPQTPLRL...</td>\n",
       "      <td>FAM120A</td>\n",
       "      <td>Upstream</td>\n",
       "      <td>FAM120A_BC098584-1</td>\n",
       "    </tr>\n",
       "    <tr>\n",
       "      <th>170</th>\n",
       "      <td>NANOS3</td>\n",
       "      <td>GYRBP002.H07</td>\n",
       "      <td>BC101209.2</td>\n",
       "      <td>MGTFDLWTDYLGLAHLVRALSGKEGPETRLSPQPEPEPMLEPVSAL...</td>\n",
       "      <td>NANOS3</td>\n",
       "      <td>Upstream</td>\n",
       "      <td>NANOS3_BC101209-2</td>\n",
       "    </tr>\n",
       "    <tr>\n",
       "      <th>815</th>\n",
       "      <td>NANOS3</td>\n",
       "      <td>DNASU002.C07</td>\n",
       "      <td>BC101209.2</td>\n",
       "      <td>MGTFDLWTDYLGLAHLVRALSGKEGPETRLSPQPEPEPMLEPVSAL...</td>\n",
       "      <td>NANOS3</td>\n",
       "      <td>Upstream</td>\n",
       "      <td>NANOS3_BC101209-2</td>\n",
       "    </tr>\n",
       "    <tr>\n",
       "      <th>75</th>\n",
       "      <td>PHF5A</td>\n",
       "      <td>GYRBP001.H03</td>\n",
       "      <td>BC007321.2</td>\n",
       "      <td>MAKHHPDLIFCRKQAGVAIGRLCEKCDGKCVICDSYVRPCTLVRIC...</td>\n",
       "      <td>PHF5A</td>\n",
       "      <td>Upstream</td>\n",
       "      <td>PHF5A_BC007321-2</td>\n",
       "    </tr>\n",
       "    <tr>\n",
       "      <th>874</th>\n",
       "      <td>PHF5A</td>\n",
       "      <td>DNASU002.H10</td>\n",
       "      <td>BC007321.2</td>\n",
       "      <td>MAKHHPDLIFCRKQAGVAIGRLCEKCDGKCVICDSYVRPCTLVRIC...</td>\n",
       "      <td>PHF5A</td>\n",
       "      <td>Upstream</td>\n",
       "      <td>PHF5A_BC007321-2</td>\n",
       "    </tr>\n",
       "    <tr>\n",
       "      <th>820</th>\n",
       "      <td>SNRNP40</td>\n",
       "      <td>DNASU002.D01</td>\n",
       "      <td>BC001494.2</td>\n",
       "      <td>MIEQQKRKGPELPLVPVKRQRHELLLGAGSGPGAGQQQATPGALLQ...</td>\n",
       "      <td>SNRNP40</td>\n",
       "      <td>Upstream</td>\n",
       "      <td>SNRNP40_BC001494-2</td>\n",
       "    </tr>\n",
       "    <tr>\n",
       "      <th>880</th>\n",
       "      <td>SNRNP40</td>\n",
       "      <td>Missing_Wells.A04</td>\n",
       "      <td>BC001494.2</td>\n",
       "      <td>MIEQQKRKGPELPLVPVKRQRHELLLGAGSGPGAGQQQATPGALLQ...</td>\n",
       "      <td>SNRNP40</td>\n",
       "      <td>Upstream</td>\n",
       "      <td>SNRNP40_BC001494-2</td>\n",
       "    </tr>\n",
       "    <tr>\n",
       "      <th>701</th>\n",
       "      <td>WDR36</td>\n",
       "      <td>GYRBP008.F07</td>\n",
       "      <td>BC133025.1</td>\n",
       "      <td>MCCTEGSLRKRDSQRAPEAVLCLQLWQRTVPLDTLKGLGTCFPSGP...</td>\n",
       "      <td>WDR36</td>\n",
       "      <td>Upstream</td>\n",
       "      <td>WDR36_BC133025-1</td>\n",
       "    </tr>\n",
       "    <tr>\n",
       "      <th>808</th>\n",
       "      <td>WDR36</td>\n",
       "      <td>DNASU002.B10</td>\n",
       "      <td>BC133025.1</td>\n",
       "      <td>MCCTEGSLRKRDSQRAPEAVLCLQLWQRTVPLDTLKGLGTCFPSGP...</td>\n",
       "      <td>WDR36</td>\n",
       "      <td>Upstream</td>\n",
       "      <td>WDR36_BC133025-1</td>\n",
       "    </tr>\n",
       "    <tr>\n",
       "      <th>125</th>\n",
       "      <td>ZCRB1</td>\n",
       "      <td>GYRBP002.D10</td>\n",
       "      <td>BC022543.1</td>\n",
       "      <td>MSGGLAPSKSTVYVSNLPFSLTNNDLYRIFSKYGKVVKVTIMKDKD...</td>\n",
       "      <td>ZCRB1</td>\n",
       "      <td>Upstream</td>\n",
       "      <td>ZCRB1_BC022543-1</td>\n",
       "    </tr>\n",
       "    <tr>\n",
       "      <th>876</th>\n",
       "      <td>ZCRB1</td>\n",
       "      <td>DNASU002.H12</td>\n",
       "      <td>BC022543.1</td>\n",
       "      <td>MSGGLAPSKSTVYVSNLPFSLTNNDLYRIFSKYGKVVKVTIMKDKD...</td>\n",
       "      <td>ZCRB1</td>\n",
       "      <td>Upstream</td>\n",
       "      <td>ZCRB1_BC022543-1</td>\n",
       "    </tr>\n",
       "    <tr>\n",
       "      <th>299</th>\n",
       "      <td>ZFP36L1</td>\n",
       "      <td>GYRBP004.C07</td>\n",
       "      <td>BC018340.1</td>\n",
       "      <td>MTTTLVSATIFDLSEVLCKGNKMLNYSAPSAGGCLLDRKAVGTPAG...</td>\n",
       "      <td>ZFP36L1</td>\n",
       "      <td>Upstream</td>\n",
       "      <td>ZFP36L1_BC018340-1</td>\n",
       "    </tr>\n",
       "    <tr>\n",
       "      <th>827</th>\n",
       "      <td>ZFP36L1</td>\n",
       "      <td>DNASU002.D08</td>\n",
       "      <td>BC018340.1</td>\n",
       "      <td>MTTTLVSATIFDLSEVLCKGNKMLNYSAPSAGGCLLDRKAVGTPAG...</td>\n",
       "      <td>ZFP36L1</td>\n",
       "      <td>Upstream</td>\n",
       "      <td>ZFP36L1_BC018340-1</td>\n",
       "    </tr>\n",
       "  </tbody>\n",
       "</table>\n",
       "</div>"
      ],
      "text/plain": [
       "       index     Plate Location   Accession  \\\n",
       "690  FAM120A       GYRBP008.E07  BC098584.1   \n",
       "875  FAM120A       DNASU002.H11  BC098584.1   \n",
       "170   NANOS3       GYRBP002.H07  BC101209.2   \n",
       "815   NANOS3       DNASU002.C07  BC101209.2   \n",
       "75     PHF5A       GYRBP001.H03  BC007321.2   \n",
       "874    PHF5A       DNASU002.H10  BC007321.2   \n",
       "820  SNRNP40       DNASU002.D01  BC001494.2   \n",
       "880  SNRNP40  Missing_Wells.A04  BC001494.2   \n",
       "701    WDR36       GYRBP008.F07  BC133025.1   \n",
       "808    WDR36       DNASU002.B10  BC133025.1   \n",
       "125    ZCRB1       GYRBP002.D10  BC022543.1   \n",
       "876    ZCRB1       DNASU002.H12  BC022543.1   \n",
       "299  ZFP36L1       GYRBP004.C07  BC018340.1   \n",
       "827  ZFP36L1       DNASU002.D08  BC018340.1   \n",
       "\n",
       "                                           aa_sequence   Symbol  reporter  \\\n",
       "690  MGVQGFQDYIEKHCPSAVVPVELQKLARGSLVGGGRQRPPQTPLRL...  FAM120A  Upstream   \n",
       "875  MGVQGFQDYIEKHCPSAVVPVELQKLARGSLVGGGRQRPPQTPLRL...  FAM120A  Upstream   \n",
       "170  MGTFDLWTDYLGLAHLVRALSGKEGPETRLSPQPEPEPMLEPVSAL...   NANOS3  Upstream   \n",
       "815  MGTFDLWTDYLGLAHLVRALSGKEGPETRLSPQPEPEPMLEPVSAL...   NANOS3  Upstream   \n",
       "75   MAKHHPDLIFCRKQAGVAIGRLCEKCDGKCVICDSYVRPCTLVRIC...    PHF5A  Upstream   \n",
       "874  MAKHHPDLIFCRKQAGVAIGRLCEKCDGKCVICDSYVRPCTLVRIC...    PHF5A  Upstream   \n",
       "820  MIEQQKRKGPELPLVPVKRQRHELLLGAGSGPGAGQQQATPGALLQ...  SNRNP40  Upstream   \n",
       "880  MIEQQKRKGPELPLVPVKRQRHELLLGAGSGPGAGQQQATPGALLQ...  SNRNP40  Upstream   \n",
       "701  MCCTEGSLRKRDSQRAPEAVLCLQLWQRTVPLDTLKGLGTCFPSGP...    WDR36  Upstream   \n",
       "808  MCCTEGSLRKRDSQRAPEAVLCLQLWQRTVPLDTLKGLGTCFPSGP...    WDR36  Upstream   \n",
       "125  MSGGLAPSKSTVYVSNLPFSLTNNDLYRIFSKYGKVVKVTIMKDKD...    ZCRB1  Upstream   \n",
       "876  MSGGLAPSKSTVYVSNLPFSLTNNDLYRIFSKYGKVVKVTIMKDKD...    ZCRB1  Upstream   \n",
       "299  MTTTLVSATIFDLSEVLCKGNKMLNYSAPSAGGCLLDRKAVGTPAG...  ZFP36L1  Upstream   \n",
       "827  MTTTLVSATIFDLSEVLCKGNKMLNYSAPSAGGCLLDRKAVGTPAG...  ZFP36L1  Upstream   \n",
       "\n",
       "                    key  \n",
       "690  FAM120A_BC098584-1  \n",
       "875  FAM120A_BC098584-1  \n",
       "170   NANOS3_BC101209-2  \n",
       "815   NANOS3_BC101209-2  \n",
       "75     PHF5A_BC007321-2  \n",
       "874    PHF5A_BC007321-2  \n",
       "820  SNRNP40_BC001494-2  \n",
       "880  SNRNP40_BC001494-2  \n",
       "701    WDR36_BC133025-1  \n",
       "808    WDR36_BC133025-1  \n",
       "125    ZCRB1_BC022543-1  \n",
       "876    ZCRB1_BC022543-1  \n",
       "299  ZFP36L1_BC018340-1  \n",
       "827  ZFP36L1_BC018340-1  "
      ]
     },
     "execution_count": 56,
     "metadata": {},
     "output_type": "execute_result"
    }
   ],
   "source": [
    "all_screened[all_screened['index'].isin(dubs)].sort_values('index')"
   ]
  },
  {
   "cell_type": "code",
   "execution_count": 57,
   "id": "24565605-2ad8-4af8-a187-5352359df193",
   "metadata": {},
   "outputs": [
    {
     "data": {
      "text/plain": [
       "871"
      ]
     },
     "execution_count": 57,
     "metadata": {},
     "output_type": "execute_result"
    }
   ],
   "source": [
    "# Number of unique sequences screened, but we still screened 879 ORFs\n",
    "len(set(all_screened['key']))"
   ]
  },
  {
   "cell_type": "code",
   "execution_count": 58,
   "id": "a4abb29a-5c33-4376-923e-b11dd96b0c21",
   "metadata": {},
   "outputs": [],
   "source": [
    "# with open('background_keys_dupseqs_removed.txt', 'w') as bkg_keys:\n",
    "#     for k in set(all_screened['key']):\n",
    "#         bkg_keys.write(k + '\\n')"
   ]
  },
  {
   "cell_type": "code",
   "execution_count": 59,
   "id": "2bf5e564-c91c-4348-a528-1d07b6fe2c12",
   "metadata": {},
   "outputs": [],
   "source": [
    "# with open('background_decoupler.txt', 'w') as bkg_decoupler:\n",
    "#     for k in set(all_screened['key']):\n",
    "#         bkg_decoupler.write(k.split('_')[0] + '\\n')"
   ]
  },
  {
   "cell_type": "markdown",
   "id": "058f30db-0581-4ae3-950a-0b9f00f4f5f2",
   "metadata": {},
   "source": [
    "### Focusing on top signal isoforms"
   ]
  },
  {
   "cell_type": "code",
   "execution_count": 62,
   "id": "7610e0c6-d505-4c7f-b2da-88324b72f871",
   "metadata": {},
   "outputs": [],
   "source": [
    "aur = annotated_upstream_results.copy()"
   ]
  },
  {
   "cell_type": "code",
   "execution_count": 63,
   "id": "59571021-6029-4553-adc4-29f1b6fc4a33",
   "metadata": {},
   "outputs": [
    {
     "data": {
      "text/plain": [
       "(879, 21)"
      ]
     },
     "execution_count": 63,
     "metadata": {},
     "output_type": "execute_result"
    }
   ],
   "source": [
    "aur.shape"
   ]
  },
  {
   "cell_type": "code",
   "execution_count": 64,
   "id": "11723647-0d21-4ef7-8913-75a892f49c08",
   "metadata": {},
   "outputs": [],
   "source": [
    "aur=aur.dropna(subset=['index'])\n",
    "aur = aur.sort_values('pvalue', ascending=True).drop_duplicates(subset=['aa_sequence']) # removing duplicates by sequence"
   ]
  },
  {
   "cell_type": "code",
   "execution_count": 65,
   "id": "3e594a20-be05-4fb1-ad01-f5f0a2164a36",
   "metadata": {},
   "outputs": [
    {
     "data": {
      "text/plain": [
       "(851, 21)"
      ]
     },
     "execution_count": 65,
     "metadata": {},
     "output_type": "execute_result"
    }
   ],
   "source": [
    "aur.shape"
   ]
  },
  {
   "cell_type": "code",
   "execution_count": 66,
   "id": "fa69aa2b-6207-45ac-94ee-90b20b150d56",
   "metadata": {},
   "outputs": [
    {
     "name": "stderr",
     "output_type": "stream",
     "text": [
      "/tscc/projects/ps-yeolab4/software/miniconda_tscc2/envs/python3essential-1.99.0/lib/python3.9/site-packages/pandas/core/arraylike.py:396: RuntimeWarning: invalid value encountered in log2\n",
      "  result = getattr(ufunc, method)(*inputs, **kwargs)\n"
     ]
    }
   ],
   "source": [
    "aur['l2_mean_norm'] = np.log2(aur['mean_normalized'])\n",
    "aur['-log10(pval)'] = -np.log10(aur['pvalue'])"
   ]
  },
  {
   "cell_type": "code",
   "execution_count": 67,
   "id": "3dd7d930-c52d-40a6-901d-c9fde1272a40",
   "metadata": {},
   "outputs": [],
   "source": [
    "# RALYL was not measured\n",
    "aur = aur[aur['index']!='RALYL']"
   ]
  },
  {
   "cell_type": "code",
   "execution_count": 68,
   "id": "e66eb846-315d-4294-bf05-fdb00f4c89ec",
   "metadata": {},
   "outputs": [],
   "source": [
    "aur_sig = aur[aur['pvalue'] < 0.05]"
   ]
  },
  {
   "cell_type": "code",
   "execution_count": 69,
   "id": "9c4210c5-e3f8-40dc-8be7-0fc48f9f61ed",
   "metadata": {},
   "outputs": [
    {
     "data": {
      "text/plain": [
       "(522, 23)"
      ]
     },
     "execution_count": 69,
     "metadata": {},
     "output_type": "execute_result"
    }
   ],
   "source": [
    "aur_sig.shape"
   ]
  },
  {
   "cell_type": "code",
   "execution_count": 70,
   "id": "a4973aa0-c6e5-45cf-99ab-354c3b069215",
   "metadata": {},
   "outputs": [],
   "source": [
    "# using the absolute value to order events\n",
    "aur['abs_mean_norm'] = np.abs(aur['mean_normalized'])"
   ]
  },
  {
   "cell_type": "code",
   "execution_count": 71,
   "id": "5e8c82a8-6079-46bc-bbb7-8dfc59378570",
   "metadata": {},
   "outputs": [],
   "source": [
    "# keeping only the highest effect isoform for clarity in visualization\n",
    "aur_filter_iso = aur.dropna(subset='pvalue').sort_values(by=['abs_mean_norm', 'pvalue'], ascending=[False,True]).drop_duplicates(subset=['index', 'Effect'])"
   ]
  },
  {
   "cell_type": "code",
   "execution_count": 72,
   "id": "d717b870-7942-4b2a-9caa-0b70a007c894",
   "metadata": {},
   "outputs": [],
   "source": [
    "aur_top_activator_10 = aur_filter_iso[(aur_filter_iso['pvalue']<0.05) & (aur_filter_iso['l2_mean_norm']>0)].sort_values(by=['l2_mean_norm', 'pvalue'], ascending=[False,True]).head(10)"
   ]
  },
  {
   "cell_type": "code",
   "execution_count": 73,
   "id": "1262ba80-f38c-4e8a-a89c-f68be562003c",
   "metadata": {},
   "outputs": [],
   "source": [
    "aur_top_inhibitor_10 = aur_filter_iso[(aur_filter_iso['pvalue']<0.05) & (aur_filter_iso['l2_mean_norm']<0)].sort_values(by=['l2_mean_norm', 'pvalue'], ascending=[True,True]).head(10)"
   ]
  },
  {
   "cell_type": "code",
   "execution_count": 74,
   "id": "0c76ddec-5ccf-4bf4-9c3c-5185088858bf",
   "metadata": {},
   "outputs": [
    {
     "name": "stderr",
     "output_type": "stream",
     "text": [
      "/scratch/pjaganna1/job_7084712/ipykernel_165016/2123507785.py:2: UserWarning: Boolean Series key will be reindexed to match DataFrame index.\n",
      "  aur_plot = sns.scatterplot(data=aur_filter_iso[aur['pvalue']<0.05], x='l2_mean_norm', y='-log10(pval)', linewidth=0, alpha=0.5, color='#7C5D86')\n"
     ]
    },
    {
     "data": {
      "text/plain": [
       "(-5.0, 5.0)"
      ]
     },
     "execution_count": 74,
     "metadata": {},
     "output_type": "execute_result"
    },
    {
     "data": {
      "image/png": "[encoded data removed]",
      "text/plain": [
       "<Figure size 700x700 with 1 Axes>"
      ]
     },
     "metadata": {},
     "output_type": "display_data"
    }
   ],
   "source": [
    "sns.set(rc={'figure.figsize':(7,7)}, style='white')\n",
    "aur_plot = sns.scatterplot(data=aur_filter_iso[aur['pvalue']<0.05], x='l2_mean_norm', y='-log10(pval)', linewidth=0, alpha=0.5, color='#7C5D86')\n",
    "sns.scatterplot(data=aur_filter_iso[aur_filter_iso['pvalue']>=0.05], x='l2_mean_norm', y='-log10(pval)', linewidth=0, alpha=0.5, color='grey')\n",
    "for i, point in aur_top_activator_10.iterrows():\n",
    "    aur_plot.text(point['l2_mean_norm']+.02, point['-log10(pval)'], str(point['index']))\n",
    "for i, point in aur_top_inhibitor_10.iterrows():\n",
    "    aur_plot.text(point['l2_mean_norm']+.02, point['-log10(pval)'], str(point['index']))\n",
    "for i, point in aur_sig.iterrows():\n",
    "    if str(point['index']) in ['GRB2', 'RMB22' 'EIF4B', 'RBM10', 'RNPS1']:\n",
    "        aur_plot.text(point['l2_mean_norm']+.02, point['-log10(pval)'], str(point['index']))\n",
    "plt.title('Upstream')\n",
    "plt.axhline(y=-np.log10(0.05), color='lightgrey', linestyle='dashed')\n",
    "plt.xlim(-5, 5)\n",
    "# plt.savefig(os.path.join(fig_dir, 'upstream_all_screen_results_iso_filtered.png'))\n",
    "# plt.savefig(os.path.join(fig_dir, 'upstream_all_screen_results_iso_filtered.svg'))\n",
    "# plt.savefig(os.path.join(fig_dir, 'upstream_all_screen_results_iso_filtered.jpg'))"
   ]
  },
  {
   "cell_type": "code",
   "execution_count": 75,
   "id": "7cfbd020-4f7c-48cb-95df-b816f4a422f6",
   "metadata": {},
   "outputs": [
    {
     "data": {
      "text/plain": [
       "(875, 21)"
      ]
     },
     "execution_count": 75,
     "metadata": {},
     "output_type": "execute_result"
    }
   ],
   "source": [
    "adr = annotated_downstream_results.copy()\n",
    "adr.shape"
   ]
  },
  {
   "cell_type": "code",
   "execution_count": 76,
   "id": "0eb2c5fb-54cf-4f26-8102-956f53a9cabc",
   "metadata": {},
   "outputs": [],
   "source": [
    "adr=adr.dropna(subset=['index'])\n",
    "adr = adr.sort_values('pvalue', ascending=True).drop_duplicates(subset=['aa_sequence']) # removing duplicates based on sequence"
   ]
  },
  {
   "cell_type": "code",
   "execution_count": 77,
   "id": "ebc71241-f6b1-41ba-b8aa-1f8a3f77496e",
   "metadata": {},
   "outputs": [],
   "source": [
    "adr['abs_mean_norm'] = np.abs(adr['mean_normalized'])"
   ]
  },
  {
   "cell_type": "code",
   "execution_count": 78,
   "id": "ad3d1657-0ab5-4d5f-9fc4-9db8c06cc8c6",
   "metadata": {},
   "outputs": [],
   "source": [
    "adr['l2_mean_norm'] = np.log2(adr['mean_normalized'])"
   ]
  },
  {
   "cell_type": "code",
   "execution_count": 79,
   "id": "4c442dea-190e-49aa-a31d-6057265a621a",
   "metadata": {},
   "outputs": [],
   "source": [
    "adr['-log10(pval)'] = -np.log10(adr['pvalue'])"
   ]
  },
  {
   "cell_type": "code",
   "execution_count": 80,
   "id": "efe2b28a-342f-4a2f-9374-5bafc3734825",
   "metadata": {},
   "outputs": [],
   "source": [
    "adr_sig = adr[adr['pvalue'] < 0.05]"
   ]
  },
  {
   "cell_type": "code",
   "execution_count": 81,
   "id": "a7ae2c78-8d8c-4726-940c-2383e6ce946f",
   "metadata": {},
   "outputs": [],
   "source": [
    "adr_filter_iso = adr.dropna(subset='pvalue').sort_values(by=['abs_mean_norm', 'pvalue'], ascending=[False,True]).drop_duplicates(subset=['index', 'Effect'])"
   ]
  },
  {
   "cell_type": "code",
   "execution_count": 82,
   "id": "73b5a36f-4d29-40b1-bd39-27498cf37fc1",
   "metadata": {},
   "outputs": [],
   "source": [
    "adr_top_activator_10 = adr_filter_iso[(adr_filter_iso['pvalue']<0.05) & (adr_filter_iso['l2_mean_norm']>0)].sort_values(by=['l2_mean_norm', 'pvalue'], ascending=[False,True]).head(10)"
   ]
  },
  {
   "cell_type": "code",
   "execution_count": 83,
   "id": "f41997e1-af81-45cf-9295-8581d9798022",
   "metadata": {},
   "outputs": [],
   "source": [
    "adr_top_inhibitor_10 = adr_filter_iso[(adr_filter_iso['pvalue']<0.05) & (adr_filter_iso['l2_mean_norm']<0)].sort_values(by=['l2_mean_norm', 'pvalue'], ascending=[True,True]).head(10)"
   ]
  },
  {
   "cell_type": "code",
   "execution_count": 84,
   "id": "d2b16762-33d1-433c-ac23-09507476d820",
   "metadata": {},
   "outputs": [
    {
     "data": {
      "text/plain": [
       "(-5.0, 5.0)"
      ]
     },
     "execution_count": 84,
     "metadata": {},
     "output_type": "execute_result"
    },
    {
     "data": {
      "image/png": "[encoded data removed]",
      "text/plain": [
       "<Figure size 700x700 with 1 Axes>"
      ]
     },
     "metadata": {},
     "output_type": "display_data"
    }
   ],
   "source": [
    "sns.set(rc={'figure.figsize':(7,7)}, style='white')\n",
    "adr_plot = sns.scatterplot(data=adr_filter_iso[adr_filter_iso['pvalue']<0.05], x='l2_mean_norm', y='-log10(pval)', linewidth=0, alpha=0.5, color='#668EB1')\n",
    "sns.scatterplot(data=adr_filter_iso[adr_filter_iso['pvalue']>=0.05], x='l2_mean_norm', y='-log10(pval)', linewidth=0, alpha=0.5, color='grey')\n",
    "for i, point in adr_top_activator_10.iterrows():\n",
    "    adr_plot.text(point['l2_mean_norm']+.02, point['-log10(pval)'], str(point['index']))\n",
    "for i, point in adr_top_inhibitor_10.iterrows():\n",
    "    adr_plot.text(point['l2_mean_norm']+.02, point['-log10(pval)'], str(point['index']))\n",
    "\n",
    "for i, point in adr_sig.iterrows():\n",
    "    if str(point['index']) in ['GRB2', 'RMB22' 'EIF4B', 'RBM10', 'RNPS1']:\n",
    "        adr_plot.text(point['l2_mean_norm']+.02, point['-log10(pval)'], str(point['index']))\n",
    "plt.title('Downstream')\n",
    "plt.axhline(y=-np.log10(0.05), color='lightgrey', linestyle='dashed')\n",
    "plt.xlim(-5, 5)\n",
    "# plt.savefig(os.path.join(fig_dir, 'downstream_all_screen_results_iso_filtered.png'))\n",
    "# plt.savefig(os.path.join(fig_dir, 'downstream_all_screen_results_iso_filtered.svg'))\n",
    "# plt.savefig(os.path.join(fig_dir, 'downstream_all_screen_results_iso_filtered.jpg'))\n"
   ]
  },
  {
   "cell_type": "code",
   "execution_count": 85,
   "id": "d3322562-3cf4-428d-b2af-d2d90c617c2d",
   "metadata": {},
   "outputs": [],
   "source": [
    "adr['key'] = adr.apply(make_key, axis=1)"
   ]
  },
  {
   "cell_type": "code",
   "execution_count": 86,
   "id": "e717995d-e8a6-44f6-939b-5c54581bf1fd",
   "metadata": {},
   "outputs": [
    {
     "data": {
      "text/plain": [
       "(847, 25)"
      ]
     },
     "execution_count": 86,
     "metadata": {},
     "output_type": "execute_result"
    }
   ],
   "source": [
    "adr.shape"
   ]
  },
  {
   "cell_type": "code",
   "execution_count": 87,
   "id": "139cd814-66d0-4d4b-a567-7820a2541a7c",
   "metadata": {},
   "outputs": [],
   "source": [
    "aur['key'] = aur.apply(make_key, axis=1)"
   ]
  },
  {
   "cell_type": "code",
   "execution_count": 88,
   "id": "b78839a3-c8bc-4a84-a312-267f35899a57",
   "metadata": {},
   "outputs": [
    {
     "data": {
      "text/plain": [
       "(850, 25)"
      ]
     },
     "execution_count": 88,
     "metadata": {},
     "output_type": "execute_result"
    }
   ],
   "source": [
    "aur.shape"
   ]
  },
  {
   "cell_type": "code",
   "execution_count": 89,
   "id": "d2333ea5-7c9f-4453-b70a-1d8de66f8483",
   "metadata": {},
   "outputs": [
    {
     "data": {
      "text/plain": [
       "854"
      ]
     },
     "execution_count": 89,
     "metadata": {},
     "output_type": "execute_result"
    }
   ],
   "source": [
    "# number of ORFs screened after removing duplicates\n",
    "len(set(adr['key']).union(set(aur['key']) ))"
   ]
  },
  {
   "cell_type": "code",
   "execution_count": 90,
   "id": "b0ede463-9c3f-4559-99dd-a4ca3992de50",
   "metadata": {},
   "outputs": [],
   "source": [
    "aur_filter_iso['unique_identifier_2'] = aur_filter_iso.apply(lambda x: f\"{x['index']}_{x['Plate Location']}\", axis=1)\n",
    "adr_filter_iso['unique_identifier_2'] = adr_filter_iso.apply(lambda x: f\"{x['index']}_{x['Plate Location']}\", axis=1)"
   ]
  },
  {
   "cell_type": "code",
   "execution_count": 91,
   "id": "268a2192-8361-4d65-ab06-f4eaaca67b9a",
   "metadata": {},
   "outputs": [],
   "source": [
    "aur_filter_iso['unique_identifier'] = aur_filter_iso.apply(make_key, axis=1)\n",
    "adr_filter_iso['unique_identifier'] = adr_filter_iso.apply(make_key, axis=1)"
   ]
  },
  {
   "cell_type": "code",
   "execution_count": 92,
   "id": "844af8f2-a454-4e15-bcdd-603d2facc393",
   "metadata": {},
   "outputs": [
    {
     "data": {
      "text/plain": [
       "(519, 24)"
      ]
     },
     "execution_count": 92,
     "metadata": {},
     "output_type": "execute_result"
    }
   ],
   "source": [
    "adr_sig.shape"
   ]
  },
  {
   "cell_type": "code",
   "execution_count": 93,
   "id": "d49f6985-7b72-4d84-9421-24b45d754882",
   "metadata": {},
   "outputs": [
    {
     "name": "stdout",
     "output_type": "stream",
     "text": [
      "Upstream Activator (107, 26)\n",
      "Upstream Inhibitor (380, 26)\n"
     ]
    }
   ],
   "source": [
    "aur_sig_activator = aur_filter_iso[(aur_filter_iso['Effect'] =='activator') & (aur_filter_iso['pvalue']<0.05)]\n",
    "aur_sig_inhibitor = aur_filter_iso[(aur_filter_iso['Effect'] =='inhibitor') & (aur_filter_iso['pvalue']<0.05)]\n",
    "print('Upstream Activator', aur_sig_activator.shape)\n",
    "print('Upstream Inhibitor', aur_sig_inhibitor.shape)"
   ]
  },
  {
   "cell_type": "code",
   "execution_count": 94,
   "id": "5d208164-0d7e-425b-b979-f65ecb90b64b",
   "metadata": {},
   "outputs": [
    {
     "name": "stdout",
     "output_type": "stream",
     "text": [
      "Downstream Activator (95, 26)\n",
      "Downstream Inhibitor (386, 26)\n"
     ]
    }
   ],
   "source": [
    "adr_sig_activator = adr_filter_iso[(adr_filter_iso['Effect'] =='activator') & (adr_filter_iso['pvalue']<0.05)]\n",
    "adr_sig_inhibitor = adr_filter_iso[(adr_filter_iso['Effect'] =='inhibitor') & (adr_filter_iso['pvalue']<0.05)]\n",
    "print('Downstream Activator', adr_sig_activator.shape)\n",
    "print('Downstream Inhibitor', adr_sig_inhibitor.shape)"
   ]
  },
  {
   "cell_type": "code",
   "execution_count": 95,
   "id": "4d8d3654-72c6-4ee2-8417-841138a68d1d",
   "metadata": {},
   "outputs": [],
   "source": [
    "def plot_venn(s1, s2, title, fig_name):\n",
    "    # Make venn diagram\n",
    "    venn = venn2([s1, s2], \n",
    "                 set_labels=('Upstream', 'Downstream'),\n",
    "                 set_colors=['#7C5D86', '#668EB1'])\n",
    "    \n",
    "    # Increase font sizes\n",
    "    for label in venn.set_labels:     # the group labels ('Upstream', 'Downstream')\n",
    "        label.set_fontsize(16)\n",
    "    \n",
    "    for label in venn.subset_labels:  # the counts inside the diagram\n",
    "        if label:  # some can be None\n",
    "            label.set_fontsize(16)\n",
    "    \n",
    "    plt.title(title, fontsize=16)\n",
    "    # plt.savefig(os.path.join(fig_dir, f'{fig_name}.png'))\n",
    "    # plt.savefig(os.path.join(fig_dir, f'{fig_name}.svg'))\n",
    "    # plt.savefig(os.path.join(fig_dir, f'{fig_name}.jpg'))\n"
   ]
  },
  {
   "cell_type": "code",
   "execution_count": 96,
   "id": "646d3064-680f-4340-8dca-747631691884",
   "metadata": {},
   "outputs": [
    {
     "data": {
      "image/png": "[encoded data removed]",
      "text/plain": [
       "<Figure size 700x700 with 1 Axes>"
      ]
     },
     "metadata": {},
     "output_type": "display_data"
    }
   ],
   "source": [
    "from matplotlib_venn import venn2\n",
    "\n",
    "set1 = set(aur_sig_activator['unique_identifier'])\n",
    "set2 = set(adr_sig_activator['unique_identifier'])\n",
    "\n",
    "v_activator = plot_venn(set1, set2, 'Activator', 'activator_venn_iso_filtered')\n"
   ]
  },
  {
   "cell_type": "code",
   "execution_count": 97,
   "id": "1d0ad305-beec-41c0-8218-f9420ae31d36",
   "metadata": {},
   "outputs": [
    {
     "data": {
      "image/png": "[encoded data removed]",
      "text/plain": [
       "<Figure size 700x700 with 1 Axes>"
      ]
     },
     "metadata": {},
     "output_type": "display_data"
    }
   ],
   "source": [
    "set1 = set(aur_sig_inhibitor['unique_identifier'])\n",
    "set2 = set(adr_sig_inhibitor['unique_identifier'])\n",
    "\n",
    "v_inhibitor = plot_venn(set1, set2, 'Inhibitor', 'inhibitor_venn_iso_filtered')\n"
   ]
  },
  {
   "cell_type": "code",
   "execution_count": null,
   "id": "19bc7965-1a05-4330-a080-9173d7f2a21c",
   "metadata": {},
   "outputs": [],
   "source": [
    "outdir = '/tscc/nfs/home/pjaganna1/projects/apa_screen_yongsheng/notebooks/revision/iso_filtered_revision/'"
   ]
  },
  {
   "cell_type": "code",
   "execution_count": null,
   "id": "0013ce5f-0292-40d2-a496-9de3ad47c8f4",
   "metadata": {},
   "outputs": [],
   "source": [
    "os.path.exists(outdir)"
   ]
  },
  {
   "cell_type": "code",
   "execution_count": null,
   "id": "6a43985c-32a5-4e77-aaa3-fb12f8a6129f",
   "metadata": {},
   "outputs": [],
   "source": [
    "upstream_activators_noisofilter = aur_sig[(aur_sig['l2_mean_norm'] >0)].sort_values(by=['mean_normalized', 'pvalue'], ascending=[False, True])"
   ]
  },
  {
   "cell_type": "code",
   "execution_count": null,
   "id": "0ca42355-35f2-4fff-bf13-95b9200df128",
   "metadata": {},
   "outputs": [],
   "source": [
    "upstream_inhibitors_noisofilter = aur_sig[(aur_sig['l2_mean_norm'] <0)].sort_values(by=['mean_normalized', 'pvalue'], ascending=[False, True])"
   ]
  },
  {
   "cell_type": "code",
   "execution_count": null,
   "id": "8b3e8a58-fedd-4263-ab7b-aa57978f260e",
   "metadata": {},
   "outputs": [],
   "source": [
    "downstream_activators_noisofilter = adr_sig[(adr_sig['l2_mean_norm'] >0)].sort_values(by=['mean_normalized', 'pvalue'], ascending=[False, True])"
   ]
  },
  {
   "cell_type": "code",
   "execution_count": null,
   "id": "96fe73be-4a57-4cc5-9d03-c72d2365f5e2",
   "metadata": {},
   "outputs": [],
   "source": [
    "downstream_inhibitors_noisofilter = adr_sig[(adr_sig['l2_mean_norm'] <0)].sort_values(by=['mean_normalized', 'pvalue'], ascending=[False, True])"
   ]
  },
  {
   "cell_type": "code",
   "execution_count": null,
   "id": "a8dd2414-7585-4b74-b771-0730ce0eeb54",
   "metadata": {},
   "outputs": [],
   "source": [
    "upstream_activators_noisofilter['key'] = upstream_activators_noisofilter.apply(make_key, axis=1)"
   ]
  },
  {
   "cell_type": "code",
   "execution_count": null,
   "id": "e0f04e60-8c25-49d7-9fbb-3760db956853",
   "metadata": {},
   "outputs": [],
   "source": [
    "upstream_inhibitors_noisofilter['key'] = upstream_inhibitors_noisofilter.apply(make_key, axis=1)"
   ]
  },
  {
   "cell_type": "code",
   "execution_count": null,
   "id": "c6fd9038-8e28-4925-b27a-fb5989b8b316",
   "metadata": {},
   "outputs": [],
   "source": [
    "downstream_activators_noisofilter['key'] = downstream_activators_noisofilter.apply(make_key, axis=1)"
   ]
  },
  {
   "cell_type": "code",
   "execution_count": null,
   "id": "73071b7d-4eff-4b1a-b567-b522f95ec6a7",
   "metadata": {},
   "outputs": [],
   "source": [
    "downstream_inhibitors_noisofilter['key'] = downstream_inhibitors_noisofilter.apply(make_key, axis=1)"
   ]
  },
  {
   "cell_type": "code",
   "execution_count": null,
   "id": "b0d560da-bf70-4d4a-b39e-70a044f36042",
   "metadata": {},
   "outputs": [],
   "source": [
    "#upstream_activators_noisofilter.to_csv(os.path.join(outdir, 'upstream_activators_allisos.txt'), sep='\\t', index=False)"
   ]
  },
  {
   "cell_type": "code",
   "execution_count": null,
   "id": "2acbc67c-3117-4ddf-9247-84d098d6d538",
   "metadata": {},
   "outputs": [],
   "source": [
    "#upstream_inhibitors_noisofilter.to_csv(os.path.join(outdir, 'upstream_inhibitors_allisos.txt'), sep='\\t', index=False)"
   ]
  },
  {
   "cell_type": "code",
   "execution_count": null,
   "id": "dfd4170c-fad1-4c3f-8825-d3fbd7d5a818",
   "metadata": {},
   "outputs": [],
   "source": [
    "#downstream_activators_noisofilter.to_csv(os.path.join(outdir, 'downstream_activators_allisos.txt'), sep='\\t', index=False)"
   ]
  },
  {
   "cell_type": "code",
   "execution_count": null,
   "id": "0ee1b0a3-7ad9-4fa6-8ac8-58cb1a75c6c2",
   "metadata": {},
   "outputs": [],
   "source": [
    "#downstream_inhibitors_noisofilter.to_csv(os.path.join(outdir, 'downstream_inhibitors_allisos.txt'), sep='\\t', index=False)"
   ]
  }
 ],
 "metadata": {
  "kernelspec": {
   "display_name": "Python 3 (ipykernel)",
   "language": "python",
   "name": "python3"
  },
  "language_info": {
   "codemirror_mode": {
    "name": "ipython",
    "version": 3
   },
   "file_extension": ".py",
   "mimetype": "text/x-python",
   "name": "python",
   "nbconvert_exporter": "python",
   "pygments_lexer": "ipython3",
   "version": "3.11.6"
  }
 },
 "nbformat": 4,
 "nbformat_minor": 5
}
