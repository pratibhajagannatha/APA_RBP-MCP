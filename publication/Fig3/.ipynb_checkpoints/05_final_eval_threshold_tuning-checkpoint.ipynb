{
 "cells": [
  {
   "cell_type": "code",
   "execution_count": 2,
   "id": "b4bcdec9-95c8-41ad-945e-be05bfea827b",
   "metadata": {},
   "outputs": [],
   "source": [
    "#!/usr/bin/env python\n",
    "\n",
    "import pandas as pd\n",
    "import numpy as np\n",
    "from matplotlib import pyplot as plt\n",
    "import os\n",
    "from sklearn.model_selection import StratifiedKFold\n",
    "from sklearn.metrics import roc_curve, auc, recall_score, precision_recall_curve, average_precision_score\n",
    "from keras.models import Sequential, Model, load_model, model_from_json\n",
    "from keras.layers import Dense, Input, Dropout, Activation, Layer, InputSpec, add, Concatenate\n",
    "from keras.layers import Embedding\n",
    "from scipy import interp, stats\n",
    "import pickle\n",
    "import re\n",
    "import matplotlib.gridspec as gridspec\n",
    "import multiprocessing as mp\n",
    "from random import shuffle\n",
    "import multiprocessing as mp\n",
    "from proteinbert import OutputType, OutputSpec, InputEncoder\n",
    "\n",
    "import pkg_resources\n",
    "import warnings\n",
    "from pathlib import Path"
   ]
  },
  {
   "cell_type": "code",
   "execution_count": 3,
   "id": "787b96c0-68c9-47a1-97c2-637b4d9e56f1",
   "metadata": {},
   "outputs": [],
   "source": [
    "FAKE_ZEROS=1e-5\n",
    "OUTPUT_TYPE = OutputType(False, 'binary')\n",
    "UNIQUE_LABELS = [0, 1]\n",
    "OUTPUT_SPEC = OutputSpec(OUTPUT_TYPE, UNIQUE_LABELS)\n",
    "\n",
    "\n",
    "## Code block from Wenhao's HydRA\n",
    "\n",
    "ADDED_TOKENS_PER_SEQ=2\n",
    "def get_y_pred_ProteinBERT(model_ProteinBERT_generator, ProteinBERT_input_encoder, output_spec, seqs, raw_Y, protein_names, start_seq_len = 512, start_batch_size = 32, increase_factor = 2):\n",
    "    \n",
    "    assert model_ProteinBERT_generator.optimizer_weights is None\n",
    "    \n",
    "    dataset = pd.DataFrame({'seq': seqs, 'raw_y': raw_Y, 'protein': protein_names})\n",
    "        \n",
    "    y_trues = []\n",
    "    y_preds = []\n",
    "    protein_names_list = []\n",
    "    y_len_dic = {}\n",
    "    \n",
    "    for len_matching_dataset, seq_len, batch_size in split_dataset_by_len2(dataset, start_seq_len = start_seq_len, start_batch_size = start_batch_size, \\\n",
    "            increase_factor = increase_factor):\n",
    "\n",
    "        X, y_true, sample_weights, protein_names = encode_dataset(len_matching_dataset['seq'], len_matching_dataset['raw_y'], ProteinBERT_input_encoder, output_spec, \\\n",
    "                seq_len = seq_len, needs_filtering = False, protein_names=len_matching_dataset['protein'])\n",
    "        \n",
    "        if len(X[0])==0 or len(X[1])==0:\n",
    "            continue\n",
    "        \n",
    "        assert set(np.unique(sample_weights)) <= {0.0, 1.0}\n",
    "        y_mask = (sample_weights == 1)\n",
    "        \n",
    "        model = model_ProteinBERT_generator.create_model(seq_len)\n",
    "        y_pred = model.predict(X, batch_size = batch_size)\n",
    "        \n",
    "        y_pred = y_pred[y_mask]\n",
    "        prot_names = protein_names[y_mask]\n",
    "        \n",
    "        if output_spec.output_type.is_categorical:\n",
    "            y_pred = y_pred.reshape((-1, y_pred.shape[-1]))\n",
    "        else:\n",
    "            y_pred = y_pred.flatten()\n",
    "\n",
    "        y_preds.append(y_pred)\n",
    "        protein_names_list.append(protein_names)\n",
    "        \n",
    "    y_pred = np.concatenate(y_preds, axis = 0)\n",
    "    protein_names = np.concatenate(protein_names_list, axis = 0)\n",
    "     \n",
    "    return y_pred, protein_names\n",
    "\n",
    "def split_dataset_by_len2(dataset, seq_col_name = 'seq', start_seq_len = 512, start_batch_size = 32, increase_factor = 2):\n",
    "\n",
    "    seq_len = start_seq_len\n",
    "    batch_size = start_batch_size\n",
    "    \n",
    "    while len(dataset) > 0:\n",
    "        max_allowed_input_seq_len = seq_len - ADDED_TOKENS_PER_SEQ\n",
    "        len_mask = (dataset[seq_col_name].str.len() <= max_allowed_input_seq_len)\n",
    "        len_matching_dataset = dataset[len_mask]\n",
    "        yield len_matching_dataset, seq_len, batch_size\n",
    "        dataset = dataset[~len_mask]\n",
    "        #seq_len *= increase_factor\n",
    "        seq_len += start_seq_len\n",
    "        batch_size = max(batch_size // increase_factor, 1)\n",
    "\n",
    "def encode_dataset(seqs, raw_Y, ProteinBERT_input_encoder, output_spec, seq_len = 512, needs_filtering = True, dataset_name = 'Dataset', verbose = True, protein_names=None):\n",
    "    \n",
    "    if needs_filtering:\n",
    "        #dataset = pd.DataFrame({'seq': seqs, 'raw_Y': raw_Y})\n",
    "        dataset = pd.DataFrame({'seq': seqs, 'raw_y': raw_Y, 'protein': protein_names})\n",
    "        dataset = filter_dataset_by_len(dataset, seq_len = seq_len, dataset_name = dataset_name, verbose = verbose)\n",
    "        seqs = dataset['seq']\n",
    "        raw_Y = dataset['raw_Y']\n",
    "        protein_names= dataset['protein']\n",
    "    \n",
    "    X = ProteinBERT_input_encoder.encode_X(seqs, seq_len)\n",
    "    Y, sample_weigths = encode_Y(raw_Y, output_spec, seq_len = seq_len)\n",
    "    return X, Y, sample_weigths, protein_names\n",
    "\n",
    "def encode_Y(raw_Y, output_spec, seq_len = 512):\n",
    "    if output_spec.output_type.is_seq:\n",
    "        return encode_seq_Y(raw_Y, seq_len, output_spec.output_type.is_binary, output_spec.unique_labels)\n",
    "    elif output_spec.output_type.is_categorical:\n",
    "        return encode_categorical_Y(raw_Y, output_spec.unique_labels), np.ones(len(raw_Y))\n",
    "    elif output_spec.output_type.is_numeric or output_spec.output_type.is_binary:\n",
    "        return raw_Y.values.astype(float), np.ones(len(raw_Y))\n",
    "    else:\n",
    "        raise ValueError('Unexpected output type: %s' % output_spec.output_type)"
   ]
  },
  {
   "cell_type": "code",
   "execution_count": 4,
   "id": "97513eb2-de95-4a2a-bb60-dd26b38c466d",
   "metadata": {},
   "outputs": [],
   "source": [
    "rbp_df = pd.read_csv('RBP_train_test_eval_bkg_corrected_nosim_heldout.tsv', sep='\\t')"
   ]
  },
  {
   "cell_type": "code",
   "execution_count": 5,
   "id": "d9a111ca-b453-41e4-b749-c7034b118f69",
   "metadata": {},
   "outputs": [],
   "source": [
    "rbp_list = rbp_df['key'].tolist()"
   ]
  },
  {
   "cell_type": "code",
   "execution_count": 6,
   "id": "38ec9d67-8b0c-4fdd-aef1-e77247a0c592",
   "metadata": {},
   "outputs": [],
   "source": [
    "true_labels = dict(\n",
    "    zip(\n",
    "        rbp_df['key'],\n",
    "        rbp_df['Activator_label'].astype(int)\n",
    "    )\n",
    ")"
   ]
  },
  {
   "cell_type": "code",
   "execution_count": 7,
   "id": "a2b02125-2bc7-413a-b724-a153b95a058a",
   "metadata": {},
   "outputs": [
    {
     "data": {
      "text/plain": [
       "64"
      ]
     },
     "execution_count": 7,
     "metadata": {},
     "output_type": "execute_result"
    }
   ],
   "source": [
    "len(rbp_list)"
   ]
  },
  {
   "cell_type": "code",
   "execution_count": 8,
   "id": "010e493f-81c6-479a-8efa-a32020f887eb",
   "metadata": {
    "scrolled": true
   },
   "outputs": [
    {
     "name": "stdout",
     "output_type": "stream",
     "text": [
      "Welcome to HydRa!\n",
      "STEP 1: Preprocessing.\n",
      "Proteins to be predicted:  64\n"
     ]
    }
   ],
   "source": [
    "## Prepare the whole dataset for training our final SeqOnly classifier. Also act as test set, so that we can get each protein a prediction score with our trained classifier (even though the classifier is trained with this data itself).\n",
    "seq_dir='/tscc/nfs/home/pjaganna1/projects/apa_screen_yongsheng/hydra_2/model_prediction/sequence_files_initial_eval_noppinopia'\n",
    "proteinBERT_modelfile='/tscc/nfs/home/pjaganna1/projects/apa_screen_yongsheng/hydra_2/model_prediction/ProteinBERT_finetuned_0.3d_0.0005lr_16b_768len_1536flen_modelfile_nosim_wheldout_revision.pkl'\n",
    "n_annotations= 8943\n",
    "start_seq_len_ProteinBERT=512\n",
    "\n",
    "\n",
    "print('Welcome to HydRa!')\n",
    "print('STEP 1: Preprocessing.')\n",
    "\n",
    "#proteins=list(map(lambda x: '.'.join(x.split('.')[:-1]), list(filter(lambda x: x.endswith('.fasta'), os.listdir(seq_dir)))))\n",
    "proteins = rbp_list.copy()\n",
    "print('Proteins to be predicted: ', len(proteins))"
   ]
  },
  {
   "cell_type": "code",
   "execution_count": 9,
   "id": "019441d0-132b-477b-a30f-4199f5314fb1",
   "metadata": {},
   "outputs": [
    {
     "name": "stdout",
     "output_type": "stream",
     "text": [
      "STEP 1: Preprocessing. Generating the PPI features\n"
     ]
    }
   ],
   "source": [
    "print('STEP 1: Preprocessing. Generating the PPI features')\n",
    "\n",
    "seq_dic={}\n",
    "seq_dic_ProteinBERT={}\n",
    "\n",
    "for prot in proteins:\n",
    "    with open(os.path.join(seq_dir,prot+'.fasta')) as f:\n",
    "        seq=''.join(f.read().strip('* \\n').split('\\n')[1:])\n",
    "        seq=seq.replace('*','')\n",
    "        seq2=seq\n",
    "        seq=seq.replace('X','')\n",
    "\n",
    "    seq_dic[prot]=seq\n",
    "    seq_dic_ProteinBERT[prot]=seq2\n",
    "\n",
    "## ProteinBERT input\n",
    "seq_names_ProteinBERT=seq_dic_ProteinBERT.keys()\n",
    "class_labels_ProteinBERT=np.ones(len(seq_names_ProteinBERT))\n",
    "prot_seqs_ProteinBERT=[seq_dic_ProteinBERT[prot] for prot in seq_names_ProteinBERT]\n"
   ]
  },
  {
   "cell_type": "code",
   "execution_count": 10,
   "id": "353f9246-1860-4262-8a96-29c74efc1517",
   "metadata": {},
   "outputs": [
    {
     "name": "stdout",
     "output_type": "stream",
     "text": [
      "STEP 2: Loading HydRa models.\n"
     ]
    }
   ],
   "source": [
    "print('STEP 2: Loading HydRa models.')\n",
    "\n",
    "with open(proteinBERT_modelfile,'rb') as f:\n",
    "    model_ProteinBERT_generator=pickle.load(f)\n",
    "    ProteinBERT_input_encoder = InputEncoder(n_annotations)\n",
    "\n",
    "y_pred_ProteinBERT, protein_names = get_y_pred_ProteinBERT(model_ProteinBERT_generator, ProteinBERT_input_encoder, OUTPUT_SPEC, prot_seqs_ProteinBERT, class_labels_ProteinBERT, seq_names_ProteinBERT, start_seq_len = 512, start_batch_size = 32)\n",
    "ProteinBERT_df=pd.DataFrame(list(zip(protein_names,y_pred_ProteinBERT)), columns=['Protein','ProteinBERT_score'])\n",
    "ProteinBERT_df=ProteinBERT_df.set_index('Protein')"
   ]
  },
  {
   "cell_type": "code",
   "execution_count": 11,
   "id": "452cd45c-29ec-4c87-9723-8f7425952c59",
   "metadata": {},
   "outputs": [],
   "source": [
    "ProteinBERT_df['true_label'] = ProteinBERT_df.index.map(true_labels)"
   ]
  },
  {
   "cell_type": "code",
   "execution_count": 12,
   "id": "c66fd5ae-6bbb-449a-a670-2825e0ebd52d",
   "metadata": {},
   "outputs": [
    {
     "data": {
      "text/html": [
       "<div>\n",
       "<style scoped>\n",
       "    .dataframe tbody tr th:only-of-type {\n",
       "        vertical-align: middle;\n",
       "    }\n",
       "\n",
       "    .dataframe tbody tr th {\n",
       "        vertical-align: top;\n",
       "    }\n",
       "\n",
       "    .dataframe thead th {\n",
       "        text-align: right;\n",
       "    }\n",
       "</style>\n",
       "<table border=\"1\" class=\"dataframe\">\n",
       "  <thead>\n",
       "    <tr style=\"text-align: right;\">\n",
       "      <th></th>\n",
       "      <th>ProteinBERT_score</th>\n",
       "      <th>true_label</th>\n",
       "    </tr>\n",
       "    <tr>\n",
       "      <th>Protein</th>\n",
       "      <th></th>\n",
       "      <th></th>\n",
       "    </tr>\n",
       "  </thead>\n",
       "  <tbody>\n",
       "    <tr>\n",
       "      <th>TWF2_BC016452-1</th>\n",
       "      <td>0.133617</td>\n",
       "      <td>0</td>\n",
       "    </tr>\n",
       "    <tr>\n",
       "      <th>ARL6IP4_uc004dat-1</th>\n",
       "      <td>0.017530</td>\n",
       "      <td>0</td>\n",
       "    </tr>\n",
       "    <tr>\n",
       "      <th>EXOSC7_BC012831-2</th>\n",
       "      <td>0.058569</td>\n",
       "      <td>0</td>\n",
       "    </tr>\n",
       "    <tr>\n",
       "      <th>RALY_BC103753-1</th>\n",
       "      <td>0.152098</td>\n",
       "      <td>0</td>\n",
       "    </tr>\n",
       "    <tr>\n",
       "      <th>DYNC1H1_BC064521-1</th>\n",
       "      <td>0.089046</td>\n",
       "      <td>0</td>\n",
       "    </tr>\n",
       "    <tr>\n",
       "      <th>...</th>\n",
       "      <td>...</td>\n",
       "      <td>...</td>\n",
       "    </tr>\n",
       "    <tr>\n",
       "      <th>ESRP1_BC067098-1</th>\n",
       "      <td>0.412034</td>\n",
       "      <td>0</td>\n",
       "    </tr>\n",
       "    <tr>\n",
       "      <th>THRAP3_BC112330-1</th>\n",
       "      <td>0.406297</td>\n",
       "      <td>0</td>\n",
       "    </tr>\n",
       "    <tr>\n",
       "      <th>DHX34_BC172389</th>\n",
       "      <td>0.130708</td>\n",
       "      <td>0</td>\n",
       "    </tr>\n",
       "    <tr>\n",
       "      <th>CPSF1_BC017232</th>\n",
       "      <td>0.041579</td>\n",
       "      <td>0</td>\n",
       "    </tr>\n",
       "    <tr>\n",
       "      <th>ZCCHC6_AL832026</th>\n",
       "      <td>0.182380</td>\n",
       "      <td>0</td>\n",
       "    </tr>\n",
       "  </tbody>\n",
       "</table>\n",
       "<p>64 rows × 2 columns</p>\n",
       "</div>"
      ],
      "text/plain": [
       "                    ProteinBERT_score  true_label\n",
       "Protein                                          \n",
       "TWF2_BC016452-1              0.133617           0\n",
       "ARL6IP4_uc004dat-1           0.017530           0\n",
       "EXOSC7_BC012831-2            0.058569           0\n",
       "RALY_BC103753-1              0.152098           0\n",
       "DYNC1H1_BC064521-1           0.089046           0\n",
       "...                               ...         ...\n",
       "ESRP1_BC067098-1             0.412034           0\n",
       "THRAP3_BC112330-1            0.406297           0\n",
       "DHX34_BC172389               0.130708           0\n",
       "CPSF1_BC017232               0.041579           0\n",
       "ZCCHC6_AL832026              0.182380           0\n",
       "\n",
       "[64 rows x 2 columns]"
      ]
     },
     "execution_count": 12,
     "metadata": {},
     "output_type": "execute_result"
    }
   ],
   "source": [
    "ProteinBERT_df"
   ]
  },
  {
   "cell_type": "code",
   "execution_count": 13,
   "id": "12fc4fd7-c601-46ba-b183-0c700cc7c7cb",
   "metadata": {},
   "outputs": [
    {
     "name": "stdout",
     "output_type": "stream",
     "text": [
      "0.15237274765968323\n"
     ]
    },
    {
     "data": {
      "image/png": "[encoded data removed]",
      "text/plain": [
       "<Figure size 432x432 with 1 Axes>"
      ]
     },
     "metadata": {
      "needs_background": "light"
     },
     "output_type": "display_data"
    }
   ],
   "source": [
    "from sklearn.metrics import roc_curve, auc\n",
    "import matplotlib.pyplot as plt\n",
    "\n",
    "# Extract true labels and predicted probabilities\n",
    "y_true = ProteinBERT_df['true_label'].values\n",
    "y_scores = ProteinBERT_df['ProteinBERT_score'].values\n",
    "\n",
    "# Compute ROC curve and ROC AUC\n",
    "fpr, tpr, thresholds = roc_curve(y_true, y_scores)\n",
    "roc_auc = auc(fpr, tpr)\n",
    "\n",
    "# Plot\n",
    "plt.figure(figsize=(6, 6))\n",
    "plt.plot(fpr, tpr, lw=2, label=f'ROC Curve (AUC = {roc_auc:.2f})')\n",
    "plt.plot([0, 1], [0, 1], color='gray', linestyle='--', label='Random Classifier')\n",
    "plt.xlim([0.0, 1.0])\n",
    "plt.ylim([0.0, 1.05])\n",
    "plt.xlabel('False Positive Rate')\n",
    "plt.ylabel('True Positive Rate (Recall)')\n",
    "plt.title('Receiver Operating Characteristic (ROC) Curve')\n",
    "plt.legend(loc=\"lower right\")\n",
    "plt.grid(True)\n",
    "plt.tight_layout()\n",
    "# plt.savefig('AUC-ROC_final_heldout_eval_nosim_wheldout.png')\n",
    "# plt.savefig('AUC-ROC_final_heldout_eval_nosim_wheldout.svg')\n",
    "# plt.savefig('AUC-ROC_final_heldout_eval_nosim_wheldout.jpg')\n",
    "\n",
    "distances = (fpr**2 + (1 - tpr)**2)**0.5\n",
    "best_idx = distances.argmin()\n",
    "best_threshold = thresholds[best_idx]\n",
    "print(best_threshold)"
   ]
  },
  {
   "cell_type": "code",
   "execution_count": 14,
   "id": "342d1868-8ef4-4361-b81e-a86d00070a53",
   "metadata": {},
   "outputs": [
    {
     "data": {
      "image/png": "[encoded data removed]",
      "text/plain": [
       "<Figure size 432x432 with 1 Axes>"
      ]
     },
     "metadata": {
      "needs_background": "light"
     },
     "output_type": "display_data"
    }
   ],
   "source": [
    "precision, recall, thresholds = precision_recall_curve(y_true, y_scores)\n",
    "pr_auc = auc(recall, precision)\n",
    "plt.figure(figsize=(6, 6))\n",
    "plt.plot(recall, precision, label=f'PR-AUC = {pr_auc:.2f})')\n",
    "plt.axhline(y_true.sum()/len(y_true), linestyle='--', lw=1, label=f'Random (AUC = {y_true.sum()/len(y_true)})', color='darkgrey')\n",
    "plt.xlabel('Recall')\n",
    "plt.ylabel('Precision')\n",
    "plt.title('Precision-Recall Curves with Averaged Metrics Across Test Sets')\n",
    "plt.legend(loc='lower left')\n",
    "plt.grid()\n",
    "plt.tight_layout()\n",
    "# plt.savefig('PR-AUC_final_heldout_eval_nosim_wheldout.png')\n",
    "# plt.savefig('PR-AUC_final_heldout_eval_nosim_wheldout.svg')\n",
    "# plt.savefig('PR-AUC_final_heldout_eval_nosim_wheldout.jpg')"
   ]
  },
  {
   "cell_type": "code",
   "execution_count": 15,
   "id": "25b8f650-de9e-4e74-92df-3386b63440f3",
   "metadata": {},
   "outputs": [
    {
     "name": "stdout",
     "output_type": "stream",
     "text": [
      "Best Threshold by Accuracy: 0.5735095143318176  Accuracy: 0.84375\n",
      "Best Threshold by Precision: 0.7508753538131714  Precision: 1.0\n",
      "Best Threshold by Recall: 0.08553767204284668  Recall: 1.0\n",
      "Best Threshold by F1: 0.15237274765968323  F1: 0.5238095238095238\n"
     ]
    }
   ],
   "source": [
    "from sklearn.metrics import roc_curve, auc, accuracy_score, precision_score, recall_score, f1_score\n",
    "\n",
    "# ✅ Evaluate metrics for all thresholds\n",
    "metrics_list = []\n",
    "for thr in thresholds:\n",
    "    y_pred = (y_scores >= thr).astype(int)\n",
    "    metrics_list.append({\n",
    "        \"threshold\": thr,\n",
    "        \"accuracy\": accuracy_score(y_true, y_pred),\n",
    "        \"precision\": precision_score(y_true, y_pred, zero_division=0),\n",
    "        \"recall\": recall_score(y_true, y_pred),\n",
    "        \"f1\": f1_score(y_true, y_pred)\n",
    "    })\n",
    "\n",
    "metrics_df = pd.DataFrame(metrics_list)\n",
    "\n",
    "# ✅ Find thresholds that maximize each metric\n",
    "best_acc_thr = metrics_df.loc[metrics_df['accuracy'].idxmax()]\n",
    "best_prec_thr = metrics_df.loc[metrics_df['precision'].idxmax()]\n",
    "best_recall_thr = metrics_df.loc[metrics_df['recall'].idxmax()]\n",
    "best_f1_thr = metrics_df.loc[metrics_df['f1'].idxmax()]\n",
    "                                            \n",
    "print(\"Best Threshold by Accuracy:\", best_acc_thr['threshold'], \" Accuracy:\", best_acc_thr['accuracy'])\n",
    "print(\"Best Threshold by Precision:\", best_prec_thr['threshold'], \" Precision:\", best_prec_thr['precision'])\n",
    "print(\"Best Threshold by Recall:\", best_recall_thr['threshold'], \" Recall:\", best_recall_thr['recall'])\n",
    "print(\"Best Threshold by F1:\", best_f1_thr['threshold'], \" F1:\", best_f1_thr['f1'])\n"
   ]
  },
  {
   "cell_type": "code",
   "execution_count": 32,
   "id": "09d6c4bb-8cac-4d8e-9ae2-804c334dc977",
   "metadata": {},
   "outputs": [
    {
     "data": {
      "image/png": "[encoded data removed]",
      "text/plain": [
       "<Figure size 432x432 with 1 Axes>"
      ]
     },
     "metadata": {
      "needs_background": "light"
     },
     "output_type": "display_data"
    }
   ],
   "source": [
    "precision, recall, thresholds = precision_recall_curve(y_true, y_scores)\n",
    "pr_auc = auc(recall, precision)\n",
    "plt.figure(figsize=(6, 6))\n",
    "plt.plot(recall, precision, label=f'PR-AUC = {pr_auc:.2f})')\n",
    "plt.axhline(y_true.sum()/len(y_true), linestyle='--', lw=1, label=f'Random (AUC = {y_true.sum()/len(y_true)})', color='darkgrey')\n",
    "plt.xlabel('Recall')\n",
    "plt.ylabel('Precision')\n",
    "plt.title('Precision-Recall Curves with Averaged Metrics Across Test Sets')\n",
    "plt.legend(loc='lower left')\n",
    "chosen_thr=0.15\n",
    "import numpy as np\n",
    "idx = np.argmin(np.abs(thresholds - chosen_thr))\n",
    "\n",
    "plt.scatter(recall[idx], precision[idx], color='red', s=60, \n",
    "            label=f'Threshold = {chosen_thr:.2f}')\n",
    "plt.grid()\n",
    "plt.savefig('PR-AUC_final_heldout_eval_nosim_wheldout_F1_dot.png')\n",
    "plt.savefig('PR-AUC_final_heldout_eval_nosim_wheldout_F1_dot.svg')\n",
    "plt.savefig('PR-AUC_final_heldout_eval_nosim_wheldout_F1_dot.jpg')\n"
   ]
  }
 ],
 "metadata": {
  "kernelspec": {
   "display_name": "proteinbert",
   "language": "python",
   "name": "proteinbert"
  },
  "language_info": {
   "codemirror_mode": {
    "name": "ipython",
    "version": 3
   },
   "file_extension": ".py",
   "mimetype": "text/x-python",
   "name": "python",
   "nbconvert_exporter": "python",
   "pygments_lexer": "ipython3",
   "version": "3.6.13"
  }
 },
 "nbformat": 4,
 "nbformat_minor": 5
}
