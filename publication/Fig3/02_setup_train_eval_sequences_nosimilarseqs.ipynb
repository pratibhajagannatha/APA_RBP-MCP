{
 "cells": [
  {
   "cell_type": "code",
   "execution_count": 1,
   "id": "e6271a6d-d457-4796-a006-06bfa1fe7c82",
   "metadata": {},
   "outputs": [],
   "source": [
    "from Bio import SeqIO\n",
    "import pandas as pd\n",
    "import os\n",
    "import glob\n",
    "import seaborn as sns\n",
    "import matplotlib.pyplot as plt"
   ]
  },
  {
   "cell_type": "code",
   "execution_count": 2,
   "id": "69d5e26b-4105-4283-9b13-7a2acfb96bdd",
   "metadata": {},
   "outputs": [],
   "source": [
    "mcp_table = pd.read_csv('../Updated-RBP_V5_MCP.txt', sep='\\t')"
   ]
  },
  {
   "cell_type": "code",
   "execution_count": 3,
   "id": "832d4776-c97e-4ef6-a125-dabb016052b8",
   "metadata": {},
   "outputs": [],
   "source": [
    "def make_key(d):\n",
    "    return f'{d[\"Symbol\"]}_{\"_\".join([i.strip(\" \") for i in str(d[\"Accession\"]).replace(\".\", \"-\").split(\",\")])}'"
   ]
  },
  {
   "cell_type": "code",
   "execution_count": 4,
   "id": "f486a74c-3473-44be-8d87-52cd3a329207",
   "metadata": {},
   "outputs": [],
   "source": [
    "mcp_table['key'] = mcp_table.apply(make_key, axis=1)"
   ]
  },
  {
   "cell_type": "code",
   "execution_count": 5,
   "id": "44509024-0e67-4d0b-9d57-9a9821d7e9fa",
   "metadata": {},
   "outputs": [
    {
     "data": {
      "text/html": [
       "<div>\n",
       "<style scoped>\n",
       "    .dataframe tbody tr th:only-of-type {\n",
       "        vertical-align: middle;\n",
       "    }\n",
       "\n",
       "    .dataframe tbody tr th {\n",
       "        vertical-align: top;\n",
       "    }\n",
       "\n",
       "    .dataframe thead th {\n",
       "        text-align: right;\n",
       "    }\n",
       "</style>\n",
       "<table border=\"1\" class=\"dataframe\">\n",
       "  <thead>\n",
       "    <tr style=\"text-align: right;\">\n",
       "      <th></th>\n",
       "      <th>Plate Location</th>\n",
       "      <th>Symbol</th>\n",
       "      <th>Gene ID</th>\n",
       "      <th>Size</th>\n",
       "      <th>Accession</th>\n",
       "      <th>nt_sequence</th>\n",
       "      <th>aa_sequence</th>\n",
       "      <th>Backup 96wp</th>\n",
       "      <th>Midiprep</th>\n",
       "      <th>Jon_Miniprep</th>\n",
       "      <th>Jon_Miniprep_50ngul</th>\n",
       "      <th>Glycerol Stock</th>\n",
       "      <th>Dot Blot Validation</th>\n",
       "      <th>key</th>\n",
       "    </tr>\n",
       "  </thead>\n",
       "  <tbody>\n",
       "    <tr>\n",
       "      <th>0</th>\n",
       "      <td>GYRBP001.A01</td>\n",
       "      <td>CPNE3</td>\n",
       "      <td>8895.0</td>\n",
       "      <td>135.0</td>\n",
       "      <td>BC015734.1</td>\n",
       "      <td>ATGCTTGGAAACAGCATAGATATGTTGCTGTGGTTTTCAGAATTTT...</td>\n",
       "      <td>MLGNSIDMLLWFSEFSLLITRSLLKNDLHIFSCTVKQTEVSLSV</td>\n",
       "      <td>NaN</td>\n",
       "      <td>NaN</td>\n",
       "      <td>NaN</td>\n",
       "      <td>1</td>\n",
       "      <td>NaN</td>\n",
       "      <td>NaN</td>\n",
       "      <td>CPNE3_BC015734-1</td>\n",
       "    </tr>\n",
       "    <tr>\n",
       "      <th>1</th>\n",
       "      <td>GYRBP001.B01</td>\n",
       "      <td>RBMS1</td>\n",
       "      <td>5937.0</td>\n",
       "      <td>171.0</td>\n",
       "      <td>BC065192.1, BC080620.1</td>\n",
       "      <td>ATGTATGGACACACACAAACAAAAAAGCATGAAGGAAGATTTGGAT...</td>\n",
       "      <td>MYGHTQTKKHEGRFGSKQCHTLHHHYKCSSVKKTNFETMKFLIHKY...</td>\n",
       "      <td>NaN</td>\n",
       "      <td>NaN</td>\n",
       "      <td>NaN</td>\n",
       "      <td>1</td>\n",
       "      <td>NaN</td>\n",
       "      <td>NaN</td>\n",
       "      <td>RBMS1_BC065192-1_BC080620-1</td>\n",
       "    </tr>\n",
       "    <tr>\n",
       "      <th>2</th>\n",
       "      <td>GYRBP001.C01</td>\n",
       "      <td>NOP10</td>\n",
       "      <td>55505.0</td>\n",
       "      <td>195.0</td>\n",
       "      <td>BC008886.2</td>\n",
       "      <td>ATGTTTCTCCAGTATTACCTCAACGAGCAGGGAGATCGAGTCTATA...</td>\n",
       "      <td>MFLQYYLNEQGDRVYTLKKFDPMGQQTCSAHPARFSPDDKYSRHRI...</td>\n",
       "      <td>NaN</td>\n",
       "      <td>NaN</td>\n",
       "      <td>NaN</td>\n",
       "      <td>1</td>\n",
       "      <td>NaN</td>\n",
       "      <td>NaN</td>\n",
       "      <td>NOP10_BC008886-2</td>\n",
       "    </tr>\n",
       "    <tr>\n",
       "      <th>3</th>\n",
       "      <td>GYRBP001.D01</td>\n",
       "      <td>FNDC3B</td>\n",
       "      <td>64778.0</td>\n",
       "      <td>204.0</td>\n",
       "      <td>BC012204.1</td>\n",
       "      <td>ATGATGATGACCGACCAAATCCCTCTGGAACTGCCACCATTGCTGA...</td>\n",
       "      <td>MMMTDQIPLELPPLLNGEVAMMPHLVNGDAAQQVILVQVNPGETFT...</td>\n",
       "      <td>NaN</td>\n",
       "      <td>NaN</td>\n",
       "      <td>NaN</td>\n",
       "      <td>0</td>\n",
       "      <td>NaN</td>\n",
       "      <td>NaN</td>\n",
       "      <td>FNDC3B_BC012204-1</td>\n",
       "    </tr>\n",
       "    <tr>\n",
       "      <th>4</th>\n",
       "      <td>GYRBP001.E01</td>\n",
       "      <td>RPS28</td>\n",
       "      <td>6234.0</td>\n",
       "      <td>210.0</td>\n",
       "      <td>BC000354.1, BC021239.2</td>\n",
       "      <td>ATGGACACCAGCCGTGTGCAGCCTATCAAGCTGGCCAGGGTCACCA...</td>\n",
       "      <td>MDTSRVQPIKLARVTKVLGRTGSQGQCTQVRVEFMDDTSRSIIRNV...</td>\n",
       "      <td>NaN</td>\n",
       "      <td>NaN</td>\n",
       "      <td>NaN</td>\n",
       "      <td>1</td>\n",
       "      <td>NaN</td>\n",
       "      <td>NaN</td>\n",
       "      <td>RPS28_BC000354-1_BC021239-2</td>\n",
       "    </tr>\n",
       "  </tbody>\n",
       "</table>\n",
       "</div>"
      ],
      "text/plain": [
       "  Plate Location  Symbol  Gene ID   Size               Accession  \\\n",
       "0   GYRBP001.A01   CPNE3   8895.0  135.0              BC015734.1   \n",
       "1   GYRBP001.B01   RBMS1   5937.0  171.0  BC065192.1, BC080620.1   \n",
       "2   GYRBP001.C01   NOP10  55505.0  195.0              BC008886.2   \n",
       "3   GYRBP001.D01  FNDC3B  64778.0  204.0              BC012204.1   \n",
       "4   GYRBP001.E01   RPS28   6234.0  210.0  BC000354.1, BC021239.2   \n",
       "\n",
       "                                         nt_sequence  \\\n",
       "0  ATGCTTGGAAACAGCATAGATATGTTGCTGTGGTTTTCAGAATTTT...   \n",
       "1  ATGTATGGACACACACAAACAAAAAAGCATGAAGGAAGATTTGGAT...   \n",
       "2  ATGTTTCTCCAGTATTACCTCAACGAGCAGGGAGATCGAGTCTATA...   \n",
       "3  ATGATGATGACCGACCAAATCCCTCTGGAACTGCCACCATTGCTGA...   \n",
       "4  ATGGACACCAGCCGTGTGCAGCCTATCAAGCTGGCCAGGGTCACCA...   \n",
       "\n",
       "                                         aa_sequence  Backup 96wp  Midiprep  \\\n",
       "0       MLGNSIDMLLWFSEFSLLITRSLLKNDLHIFSCTVKQTEVSLSV          NaN       NaN   \n",
       "1  MYGHTQTKKHEGRFGSKQCHTLHHHYKCSSVKKTNFETMKFLIHKY...          NaN       NaN   \n",
       "2  MFLQYYLNEQGDRVYTLKKFDPMGQQTCSAHPARFSPDDKYSRHRI...          NaN       NaN   \n",
       "3  MMMTDQIPLELPPLLNGEVAMMPHLVNGDAAQQVILVQVNPGETFT...          NaN       NaN   \n",
       "4  MDTSRVQPIKLARVTKVLGRTGSQGQCTQVRVEFMDDTSRSIIRNV...          NaN       NaN   \n",
       "\n",
       "   Jon_Miniprep  Jon_Miniprep_50ngul  Glycerol Stock  Dot Blot Validation  \\\n",
       "0           NaN                    1             NaN                  NaN   \n",
       "1           NaN                    1             NaN                  NaN   \n",
       "2           NaN                    1             NaN                  NaN   \n",
       "3           NaN                    0             NaN                  NaN   \n",
       "4           NaN                    1             NaN                  NaN   \n",
       "\n",
       "                           key  \n",
       "0             CPNE3_BC015734-1  \n",
       "1  RBMS1_BC065192-1_BC080620-1  \n",
       "2             NOP10_BC008886-2  \n",
       "3            FNDC3B_BC012204-1  \n",
       "4  RPS28_BC000354-1_BC021239-2  "
      ]
     },
     "execution_count": 5,
     "metadata": {},
     "output_type": "execute_result"
    }
   ],
   "source": [
    "mcp_table.head()"
   ]
  },
  {
   "cell_type": "code",
   "execution_count": 6,
   "id": "2062b596-a386-4b16-ba6e-8eab95dd6f00",
   "metadata": {},
   "outputs": [],
   "source": [
    "downstream_activator = pd.read_csv('../downstream_positive_validation_mean_normalized.txt', sep='\\t')\n",
    "downstream_activator['key'] = downstream_activator.apply(make_key, axis=1)"
   ]
  },
  {
   "cell_type": "code",
   "execution_count": 7,
   "id": "cd0ad326-8c00-4868-af99-d0d4f6bca7d0",
   "metadata": {},
   "outputs": [],
   "source": [
    "upstream_activator = pd.read_csv('../upstream_positive_validation_mean_normalized.txt', sep='\\t')\n",
    "upstream_activator['key'] = upstream_activator.apply(make_key, axis=1)"
   ]
  },
  {
   "cell_type": "code",
   "execution_count": 8,
   "id": "596d0892-6894-460a-a922-0d4f228d5d57",
   "metadata": {},
   "outputs": [],
   "source": [
    "activators = set(downstream_activator['key']).union(set(upstream_activator['key']))"
   ]
  },
  {
   "cell_type": "code",
   "execution_count": 9,
   "id": "a346a842-a518-42fd-b779-c41ef0ca50c2",
   "metadata": {},
   "outputs": [],
   "source": [
    "mcp_table['Activator_label'] = mcp_table['key'].isin(activators)"
   ]
  },
  {
   "cell_type": "code",
   "execution_count": 10,
   "id": "567ed404-fc48-48f4-8699-4fe71d8d2db2",
   "metadata": {},
   "outputs": [],
   "source": [
    "mcp_table_filtered = mcp_table.dropna(subset='aa_sequence')"
   ]
  },
  {
   "cell_type": "code",
   "execution_count": 11,
   "id": "5f108b77-bf1d-4e8d-80f2-02b9b6ca8028",
   "metadata": {},
   "outputs": [],
   "source": [
    "background = set(pd.read_csv('background_accessions_may2025.txt', header=None)[0])"
   ]
  },
  {
   "cell_type": "code",
   "execution_count": 12,
   "id": "b8847b11-bfb0-4ca4-b5c5-7d0f260f4d4e",
   "metadata": {},
   "outputs": [],
   "source": [
    "mcp_table_filtered = mcp_table_filtered[mcp_table_filtered['key'].isin(background)]"
   ]
  },
  {
   "cell_type": "code",
   "execution_count": 13,
   "id": "12928cc7-f981-4f49-ae15-ca510eb5ef7c",
   "metadata": {},
   "outputs": [
    {
     "data": {
      "text/plain": [
       "Activator_label\n",
       "False    711\n",
       "True     169\n",
       "Name: count, dtype: int64"
      ]
     },
     "execution_count": 13,
     "metadata": {},
     "output_type": "execute_result"
    }
   ],
   "source": [
    "mcp_table_filtered['Activator_label'].value_counts()"
   ]
  },
  {
   "cell_type": "code",
   "execution_count": 14,
   "id": "38db5559-e328-43f3-88bd-b6052c2b3d5c",
   "metadata": {},
   "outputs": [],
   "source": [
    "mcp_table_filtered = mcp_table_filtered[['key',  'aa_sequence', 'Activator_label']].drop_duplicates('key')"
   ]
  },
  {
   "cell_type": "code",
   "execution_count": 15,
   "id": "b97ad0ac-10d8-41ff-b58c-cfa9a8c77323",
   "metadata": {},
   "outputs": [],
   "source": [
    "sequence_out = '/tscc/nfs/home/pjaganna1/projects/apa_screen_yongsheng/hydra_2/train_test_eval_noppipia/sequence_files_initial_eval_noppinopia'"
   ]
  },
  {
   "cell_type": "code",
   "execution_count": 16,
   "id": "9ed35f91-87aa-4665-b6dc-ee97483751cf",
   "metadata": {
    "scrolled": true
   },
   "outputs": [],
   "source": [
    "# for index, row in mcp_table_filtered.iterrows():\n",
    "#     file_name=f'{row[\"key\"]}.fasta'\n",
    "#     #print(file_name)\n",
    "#     with open(os.path.join(sequence_out, file_name), 'w') as sequence_out_file:\n",
    "#         sequence_out_file.write(f'>{row[\"key\"]}\\n')\n",
    "#         sequence_out_file.write(f'{row[\"aa_sequence\"]}\\n')\n"
   ]
  },
  {
   "cell_type": "code",
   "execution_count": 17,
   "id": "99b19a96-4eed-4ca2-bb39-5008c8c27983",
   "metadata": {},
   "outputs": [],
   "source": [
    "activators = mcp_table_filtered[mcp_table_filtered['Activator_label']==True]['key'].tolist()"
   ]
  },
  {
   "cell_type": "code",
   "execution_count": 18,
   "id": "1efba27f-c891-46d0-b35d-daf9e7760702",
   "metadata": {},
   "outputs": [],
   "source": [
    "# with open(f'activators.txt', 'w') as activators_file:\n",
    "#     for c in activators:\n",
    "#         activators_file.write(c + '\\n')"
   ]
  },
  {
   "cell_type": "code",
   "execution_count": 19,
   "id": "6e446a25-340f-41f3-af6f-6fccaf69280b",
   "metadata": {},
   "outputs": [],
   "source": [
    "similarity_df = pd.read_csv('/tscc/nfs/home/pjaganna1/projects/apa_screen_yongsheng/hydra_2/seq_similarity/result.m8', sep='\\t', header=None)"
   ]
  },
  {
   "cell_type": "code",
   "execution_count": 20,
   "id": "865ea536-89a0-4dec-b5f0-0b6cdeba8849",
   "metadata": {},
   "outputs": [],
   "source": [
    "pct = 0.8\n",
    "e_val = 1e-10\n",
    "\n",
    "similarity_df_filtered = similarity_df[(similarity_df[0] != similarity_df[1]) & (similarity_df[2] > pct) & (similarity_df[10] <e_val) ].sort_values(by=10, ascending=False)"
   ]
  },
  {
   "cell_type": "code",
   "execution_count": 21,
   "id": "342da008-8394-4c96-b4f0-a71406c2e788",
   "metadata": {},
   "outputs": [
    {
     "data": {
      "text/html": [
       "<div>\n",
       "<style scoped>\n",
       "    .dataframe tbody tr th:only-of-type {\n",
       "        vertical-align: middle;\n",
       "    }\n",
       "\n",
       "    .dataframe tbody tr th {\n",
       "        vertical-align: top;\n",
       "    }\n",
       "\n",
       "    .dataframe thead th {\n",
       "        text-align: right;\n",
       "    }\n",
       "</style>\n",
       "<table border=\"1\" class=\"dataframe\">\n",
       "  <thead>\n",
       "    <tr style=\"text-align: right;\">\n",
       "      <th></th>\n",
       "      <th>0</th>\n",
       "      <th>1</th>\n",
       "      <th>2</th>\n",
       "      <th>3</th>\n",
       "      <th>4</th>\n",
       "      <th>5</th>\n",
       "      <th>6</th>\n",
       "      <th>7</th>\n",
       "      <th>8</th>\n",
       "      <th>9</th>\n",
       "      <th>10</th>\n",
       "      <th>11</th>\n",
       "    </tr>\n",
       "  </thead>\n",
       "  <tbody>\n",
       "    <tr>\n",
       "      <th>699</th>\n",
       "      <td>NDUFV3_BC021217-2</td>\n",
       "      <td>NDUFV3_BC033766-1</td>\n",
       "      <td>0.962</td>\n",
       "      <td>53</td>\n",
       "      <td>2</td>\n",
       "      <td>0</td>\n",
       "      <td>421</td>\n",
       "      <td>473</td>\n",
       "      <td>56</td>\n",
       "      <td>108</td>\n",
       "      <td>2.449000e-27</td>\n",
       "      <td>113</td>\n",
       "    </tr>\n",
       "    <tr>\n",
       "      <th>344</th>\n",
       "      <td>NDUFV3_BC033766-1</td>\n",
       "      <td>NDUFV3_BC021217-2</td>\n",
       "      <td>1.000</td>\n",
       "      <td>51</td>\n",
       "      <td>0</td>\n",
       "      <td>0</td>\n",
       "      <td>58</td>\n",
       "      <td>108</td>\n",
       "      <td>423</td>\n",
       "      <td>473</td>\n",
       "      <td>2.274000e-31</td>\n",
       "      <td>113</td>\n",
       "    </tr>\n",
       "    <tr>\n",
       "      <th>1249</th>\n",
       "      <td>SRSF8_BC057783-1</td>\n",
       "      <td>SRSF2_BC066958-1</td>\n",
       "      <td>0.810</td>\n",
       "      <td>79</td>\n",
       "      <td>15</td>\n",
       "      <td>0</td>\n",
       "      <td>1</td>\n",
       "      <td>79</td>\n",
       "      <td>1</td>\n",
       "      <td>79</td>\n",
       "      <td>3.329000e-37</td>\n",
       "      <td>138</td>\n",
       "    </tr>\n",
       "    <tr>\n",
       "      <th>1224</th>\n",
       "      <td>SRSF2_BC066958-1</td>\n",
       "      <td>SRSF8_BC057783-1</td>\n",
       "      <td>0.810</td>\n",
       "      <td>79</td>\n",
       "      <td>15</td>\n",
       "      <td>0</td>\n",
       "      <td>1</td>\n",
       "      <td>79</td>\n",
       "      <td>1</td>\n",
       "      <td>79</td>\n",
       "      <td>2.049000e-38</td>\n",
       "      <td>137</td>\n",
       "    </tr>\n",
       "    <tr>\n",
       "      <th>1124</th>\n",
       "      <td>RBBP6_BC172357</td>\n",
       "      <td>RBBP6_BC029352-1</td>\n",
       "      <td>0.990</td>\n",
       "      <td>102</td>\n",
       "      <td>1</td>\n",
       "      <td>0</td>\n",
       "      <td>1</td>\n",
       "      <td>102</td>\n",
       "      <td>1</td>\n",
       "      <td>102</td>\n",
       "      <td>3.210000e-54</td>\n",
       "      <td>206</td>\n",
       "    </tr>\n",
       "  </tbody>\n",
       "</table>\n",
       "</div>"
      ],
      "text/plain": [
       "                     0                  1      2    3   4   5    6    7    8   \\\n",
       "699   NDUFV3_BC021217-2  NDUFV3_BC033766-1  0.962   53   2   0  421  473   56   \n",
       "344   NDUFV3_BC033766-1  NDUFV3_BC021217-2  1.000   51   0   0   58  108  423   \n",
       "1249   SRSF8_BC057783-1   SRSF2_BC066958-1  0.810   79  15   0    1   79    1   \n",
       "1224   SRSF2_BC066958-1   SRSF8_BC057783-1  0.810   79  15   0    1   79    1   \n",
       "1124     RBBP6_BC172357   RBBP6_BC029352-1  0.990  102   1   0    1  102    1   \n",
       "\n",
       "       9             10   11  \n",
       "699   108  2.449000e-27  113  \n",
       "344   473  2.274000e-31  113  \n",
       "1249   79  3.329000e-37  138  \n",
       "1224   79  2.049000e-38  137  \n",
       "1124  102  3.210000e-54  206  "
      ]
     },
     "execution_count": 21,
     "metadata": {},
     "output_type": "execute_result"
    }
   ],
   "source": [
    "similarity_df_filtered.head()"
   ]
  },
  {
   "cell_type": "code",
   "execution_count": 22,
   "id": "95fa434d-468e-448e-bd50-06c51d1ca253",
   "metadata": {},
   "outputs": [],
   "source": [
    "sim_seq_proteins = set(similarity_df_filtered[0]).union(similarity_df_filtered[1])"
   ]
  },
  {
   "cell_type": "code",
   "execution_count": 23,
   "id": "29042fb5-7691-44cf-a404-bad26357261f",
   "metadata": {},
   "outputs": [
    {
     "data": {
      "text/plain": [
       "235"
      ]
     },
     "execution_count": 23,
     "metadata": {},
     "output_type": "execute_result"
    }
   ],
   "source": [
    "len(sim_seq_proteins)"
   ]
  },
  {
   "cell_type": "code",
   "execution_count": 24,
   "id": "9445126e-0e4b-4773-bec9-49542a6efedc",
   "metadata": {},
   "outputs": [],
   "source": [
    "similarity_df_filtered['gene1_activator_label'] = similarity_df_filtered.apply(lambda x: 1 if x[0] in activators else 0, axis=1)\n",
    "similarity_df_filtered['gene2_activator_label'] = similarity_df_filtered.apply(lambda x: 1 if x[1] in activators else 0, axis=1)"
   ]
  },
  {
   "cell_type": "code",
   "execution_count": 25,
   "id": "3bd388f7-14a3-4ad7-8d7a-048d1006c422",
   "metadata": {},
   "outputs": [],
   "source": [
    "def are_both_activators(df):\n",
    "    if df['gene1_activator_label'] ==0 and df['gene2_activator_label']==0:\n",
    "        return 'neither'\n",
    "    elif (df['gene1_activator_label'] ==1 and df['gene2_activator_label']==0) or (df['gene1_activator_label'] ==0 and df['gene2_activator_label']==1):\n",
    "        return 'one'\n",
    "    else:\n",
    "        return 'both'"
   ]
  },
  {
   "cell_type": "code",
   "execution_count": 26,
   "id": "c24a570a-33ca-48e9-8a57-ab6157d9ae25",
   "metadata": {},
   "outputs": [],
   "source": [
    "similarity_df_filtered['pair_key'] = similarity_df_filtered.apply(lambda row: tuple(sorted([row[0], row[1]])), axis=1)"
   ]
  },
  {
   "cell_type": "code",
   "execution_count": 27,
   "id": "1c871fd1-b566-4c92-a723-b38e1564a615",
   "metadata": {},
   "outputs": [],
   "source": [
    "similarity_df_filtered_unique_pairs = similarity_df_filtered.drop_duplicates(subset='pair_key').drop(columns='pair_key')"
   ]
  },
  {
   "cell_type": "code",
   "execution_count": 28,
   "id": "9780a91f-0baf-4197-a9e8-cf5d5a67516e",
   "metadata": {},
   "outputs": [],
   "source": [
    "similarity_df_filtered_unique_pairs['are_both'] = similarity_df_filtered_unique_pairs.apply(are_both_activators, axis=1)"
   ]
  },
  {
   "cell_type": "code",
   "execution_count": 29,
   "id": "db2eb647-99ef-4bfa-89e0-d205867fcaad",
   "metadata": {},
   "outputs": [
    {
     "data": {
      "text/plain": [
       "<Axes: ylabel='are_both'>"
      ]
     },
     "execution_count": 29,
     "metadata": {},
     "output_type": "execute_result"
    },
    {
     "data": {
      "image/png": "[encoded data removed]",
      "text/plain": [
       "<Figure size 300x200 with 1 Axes>"
      ]
     },
     "metadata": {},
     "output_type": "display_data"
    }
   ],
   "source": [
    "plt.figure(figsize=(3, 2))\n",
    "similarity_df_filtered_unique_pairs['are_both'].value_counts().plot.barh(color='black')"
   ]
  },
  {
   "cell_type": "code",
   "execution_count": 30,
   "id": "9dc8bc9d-1035-4d4c-a0a2-0d1cff1da36a",
   "metadata": {},
   "outputs": [
    {
     "data": {
      "text/html": [
       "<div>\n",
       "<style scoped>\n",
       "    .dataframe tbody tr th:only-of-type {\n",
       "        vertical-align: middle;\n",
       "    }\n",
       "\n",
       "    .dataframe tbody tr th {\n",
       "        vertical-align: top;\n",
       "    }\n",
       "\n",
       "    .dataframe thead th {\n",
       "        text-align: right;\n",
       "    }\n",
       "</style>\n",
       "<table border=\"1\" class=\"dataframe\">\n",
       "  <thead>\n",
       "    <tr style=\"text-align: right;\">\n",
       "      <th></th>\n",
       "      <th>0</th>\n",
       "      <th>1</th>\n",
       "      <th>2</th>\n",
       "      <th>3</th>\n",
       "      <th>4</th>\n",
       "      <th>5</th>\n",
       "      <th>6</th>\n",
       "      <th>7</th>\n",
       "      <th>8</th>\n",
       "      <th>9</th>\n",
       "      <th>10</th>\n",
       "      <th>11</th>\n",
       "      <th>gene1_activator_label</th>\n",
       "      <th>gene2_activator_label</th>\n",
       "      <th>pair_key</th>\n",
       "    </tr>\n",
       "  </thead>\n",
       "  <tbody>\n",
       "    <tr>\n",
       "      <th>699</th>\n",
       "      <td>NDUFV3_BC021217-2</td>\n",
       "      <td>NDUFV3_BC033766-1</td>\n",
       "      <td>0.962</td>\n",
       "      <td>53</td>\n",
       "      <td>2</td>\n",
       "      <td>0</td>\n",
       "      <td>421</td>\n",
       "      <td>473</td>\n",
       "      <td>56</td>\n",
       "      <td>108</td>\n",
       "      <td>2.449000e-27</td>\n",
       "      <td>113</td>\n",
       "      <td>0</td>\n",
       "      <td>0</td>\n",
       "      <td>(NDUFV3_BC021217-2, NDUFV3_BC033766-1)</td>\n",
       "    </tr>\n",
       "    <tr>\n",
       "      <th>344</th>\n",
       "      <td>NDUFV3_BC033766-1</td>\n",
       "      <td>NDUFV3_BC021217-2</td>\n",
       "      <td>1.000</td>\n",
       "      <td>51</td>\n",
       "      <td>0</td>\n",
       "      <td>0</td>\n",
       "      <td>58</td>\n",
       "      <td>108</td>\n",
       "      <td>423</td>\n",
       "      <td>473</td>\n",
       "      <td>2.274000e-31</td>\n",
       "      <td>113</td>\n",
       "      <td>0</td>\n",
       "      <td>0</td>\n",
       "      <td>(NDUFV3_BC021217-2, NDUFV3_BC033766-1)</td>\n",
       "    </tr>\n",
       "    <tr>\n",
       "      <th>1249</th>\n",
       "      <td>SRSF8_BC057783-1</td>\n",
       "      <td>SRSF2_BC066958-1</td>\n",
       "      <td>0.810</td>\n",
       "      <td>79</td>\n",
       "      <td>15</td>\n",
       "      <td>0</td>\n",
       "      <td>1</td>\n",
       "      <td>79</td>\n",
       "      <td>1</td>\n",
       "      <td>79</td>\n",
       "      <td>3.329000e-37</td>\n",
       "      <td>138</td>\n",
       "      <td>1</td>\n",
       "      <td>1</td>\n",
       "      <td>(SRSF2_BC066958-1, SRSF8_BC057783-1)</td>\n",
       "    </tr>\n",
       "    <tr>\n",
       "      <th>1224</th>\n",
       "      <td>SRSF2_BC066958-1</td>\n",
       "      <td>SRSF8_BC057783-1</td>\n",
       "      <td>0.810</td>\n",
       "      <td>79</td>\n",
       "      <td>15</td>\n",
       "      <td>0</td>\n",
       "      <td>1</td>\n",
       "      <td>79</td>\n",
       "      <td>1</td>\n",
       "      <td>79</td>\n",
       "      <td>2.049000e-38</td>\n",
       "      <td>137</td>\n",
       "      <td>1</td>\n",
       "      <td>1</td>\n",
       "      <td>(SRSF2_BC066958-1, SRSF8_BC057783-1)</td>\n",
       "    </tr>\n",
       "    <tr>\n",
       "      <th>1124</th>\n",
       "      <td>RBBP6_BC172357</td>\n",
       "      <td>RBBP6_BC029352-1</td>\n",
       "      <td>0.990</td>\n",
       "      <td>102</td>\n",
       "      <td>1</td>\n",
       "      <td>0</td>\n",
       "      <td>1</td>\n",
       "      <td>102</td>\n",
       "      <td>1</td>\n",
       "      <td>102</td>\n",
       "      <td>3.210000e-54</td>\n",
       "      <td>206</td>\n",
       "      <td>0</td>\n",
       "      <td>1</td>\n",
       "      <td>(RBBP6_BC029352-1, RBBP6_BC172357)</td>\n",
       "    </tr>\n",
       "    <tr>\n",
       "      <th>...</th>\n",
       "      <td>...</td>\n",
       "      <td>...</td>\n",
       "      <td>...</td>\n",
       "      <td>...</td>\n",
       "      <td>...</td>\n",
       "      <td>...</td>\n",
       "      <td>...</td>\n",
       "      <td>...</td>\n",
       "      <td>...</td>\n",
       "      <td>...</td>\n",
       "      <td>...</td>\n",
       "      <td>...</td>\n",
       "      <td>...</td>\n",
       "      <td>...</td>\n",
       "      <td>...</td>\n",
       "    </tr>\n",
       "    <tr>\n",
       "      <th>296</th>\n",
       "      <td>HSP90AB1_BC004928-1_BC012807-2</td>\n",
       "      <td>HSP90AA1_BC121062-2</td>\n",
       "      <td>0.857</td>\n",
       "      <td>732</td>\n",
       "      <td>103</td>\n",
       "      <td>0</td>\n",
       "      <td>1</td>\n",
       "      <td>724</td>\n",
       "      <td>1</td>\n",
       "      <td>732</td>\n",
       "      <td>0.000000e+00</td>\n",
       "      <td>1227</td>\n",
       "      <td>0</td>\n",
       "      <td>0</td>\n",
       "      <td>(HSP90AA1_BC121062-2, HSP90AB1_BC004928-1_BC01...</td>\n",
       "    </tr>\n",
       "    <tr>\n",
       "      <th>1045</th>\n",
       "      <td>EIF2C2_BC018727-1</td>\n",
       "      <td>EIF2C1_BC063275-1</td>\n",
       "      <td>0.873</td>\n",
       "      <td>585</td>\n",
       "      <td>74</td>\n",
       "      <td>0</td>\n",
       "      <td>1</td>\n",
       "      <td>585</td>\n",
       "      <td>273</td>\n",
       "      <td>857</td>\n",
       "      <td>0.000000e+00</td>\n",
       "      <td>1083</td>\n",
       "      <td>0</td>\n",
       "      <td>0</td>\n",
       "      <td>(EIF2C1_BC063275-1, EIF2C2_BC018727-1)</td>\n",
       "    </tr>\n",
       "    <tr>\n",
       "      <th>1052</th>\n",
       "      <td>TSR1_BC019090-2</td>\n",
       "      <td>TSR1_BC126110-1</td>\n",
       "      <td>0.998</td>\n",
       "      <td>656</td>\n",
       "      <td>1</td>\n",
       "      <td>0</td>\n",
       "      <td>1</td>\n",
       "      <td>656</td>\n",
       "      <td>149</td>\n",
       "      <td>804</td>\n",
       "      <td>0.000000e+00</td>\n",
       "      <td>1324</td>\n",
       "      <td>0</td>\n",
       "      <td>0</td>\n",
       "      <td>(TSR1_BC019090-2, TSR1_BC126110-1)</td>\n",
       "    </tr>\n",
       "    <tr>\n",
       "      <th>32</th>\n",
       "      <td>RBM26_BC111697-1</td>\n",
       "      <td>RBM26_BC041655-1</td>\n",
       "      <td>0.996</td>\n",
       "      <td>983</td>\n",
       "      <td>4</td>\n",
       "      <td>0</td>\n",
       "      <td>1</td>\n",
       "      <td>983</td>\n",
       "      <td>1</td>\n",
       "      <td>980</td>\n",
       "      <td>0.000000e+00</td>\n",
       "      <td>1862</td>\n",
       "      <td>0</td>\n",
       "      <td>0</td>\n",
       "      <td>(RBM26_BC041655-1, RBM26_BC111697-1)</td>\n",
       "    </tr>\n",
       "    <tr>\n",
       "      <th>531</th>\n",
       "      <td>EIF2C1_BC063275-1</td>\n",
       "      <td>EIF2C2_BC018727-1</td>\n",
       "      <td>0.873</td>\n",
       "      <td>585</td>\n",
       "      <td>74</td>\n",
       "      <td>0</td>\n",
       "      <td>273</td>\n",
       "      <td>857</td>\n",
       "      <td>1</td>\n",
       "      <td>585</td>\n",
       "      <td>0.000000e+00</td>\n",
       "      <td>1085</td>\n",
       "      <td>0</td>\n",
       "      <td>0</td>\n",
       "      <td>(EIF2C1_BC063275-1, EIF2C2_BC018727-1)</td>\n",
       "    </tr>\n",
       "  </tbody>\n",
       "</table>\n",
       "<p>272 rows × 15 columns</p>\n",
       "</div>"
      ],
      "text/plain": [
       "                                   0                    1      2    3    4  5  \\\n",
       "699                NDUFV3_BC021217-2    NDUFV3_BC033766-1  0.962   53    2  0   \n",
       "344                NDUFV3_BC033766-1    NDUFV3_BC021217-2  1.000   51    0  0   \n",
       "1249                SRSF8_BC057783-1     SRSF2_BC066958-1  0.810   79   15  0   \n",
       "1224                SRSF2_BC066958-1     SRSF8_BC057783-1  0.810   79   15  0   \n",
       "1124                  RBBP6_BC172357     RBBP6_BC029352-1  0.990  102    1  0   \n",
       "...                              ...                  ...    ...  ...  ... ..   \n",
       "296   HSP90AB1_BC004928-1_BC012807-2  HSP90AA1_BC121062-2  0.857  732  103  0   \n",
       "1045               EIF2C2_BC018727-1    EIF2C1_BC063275-1  0.873  585   74  0   \n",
       "1052                 TSR1_BC019090-2      TSR1_BC126110-1  0.998  656    1  0   \n",
       "32                  RBM26_BC111697-1     RBM26_BC041655-1  0.996  983    4  0   \n",
       "531                EIF2C1_BC063275-1    EIF2C2_BC018727-1  0.873  585   74  0   \n",
       "\n",
       "        6    7    8    9            10    11  gene1_activator_label  \\\n",
       "699   421  473   56  108  2.449000e-27   113                      0   \n",
       "344    58  108  423  473  2.274000e-31   113                      0   \n",
       "1249    1   79    1   79  3.329000e-37   138                      1   \n",
       "1224    1   79    1   79  2.049000e-38   137                      1   \n",
       "1124    1  102    1  102  3.210000e-54   206                      0   \n",
       "...   ...  ...  ...  ...           ...   ...                    ...   \n",
       "296     1  724    1  732  0.000000e+00  1227                      0   \n",
       "1045    1  585  273  857  0.000000e+00  1083                      0   \n",
       "1052    1  656  149  804  0.000000e+00  1324                      0   \n",
       "32      1  983    1  980  0.000000e+00  1862                      0   \n",
       "531   273  857    1  585  0.000000e+00  1085                      0   \n",
       "\n",
       "      gene2_activator_label                                           pair_key  \n",
       "699                       0             (NDUFV3_BC021217-2, NDUFV3_BC033766-1)  \n",
       "344                       0             (NDUFV3_BC021217-2, NDUFV3_BC033766-1)  \n",
       "1249                      1               (SRSF2_BC066958-1, SRSF8_BC057783-1)  \n",
       "1224                      1               (SRSF2_BC066958-1, SRSF8_BC057783-1)  \n",
       "1124                      1                 (RBBP6_BC029352-1, RBBP6_BC172357)  \n",
       "...                     ...                                                ...  \n",
       "296                       0  (HSP90AA1_BC121062-2, HSP90AB1_BC004928-1_BC01...  \n",
       "1045                      0             (EIF2C1_BC063275-1, EIF2C2_BC018727-1)  \n",
       "1052                      0                 (TSR1_BC019090-2, TSR1_BC126110-1)  \n",
       "32                        0               (RBM26_BC041655-1, RBM26_BC111697-1)  \n",
       "531                       0             (EIF2C1_BC063275-1, EIF2C2_BC018727-1)  \n",
       "\n",
       "[272 rows x 15 columns]"
      ]
     },
     "execution_count": 30,
     "metadata": {},
     "output_type": "execute_result"
    }
   ],
   "source": [
    "similarity_df_filtered"
   ]
  },
  {
   "cell_type": "code",
   "execution_count": 31,
   "id": "1da3378c-9ec4-4796-ae1c-70f9c1336d1e",
   "metadata": {},
   "outputs": [],
   "source": [
    "from sklearn.model_selection import StratifiedKFold, train_test_split"
   ]
  },
  {
   "cell_type": "code",
   "execution_count": 32,
   "id": "f72f6f9e-92d6-4fbc-be7c-385018bcc0c5",
   "metadata": {},
   "outputs": [],
   "source": [
    "train_test_out_10 = '/tscc/nfs/home/pjaganna1/projects/apa_screen_yongsheng/hydra_2/train_test_eval_noppipia/train_eval_out_10_nosim_wheldout/'"
   ]
  },
  {
   "cell_type": "code",
   "execution_count": 33,
   "id": "cbd8ab79-db77-43b5-8261-1fb2d4c5ad84",
   "metadata": {},
   "outputs": [],
   "source": [
    "label_table = mcp_table_filtered[~mcp_table_filtered['key'].isin(sim_seq_proteins)][['key', \"Activator_label\"]].copy()"
   ]
  },
  {
   "cell_type": "code",
   "execution_count": 34,
   "id": "4aefaeff-d2b3-45f6-9dda-91ef94d30671",
   "metadata": {},
   "outputs": [],
   "source": [
    "label_table_final, held_out = train_test_split(\n",
    "    label_table, test_size=0.1, stratify=label_table['Activator_label'], random_state=42\n",
    ")"
   ]
  },
  {
   "cell_type": "code",
   "execution_count": 35,
   "id": "498d7f25-e64a-4bba-b589-8381dc3089e1",
   "metadata": {},
   "outputs": [
    {
     "data": {
      "text/plain": [
       "(572, 2)"
      ]
     },
     "execution_count": 35,
     "metadata": {},
     "output_type": "execute_result"
    }
   ],
   "source": [
    "label_table_final.shape"
   ]
  },
  {
   "cell_type": "code",
   "execution_count": 36,
   "id": "1707ce84-6b75-4323-8df2-c34e14d1e23a",
   "metadata": {},
   "outputs": [
    {
     "data": {
      "text/plain": [
       "(64, 2)"
      ]
     },
     "execution_count": 36,
     "metadata": {},
     "output_type": "execute_result"
    }
   ],
   "source": [
    "held_out.shape"
   ]
  },
  {
   "cell_type": "code",
   "execution_count": 43,
   "id": "f52f6dfd-a08e-487e-a989-b9ed8d0e6bfe",
   "metadata": {},
   "outputs": [],
   "source": [
    "#held_out.to_csv('./train_eval_out_10_nosim_wheldout/RBP_train_test_eval_bkg_corrected_nosim_heldout.tsv', sep='\\t', index=False)"
   ]
  },
  {
   "cell_type": "code",
   "execution_count": 39,
   "id": "b43ea720-8222-4d33-9e79-9e5a4db62037",
   "metadata": {},
   "outputs": [],
   "source": [
    "def stratified_k_fold_split(num_splits, train_test_out):\n",
    "    # Prepare for stratified k-fold\n",
    "    skf = StratifiedKFold(n_splits=num_splits, shuffle=True, random_state=42)\n",
    "    \n",
    "    for fold, (train_idx, test_idx) in enumerate(skf.split(label_table_final['key'], label_table_final['Activator_label'])):\n",
    "        train_ids = label_table_final.iloc[train_idx]['key']\n",
    "        test_ids = label_table_final.iloc[test_idx]['key']\n",
    "        \n",
    "        # Save to text files (one UniProt ID per line)\n",
    "        train_ids.to_csv(os.path.join(train_test_out, f\"fold_{fold}_train.txt\"), index=False, header=False)\n",
    "        test_ids.to_csv(os.path.join(train_test_out, f\"fold_{fold}_test.txt\"), index=False, header=False)"
   ]
  },
  {
   "cell_type": "code",
   "execution_count": 40,
   "id": "9c454097-4572-48b2-b49b-f3b42759d5a6",
   "metadata": {},
   "outputs": [],
   "source": [
    "def train_eval_commands(num_splits, train_test_out):\n",
    "    for i in range(num_splits):\n",
    "        cmd = f'HydRa2_train_eval --model_name fold_{i} ' \n",
    "        cmd += f'--model_outdir {train_test_out}/fold_{i} '\n",
    "        cmd += f'-s /tscc/nfs/home/pjaganna1/projects/apa_screen_yongsheng/hydra_2/train_test_eval_noppipia/sequence_files_initial_eval_noppinopia/ '\n",
    "        cmd += f'--train_list {os.path.join(train_test_out, f\"fold_{i}_train.txt\")} '\n",
    "        cmd += f'--test_list {os.path.join(train_test_out, f\"fold_{i}_test.txt\")} '\n",
    "        cmd += f'--no-PIA '\n",
    "        cmd += f'--no-PPA '\n",
    "        cmd += f'--RBP_list /tscc/nfs/home/pjaganna1/projects/apa_screen_yongsheng/hydra_2/train_test_eval_noppipia/activators.txt '\n",
    "        cmd += f'--ProteinBERT_pretrainedBeforeFinetune_model /tscc/nfs/home/wjin/projects/RBP_pred/RBP_identification/HydRa2.0/data/ProteinBERT/default.pkl'\n",
    "    \n",
    "        print(cmd)\n",
    "        print()\n",
    "    \n",
    "    "
   ]
  },
  {
   "cell_type": "code",
   "execution_count": 41,
   "id": "80d61869-040c-4e78-af31-69c0c18d6307",
   "metadata": {},
   "outputs": [],
   "source": [
    "stratified_k_fold_split(10, train_test_out_10)"
   ]
  },
  {
   "cell_type": "code",
   "execution_count": 42,
   "id": "b0708fbb-4064-471b-a135-f6deb370fb3b",
   "metadata": {},
   "outputs": [
    {
     "name": "stdout",
     "output_type": "stream",
     "text": [
      "HydRa2_train_eval --model_name fold_0 --model_outdir /tscc/nfs/home/pjaganna1/projects/apa_screen_yongsheng/hydra_2/train_test_eval_noppipia/train_eval_out_10_nosim_wheldout//fold_0 -s /tscc/nfs/home/pjaganna1/projects/apa_screen_yongsheng/hydra_2/train_test_eval_noppipia/sequence_files_initial_eval_noppinopia/ --train_list /tscc/nfs/home/pjaganna1/projects/apa_screen_yongsheng/hydra_2/train_test_eval_noppipia/train_eval_out_10_nosim_wheldout/fold_0_train.txt --test_list /tscc/nfs/home/pjaganna1/projects/apa_screen_yongsheng/hydra_2/train_test_eval_noppipia/train_eval_out_10_nosim_wheldout/fold_0_test.txt --no-PIA --no-PPA --RBP_list /tscc/nfs/home/pjaganna1/projects/apa_screen_yongsheng/hydra_2/train_test_eval_noppipia/activators.txt --ProteinBERT_pretrainedBeforeFinetune_model /tscc/nfs/home/wjin/projects/RBP_pred/RBP_identification/HydRa2.0/data/ProteinBERT/default.pkl\n",
      "\n",
      "HydRa2_train_eval --model_name fold_1 --model_outdir /tscc/nfs/home/pjaganna1/projects/apa_screen_yongsheng/hydra_2/train_test_eval_noppipia/train_eval_out_10_nosim_wheldout//fold_1 -s /tscc/nfs/home/pjaganna1/projects/apa_screen_yongsheng/hydra_2/train_test_eval_noppipia/sequence_files_initial_eval_noppinopia/ --train_list /tscc/nfs/home/pjaganna1/projects/apa_screen_yongsheng/hydra_2/train_test_eval_noppipia/train_eval_out_10_nosim_wheldout/fold_1_train.txt --test_list /tscc/nfs/home/pjaganna1/projects/apa_screen_yongsheng/hydra_2/train_test_eval_noppipia/train_eval_out_10_nosim_wheldout/fold_1_test.txt --no-PIA --no-PPA --RBP_list /tscc/nfs/home/pjaganna1/projects/apa_screen_yongsheng/hydra_2/train_test_eval_noppipia/activators.txt --ProteinBERT_pretrainedBeforeFinetune_model /tscc/nfs/home/wjin/projects/RBP_pred/RBP_identification/HydRa2.0/data/ProteinBERT/default.pkl\n",
      "\n",
      "HydRa2_train_eval --model_name fold_2 --model_outdir /tscc/nfs/home/pjaganna1/projects/apa_screen_yongsheng/hydra_2/train_test_eval_noppipia/train_eval_out_10_nosim_wheldout//fold_2 -s /tscc/nfs/home/pjaganna1/projects/apa_screen_yongsheng/hydra_2/train_test_eval_noppipia/sequence_files_initial_eval_noppinopia/ --train_list /tscc/nfs/home/pjaganna1/projects/apa_screen_yongsheng/hydra_2/train_test_eval_noppipia/train_eval_out_10_nosim_wheldout/fold_2_train.txt --test_list /tscc/nfs/home/pjaganna1/projects/apa_screen_yongsheng/hydra_2/train_test_eval_noppipia/train_eval_out_10_nosim_wheldout/fold_2_test.txt --no-PIA --no-PPA --RBP_list /tscc/nfs/home/pjaganna1/projects/apa_screen_yongsheng/hydra_2/train_test_eval_noppipia/activators.txt --ProteinBERT_pretrainedBeforeFinetune_model /tscc/nfs/home/wjin/projects/RBP_pred/RBP_identification/HydRa2.0/data/ProteinBERT/default.pkl\n",
      "\n",
      "HydRa2_train_eval --model_name fold_3 --model_outdir /tscc/nfs/home/pjaganna1/projects/apa_screen_yongsheng/hydra_2/train_test_eval_noppipia/train_eval_out_10_nosim_wheldout//fold_3 -s /tscc/nfs/home/pjaganna1/projects/apa_screen_yongsheng/hydra_2/train_test_eval_noppipia/sequence_files_initial_eval_noppinopia/ --train_list /tscc/nfs/home/pjaganna1/projects/apa_screen_yongsheng/hydra_2/train_test_eval_noppipia/train_eval_out_10_nosim_wheldout/fold_3_train.txt --test_list /tscc/nfs/home/pjaganna1/projects/apa_screen_yongsheng/hydra_2/train_test_eval_noppipia/train_eval_out_10_nosim_wheldout/fold_3_test.txt --no-PIA --no-PPA --RBP_list /tscc/nfs/home/pjaganna1/projects/apa_screen_yongsheng/hydra_2/train_test_eval_noppipia/activators.txt --ProteinBERT_pretrainedBeforeFinetune_model /tscc/nfs/home/wjin/projects/RBP_pred/RBP_identification/HydRa2.0/data/ProteinBERT/default.pkl\n",
      "\n",
      "HydRa2_train_eval --model_name fold_4 --model_outdir /tscc/nfs/home/pjaganna1/projects/apa_screen_yongsheng/hydra_2/train_test_eval_noppipia/train_eval_out_10_nosim_wheldout//fold_4 -s /tscc/nfs/home/pjaganna1/projects/apa_screen_yongsheng/hydra_2/train_test_eval_noppipia/sequence_files_initial_eval_noppinopia/ --train_list /tscc/nfs/home/pjaganna1/projects/apa_screen_yongsheng/hydra_2/train_test_eval_noppipia/train_eval_out_10_nosim_wheldout/fold_4_train.txt --test_list /tscc/nfs/home/pjaganna1/projects/apa_screen_yongsheng/hydra_2/train_test_eval_noppipia/train_eval_out_10_nosim_wheldout/fold_4_test.txt --no-PIA --no-PPA --RBP_list /tscc/nfs/home/pjaganna1/projects/apa_screen_yongsheng/hydra_2/train_test_eval_noppipia/activators.txt --ProteinBERT_pretrainedBeforeFinetune_model /tscc/nfs/home/wjin/projects/RBP_pred/RBP_identification/HydRa2.0/data/ProteinBERT/default.pkl\n",
      "\n",
      "HydRa2_train_eval --model_name fold_5 --model_outdir /tscc/nfs/home/pjaganna1/projects/apa_screen_yongsheng/hydra_2/train_test_eval_noppipia/train_eval_out_10_nosim_wheldout//fold_5 -s /tscc/nfs/home/pjaganna1/projects/apa_screen_yongsheng/hydra_2/train_test_eval_noppipia/sequence_files_initial_eval_noppinopia/ --train_list /tscc/nfs/home/pjaganna1/projects/apa_screen_yongsheng/hydra_2/train_test_eval_noppipia/train_eval_out_10_nosim_wheldout/fold_5_train.txt --test_list /tscc/nfs/home/pjaganna1/projects/apa_screen_yongsheng/hydra_2/train_test_eval_noppipia/train_eval_out_10_nosim_wheldout/fold_5_test.txt --no-PIA --no-PPA --RBP_list /tscc/nfs/home/pjaganna1/projects/apa_screen_yongsheng/hydra_2/train_test_eval_noppipia/activators.txt --ProteinBERT_pretrainedBeforeFinetune_model /tscc/nfs/home/wjin/projects/RBP_pred/RBP_identification/HydRa2.0/data/ProteinBERT/default.pkl\n",
      "\n",
      "HydRa2_train_eval --model_name fold_6 --model_outdir /tscc/nfs/home/pjaganna1/projects/apa_screen_yongsheng/hydra_2/train_test_eval_noppipia/train_eval_out_10_nosim_wheldout//fold_6 -s /tscc/nfs/home/pjaganna1/projects/apa_screen_yongsheng/hydra_2/train_test_eval_noppipia/sequence_files_initial_eval_noppinopia/ --train_list /tscc/nfs/home/pjaganna1/projects/apa_screen_yongsheng/hydra_2/train_test_eval_noppipia/train_eval_out_10_nosim_wheldout/fold_6_train.txt --test_list /tscc/nfs/home/pjaganna1/projects/apa_screen_yongsheng/hydra_2/train_test_eval_noppipia/train_eval_out_10_nosim_wheldout/fold_6_test.txt --no-PIA --no-PPA --RBP_list /tscc/nfs/home/pjaganna1/projects/apa_screen_yongsheng/hydra_2/train_test_eval_noppipia/activators.txt --ProteinBERT_pretrainedBeforeFinetune_model /tscc/nfs/home/wjin/projects/RBP_pred/RBP_identification/HydRa2.0/data/ProteinBERT/default.pkl\n",
      "\n",
      "HydRa2_train_eval --model_name fold_7 --model_outdir /tscc/nfs/home/pjaganna1/projects/apa_screen_yongsheng/hydra_2/train_test_eval_noppipia/train_eval_out_10_nosim_wheldout//fold_7 -s /tscc/nfs/home/pjaganna1/projects/apa_screen_yongsheng/hydra_2/train_test_eval_noppipia/sequence_files_initial_eval_noppinopia/ --train_list /tscc/nfs/home/pjaganna1/projects/apa_screen_yongsheng/hydra_2/train_test_eval_noppipia/train_eval_out_10_nosim_wheldout/fold_7_train.txt --test_list /tscc/nfs/home/pjaganna1/projects/apa_screen_yongsheng/hydra_2/train_test_eval_noppipia/train_eval_out_10_nosim_wheldout/fold_7_test.txt --no-PIA --no-PPA --RBP_list /tscc/nfs/home/pjaganna1/projects/apa_screen_yongsheng/hydra_2/train_test_eval_noppipia/activators.txt --ProteinBERT_pretrainedBeforeFinetune_model /tscc/nfs/home/wjin/projects/RBP_pred/RBP_identification/HydRa2.0/data/ProteinBERT/default.pkl\n",
      "\n",
      "HydRa2_train_eval --model_name fold_8 --model_outdir /tscc/nfs/home/pjaganna1/projects/apa_screen_yongsheng/hydra_2/train_test_eval_noppipia/train_eval_out_10_nosim_wheldout//fold_8 -s /tscc/nfs/home/pjaganna1/projects/apa_screen_yongsheng/hydra_2/train_test_eval_noppipia/sequence_files_initial_eval_noppinopia/ --train_list /tscc/nfs/home/pjaganna1/projects/apa_screen_yongsheng/hydra_2/train_test_eval_noppipia/train_eval_out_10_nosim_wheldout/fold_8_train.txt --test_list /tscc/nfs/home/pjaganna1/projects/apa_screen_yongsheng/hydra_2/train_test_eval_noppipia/train_eval_out_10_nosim_wheldout/fold_8_test.txt --no-PIA --no-PPA --RBP_list /tscc/nfs/home/pjaganna1/projects/apa_screen_yongsheng/hydra_2/train_test_eval_noppipia/activators.txt --ProteinBERT_pretrainedBeforeFinetune_model /tscc/nfs/home/wjin/projects/RBP_pred/RBP_identification/HydRa2.0/data/ProteinBERT/default.pkl\n",
      "\n",
      "HydRa2_train_eval --model_name fold_9 --model_outdir /tscc/nfs/home/pjaganna1/projects/apa_screen_yongsheng/hydra_2/train_test_eval_noppipia/train_eval_out_10_nosim_wheldout//fold_9 -s /tscc/nfs/home/pjaganna1/projects/apa_screen_yongsheng/hydra_2/train_test_eval_noppipia/sequence_files_initial_eval_noppinopia/ --train_list /tscc/nfs/home/pjaganna1/projects/apa_screen_yongsheng/hydra_2/train_test_eval_noppipia/train_eval_out_10_nosim_wheldout/fold_9_train.txt --test_list /tscc/nfs/home/pjaganna1/projects/apa_screen_yongsheng/hydra_2/train_test_eval_noppipia/train_eval_out_10_nosim_wheldout/fold_9_test.txt --no-PIA --no-PPA --RBP_list /tscc/nfs/home/pjaganna1/projects/apa_screen_yongsheng/hydra_2/train_test_eval_noppipia/activators.txt --ProteinBERT_pretrainedBeforeFinetune_model /tscc/nfs/home/wjin/projects/RBP_pred/RBP_identification/HydRa2.0/data/ProteinBERT/default.pkl\n",
      "\n"
     ]
    }
   ],
   "source": [
    "train_eval_commands(10, train_test_out_10)"
   ]
  },
  {
   "cell_type": "code",
   "execution_count": null,
   "id": "271926cd-672a-4c6c-9c9e-db37725c2a28",
   "metadata": {},
   "outputs": [],
   "source": []
  },
  {
   "cell_type": "code",
   "execution_count": null,
   "id": "d1cc4e53-9994-4317-aa63-8ceb505a3724",
   "metadata": {},
   "outputs": [],
   "source": []
  },
  {
   "cell_type": "code",
   "execution_count": null,
   "id": "52c37df7-018e-4288-b386-0e3b6d62ca56",
   "metadata": {},
   "outputs": [],
   "source": []
  }
 ],
 "metadata": {
  "kernelspec": {
   "display_name": "Python 3 (ipykernel)",
   "language": "python",
   "name": "python3"
  },
  "language_info": {
   "codemirror_mode": {
    "name": "ipython",
    "version": 3
   },
   "file_extension": ".py",
   "mimetype": "text/x-python",
   "name": "python",
   "nbconvert_exporter": "python",
   "pygments_lexer": "ipython3",
   "version": "3.11.6"
  }
 },
 "nbformat": 4,
 "nbformat_minor": 5
}
