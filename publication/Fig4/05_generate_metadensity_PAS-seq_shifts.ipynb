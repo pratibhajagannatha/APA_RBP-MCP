{
 "cells": [
  {
   "cell_type": "code",
   "execution_count": 1,
   "id": "eb2cc4ec-23cb-48a1-aa93-85f96716274b",
   "metadata": {},
   "outputs": [
    {
     "name": "stdout",
     "output_type": "stream",
     "text": [
      "please set the right config according to genome coordinate\n",
      "Using /home/hsher/gencode_coords/GRCh38.p13.genome.fa\n",
      "Using HG38 by default\n",
      "Using /tscc/nfs/home/hsher/gencode_coords/GRCh38.p13.genome.fa\n"
     ]
    },
    {
     "name": "stderr",
     "output_type": "stream",
     "text": [
      "Matplotlib created a temporary config/cache directory at /tmp/matplotlib-tantue9h because the default path (/home/jovyan/.cache/matplotlib) is not a writable directory; it is highly recommended to set the MPLCONFIGDIR environment variable to a writable directory, in particular to speed up the import of Matplotlib and to better support multiprocessing.\n"
     ]
    },
    {
     "name": "stdout",
     "output_type": "stream",
     "text": [
      "Using:  /tscc/nfs/home/hsher/gencode_coords/gencode.v33.transcript.gff3\n"
     ]
    }
   ],
   "source": [
    "# set up files associated with each genome coordinates\n",
    "import metadensity as md\n",
    "md.settings.from_config_file('/tscc/nfs/home/hsher/Metadensity/config/hg38-tscc2.ini')\n",
    "\n",
    "\n",
    "# then import the modules\n",
    "from metadensity.metadensity import *\n",
    "from metadensity.plotd import *\n",
    "import pandas as pd\n",
    "import matplotlib.pyplot as plt\n",
    "\n",
    "%matplotlib inline\n",
    "\n",
    "# I have a precompiles list of ENCODE datas as a csv that loads in this dataloader\n",
    "plt.style.use('seaborn-white')\n",
    "from itertools import chain\n",
    "from pathlib import Path\n",
    "\n",
    "import glob"
   ]
  },
  {
   "cell_type": "code",
   "execution_count": 2,
   "id": "d26279c4-8a04-431d-8ca9-ccc97e4ff294",
   "metadata": {},
   "outputs": [],
   "source": [
    "candidates = [ 'NUDT21',  'GRB2', 'RNPS1','CPSF6', 'STAU2','MBNL2', 'TRNAU1AP', 'RBM22','EIF4B', 'ZC3HAV1', 'RBM5', 'ZMAT3'] #"
   ]
  },
  {
   "cell_type": "code",
   "execution_count": 3,
   "id": "57538a8c-e519-417f-9ef8-2eca12da5170",
   "metadata": {},
   "outputs": [],
   "source": [
    "#candidates = [ 'ZMAT3',  'RBM5'] #"
   ]
  },
  {
   "cell_type": "code",
   "execution_count": 4,
   "id": "22552d1e-be68-41a1-ba9c-94eabe7e3136",
   "metadata": {},
   "outputs": [],
   "source": [
    "pas_paths = '/tscc/nfs/home/pjaganna1/projects/apa_screen_yongsheng/apa_kd_data_graveley_redo/dif_apa/pas_seq/'"
   ]
  },
  {
   "cell_type": "code",
   "execution_count": 5,
   "id": "24d0b2cf-d2bc-45d0-ae27-bb0990abfafd",
   "metadata": {},
   "outputs": [],
   "source": [
    "pas_candidate_paths = [i for i in glob.glob(os.path.join(pas_paths, '*.txt')) if i.split('/')[-1].split('_')[1] in candidates]"
   ]
  },
  {
   "cell_type": "code",
   "execution_count": 6,
   "id": "abc12418-fa41-41d2-af16-089207a02ef9",
   "metadata": {},
   "outputs": [],
   "source": [
    "def return_class(df):\n",
    "    if df['log(treatment.p/treatment.d)'] > df['log(Ctrl.p/Ctrl.d)']:\n",
    "        return 'proximal'\n",
    "    elif df['log(treatment.p/treatment.d)'] < df['log(Ctrl.p/Ctrl.d)']:\n",
    "        return 'distal'\n",
    "    \n",
    "totals = []\n",
    "all_table_info = pd.DataFrame()\n",
    "for rbp_table in pas_candidate_paths:\n",
    "    kd = rbp_table.split('/')[-1].split('_')[1]\n",
    "    test = pd.read_csv(rbp_table, sep='\\t')\n",
    "    test['treatment.p + 1'] = test['treatment.p'] + 1\n",
    "    test['treatment.d + 1'] = test['treatment.d'] + 1\n",
    "    test['Ctrl.p + 1'] = test['Ctrl.p'] + 1\n",
    "    test['Ctrl.d + 1'] = test['Ctrl.d'] + 1\n",
    "    test['log(treatment.p/treatment.d)'] = test.apply(lambda x: np.log2(x['treatment.p + 1']/x['treatment.d + 1']), axis=1)\n",
    "    test['log(Ctrl.p/Ctrl.d)'] = test.apply(lambda x: np.log2(x['Ctrl.p + 1']/x['Ctrl.d + 1']), axis=1)\n",
    "    test['apa_class'] = test.apply(return_class, axis=1)\n",
    "    test['apa_type'] = test.apply(lambda x: f\"{x['TYPE.p']}_{x['TYPE.d']}\", axis=1)\n",
    "    test['KD'] = kd\n",
    "    test = test[(test['TYPE.p'].isin(['Intron', 'LastExon'])) & (test['TYPE.d'].isin(['Intron', 'LastExon']))]\n",
    "    #hg38_coord = pd.read_csv(f'/tscc/nfs/home/pjaganna1/projects/apa_screen_yongsheng/apa_kd_all/pas-seq/hg38/{kd}_pas_hg38.bed', sep='\\t', header=None)\n",
    "    final_table = test[(test['KD'] ==kd)][['SYMBOL', 'COORD.p', 'COORDS.d', 'KD', 'apa_class']]\n",
    "    all_table_info = pd.concat([all_table_info, final_table])"
   ]
  },
  {
   "cell_type": "code",
   "execution_count": 7,
   "id": "f588affe-9dbd-4038-aee0-1affd25716ad",
   "metadata": {},
   "outputs": [
    {
     "data": {
      "text/html": [
       "<div>\n",
       "<style scoped>\n",
       "    .dataframe tbody tr th:only-of-type {\n",
       "        vertical-align: middle;\n",
       "    }\n",
       "\n",
       "    .dataframe tbody tr th {\n",
       "        vertical-align: top;\n",
       "    }\n",
       "\n",
       "    .dataframe thead th {\n",
       "        text-align: right;\n",
       "    }\n",
       "</style>\n",
       "<table border=\"1\" class=\"dataframe\">\n",
       "  <thead>\n",
       "    <tr style=\"text-align: right;\">\n",
       "      <th></th>\n",
       "      <th>SYMBOL</th>\n",
       "      <th>COORD.p</th>\n",
       "      <th>COORDS.d</th>\n",
       "      <th>KD</th>\n",
       "      <th>apa_class</th>\n",
       "    </tr>\n",
       "  </thead>\n",
       "  <tbody>\n",
       "    <tr>\n",
       "      <th>0</th>\n",
       "      <td>ADD2</td>\n",
       "      <td>chr2:70675091:-</td>\n",
       "      <td>chr2:70656790:-</td>\n",
       "      <td>RBM22</td>\n",
       "      <td>distal</td>\n",
       "    </tr>\n",
       "    <tr>\n",
       "      <th>2</th>\n",
       "      <td>AL138752.2</td>\n",
       "      <td>chr9:37774496:-</td>\n",
       "      <td>chr9:37588413:-</td>\n",
       "      <td>RBM22</td>\n",
       "      <td>distal</td>\n",
       "    </tr>\n",
       "    <tr>\n",
       "      <th>3</th>\n",
       "      <td>ASAH1</td>\n",
       "      <td>chr8:18066763:-</td>\n",
       "      <td>chr8:18056452:-</td>\n",
       "      <td>RBM22</td>\n",
       "      <td>proximal</td>\n",
       "    </tr>\n",
       "    <tr>\n",
       "      <th>4</th>\n",
       "      <td>ASXL1</td>\n",
       "      <td>chr20:32437359:+</td>\n",
       "      <td>chr20:32439320:+</td>\n",
       "      <td>RBM22</td>\n",
       "      <td>distal</td>\n",
       "    </tr>\n",
       "    <tr>\n",
       "      <th>5</th>\n",
       "      <td>CCDC71</td>\n",
       "      <td>chr3:49165667:-</td>\n",
       "      <td>chr3:49162535:-</td>\n",
       "      <td>RBM22</td>\n",
       "      <td>distal</td>\n",
       "    </tr>\n",
       "  </tbody>\n",
       "</table>\n",
       "</div>"
      ],
      "text/plain": [
       "       SYMBOL           COORD.p          COORDS.d     KD apa_class\n",
       "0        ADD2   chr2:70675091:-   chr2:70656790:-  RBM22    distal\n",
       "2  AL138752.2   chr9:37774496:-   chr9:37588413:-  RBM22    distal\n",
       "3       ASAH1   chr8:18066763:-   chr8:18056452:-  RBM22  proximal\n",
       "4       ASXL1  chr20:32437359:+  chr20:32439320:+  RBM22    distal\n",
       "5      CCDC71   chr3:49165667:-   chr3:49162535:-  RBM22    distal"
      ]
     },
     "execution_count": 7,
     "metadata": {},
     "output_type": "execute_result"
    }
   ],
   "source": [
    "all_table_info.head()"
   ]
  },
  {
   "cell_type": "code",
   "execution_count": 8,
   "id": "0f245807-cbce-495d-a3bc-b6a3fdf7edfb",
   "metadata": {},
   "outputs": [
    {
     "data": {
      "text/plain": [
       "array(['RBM22', 'RBM5', 'MBNL2', 'STAU2', 'ZC3HAV1', 'TRNAU1AP', 'EIF4B',\n",
       "       'ZMAT3', 'GRB2', 'NUDT21', 'RNPS1', 'CPSF6'], dtype=object)"
      ]
     },
     "execution_count": 8,
     "metadata": {},
     "output_type": "execute_result"
    }
   ],
   "source": [
    "all_table_info.KD.unique()"
   ]
  },
  {
   "cell_type": "code",
   "execution_count": 9,
   "id": "b2477750-b212-4497-80f3-84c9a21d68e8",
   "metadata": {},
   "outputs": [],
   "source": [
    "all_table_info_dist = all_table_info[all_table_info['apa_class']=='distal']\n",
    "all_table_info_prox = all_table_info[all_table_info['apa_class']=='proximal']"
   ]
  },
  {
   "cell_type": "markdown",
   "id": "f5632856-88a8-4799-a7d7-4698de4783a4",
   "metadata": {},
   "source": [
    "```following tutorial: https://metadensity.readthedocs.io/en/latest/1_Example_using_skipper_outputs.html```"
   ]
  },
  {
   "cell_type": "code",
   "execution_count": 10,
   "id": "ba60cc37-d689-4ed0-ba08-f0fa91b31cd4",
   "metadata": {},
   "outputs": [],
   "source": [
    "\n",
    "    \n",
    "def get_file_path(prefix, skipper_output_dir, ip_suffix = '_IP_', in_suffix = '_IN_'):\n",
    "        return pd.Series({'uid':prefix,\n",
    "        'RBP': prefix,\n",
    "        'bam_0': str(skipper_output_dir/'bams'/'dedup'/'genome'/f'{prefix}{ip_suffix}1.genome.Aligned.sort.dedup.bam'),\n",
    "        'bam_control_0':str(skipper_output_dir/'bams'/'dedup'/'genome'/f'{prefix}{in_suffix}1.genome.Aligned.sort.dedup.bam'),\n",
    "        'minus_0': str(skipper_output_dir / 'bigwigs' / 'scaled/minus' / f'{prefix}{ip_suffix}1.scaled.cov.minus.bw'),\n",
    "        'minus_control_0': str(skipper_output_dir / 'bigwigs' / 'scaled/minus' / f'{prefix}{in_suffix}1.scaled.cov.minus.bw'),\n",
    "        'plus_0': str(skipper_output_dir / 'bigwigs' / 'scaled/plus' / f'{prefix}{ip_suffix}1.scaled.cov.plus.bw'),\n",
    "        'plus_control_0': str(skipper_output_dir / 'bigwigs' / 'scaled/plus' / f'{prefix}{in_suffix}1.scaled.cov.plus.bw'),\n",
    "        'bed_0': transcript.fn,\n",
    "        'bed_1': transcript.fn,\n",
    "        'bam_1': str(skipper_output_dir/'bams'/'dedup'/'genome'/f'{prefix}{ip_suffix}2.genome.Aligned.sort.dedup.bam'),\n",
    "        'bam_control_1':str(skipper_output_dir/'bams'/'dedup'/'genome'/f'{prefix}{in_suffix}2.genome.Aligned.sort.dedup.bam'),\n",
    "        'minus_1': str(skipper_output_dir / 'bigwigs' / 'scaled/minus' / f'{prefix}{ip_suffix}2.scaled.cov.minus.bw'),\n",
    "        'minus_control_1': str(skipper_output_dir / 'bigwigs' / 'scaled/minus' / f'{prefix}{in_suffix}2.scaled.cov.minus.bw'),\n",
    "        'plus_1': str(skipper_output_dir / 'bigwigs' / 'scaled/plus' / f'{prefix}{ip_suffix}2.scaled.cov.plus.bw'),\n",
    "        'plus_control_1': str(skipper_output_dir / 'bigwigs' / 'scaled/plus' / f'{prefix}{in_suffix}2.scaled.cov.plus.bw'),\n",
    "        }\n",
    "        )\n",
    "\n",
    "def find_gene_ids_with_reproducible_windows(prefix, skipper_output_dir):\n",
    "        window_path = skipper_output_dir / 'reproducible_enriched_windows' / f'{prefix}.reproducible_enriched_windows.tsv.gz'\n",
    "        window = pd.read_csv(window_path, sep = '\\t')\n",
    "        #window = window[(window['enrichment_l2or_mean'] >=3) & (window['p_min'] < 0.05) & ((window['feature_types'].str.contains('UTR3'))| (window['feature_types'].str.contains('INTRON')))].copy()\n",
    "\n",
    "        # find genes with reproducible windows. Some windows contain >1 gene id. `chain` flattens the list of list\n",
    "        # chain https://www.geeksforgeeks.org/python-itertools-chain/\n",
    "        gene_with_windows = list(set(chain(*window['gene_id'].apply(lambda idlist: idlist.split(':')).tolist())))\n",
    "\n",
    "        # skipper is run with gencode v38 which is different from metadensity's version. need some conversion\n",
    "        # remove version\n",
    "        geneid_no_version = [g.split('.')[0] for g in gene_with_windows] # this is list comprehension. lazy and short for loops\n",
    "        # map to Metadensity's version\n",
    "        #metadensity_gene_ids = [t.attrs['gene_id'] for t in transcript if t.attrs['gene_id'].split('.')[0] in geneid_no_version]\n",
    "        metadensity_gene_ids = [t.attrs['gene_name'] for t in transcript if t.attrs['gene_id'].split('.')[0] in geneid_no_version]\n",
    "        return metadensity_gene_ids\n",
    "    \n",
    "    \n",
    "def extract_polyA_signal_coordinates(subset_polyadf, coord_col):\n",
    "    ''' subtracting the coordinate of polyA signal from polya dataframe'''\n",
    "    # extract polya signals\n",
    "    signal_coord = []\n",
    "    if coord_col == 'COORD.p':\n",
    "        for index, row in subset_polyadf.iterrows():\n",
    "            ch, start,strand =  row['COORD.p'].split(':')[0], row['COORD.p'].split(':')[1], row['COORD.p'].split(':')[2]\n",
    "            signal_coord.append([ch,int(start),int(start) + 1,\n",
    "                                 row['COORD.p'], '.', strand])\n",
    "    elif coord_col == 'COORDS.d':\n",
    "        for index, row in subset_polyadf.iterrows():\n",
    "            ch_d, start_d,strand_d =  row['COORDS.d'].split(':')[0], row['COORDS.d'].split(':')[1], row['COORDS.d'].split(':')[2]\n",
    "            signal_coord.append([ch_d,int(start_d),int(start_d) + 1,\n",
    "                                 row['COORDS.d'], '.', strand_d])\n",
    "            \n",
    "\n",
    "    # make into bed\n",
    "    polysignal_df = pd.DataFrame(signal_coord,\n",
    "                                columns= ['chrom', 'start', 'end', 'name', 'score', 'strand']).drop_duplicates()\n",
    "    polyasignal_bed = BedTool.from_dataframe(polysignal_df)\n",
    "\n",
    "    return polyasignal_bed\n",
    "def polyAtype_specific_coords(pas_table, gene):\n",
    "    ''' create polyA related feature for specific types of polyA\n",
    "    polyAtype can be TE, EX, IN, DS..'''\n",
    "    prox = pas_table[(pas_table['KD']==gene)]\n",
    "    dist = pas_table[(pas_table['KD']==gene)]\n",
    "\n",
    "    # create bed of polyA sites\n",
    "    prox_bed = extract_polyA_signal_coordinates(prox, 'COORD.p')\n",
    "    dist_bed = extract_polyA_signal_coordinates(dist, 'COORDS.d')\n",
    "\n",
    "    return prox_bed, dist_bed\n",
    "\n",
    "def segment_transcript_name(s):\n",
    "    return s.split(';')[0].split('=')[1]\n",
    "\n",
    "def segment_gene_name(s):\n",
    "    return s.split(';')[5].split('=')[1]\n",
    "\n",
    "def genes_of_interest(gene,pas_table,transcript_type = 'protein_coding',  sample_no=200 ): # the pas table is the filtered all_table prox or dist\n",
    "    intersection_set = set(geneids).intersection(set(pas_table[(pas_table['KD']==gene) ]['SYMBOL']))\n",
    "    print('Intersection Set:', len(intersection_set))\n",
    "    #tids = [t.attrs['transcript_id'] for t in transcript if t.attrs['transcript_type'] == transcript_type and t.attrs['gene_name'] in set(pas_table[(pas_table['KD']==gene) ]['SYMBOL'])] # hungtingtin\n",
    "    tids = [t.attrs['transcript_id'] for t in transcript if t.attrs['gene_name'] in intersection_set]\n",
    "    \n",
    "    print(len(tids))\n",
    "    cds_metagenes = Build_many_metagene(tids, sample_no = sample_no)\n",
    "\n",
    "    return cds_metagenes\n",
    "\n",
    "# add feature to those metagene\n",
    "def add_feature_to_metagene(kd_exp_meta, length=200):\n",
    "    for transcript_id in kd_exp_meta.keys():\n",
    "        metagene = kd_exp_meta[transcript_id]\n",
    "\n",
    "        # add feature\n",
    "        sub = prox_site_df.loc[prox_site_df['transcript_id']==transcript_id]\n",
    "        for index, row in sub.iterrows():\n",
    "            metagene.create_feature(interval = row['start'], feature_name = 'prox',\n",
    "                                    length = length\n",
    "                                   ) # POINT FEATURE\n",
    "\n",
    "        sub = dist_site_df.loc[dist_site_df['transcript_id']==transcript_id]\n",
    "        for index, row in sub.iterrows():\n",
    "            metagene.create_feature(interval = row['start'], feature_name = 'dist',\n",
    "                                   length = length)\n",
    "            \n",
    "def remove_features_noPA(kd_exp_meta):\n",
    "    for transcript_id in list(kd_exp_meta.keys()).copy():\n",
    "        metagene = kd_exp_meta[transcript_id]\n",
    "\n",
    "        if 'prox' not in metagene.featnames or 'dist' not in metagene.featnames:\n",
    "            del kd_exp_meta[transcript_id]\n",
    "            \n",
    "def build_idr_metadensity(eCLIP,v, metagene, additional_name_info ):\n",
    "    ''' build metadensity object given eCLIP data and metagene that is build with polyA sites'''\n",
    "    m = Metadensity(eCLIP, f'{eCLIP.name} ({additional_name_info})', metagenes=kd_exp_meta, background_method = 'relative information', normalize = False)\n",
    "\n",
    "    m.featnames = ['prox','dist'] # to restrict only computing for these 2 features\n",
    "    m.get_density_array()\n",
    "    m.save_deepdish(os.path.join(deepdish_out, '{}_{}_sample200_length200.h5'.format(eCLIP.name, additional_name_info)))\n",
    "    return m\n"
   ]
  },
  {
   "cell_type": "code",
   "execution_count": 11,
   "id": "f1fd3f53-1347-46d8-a5fc-f4bbb8a663f5",
   "metadata": {},
   "outputs": [],
   "source": [
    "pas_table_dict = {'DISTAL':all_table_info_dist, 'PROXIMAL':all_table_info_prox}"
   ]
  },
  {
   "cell_type": "code",
   "execution_count": 12,
   "id": "f908402e-f7a5-4029-bb9a-f10e5d4ef122",
   "metadata": {},
   "outputs": [],
   "source": [
    "deepdish_out = '/tscc/nfs/home/pjaganna1/projects/apa_screen_yongsheng/eclip/metadendity/h5_files_prox_dist_PAS'"
   ]
  },
  {
   "cell_type": "code",
   "execution_count": 20,
   "id": "98dd25bb-97da-4651-88cc-f9852af67c1e",
   "metadata": {},
   "outputs": [
    {
     "data": {
      "text/plain": [
       "[<metadensity.metadensity.Metadensity at 0x1553f28855d0>,\n",
       " <metadensity.metadensity.Metadensity at 0x1553f2847810>]"
      ]
     },
     "execution_count": 20,
     "metadata": {},
     "output_type": "execute_result"
    }
   ],
   "source": [
    " all_meta_obj[g]"
   ]
  },
  {
   "cell_type": "code",
   "execution_count": 13,
   "id": "b3114a8d-a4f4-42a4-a457-225a8e7e9662",
   "metadata": {
    "tags": []
   },
   "outputs": [
    {
     "name": "stdout",
     "output_type": "stream",
     "text": [
      "NUDT21\n"
     ]
    },
    {
     "name": "stderr",
     "output_type": "stream",
     "text": [
      "/opt/conda/envs/metadensity/lib/python3.7/site-packages/pybedtools/bedtool.py:3706: UserWarning: Default names for filetype bed are:\n",
      "['chrom', 'start', 'end', 'name', 'score', 'strand', 'thickStart', 'thickEnd', 'itemRgb', 'blockCount', 'blockSizes', 'blockStarts']\n",
      "but file has 15 fields; you can supply custom names with the `names` kwarg\n",
      "  \"`names` kwarg\" % (self.file_type, _names, self.field_count())\n",
      "/opt/conda/envs/metadensity/lib/python3.7/site-packages/pybedtools/bedtool.py:3706: UserWarning: Default names for filetype bed are:\n",
      "['chrom', 'start', 'end', 'name', 'score', 'strand', 'thickStart', 'thickEnd', 'itemRgb', 'blockCount', 'blockSizes', 'blockStarts']\n",
      "but file has 15 fields; you can supply custom names with the `names` kwarg\n",
      "  \"`names` kwarg\" % (self.file_type, _names, self.field_count())\n"
     ]
    },
    {
     "name": "stdout",
     "output_type": "stream",
     "text": [
      "Intersection Set: 146\n",
      "147\n",
      "Using: /tscc/nfs/home/hsher/projects/Metadensity/metadensity/data/hg38/gencode\n",
      "Done building metagene\n"
     ]
    },
    {
     "name": "stderr",
     "output_type": "stream",
     "text": [
      "/opt/conda/envs/metadensity/lib/python3.7/site-packages/deepdish/io/hdf5io.py:251: FutureWarning: The Panel class is removed from pandas. Accessing it from the top-level namespace will also be removed in the next version\n",
      "  elif _pandas and isinstance(level, (pd.DataFrame, pd.Series, pd.Panel)):\n",
      "/opt/conda/envs/metadensity/lib/python3.7/site-packages/pybedtools/bedtool.py:3706: UserWarning: Default names for filetype bed are:\n",
      "['chrom', 'start', 'end', 'name', 'score', 'strand', 'thickStart', 'thickEnd', 'itemRgb', 'blockCount', 'blockSizes', 'blockStarts']\n",
      "but file has 15 fields; you can supply custom names with the `names` kwarg\n",
      "  \"`names` kwarg\" % (self.file_type, _names, self.field_count())\n",
      "/opt/conda/envs/metadensity/lib/python3.7/site-packages/pybedtools/bedtool.py:3706: UserWarning: Default names for filetype bed are:\n",
      "['chrom', 'start', 'end', 'name', 'score', 'strand', 'thickStart', 'thickEnd', 'itemRgb', 'blockCount', 'blockSizes', 'blockStarts']\n",
      "but file has 15 fields; you can supply custom names with the `names` kwarg\n",
      "  \"`names` kwarg\" % (self.file_type, _names, self.field_count())\n"
     ]
    },
    {
     "name": "stdout",
     "output_type": "stream",
     "text": [
      "Intersection Set: 1623\n",
      "1624\n",
      "Using: /tscc/nfs/home/hsher/projects/Metadensity/metadensity/data/hg38/gencode\n",
      "Done building metagene\n"
     ]
    },
    {
     "name": "stderr",
     "output_type": "stream",
     "text": [
      "/opt/conda/envs/metadensity/lib/python3.7/site-packages/deepdish/io/hdf5io.py:251: FutureWarning: The Panel class is removed from pandas. Accessing it from the top-level namespace will also be removed in the next version\n",
      "  elif _pandas and isinstance(level, (pd.DataFrame, pd.Series, pd.Panel)):\n"
     ]
    },
    {
     "name": "stdout",
     "output_type": "stream",
     "text": [
      "GRB2\n"
     ]
    },
    {
     "name": "stderr",
     "output_type": "stream",
     "text": [
      "/opt/conda/envs/metadensity/lib/python3.7/site-packages/pybedtools/bedtool.py:3706: UserWarning: Default names for filetype bed are:\n",
      "['chrom', 'start', 'end', 'name', 'score', 'strand', 'thickStart', 'thickEnd', 'itemRgb', 'blockCount', 'blockSizes', 'blockStarts']\n",
      "but file has 15 fields; you can supply custom names with the `names` kwarg\n",
      "  \"`names` kwarg\" % (self.file_type, _names, self.field_count())\n",
      "/opt/conda/envs/metadensity/lib/python3.7/site-packages/pybedtools/bedtool.py:3706: UserWarning: Default names for filetype bed are:\n",
      "['chrom', 'start', 'end', 'name', 'score', 'strand', 'thickStart', 'thickEnd', 'itemRgb', 'blockCount', 'blockSizes', 'blockStarts']\n",
      "but file has 15 fields; you can supply custom names with the `names` kwarg\n",
      "  \"`names` kwarg\" % (self.file_type, _names, self.field_count())\n"
     ]
    },
    {
     "name": "stdout",
     "output_type": "stream",
     "text": [
      "Intersection Set: 79\n",
      "79\n",
      "Using: /tscc/nfs/home/hsher/projects/Metadensity/metadensity/data/hg38/gencode\n",
      "Done building metagene\n"
     ]
    },
    {
     "name": "stderr",
     "output_type": "stream",
     "text": [
      "/opt/conda/envs/metadensity/lib/python3.7/site-packages/deepdish/io/hdf5io.py:251: FutureWarning: The Panel class is removed from pandas. Accessing it from the top-level namespace will also be removed in the next version\n",
      "  elif _pandas and isinstance(level, (pd.DataFrame, pd.Series, pd.Panel)):\n",
      "/opt/conda/envs/metadensity/lib/python3.7/site-packages/pybedtools/bedtool.py:3706: UserWarning: Default names for filetype bed are:\n",
      "['chrom', 'start', 'end', 'name', 'score', 'strand', 'thickStart', 'thickEnd', 'itemRgb', 'blockCount', 'blockSizes', 'blockStarts']\n",
      "but file has 15 fields; you can supply custom names with the `names` kwarg\n",
      "  \"`names` kwarg\" % (self.file_type, _names, self.field_count())\n",
      "/opt/conda/envs/metadensity/lib/python3.7/site-packages/pybedtools/bedtool.py:3706: UserWarning: Default names for filetype bed are:\n",
      "['chrom', 'start', 'end', 'name', 'score', 'strand', 'thickStart', 'thickEnd', 'itemRgb', 'blockCount', 'blockSizes', 'blockStarts']\n",
      "but file has 15 fields; you can supply custom names with the `names` kwarg\n",
      "  \"`names` kwarg\" % (self.file_type, _names, self.field_count())\n"
     ]
    },
    {
     "name": "stdout",
     "output_type": "stream",
     "text": [
      "Intersection Set: 48\n",
      "49\n",
      "Using: /tscc/nfs/home/hsher/projects/Metadensity/metadensity/data/hg38/gencode\n",
      "Done building metagene\n"
     ]
    },
    {
     "name": "stderr",
     "output_type": "stream",
     "text": [
      "/opt/conda/envs/metadensity/lib/python3.7/site-packages/deepdish/io/hdf5io.py:251: FutureWarning: The Panel class is removed from pandas. Accessing it from the top-level namespace will also be removed in the next version\n",
      "  elif _pandas and isinstance(level, (pd.DataFrame, pd.Series, pd.Panel)):\n"
     ]
    },
    {
     "name": "stdout",
     "output_type": "stream",
     "text": [
      "RNPS1\n"
     ]
    },
    {
     "name": "stderr",
     "output_type": "stream",
     "text": [
      "/opt/conda/envs/metadensity/lib/python3.7/site-packages/pybedtools/bedtool.py:3706: UserWarning: Default names for filetype bed are:\n",
      "['chrom', 'start', 'end', 'name', 'score', 'strand', 'thickStart', 'thickEnd', 'itemRgb', 'blockCount', 'blockSizes', 'blockStarts']\n",
      "but file has 15 fields; you can supply custom names with the `names` kwarg\n",
      "  \"`names` kwarg\" % (self.file_type, _names, self.field_count())\n",
      "/opt/conda/envs/metadensity/lib/python3.7/site-packages/pybedtools/bedtool.py:3706: UserWarning: Default names for filetype bed are:\n",
      "['chrom', 'start', 'end', 'name', 'score', 'strand', 'thickStart', 'thickEnd', 'itemRgb', 'blockCount', 'blockSizes', 'blockStarts']\n",
      "but file has 15 fields; you can supply custom names with the `names` kwarg\n",
      "  \"`names` kwarg\" % (self.file_type, _names, self.field_count())\n"
     ]
    },
    {
     "name": "stdout",
     "output_type": "stream",
     "text": [
      "Intersection Set: 10\n",
      "10\n",
      "Using: /tscc/nfs/home/hsher/projects/Metadensity/metadensity/data/hg38/gencode\n",
      "Done building metagene\n"
     ]
    },
    {
     "name": "stderr",
     "output_type": "stream",
     "text": [
      "/opt/conda/envs/metadensity/lib/python3.7/site-packages/deepdish/io/hdf5io.py:251: FutureWarning: The Panel class is removed from pandas. Accessing it from the top-level namespace will also be removed in the next version\n",
      "  elif _pandas and isinstance(level, (pd.DataFrame, pd.Series, pd.Panel)):\n",
      "/opt/conda/envs/metadensity/lib/python3.7/site-packages/pybedtools/bedtool.py:3706: UserWarning: Default names for filetype bed are:\n",
      "['chrom', 'start', 'end', 'name', 'score', 'strand', 'thickStart', 'thickEnd', 'itemRgb', 'blockCount', 'blockSizes', 'blockStarts']\n",
      "but file has 15 fields; you can supply custom names with the `names` kwarg\n",
      "  \"`names` kwarg\" % (self.file_type, _names, self.field_count())\n",
      "/opt/conda/envs/metadensity/lib/python3.7/site-packages/pybedtools/bedtool.py:3706: UserWarning: Default names for filetype bed are:\n",
      "['chrom', 'start', 'end', 'name', 'score', 'strand', 'thickStart', 'thickEnd', 'itemRgb', 'blockCount', 'blockSizes', 'blockStarts']\n",
      "but file has 15 fields; you can supply custom names with the `names` kwarg\n",
      "  \"`names` kwarg\" % (self.file_type, _names, self.field_count())\n"
     ]
    },
    {
     "name": "stdout",
     "output_type": "stream",
     "text": [
      "Intersection Set: 13\n",
      "13\n",
      "Using: /tscc/nfs/home/hsher/projects/Metadensity/metadensity/data/hg38/gencode\n",
      "Done building metagene\n"
     ]
    },
    {
     "name": "stderr",
     "output_type": "stream",
     "text": [
      "/opt/conda/envs/metadensity/lib/python3.7/site-packages/deepdish/io/hdf5io.py:251: FutureWarning: The Panel class is removed from pandas. Accessing it from the top-level namespace will also be removed in the next version\n",
      "  elif _pandas and isinstance(level, (pd.DataFrame, pd.Series, pd.Panel)):\n"
     ]
    },
    {
     "name": "stdout",
     "output_type": "stream",
     "text": [
      "CPSF6\n"
     ]
    },
    {
     "name": "stderr",
     "output_type": "stream",
     "text": [
      "/opt/conda/envs/metadensity/lib/python3.7/site-packages/pybedtools/bedtool.py:3706: UserWarning: Default names for filetype bed are:\n",
      "['chrom', 'start', 'end', 'name', 'score', 'strand', 'thickStart', 'thickEnd', 'itemRgb', 'blockCount', 'blockSizes', 'blockStarts']\n",
      "but file has 15 fields; you can supply custom names with the `names` kwarg\n",
      "  \"`names` kwarg\" % (self.file_type, _names, self.field_count())\n",
      "/opt/conda/envs/metadensity/lib/python3.7/site-packages/pybedtools/bedtool.py:3706: UserWarning: Default names for filetype bed are:\n",
      "['chrom', 'start', 'end', 'name', 'score', 'strand', 'thickStart', 'thickEnd', 'itemRgb', 'blockCount', 'blockSizes', 'blockStarts']\n",
      "but file has 15 fields; you can supply custom names with the `names` kwarg\n",
      "  \"`names` kwarg\" % (self.file_type, _names, self.field_count())\n"
     ]
    },
    {
     "name": "stdout",
     "output_type": "stream",
     "text": [
      "Intersection Set: 47\n",
      "47\n",
      "Using: /tscc/nfs/home/hsher/projects/Metadensity/metadensity/data/hg38/gencode\n",
      "Done building metagene\n"
     ]
    },
    {
     "name": "stderr",
     "output_type": "stream",
     "text": [
      "/opt/conda/envs/metadensity/lib/python3.7/site-packages/deepdish/io/hdf5io.py:251: FutureWarning: The Panel class is removed from pandas. Accessing it from the top-level namespace will also be removed in the next version\n",
      "  elif _pandas and isinstance(level, (pd.DataFrame, pd.Series, pd.Panel)):\n",
      "/opt/conda/envs/metadensity/lib/python3.7/site-packages/pybedtools/bedtool.py:3706: UserWarning: Default names for filetype bed are:\n",
      "['chrom', 'start', 'end', 'name', 'score', 'strand', 'thickStart', 'thickEnd', 'itemRgb', 'blockCount', 'blockSizes', 'blockStarts']\n",
      "but file has 15 fields; you can supply custom names with the `names` kwarg\n",
      "  \"`names` kwarg\" % (self.file_type, _names, self.field_count())\n",
      "/opt/conda/envs/metadensity/lib/python3.7/site-packages/pybedtools/bedtool.py:3706: UserWarning: Default names for filetype bed are:\n",
      "['chrom', 'start', 'end', 'name', 'score', 'strand', 'thickStart', 'thickEnd', 'itemRgb', 'blockCount', 'blockSizes', 'blockStarts']\n",
      "but file has 15 fields; you can supply custom names with the `names` kwarg\n",
      "  \"`names` kwarg\" % (self.file_type, _names, self.field_count())\n"
     ]
    },
    {
     "name": "stdout",
     "output_type": "stream",
     "text": [
      "Intersection Set: 583\n",
      "583\n",
      "Using: /tscc/nfs/home/hsher/projects/Metadensity/metadensity/data/hg38/gencode\n",
      "Done building metagene\n"
     ]
    },
    {
     "name": "stderr",
     "output_type": "stream",
     "text": [
      "/opt/conda/envs/metadensity/lib/python3.7/site-packages/deepdish/io/hdf5io.py:251: FutureWarning: The Panel class is removed from pandas. Accessing it from the top-level namespace will also be removed in the next version\n",
      "  elif _pandas and isinstance(level, (pd.DataFrame, pd.Series, pd.Panel)):\n"
     ]
    },
    {
     "name": "stdout",
     "output_type": "stream",
     "text": [
      "STAU2\n"
     ]
    },
    {
     "name": "stderr",
     "output_type": "stream",
     "text": [
      "/opt/conda/envs/metadensity/lib/python3.7/site-packages/pybedtools/bedtool.py:3706: UserWarning: Default names for filetype bed are:\n",
      "['chrom', 'start', 'end', 'name', 'score', 'strand', 'thickStart', 'thickEnd', 'itemRgb', 'blockCount', 'blockSizes', 'blockStarts']\n",
      "but file has 15 fields; you can supply custom names with the `names` kwarg\n",
      "  \"`names` kwarg\" % (self.file_type, _names, self.field_count())\n",
      "/opt/conda/envs/metadensity/lib/python3.7/site-packages/pybedtools/bedtool.py:3706: UserWarning: Default names for filetype bed are:\n",
      "['chrom', 'start', 'end', 'name', 'score', 'strand', 'thickStart', 'thickEnd', 'itemRgb', 'blockCount', 'blockSizes', 'blockStarts']\n",
      "but file has 15 fields; you can supply custom names with the `names` kwarg\n",
      "  \"`names` kwarg\" % (self.file_type, _names, self.field_count())\n"
     ]
    },
    {
     "name": "stdout",
     "output_type": "stream",
     "text": [
      "Intersection Set: 10\n",
      "10\n",
      "Using: /tscc/nfs/home/hsher/projects/Metadensity/metadensity/data/hg38/gencode\n",
      "Done building metagene\n"
     ]
    },
    {
     "name": "stderr",
     "output_type": "stream",
     "text": [
      "/opt/conda/envs/metadensity/lib/python3.7/site-packages/deepdish/io/hdf5io.py:251: FutureWarning: The Panel class is removed from pandas. Accessing it from the top-level namespace will also be removed in the next version\n",
      "  elif _pandas and isinstance(level, (pd.DataFrame, pd.Series, pd.Panel)):\n",
      "/opt/conda/envs/metadensity/lib/python3.7/site-packages/pybedtools/bedtool.py:3706: UserWarning: Default names for filetype bed are:\n",
      "['chrom', 'start', 'end', 'name', 'score', 'strand', 'thickStart', 'thickEnd', 'itemRgb', 'blockCount', 'blockSizes', 'blockStarts']\n",
      "but file has 15 fields; you can supply custom names with the `names` kwarg\n",
      "  \"`names` kwarg\" % (self.file_type, _names, self.field_count())\n",
      "/opt/conda/envs/metadensity/lib/python3.7/site-packages/pybedtools/bedtool.py:3706: UserWarning: Default names for filetype bed are:\n",
      "['chrom', 'start', 'end', 'name', 'score', 'strand', 'thickStart', 'thickEnd', 'itemRgb', 'blockCount', 'blockSizes', 'blockStarts']\n",
      "but file has 15 fields; you can supply custom names with the `names` kwarg\n",
      "  \"`names` kwarg\" % (self.file_type, _names, self.field_count())\n"
     ]
    },
    {
     "name": "stdout",
     "output_type": "stream",
     "text": [
      "Intersection Set: 7\n",
      "7\n",
      "Using: /tscc/nfs/home/hsher/projects/Metadensity/metadensity/data/hg38/gencode\n",
      "Done building metagene\n"
     ]
    },
    {
     "name": "stderr",
     "output_type": "stream",
     "text": [
      "/opt/conda/envs/metadensity/lib/python3.7/site-packages/deepdish/io/hdf5io.py:251: FutureWarning: The Panel class is removed from pandas. Accessing it from the top-level namespace will also be removed in the next version\n",
      "  elif _pandas and isinstance(level, (pd.DataFrame, pd.Series, pd.Panel)):\n"
     ]
    },
    {
     "name": "stdout",
     "output_type": "stream",
     "text": [
      "MBNL2\n"
     ]
    },
    {
     "name": "stderr",
     "output_type": "stream",
     "text": [
      "/opt/conda/envs/metadensity/lib/python3.7/site-packages/pybedtools/bedtool.py:3706: UserWarning: Default names for filetype bed are:\n",
      "['chrom', 'start', 'end', 'name', 'score', 'strand', 'thickStart', 'thickEnd', 'itemRgb', 'blockCount', 'blockSizes', 'blockStarts']\n",
      "but file has 15 fields; you can supply custom names with the `names` kwarg\n",
      "  \"`names` kwarg\" % (self.file_type, _names, self.field_count())\n",
      "/opt/conda/envs/metadensity/lib/python3.7/site-packages/pybedtools/bedtool.py:3706: UserWarning: Default names for filetype bed are:\n",
      "['chrom', 'start', 'end', 'name', 'score', 'strand', 'thickStart', 'thickEnd', 'itemRgb', 'blockCount', 'blockSizes', 'blockStarts']\n",
      "but file has 15 fields; you can supply custom names with the `names` kwarg\n",
      "  \"`names` kwarg\" % (self.file_type, _names, self.field_count())\n"
     ]
    },
    {
     "name": "stdout",
     "output_type": "stream",
     "text": [
      "Intersection Set: 487\n",
      "487\n",
      "Using: /tscc/nfs/home/hsher/projects/Metadensity/metadensity/data/hg38/gencode\n",
      "Done building metagene\n"
     ]
    },
    {
     "name": "stderr",
     "output_type": "stream",
     "text": [
      "/opt/conda/envs/metadensity/lib/python3.7/site-packages/deepdish/io/hdf5io.py:251: FutureWarning: The Panel class is removed from pandas. Accessing it from the top-level namespace will also be removed in the next version\n",
      "  elif _pandas and isinstance(level, (pd.DataFrame, pd.Series, pd.Panel)):\n",
      "/opt/conda/envs/metadensity/lib/python3.7/site-packages/pybedtools/bedtool.py:3706: UserWarning: Default names for filetype bed are:\n",
      "['chrom', 'start', 'end', 'name', 'score', 'strand', 'thickStart', 'thickEnd', 'itemRgb', 'blockCount', 'blockSizes', 'blockStarts']\n",
      "but file has 15 fields; you can supply custom names with the `names` kwarg\n",
      "  \"`names` kwarg\" % (self.file_type, _names, self.field_count())\n",
      "/opt/conda/envs/metadensity/lib/python3.7/site-packages/pybedtools/bedtool.py:3706: UserWarning: Default names for filetype bed are:\n",
      "['chrom', 'start', 'end', 'name', 'score', 'strand', 'thickStart', 'thickEnd', 'itemRgb', 'blockCount', 'blockSizes', 'blockStarts']\n",
      "but file has 15 fields; you can supply custom names with the `names` kwarg\n",
      "  \"`names` kwarg\" % (self.file_type, _names, self.field_count())\n"
     ]
    },
    {
     "name": "stdout",
     "output_type": "stream",
     "text": [
      "Intersection Set: 140\n",
      "141\n",
      "Using: /tscc/nfs/home/hsher/projects/Metadensity/metadensity/data/hg38/gencode\n",
      "Done building metagene\n"
     ]
    },
    {
     "name": "stderr",
     "output_type": "stream",
     "text": [
      "/opt/conda/envs/metadensity/lib/python3.7/site-packages/deepdish/io/hdf5io.py:251: FutureWarning: The Panel class is removed from pandas. Accessing it from the top-level namespace will also be removed in the next version\n",
      "  elif _pandas and isinstance(level, (pd.DataFrame, pd.Series, pd.Panel)):\n"
     ]
    },
    {
     "name": "stdout",
     "output_type": "stream",
     "text": [
      "TRNAU1AP\n"
     ]
    },
    {
     "name": "stderr",
     "output_type": "stream",
     "text": [
      "/opt/conda/envs/metadensity/lib/python3.7/site-packages/pybedtools/bedtool.py:3706: UserWarning: Default names for filetype bed are:\n",
      "['chrom', 'start', 'end', 'name', 'score', 'strand', 'thickStart', 'thickEnd', 'itemRgb', 'blockCount', 'blockSizes', 'blockStarts']\n",
      "but file has 15 fields; you can supply custom names with the `names` kwarg\n",
      "  \"`names` kwarg\" % (self.file_type, _names, self.field_count())\n",
      "/opt/conda/envs/metadensity/lib/python3.7/site-packages/pybedtools/bedtool.py:3706: UserWarning: Default names for filetype bed are:\n",
      "['chrom', 'start', 'end', 'name', 'score', 'strand', 'thickStart', 'thickEnd', 'itemRgb', 'blockCount', 'blockSizes', 'blockStarts']\n",
      "but file has 15 fields; you can supply custom names with the `names` kwarg\n",
      "  \"`names` kwarg\" % (self.file_type, _names, self.field_count())\n"
     ]
    },
    {
     "name": "stdout",
     "output_type": "stream",
     "text": [
      "Intersection Set: 81\n",
      "81\n",
      "Using: /tscc/nfs/home/hsher/projects/Metadensity/metadensity/data/hg38/gencode\n",
      "Done building metagene\n"
     ]
    },
    {
     "name": "stderr",
     "output_type": "stream",
     "text": [
      "/opt/conda/envs/metadensity/lib/python3.7/site-packages/deepdish/io/hdf5io.py:251: FutureWarning: The Panel class is removed from pandas. Accessing it from the top-level namespace will also be removed in the next version\n",
      "  elif _pandas and isinstance(level, (pd.DataFrame, pd.Series, pd.Panel)):\n",
      "/opt/conda/envs/metadensity/lib/python3.7/site-packages/pybedtools/bedtool.py:3706: UserWarning: Default names for filetype bed are:\n",
      "['chrom', 'start', 'end', 'name', 'score', 'strand', 'thickStart', 'thickEnd', 'itemRgb', 'blockCount', 'blockSizes', 'blockStarts']\n",
      "but file has 15 fields; you can supply custom names with the `names` kwarg\n",
      "  \"`names` kwarg\" % (self.file_type, _names, self.field_count())\n",
      "/opt/conda/envs/metadensity/lib/python3.7/site-packages/pybedtools/bedtool.py:3706: UserWarning: Default names for filetype bed are:\n",
      "['chrom', 'start', 'end', 'name', 'score', 'strand', 'thickStart', 'thickEnd', 'itemRgb', 'blockCount', 'blockSizes', 'blockStarts']\n",
      "but file has 15 fields; you can supply custom names with the `names` kwarg\n",
      "  \"`names` kwarg\" % (self.file_type, _names, self.field_count())\n"
     ]
    },
    {
     "name": "stdout",
     "output_type": "stream",
     "text": [
      "Intersection Set: 52\n",
      "53\n",
      "Using: /tscc/nfs/home/hsher/projects/Metadensity/metadensity/data/hg38/gencode\n",
      "Done building metagene\n"
     ]
    },
    {
     "name": "stderr",
     "output_type": "stream",
     "text": [
      "/opt/conda/envs/metadensity/lib/python3.7/site-packages/deepdish/io/hdf5io.py:251: FutureWarning: The Panel class is removed from pandas. Accessing it from the top-level namespace will also be removed in the next version\n",
      "  elif _pandas and isinstance(level, (pd.DataFrame, pd.Series, pd.Panel)):\n"
     ]
    },
    {
     "name": "stdout",
     "output_type": "stream",
     "text": [
      "RBM22\n"
     ]
    },
    {
     "name": "stderr",
     "output_type": "stream",
     "text": [
      "/opt/conda/envs/metadensity/lib/python3.7/site-packages/pybedtools/bedtool.py:3706: UserWarning: Default names for filetype bed are:\n",
      "['chrom', 'start', 'end', 'name', 'score', 'strand', 'thickStart', 'thickEnd', 'itemRgb', 'blockCount', 'blockSizes', 'blockStarts']\n",
      "but file has 15 fields; you can supply custom names with the `names` kwarg\n",
      "  \"`names` kwarg\" % (self.file_type, _names, self.field_count())\n",
      "/opt/conda/envs/metadensity/lib/python3.7/site-packages/pybedtools/bedtool.py:3706: UserWarning: Default names for filetype bed are:\n",
      "['chrom', 'start', 'end', 'name', 'score', 'strand', 'thickStart', 'thickEnd', 'itemRgb', 'blockCount', 'blockSizes', 'blockStarts']\n",
      "but file has 15 fields; you can supply custom names with the `names` kwarg\n",
      "  \"`names` kwarg\" % (self.file_type, _names, self.field_count())\n"
     ]
    },
    {
     "name": "stdout",
     "output_type": "stream",
     "text": [
      "Intersection Set: 6\n",
      "6\n",
      "Using: /tscc/nfs/home/hsher/projects/Metadensity/metadensity/data/hg38/gencode\n",
      "Done building metagene\n"
     ]
    },
    {
     "name": "stderr",
     "output_type": "stream",
     "text": [
      "/opt/conda/envs/metadensity/lib/python3.7/site-packages/deepdish/io/hdf5io.py:251: FutureWarning: The Panel class is removed from pandas. Accessing it from the top-level namespace will also be removed in the next version\n",
      "  elif _pandas and isinstance(level, (pd.DataFrame, pd.Series, pd.Panel)):\n",
      "/opt/conda/envs/metadensity/lib/python3.7/site-packages/pybedtools/bedtool.py:3706: UserWarning: Default names for filetype bed are:\n",
      "['chrom', 'start', 'end', 'name', 'score', 'strand', 'thickStart', 'thickEnd', 'itemRgb', 'blockCount', 'blockSizes', 'blockStarts']\n",
      "but file has 15 fields; you can supply custom names with the `names` kwarg\n",
      "  \"`names` kwarg\" % (self.file_type, _names, self.field_count())\n",
      "/opt/conda/envs/metadensity/lib/python3.7/site-packages/pybedtools/bedtool.py:3706: UserWarning: Default names for filetype bed are:\n",
      "['chrom', 'start', 'end', 'name', 'score', 'strand', 'thickStart', 'thickEnd', 'itemRgb', 'blockCount', 'blockSizes', 'blockStarts']\n",
      "but file has 15 fields; you can supply custom names with the `names` kwarg\n",
      "  \"`names` kwarg\" % (self.file_type, _names, self.field_count())\n"
     ]
    },
    {
     "name": "stdout",
     "output_type": "stream",
     "text": [
      "Intersection Set: 2\n",
      "2\n",
      "Using: /tscc/nfs/home/hsher/projects/Metadensity/metadensity/data/hg38/gencode\n",
      "Done building metagene\n",
      "EIF4B\n"
     ]
    },
    {
     "name": "stderr",
     "output_type": "stream",
     "text": [
      "/opt/conda/envs/metadensity/lib/python3.7/site-packages/deepdish/io/hdf5io.py:251: FutureWarning: The Panel class is removed from pandas. Accessing it from the top-level namespace will also be removed in the next version\n",
      "  elif _pandas and isinstance(level, (pd.DataFrame, pd.Series, pd.Panel)):\n",
      "/opt/conda/envs/metadensity/lib/python3.7/site-packages/pybedtools/bedtool.py:3706: UserWarning: Default names for filetype bed are:\n",
      "['chrom', 'start', 'end', 'name', 'score', 'strand', 'thickStart', 'thickEnd', 'itemRgb', 'blockCount', 'blockSizes', 'blockStarts']\n",
      "but file has 15 fields; you can supply custom names with the `names` kwarg\n",
      "  \"`names` kwarg\" % (self.file_type, _names, self.field_count())\n",
      "/opt/conda/envs/metadensity/lib/python3.7/site-packages/pybedtools/bedtool.py:3706: UserWarning: Default names for filetype bed are:\n",
      "['chrom', 'start', 'end', 'name', 'score', 'strand', 'thickStart', 'thickEnd', 'itemRgb', 'blockCount', 'blockSizes', 'blockStarts']\n",
      "but file has 15 fields; you can supply custom names with the `names` kwarg\n",
      "  \"`names` kwarg\" % (self.file_type, _names, self.field_count())\n"
     ]
    },
    {
     "name": "stdout",
     "output_type": "stream",
     "text": [
      "Intersection Set: 9\n",
      "9\n",
      "Using: /tscc/nfs/home/hsher/projects/Metadensity/metadensity/data/hg38/gencode\n",
      "Done building metagene\n"
     ]
    },
    {
     "name": "stderr",
     "output_type": "stream",
     "text": [
      "/opt/conda/envs/metadensity/lib/python3.7/site-packages/deepdish/io/hdf5io.py:251: FutureWarning: The Panel class is removed from pandas. Accessing it from the top-level namespace will also be removed in the next version\n",
      "  elif _pandas and isinstance(level, (pd.DataFrame, pd.Series, pd.Panel)):\n",
      "/opt/conda/envs/metadensity/lib/python3.7/site-packages/pybedtools/bedtool.py:3706: UserWarning: Default names for filetype bed are:\n",
      "['chrom', 'start', 'end', 'name', 'score', 'strand', 'thickStart', 'thickEnd', 'itemRgb', 'blockCount', 'blockSizes', 'blockStarts']\n",
      "but file has 15 fields; you can supply custom names with the `names` kwarg\n",
      "  \"`names` kwarg\" % (self.file_type, _names, self.field_count())\n",
      "/opt/conda/envs/metadensity/lib/python3.7/site-packages/pybedtools/bedtool.py:3706: UserWarning: Default names for filetype bed are:\n",
      "['chrom', 'start', 'end', 'name', 'score', 'strand', 'thickStart', 'thickEnd', 'itemRgb', 'blockCount', 'blockSizes', 'blockStarts']\n",
      "but file has 15 fields; you can supply custom names with the `names` kwarg\n",
      "  \"`names` kwarg\" % (self.file_type, _names, self.field_count())\n"
     ]
    },
    {
     "name": "stdout",
     "output_type": "stream",
     "text": [
      "Intersection Set: 27\n",
      "27\n",
      "Using: /tscc/nfs/home/hsher/projects/Metadensity/metadensity/data/hg38/gencode\n",
      "Done building metagene\n"
     ]
    },
    {
     "name": "stderr",
     "output_type": "stream",
     "text": [
      "/opt/conda/envs/metadensity/lib/python3.7/site-packages/deepdish/io/hdf5io.py:251: FutureWarning: The Panel class is removed from pandas. Accessing it from the top-level namespace will also be removed in the next version\n",
      "  elif _pandas and isinstance(level, (pd.DataFrame, pd.Series, pd.Panel)):\n"
     ]
    },
    {
     "name": "stdout",
     "output_type": "stream",
     "text": [
      "ZC3HAV1\n"
     ]
    },
    {
     "name": "stderr",
     "output_type": "stream",
     "text": [
      "/opt/conda/envs/metadensity/lib/python3.7/site-packages/pybedtools/bedtool.py:3706: UserWarning: Default names for filetype bed are:\n",
      "['chrom', 'start', 'end', 'name', 'score', 'strand', 'thickStart', 'thickEnd', 'itemRgb', 'blockCount', 'blockSizes', 'blockStarts']\n",
      "but file has 15 fields; you can supply custom names with the `names` kwarg\n",
      "  \"`names` kwarg\" % (self.file_type, _names, self.field_count())\n",
      "/opt/conda/envs/metadensity/lib/python3.7/site-packages/pybedtools/bedtool.py:3706: UserWarning: Default names for filetype bed are:\n",
      "['chrom', 'start', 'end', 'name', 'score', 'strand', 'thickStart', 'thickEnd', 'itemRgb', 'blockCount', 'blockSizes', 'blockStarts']\n",
      "but file has 15 fields; you can supply custom names with the `names` kwarg\n",
      "  \"`names` kwarg\" % (self.file_type, _names, self.field_count())\n"
     ]
    },
    {
     "name": "stdout",
     "output_type": "stream",
     "text": [
      "Intersection Set: 264\n",
      "264\n",
      "Using: /tscc/nfs/home/hsher/projects/Metadensity/metadensity/data/hg38/gencode\n",
      "Done building metagene\n"
     ]
    },
    {
     "name": "stderr",
     "output_type": "stream",
     "text": [
      "/opt/conda/envs/metadensity/lib/python3.7/site-packages/deepdish/io/hdf5io.py:251: FutureWarning: The Panel class is removed from pandas. Accessing it from the top-level namespace will also be removed in the next version\n",
      "  elif _pandas and isinstance(level, (pd.DataFrame, pd.Series, pd.Panel)):\n",
      "/opt/conda/envs/metadensity/lib/python3.7/site-packages/pybedtools/bedtool.py:3706: UserWarning: Default names for filetype bed are:\n",
      "['chrom', 'start', 'end', 'name', 'score', 'strand', 'thickStart', 'thickEnd', 'itemRgb', 'blockCount', 'blockSizes', 'blockStarts']\n",
      "but file has 15 fields; you can supply custom names with the `names` kwarg\n",
      "  \"`names` kwarg\" % (self.file_type, _names, self.field_count())\n",
      "/opt/conda/envs/metadensity/lib/python3.7/site-packages/pybedtools/bedtool.py:3706: UserWarning: Default names for filetype bed are:\n",
      "['chrom', 'start', 'end', 'name', 'score', 'strand', 'thickStart', 'thickEnd', 'itemRgb', 'blockCount', 'blockSizes', 'blockStarts']\n",
      "but file has 15 fields; you can supply custom names with the `names` kwarg\n",
      "  \"`names` kwarg\" % (self.file_type, _names, self.field_count())\n"
     ]
    },
    {
     "name": "stdout",
     "output_type": "stream",
     "text": [
      "Intersection Set: 129\n",
      "130\n",
      "Using: /tscc/nfs/home/hsher/projects/Metadensity/metadensity/data/hg38/gencode\n",
      "Done building metagene\n",
      "need at least one array to concatenate\n",
      "RBM5\n"
     ]
    },
    {
     "name": "stderr",
     "output_type": "stream",
     "text": [
      "/opt/conda/envs/metadensity/lib/python3.7/site-packages/deepdish/io/hdf5io.py:251: FutureWarning: The Panel class is removed from pandas. Accessing it from the top-level namespace will also be removed in the next version\n",
      "  elif _pandas and isinstance(level, (pd.DataFrame, pd.Series, pd.Panel)):\n",
      "/opt/conda/envs/metadensity/lib/python3.7/site-packages/pybedtools/bedtool.py:3706: UserWarning: Default names for filetype bed are:\n",
      "['chrom', 'start', 'end', 'name', 'score', 'strand', 'thickStart', 'thickEnd', 'itemRgb', 'blockCount', 'blockSizes', 'blockStarts']\n",
      "but file has 15 fields; you can supply custom names with the `names` kwarg\n",
      "  \"`names` kwarg\" % (self.file_type, _names, self.field_count())\n",
      "/opt/conda/envs/metadensity/lib/python3.7/site-packages/pybedtools/bedtool.py:3706: UserWarning: Default names for filetype bed are:\n",
      "['chrom', 'start', 'end', 'name', 'score', 'strand', 'thickStart', 'thickEnd', 'itemRgb', 'blockCount', 'blockSizes', 'blockStarts']\n",
      "but file has 15 fields; you can supply custom names with the `names` kwarg\n",
      "  \"`names` kwarg\" % (self.file_type, _names, self.field_count())\n"
     ]
    },
    {
     "name": "stdout",
     "output_type": "stream",
     "text": [
      "Intersection Set: 6\n",
      "6\n",
      "Using: /tscc/nfs/home/hsher/projects/Metadensity/metadensity/data/hg38/gencode\n",
      "Done building metagene\n"
     ]
    },
    {
     "name": "stderr",
     "output_type": "stream",
     "text": [
      "/opt/conda/envs/metadensity/lib/python3.7/site-packages/deepdish/io/hdf5io.py:251: FutureWarning: The Panel class is removed from pandas. Accessing it from the top-level namespace will also be removed in the next version\n",
      "  elif _pandas and isinstance(level, (pd.DataFrame, pd.Series, pd.Panel)):\n",
      "/opt/conda/envs/metadensity/lib/python3.7/site-packages/pybedtools/bedtool.py:3706: UserWarning: Default names for filetype bed are:\n",
      "['chrom', 'start', 'end', 'name', 'score', 'strand', 'thickStart', 'thickEnd', 'itemRgb', 'blockCount', 'blockSizes', 'blockStarts']\n",
      "but file has 15 fields; you can supply custom names with the `names` kwarg\n",
      "  \"`names` kwarg\" % (self.file_type, _names, self.field_count())\n",
      "/opt/conda/envs/metadensity/lib/python3.7/site-packages/pybedtools/bedtool.py:3706: UserWarning: Default names for filetype bed are:\n",
      "['chrom', 'start', 'end', 'name', 'score', 'strand', 'thickStart', 'thickEnd', 'itemRgb', 'blockCount', 'blockSizes', 'blockStarts']\n",
      "but file has 15 fields; you can supply custom names with the `names` kwarg\n",
      "  \"`names` kwarg\" % (self.file_type, _names, self.field_count())\n"
     ]
    },
    {
     "name": "stdout",
     "output_type": "stream",
     "text": [
      "Intersection Set: 231\n",
      "231\n",
      "Using: /tscc/nfs/home/hsher/projects/Metadensity/metadensity/data/hg38/gencode\n",
      "Done building metagene\n"
     ]
    },
    {
     "name": "stderr",
     "output_type": "stream",
     "text": [
      "/opt/conda/envs/metadensity/lib/python3.7/site-packages/deepdish/io/hdf5io.py:251: FutureWarning: The Panel class is removed from pandas. Accessing it from the top-level namespace will also be removed in the next version\n",
      "  elif _pandas and isinstance(level, (pd.DataFrame, pd.Series, pd.Panel)):\n"
     ]
    },
    {
     "name": "stdout",
     "output_type": "stream",
     "text": [
      "ZMAT3\n"
     ]
    },
    {
     "name": "stderr",
     "output_type": "stream",
     "text": [
      "/opt/conda/envs/metadensity/lib/python3.7/site-packages/pybedtools/bedtool.py:3706: UserWarning: Default names for filetype bed are:\n",
      "['chrom', 'start', 'end', 'name', 'score', 'strand', 'thickStart', 'thickEnd', 'itemRgb', 'blockCount', 'blockSizes', 'blockStarts']\n",
      "but file has 15 fields; you can supply custom names with the `names` kwarg\n",
      "  \"`names` kwarg\" % (self.file_type, _names, self.field_count())\n",
      "/opt/conda/envs/metadensity/lib/python3.7/site-packages/pybedtools/bedtool.py:3706: UserWarning: Default names for filetype bed are:\n",
      "['chrom', 'start', 'end', 'name', 'score', 'strand', 'thickStart', 'thickEnd', 'itemRgb', 'blockCount', 'blockSizes', 'blockStarts']\n",
      "but file has 15 fields; you can supply custom names with the `names` kwarg\n",
      "  \"`names` kwarg\" % (self.file_type, _names, self.field_count())\n"
     ]
    },
    {
     "name": "stdout",
     "output_type": "stream",
     "text": [
      "Intersection Set: 11\n",
      "12\n",
      "Using: /tscc/nfs/home/hsher/projects/Metadensity/metadensity/data/hg38/gencode\n",
      "Done building metagene\n"
     ]
    },
    {
     "name": "stderr",
     "output_type": "stream",
     "text": [
      "/opt/conda/envs/metadensity/lib/python3.7/site-packages/deepdish/io/hdf5io.py:251: FutureWarning: The Panel class is removed from pandas. Accessing it from the top-level namespace will also be removed in the next version\n",
      "  elif _pandas and isinstance(level, (pd.DataFrame, pd.Series, pd.Panel)):\n",
      "/opt/conda/envs/metadensity/lib/python3.7/site-packages/pybedtools/bedtool.py:3706: UserWarning: Default names for filetype bed are:\n",
      "['chrom', 'start', 'end', 'name', 'score', 'strand', 'thickStart', 'thickEnd', 'itemRgb', 'blockCount', 'blockSizes', 'blockStarts']\n",
      "but file has 15 fields; you can supply custom names with the `names` kwarg\n",
      "  \"`names` kwarg\" % (self.file_type, _names, self.field_count())\n",
      "/opt/conda/envs/metadensity/lib/python3.7/site-packages/pybedtools/bedtool.py:3706: UserWarning: Default names for filetype bed are:\n",
      "['chrom', 'start', 'end', 'name', 'score', 'strand', 'thickStart', 'thickEnd', 'itemRgb', 'blockCount', 'blockSizes', 'blockStarts']\n",
      "but file has 15 fields; you can supply custom names with the `names` kwarg\n",
      "  \"`names` kwarg\" % (self.file_type, _names, self.field_count())\n"
     ]
    },
    {
     "name": "stdout",
     "output_type": "stream",
     "text": [
      "Intersection Set: 39\n",
      "39\n",
      "Using: /tscc/nfs/home/hsher/projects/Metadensity/metadensity/data/hg38/gencode\n",
      "Done building metagene\n"
     ]
    },
    {
     "name": "stderr",
     "output_type": "stream",
     "text": [
      "/opt/conda/envs/metadensity/lib/python3.7/site-packages/deepdish/io/hdf5io.py:251: FutureWarning: The Panel class is removed from pandas. Accessing it from the top-level namespace will also be removed in the next version\n",
      "  elif _pandas and isinstance(level, (pd.DataFrame, pd.Series, pd.Panel)):\n"
     ]
    }
   ],
   "source": [
    "reproducible_genes_df_prox = {}\n",
    "reproducible_genes_df_dist = {}\n",
    "all_meta_obj = {}\n",
    "\n",
    "for g in candidates:#['RBM22', 'RBM10', 'EIF4B', 'GRB2', 'CPSF6', 'CPSF5']:#'GRB2', 'RNPS1', 'RBM22', 'MBNL2', 'CPSF6', \n",
    "        all_meta_obj[g] = []\n",
    "        print(g)\n",
    "        #all_meta = []\n",
    "        for k in pas_table_dict:    \n",
    "\n",
    "            \n",
    "\n",
    "            if g =='NUDT21':\n",
    "                skipper_output_dir = Path(f'/tscc/nfs/home/pjaganna1/projects/apa_screen_yongsheng/eclip/skipper_runs/CPSF5/output/')\n",
    "                e_1 = eCLIP.from_series(get_file_path('CPSF5', skipper_output_dir))\n",
    "                geneids = find_gene_ids_with_reproducible_windows('CPSF5', skipper_output_dir)\n",
    "            else:\n",
    "                skipper_output_dir = Path(f'/tscc/nfs/home/pjaganna1/projects/apa_screen_yongsheng/eclip/skipper_runs/{g}/output/')\n",
    "                e_1 = eCLIP.from_series(get_file_path(g, skipper_output_dir))\n",
    "                geneids = find_gene_ids_with_reproducible_windows(g, skipper_output_dir)\n",
    "            prox_coord, dist_coord = polyAtype_specific_coords(pas_table_dict[k], g) # PAS TABLE HERE IS ALL TABLE, PROX OR DIST\n",
    "\n",
    "            # determine which transcript these are in\n",
    "            header = ['chrom', 'start', 'end', 'name', 'score', 'strand', 'attr']\n",
    "            prox_site_df = prox_coord.intersect(transcript,s = True, wb = True).to_dataframe(header = None)[[0,1,2,3,4,5,14]]\n",
    "            dist_site_df = dist_coord.intersect(transcript, s = True, wb = True).to_dataframe(header = None)[[0,1,2,3,4,5,14]]\n",
    "            prox_site_df.columns = header\n",
    "            dist_site_df.columns = header\n",
    "\n",
    "            prox_site_df['transcript_id']= prox_site_df['attr'].map(segment_transcript_name)\n",
    "            dist_site_df['transcript_id']= dist_site_df['attr'].map(segment_transcript_name)\n",
    "            prox_site_df['gene_name']= prox_site_df['attr'].map(segment_gene_name)\n",
    "            dist_site_df['gene_name']= dist_site_df['attr'].map(segment_gene_name)\n",
    "            kd_exp_meta= genes_of_interest(g, pas_table_dict[k])\n",
    "            add_feature_to_metagene(kd_exp_meta)\n",
    "            remove_features_noPA(kd_exp_meta)\n",
    "            all_meta_obj[g].append(build_idr_metadensity(e_1, g, kd_exp_meta, k))"
   ]
  }
 ],
 "metadata": {
  "kernelspec": {
   "display_name": "metadensity",
   "language": "python",
   "name": "metadensity"
  },
  "language_info": {
   "codemirror_mode": {
    "name": "ipython",
    "version": 3
   },
   "file_extension": ".py",
   "mimetype": "text/x-python",
   "name": "python",
   "nbconvert_exporter": "python",
   "pygments_lexer": "ipython3",
   "version": "3.7.12"
  }
 },
 "nbformat": 4,
 "nbformat_minor": 5
}
