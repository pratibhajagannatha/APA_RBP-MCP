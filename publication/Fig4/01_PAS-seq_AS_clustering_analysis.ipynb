{
 "cells": [
  {
   "cell_type": "code",
   "execution_count": 1,
   "id": "643cb225-f529-4a15-9e53-fe11df8563ad",
   "metadata": {},
   "outputs": [],
   "source": [
    "import os\n",
    "import pandas as pd\n",
    "import seaborn as sns\n",
    "import matplotlib.pyplot as plt\n",
    "import glob\n",
    "import tqdm\n",
    "import numpy as np"
   ]
  },
  {
   "cell_type": "code",
   "execution_count": 2,
   "id": "9ed80d60-6c00-4b7d-a96a-261eac348bfa",
   "metadata": {},
   "outputs": [],
   "source": [
    "gtf_path = '/tscc/nfs/home/pjaganna1/projects/apa_screen_yongsheng/apa_kd_data_graveley/refs/gencode.v43.annotation.gtf'"
   ]
  },
  {
   "cell_type": "code",
   "execution_count": 3,
   "id": "e1e66eb6-5b3c-4dd0-b540-58b40adac893",
   "metadata": {},
   "outputs": [],
   "source": [
    "gtf_df = pd.read_csv(gtf_path, sep='\\t', comment='#',header=None)\n",
    "gtf_df = gtf_df[gtf_df[2]=='transcript']\n",
    "gtf_df['transcript_id'] = gtf_df.apply(lambda x: x[8].split(';')[1].split('\\\"')[1], axis=1)\n",
    "gtf_df['gene_id'] = gtf_df.apply(lambda x: x[8].split(';')[0].split('\\\"')[1].split('.')[0], axis=1)\n",
    "gtf_df['gene_name'] = gtf_df.apply(lambda x: x[8].split(';')[3].split('\\\"')[1], axis=1)\n",
    "gene_id_gene_name = dict(zip(gtf_df.gene_id, gtf_df.gene_name))\n",
    "gene_name_gene_id = dict(zip(gtf_df.gene_name, gtf_df.gene_id))\n",
    "transcript_id_gene_name = dict(zip(gtf_df.transcript_id, gtf_df.gene_name))\n",
    "transcript_id_gene_id = dict(zip(gtf_df.transcript_id, gtf_df.gene_id))"
   ]
  },
  {
   "cell_type": "code",
   "execution_count": 4,
   "id": "aa47383b-551e-41a6-bd49-f7155b08efd4",
   "metadata": {},
   "outputs": [],
   "source": [
    "salmon_path = '/tscc/nfs/home/pjaganna1/projects/apa_screen_yongsheng/apa_kd_data_graveley_redo/salmon_out'"
   ]
  },
  {
   "cell_type": "code",
   "execution_count": 5,
   "id": "7fec1713-10e0-45b7-a0fe-9c5fb163ff57",
   "metadata": {},
   "outputs": [],
   "source": [
    "sequenced_samples = set([i.split('/')[-1].split('-')[0] for i in glob.glob(os.path.join(salmon_path, '*.sf'))])"
   ]
  },
  {
   "cell_type": "code",
   "execution_count": 6,
   "id": "b893bb03-debe-40f6-ba32-d53d2fbc8a7e",
   "metadata": {},
   "outputs": [],
   "source": [
    "candidates_list = pd.read_csv('./candidates_list_updated.txt', header=None)[0].tolist()"
   ]
  },
  {
   "cell_type": "code",
   "execution_count": 7,
   "id": "7756c7f1-0b86-4719-9f75-5d3807487571",
   "metadata": {},
   "outputs": [],
   "source": [
    "remove_candidates = ['GTSF1']"
   ]
  },
  {
   "cell_type": "code",
   "execution_count": 8,
   "id": "ad2e6790-1b57-4122-9c32-21f159efc7a7",
   "metadata": {},
   "outputs": [],
   "source": [
    "final_candidate_list = list((set(candidates_list).intersection(sequenced_samples)) - set(remove_candidates))"
   ]
  },
  {
   "cell_type": "code",
   "execution_count": 9,
   "id": "5c422fe4-4c87-44db-a64f-2afc8078c965",
   "metadata": {},
   "outputs": [
    {
     "data": {
      "text/plain": [
       "44"
      ]
     },
     "execution_count": 9,
     "metadata": {},
     "output_type": "execute_result"
    }
   ],
   "source": [
    "len(final_candidate_list)"
   ]
  },
  {
   "cell_type": "code",
   "execution_count": 10,
   "id": "b92a2c5a-5bad-44ee-a109-57c99dd279f0",
   "metadata": {},
   "outputs": [],
   "source": [
    "final_candidate_list = final_candidate_list + ['NUDT21']"
   ]
  },
  {
   "cell_type": "code",
   "execution_count": null,
   "id": "6cfe0db9-c9cb-44c0-9fd9-b522e400153c",
   "metadata": {},
   "outputs": [],
   "source": []
  },
  {
   "cell_type": "code",
   "execution_count": 11,
   "id": "2d469311-ad97-4593-bd3a-dc779ab34789",
   "metadata": {},
   "outputs": [],
   "source": [
    "#counts from all samples\n",
    "count_matrix = pd.read_csv('../count_matrix.txt', sep='\\t', index_col=0).dropna()"
   ]
  },
  {
   "cell_type": "code",
   "execution_count": 12,
   "id": "a1058f56-d270-4a12-a91a-630658638c37",
   "metadata": {},
   "outputs": [
    {
     "data": {
      "text/html": [
       "<div>\n",
       "<style scoped>\n",
       "    .dataframe tbody tr th:only-of-type {\n",
       "        vertical-align: middle;\n",
       "    }\n",
       "\n",
       "    .dataframe tbody tr th {\n",
       "        vertical-align: top;\n",
       "    }\n",
       "\n",
       "    .dataframe thead th {\n",
       "        text-align: right;\n",
       "    }\n",
       "</style>\n",
       "<table border=\"1\" class=\"dataframe\">\n",
       "  <thead>\n",
       "    <tr style=\"text-align: right;\">\n",
       "      <th></th>\n",
       "      <th>ZC3HAV1-BG293LV06-35</th>\n",
       "      <th>HNRNPF-BG293LV06-55</th>\n",
       "      <th>TPD52L2-BG293LV06-83B</th>\n",
       "      <th>LGALS3-BG293LV06-25</th>\n",
       "      <th>LUC7L-BG293LV06-103B</th>\n",
       "      <th>HNRNPH2-BG293LV06-72B</th>\n",
       "      <th>EIF4B-BG293LV06-16</th>\n",
       "      <th>ZMAT3-BG293LV06-79B</th>\n",
       "      <th>DDX17-BG293LV06-116B</th>\n",
       "      <th>RBM42-BG293LV06-86B</th>\n",
       "      <th>...</th>\n",
       "      <th>MBNL1-BG293LV06-17</th>\n",
       "      <th>LSM10-BG293LV06-66B</th>\n",
       "      <th>YWHAG-BG293LV06-75B</th>\n",
       "      <th>PARN-BG293LV06-27</th>\n",
       "      <th>MBNL2-BG293LV06-14</th>\n",
       "      <th>TOB2-BG293LV06-117B</th>\n",
       "      <th>SRP68-BG293LV06-53</th>\n",
       "      <th>TRNAU1AP-BG293LV06-32B</th>\n",
       "      <th>SMNDC1-BG293LV06-92B</th>\n",
       "      <th>LGALS3-BG293LV06-26</th>\n",
       "    </tr>\n",
       "    <tr>\n",
       "      <th>gene_name</th>\n",
       "      <th></th>\n",
       "      <th></th>\n",
       "      <th></th>\n",
       "      <th></th>\n",
       "      <th></th>\n",
       "      <th></th>\n",
       "      <th></th>\n",
       "      <th></th>\n",
       "      <th></th>\n",
       "      <th></th>\n",
       "      <th></th>\n",
       "      <th></th>\n",
       "      <th></th>\n",
       "      <th></th>\n",
       "      <th></th>\n",
       "      <th></th>\n",
       "      <th></th>\n",
       "      <th></th>\n",
       "      <th></th>\n",
       "      <th></th>\n",
       "      <th></th>\n",
       "    </tr>\n",
       "  </thead>\n",
       "  <tbody>\n",
       "    <tr>\n",
       "      <th>A1BG</th>\n",
       "      <td>12.0</td>\n",
       "      <td>16.0</td>\n",
       "      <td>22.0</td>\n",
       "      <td>14.000</td>\n",
       "      <td>11.001</td>\n",
       "      <td>13.0</td>\n",
       "      <td>15.944</td>\n",
       "      <td>16.063</td>\n",
       "      <td>23.415</td>\n",
       "      <td>15.199</td>\n",
       "      <td>...</td>\n",
       "      <td>18.0</td>\n",
       "      <td>10.972</td>\n",
       "      <td>34.335</td>\n",
       "      <td>18.289</td>\n",
       "      <td>10.0</td>\n",
       "      <td>12.007</td>\n",
       "      <td>15.002</td>\n",
       "      <td>22.021</td>\n",
       "      <td>21.928</td>\n",
       "      <td>3.006</td>\n",
       "    </tr>\n",
       "    <tr>\n",
       "      <th>A1CF</th>\n",
       "      <td>0.0</td>\n",
       "      <td>0.0</td>\n",
       "      <td>0.0</td>\n",
       "      <td>0.000</td>\n",
       "      <td>0.000</td>\n",
       "      <td>0.0</td>\n",
       "      <td>0.000</td>\n",
       "      <td>0.000</td>\n",
       "      <td>0.000</td>\n",
       "      <td>0.000</td>\n",
       "      <td>...</td>\n",
       "      <td>0.0</td>\n",
       "      <td>0.000</td>\n",
       "      <td>0.000</td>\n",
       "      <td>0.000</td>\n",
       "      <td>0.0</td>\n",
       "      <td>0.000</td>\n",
       "      <td>0.000</td>\n",
       "      <td>0.000</td>\n",
       "      <td>0.000</td>\n",
       "      <td>0.000</td>\n",
       "    </tr>\n",
       "    <tr>\n",
       "      <th>A2M</th>\n",
       "      <td>1.0</td>\n",
       "      <td>0.0</td>\n",
       "      <td>0.0</td>\n",
       "      <td>0.000</td>\n",
       "      <td>1.000</td>\n",
       "      <td>0.0</td>\n",
       "      <td>0.000</td>\n",
       "      <td>0.000</td>\n",
       "      <td>0.000</td>\n",
       "      <td>0.000</td>\n",
       "      <td>...</td>\n",
       "      <td>0.0</td>\n",
       "      <td>0.000</td>\n",
       "      <td>2.000</td>\n",
       "      <td>1.000</td>\n",
       "      <td>0.0</td>\n",
       "      <td>0.000</td>\n",
       "      <td>0.000</td>\n",
       "      <td>2.000</td>\n",
       "      <td>0.000</td>\n",
       "      <td>0.000</td>\n",
       "    </tr>\n",
       "    <tr>\n",
       "      <th>A2ML1</th>\n",
       "      <td>5.0</td>\n",
       "      <td>7.0</td>\n",
       "      <td>16.0</td>\n",
       "      <td>4.002</td>\n",
       "      <td>3.944</td>\n",
       "      <td>4.0</td>\n",
       "      <td>3.000</td>\n",
       "      <td>15.000</td>\n",
       "      <td>7.008</td>\n",
       "      <td>7.000</td>\n",
       "      <td>...</td>\n",
       "      <td>3.0</td>\n",
       "      <td>2.000</td>\n",
       "      <td>4.140</td>\n",
       "      <td>4.000</td>\n",
       "      <td>5.0</td>\n",
       "      <td>5.000</td>\n",
       "      <td>9.000</td>\n",
       "      <td>6.000</td>\n",
       "      <td>5.000</td>\n",
       "      <td>5.297</td>\n",
       "    </tr>\n",
       "    <tr>\n",
       "      <th>A3GALT2</th>\n",
       "      <td>0.0</td>\n",
       "      <td>0.0</td>\n",
       "      <td>0.0</td>\n",
       "      <td>1.000</td>\n",
       "      <td>0.000</td>\n",
       "      <td>0.0</td>\n",
       "      <td>1.000</td>\n",
       "      <td>1.000</td>\n",
       "      <td>0.000</td>\n",
       "      <td>0.000</td>\n",
       "      <td>...</td>\n",
       "      <td>0.0</td>\n",
       "      <td>0.000</td>\n",
       "      <td>0.000</td>\n",
       "      <td>0.000</td>\n",
       "      <td>2.0</td>\n",
       "      <td>1.000</td>\n",
       "      <td>0.000</td>\n",
       "      <td>0.000</td>\n",
       "      <td>0.000</td>\n",
       "      <td>0.000</td>\n",
       "    </tr>\n",
       "  </tbody>\n",
       "</table>\n",
       "<p>5 rows × 132 columns</p>\n",
       "</div>"
      ],
      "text/plain": [
       "           ZC3HAV1-BG293LV06-35  HNRNPF-BG293LV06-55  TPD52L2-BG293LV06-83B  \\\n",
       "gene_name                                                                     \n",
       "A1BG                       12.0                 16.0                   22.0   \n",
       "A1CF                        0.0                  0.0                    0.0   \n",
       "A2M                         1.0                  0.0                    0.0   \n",
       "A2ML1                       5.0                  7.0                   16.0   \n",
       "A3GALT2                     0.0                  0.0                    0.0   \n",
       "\n",
       "           LGALS3-BG293LV06-25  LUC7L-BG293LV06-103B  HNRNPH2-BG293LV06-72B  \\\n",
       "gene_name                                                                     \n",
       "A1BG                    14.000                11.001                   13.0   \n",
       "A1CF                     0.000                 0.000                    0.0   \n",
       "A2M                      0.000                 1.000                    0.0   \n",
       "A2ML1                    4.002                 3.944                    4.0   \n",
       "A3GALT2                  1.000                 0.000                    0.0   \n",
       "\n",
       "           EIF4B-BG293LV06-16  ZMAT3-BG293LV06-79B  DDX17-BG293LV06-116B  \\\n",
       "gene_name                                                                  \n",
       "A1BG                   15.944               16.063                23.415   \n",
       "A1CF                    0.000                0.000                 0.000   \n",
       "A2M                     0.000                0.000                 0.000   \n",
       "A2ML1                   3.000               15.000                 7.008   \n",
       "A3GALT2                 1.000                1.000                 0.000   \n",
       "\n",
       "           RBM42-BG293LV06-86B  ...  MBNL1-BG293LV06-17  LSM10-BG293LV06-66B  \\\n",
       "gene_name                       ...                                            \n",
       "A1BG                    15.199  ...                18.0               10.972   \n",
       "A1CF                     0.000  ...                 0.0                0.000   \n",
       "A2M                      0.000  ...                 0.0                0.000   \n",
       "A2ML1                    7.000  ...                 3.0                2.000   \n",
       "A3GALT2                  0.000  ...                 0.0                0.000   \n",
       "\n",
       "           YWHAG-BG293LV06-75B  PARN-BG293LV06-27  MBNL2-BG293LV06-14  \\\n",
       "gene_name                                                               \n",
       "A1BG                    34.335             18.289                10.0   \n",
       "A1CF                     0.000              0.000                 0.0   \n",
       "A2M                      2.000              1.000                 0.0   \n",
       "A2ML1                    4.140              4.000                 5.0   \n",
       "A3GALT2                  0.000              0.000                 2.0   \n",
       "\n",
       "           TOB2-BG293LV06-117B  SRP68-BG293LV06-53  TRNAU1AP-BG293LV06-32B  \\\n",
       "gene_name                                                                    \n",
       "A1BG                    12.007              15.002                  22.021   \n",
       "A1CF                     0.000               0.000                   0.000   \n",
       "A2M                      0.000               0.000                   2.000   \n",
       "A2ML1                    5.000               9.000                   6.000   \n",
       "A3GALT2                  1.000               0.000                   0.000   \n",
       "\n",
       "           SMNDC1-BG293LV06-92B  LGALS3-BG293LV06-26  \n",
       "gene_name                                             \n",
       "A1BG                     21.928                3.006  \n",
       "A1CF                      0.000                0.000  \n",
       "A2M                       0.000                0.000  \n",
       "A2ML1                     5.000                5.297  \n",
       "A3GALT2                   0.000                0.000  \n",
       "\n",
       "[5 rows x 132 columns]"
      ]
     },
     "execution_count": 12,
     "metadata": {},
     "output_type": "execute_result"
    }
   ],
   "source": [
    "count_matrix.head()"
   ]
  },
  {
   "cell_type": "code",
   "execution_count": 13,
   "id": "e5fd5b92-53bf-4352-b50f-f2f9ee36da53",
   "metadata": {},
   "outputs": [],
   "source": [
    "all_rbps = set([i.split('-')[0] for i in count_matrix.columns])"
   ]
  },
  {
   "cell_type": "code",
   "execution_count": 14,
   "id": "fc0bdc01-f104-442a-8f81-0bdd026b76c6",
   "metadata": {},
   "outputs": [],
   "source": [
    "# Determined from thresholding analysis\n",
    "read_filter =50"
   ]
  },
  {
   "cell_type": "code",
   "execution_count": 15,
   "id": "9a6bb642-a6a4-453d-ab6a-45e41c34522d",
   "metadata": {},
   "outputs": [],
   "source": [
    "read_thresholded_genes_as = {}\n",
    "for rbp in all_rbps:\n",
    "    subset_cm = count_matrix[[i for i in count_matrix.columns if rbp in i]]\n",
    "    read_thresholded_genes_as[rbp] = subset_cm[(subset_cm.iloc[:, 0] > read_filter) & (subset_cm.iloc[:, 1] > read_filter)].index.tolist()\n"
   ]
  },
  {
   "cell_type": "markdown",
   "id": "a9ec0e61-34aa-41d4-b568-cd9a0ed6fc48",
   "metadata": {},
   "source": [
    "#### Read in AS analysis"
   ]
  },
  {
   "cell_type": "code",
   "execution_count": 16,
   "id": "15f90e51-c59b-4f9c-a9e2-55bb0f46c776",
   "metadata": {},
   "outputs": [],
   "source": [
    "table_dir = '/tscc/nfs/home/pjaganna1/projects/apa_screen_yongsheng/apa_kd_data_graveley_redo/dif_as'"
   ]
  },
  {
   "cell_type": "code",
   "execution_count": 17,
   "id": "a5844013-b033-4a7d-8bf4-8d23208fd697",
   "metadata": {},
   "outputs": [],
   "source": [
    "AS_dict = {}\n",
    "for path in glob.glob(os.path.join(table_dir, '*/*.JC.txt')):\n",
    "    rbp = path.split('/')[-2]\n",
    "    if rbp in final_candidate_list:\n",
    "        if rbp not in AS_dict:\n",
    "            AS_dict[rbp] = {}\n",
    "        event_type = path.split('/')[-1].split('.')[0]\n",
    "        read_df = pd.read_csv(path, sep='\\t')[['geneSymbol', 'PValue', 'FDR', 'IncLevelDifference']]\n",
    "        read_df = read_df[(read_df['geneSymbol'].isin(set(read_thresholded_genes_as[rbp]).intersection(set(read_thresholded_genes_as['NT']))))  & (read_df['FDR'] < 0.5) & (np.abs(read_df['IncLevelDifference'])> 0.2)]\n",
    "        read_df['|IncLevelDifference|'] = np.abs(read_df['IncLevelDifference'])\n",
    "        AS_dict[rbp][event_type] = read_df"
   ]
  },
  {
   "cell_type": "code",
   "execution_count": 18,
   "id": "01c6ae72-50c1-45dd-8fa4-453acd5c5e79",
   "metadata": {},
   "outputs": [],
   "source": [
    "AS_df = []\n",
    "for c in AS_dict:\n",
    "    c_data = [c]\n",
    "    for e in ['SE', 'A5SS', 'A3SS', 'RI']:\n",
    "        if e in AS_dict[c]:\n",
    "            c_data.append(AS_dict[c][e][(AS_dict[c][e]['FDR'] <0.5) & (np.abs(AS_dict[c][e]['IncLevelDifference']) > 0.2)].drop_duplicates(subset='geneSymbol').shape[0])\n",
    "        else:\n",
    "            c_data.append(0)\n",
    "    AS_df.append(c_data)"
   ]
  },
  {
   "cell_type": "code",
   "execution_count": 19,
   "id": "a36cd762-cd8d-4a25-bd74-d675812aefa1",
   "metadata": {},
   "outputs": [],
   "source": [
    "sig_AS = {}\n",
    "for rbp in AS_dict:\n",
    "    sig_genes = []\n",
    "    for event in AS_dict[rbp]:\n",
    "        sig_genes += AS_dict[rbp][event]['geneSymbol'].tolist()\n",
    "    sig_AS[rbp] = list(set(sig_genes))"
   ]
  },
  {
   "cell_type": "code",
   "execution_count": 20,
   "id": "59e738f4-9780-451c-b0fc-d82b946cc03d",
   "metadata": {},
   "outputs": [],
   "source": [
    "AS = pd.DataFrame(AS_df, columns=['candidate','SE', 'A5SS', 'A3SS', 'RI'])"
   ]
  },
  {
   "cell_type": "code",
   "execution_count": 21,
   "id": "a7377a2e-b39a-4df4-b734-8cb780aa0909",
   "metadata": {},
   "outputs": [
    {
     "data": {
      "text/html": [
       "<div>\n",
       "<style scoped>\n",
       "    .dataframe tbody tr th:only-of-type {\n",
       "        vertical-align: middle;\n",
       "    }\n",
       "\n",
       "    .dataframe tbody tr th {\n",
       "        vertical-align: top;\n",
       "    }\n",
       "\n",
       "    .dataframe thead th {\n",
       "        text-align: right;\n",
       "    }\n",
       "</style>\n",
       "<table border=\"1\" class=\"dataframe\">\n",
       "  <thead>\n",
       "    <tr style=\"text-align: right;\">\n",
       "      <th></th>\n",
       "      <th>candidate</th>\n",
       "      <th>SE</th>\n",
       "      <th>A5SS</th>\n",
       "      <th>A3SS</th>\n",
       "      <th>RI</th>\n",
       "    </tr>\n",
       "  </thead>\n",
       "  <tbody>\n",
       "    <tr>\n",
       "      <th>0</th>\n",
       "      <td>WDR6</td>\n",
       "      <td>859</td>\n",
       "      <td>136</td>\n",
       "      <td>178</td>\n",
       "      <td>294</td>\n",
       "    </tr>\n",
       "    <tr>\n",
       "      <th>1</th>\n",
       "      <td>EIF4B</td>\n",
       "      <td>575</td>\n",
       "      <td>80</td>\n",
       "      <td>121</td>\n",
       "      <td>181</td>\n",
       "    </tr>\n",
       "    <tr>\n",
       "      <th>2</th>\n",
       "      <td>RBM14</td>\n",
       "      <td>838</td>\n",
       "      <td>106</td>\n",
       "      <td>138</td>\n",
       "      <td>216</td>\n",
       "    </tr>\n",
       "    <tr>\n",
       "      <th>3</th>\n",
       "      <td>LSM10</td>\n",
       "      <td>659</td>\n",
       "      <td>110</td>\n",
       "      <td>110</td>\n",
       "      <td>177</td>\n",
       "    </tr>\n",
       "    <tr>\n",
       "      <th>4</th>\n",
       "      <td>PRRC2B</td>\n",
       "      <td>1354</td>\n",
       "      <td>185</td>\n",
       "      <td>175</td>\n",
       "      <td>255</td>\n",
       "    </tr>\n",
       "  </tbody>\n",
       "</table>\n",
       "</div>"
      ],
      "text/plain": [
       "  candidate    SE  A5SS  A3SS   RI\n",
       "0      WDR6   859   136   178  294\n",
       "1     EIF4B   575    80   121  181\n",
       "2     RBM14   838   106   138  216\n",
       "3     LSM10   659   110   110  177\n",
       "4    PRRC2B  1354   185   175  255"
      ]
     },
     "execution_count": 21,
     "metadata": {},
     "output_type": "execute_result"
    }
   ],
   "source": [
    "AS.head()"
   ]
  },
  {
   "cell_type": "code",
   "execution_count": 22,
   "id": "29594b7f-ba76-4470-a89d-5ffe325af4ab",
   "metadata": {},
   "outputs": [],
   "source": [
    "AS_subset = AS[AS['candidate'].isin(final_candidate_list)]"
   ]
  },
  {
   "cell_type": "code",
   "execution_count": 23,
   "id": "8d7b3e32-203c-4a40-8673-727861bf73c5",
   "metadata": {},
   "outputs": [],
   "source": [
    "AS_subset = AS_subset.set_index('candidate')"
   ]
  },
  {
   "cell_type": "code",
   "execution_count": 24,
   "id": "a38c894e-96da-44aa-81a2-cf874b451f74",
   "metadata": {},
   "outputs": [],
   "source": [
    "colorblind_palette = [\"#0072B2\", \"#D55E00\", \"#CC79A7\", \"#F0E442\", \"#009E73\"]"
   ]
  },
  {
   "cell_type": "code",
   "execution_count": 25,
   "id": "2b05c57e-c838-4239-9670-65e489f15e7e",
   "metadata": {},
   "outputs": [
    {
     "data": {
      "text/html": [
       "<div>\n",
       "<style scoped>\n",
       "    .dataframe tbody tr th:only-of-type {\n",
       "        vertical-align: middle;\n",
       "    }\n",
       "\n",
       "    .dataframe tbody tr th {\n",
       "        vertical-align: top;\n",
       "    }\n",
       "\n",
       "    .dataframe thead th {\n",
       "        text-align: right;\n",
       "    }\n",
       "</style>\n",
       "<table border=\"1\" class=\"dataframe\">\n",
       "  <thead>\n",
       "    <tr style=\"text-align: right;\">\n",
       "      <th></th>\n",
       "      <th>SE</th>\n",
       "      <th>A5SS</th>\n",
       "      <th>A3SS</th>\n",
       "      <th>RI</th>\n",
       "    </tr>\n",
       "    <tr>\n",
       "      <th>candidate</th>\n",
       "      <th></th>\n",
       "      <th></th>\n",
       "      <th></th>\n",
       "      <th></th>\n",
       "    </tr>\n",
       "  </thead>\n",
       "  <tbody>\n",
       "    <tr>\n",
       "      <th>WDR6</th>\n",
       "      <td>859</td>\n",
       "      <td>136</td>\n",
       "      <td>178</td>\n",
       "      <td>294</td>\n",
       "    </tr>\n",
       "    <tr>\n",
       "      <th>EIF4B</th>\n",
       "      <td>575</td>\n",
       "      <td>80</td>\n",
       "      <td>121</td>\n",
       "      <td>181</td>\n",
       "    </tr>\n",
       "    <tr>\n",
       "      <th>RBM14</th>\n",
       "      <td>838</td>\n",
       "      <td>106</td>\n",
       "      <td>138</td>\n",
       "      <td>216</td>\n",
       "    </tr>\n",
       "    <tr>\n",
       "      <th>LSM10</th>\n",
       "      <td>659</td>\n",
       "      <td>110</td>\n",
       "      <td>110</td>\n",
       "      <td>177</td>\n",
       "    </tr>\n",
       "    <tr>\n",
       "      <th>PRRC2B</th>\n",
       "      <td>1354</td>\n",
       "      <td>185</td>\n",
       "      <td>175</td>\n",
       "      <td>255</td>\n",
       "    </tr>\n",
       "  </tbody>\n",
       "</table>\n",
       "</div>"
      ],
      "text/plain": [
       "             SE  A5SS  A3SS   RI\n",
       "candidate                       \n",
       "WDR6        859   136   178  294\n",
       "EIF4B       575    80   121  181\n",
       "RBM14       838   106   138  216\n",
       "LSM10       659   110   110  177\n",
       "PRRC2B     1354   185   175  255"
      ]
     },
     "execution_count": 25,
     "metadata": {},
     "output_type": "execute_result"
    }
   ],
   "source": [
    "AS_subset.head(5)"
   ]
  },
  {
   "cell_type": "markdown",
   "id": "214c31aa-d954-462e-89f7-6141e84d47a8",
   "metadata": {},
   "source": [
    "#### Read in PAS-seq analysis"
   ]
  },
  {
   "cell_type": "code",
   "execution_count": 26,
   "id": "88b0a4b9-3430-477d-8656-d1a43356d206",
   "metadata": {},
   "outputs": [],
   "source": [
    "pas_dir = '/tscc/nfs/home/pjaganna1/projects/apa_screen_yongsheng/apa_kd_data_graveley_redo/dif_apa/pas_seq'"
   ]
  },
  {
   "cell_type": "code",
   "execution_count": 27,
   "id": "b272bd6e-b4b9-4fce-a18f-af6612259e31",
   "metadata": {},
   "outputs": [],
   "source": [
    "def return_class(df):\n",
    "    if df['log(treatment.p/treatment.d)'] > df['log(Ctrl.p/Ctrl.d)']:\n",
    "        return 'proximal'\n",
    "    elif df['log(treatment.p/treatment.d)'] < df['log(Ctrl.p/Ctrl.d)']:\n",
    "        return 'distal'\n",
    "\n",
    "def calc_pas_ratio(df):\n",
    "    return df['log(treatment.p/treatment.d)'] - df['log(Ctrl.p/Ctrl.d)']"
   ]
  },
  {
   "cell_type": "code",
   "execution_count": 28,
   "id": "cb9e6549-726b-4b2c-8e9b-0128d1d63e97",
   "metadata": {},
   "outputs": [],
   "source": [
    "sig_PAS_events = {}\n",
    "sig_PAS = {}\n",
    "for rbp_table in glob.glob(os.path.join(pas_dir, '*_APA_table.txt')):\n",
    "    test = pd.read_csv(rbp_table, sep='\\t')\n",
    "    test['treatment.p + 1'] = test['treatment.p'] + 1\n",
    "    test['treatment.d + 1'] = test['treatment.d'] + 1\n",
    "    test['Ctrl.p + 1'] = test['Ctrl.p'] + 1\n",
    "    test['Ctrl.d + 1'] = test['Ctrl.d'] + 1\n",
    "    test['log(treatment.p/treatment.d)'] = test.apply(lambda x: np.log2(x['treatment.p + 1']/x['treatment.d + 1']), axis=1)\n",
    "    test['log(Ctrl.p/Ctrl.d)'] = test.apply(lambda x: np.log2(x['Ctrl.p + 1']/x['Ctrl.d + 1']), axis=1)\n",
    "    test['dif'] = test.apply(calc_pas_ratio, axis=1)\n",
    "    test['apa_class'] = test.apply(return_class, axis=1)\n",
    "    test['apa_type'] = test.apply(lambda x: f\"{x['TYPE.p']}_{x['TYPE.d']}\", axis=1)\n",
    "    test = test[test['apa_type'].isin(['LastExon_LastExon', 'Intron_LastExon','Intron_Intron'])]\n",
    "    sig_PAS_events[ rbp_table.split('/')[-1].split('_')[1]] = test\n",
    "    sig_PAS[ rbp_table.split('/')[-1].split('_')[1]] =test['SYMBOL'].tolist()"
   ]
  },
  {
   "cell_type": "code",
   "execution_count": 62,
   "id": "61111727-aeee-4151-ace8-0ceed95b3521",
   "metadata": {},
   "outputs": [],
   "source": [
    "apa_paper_table = pd.DataFrame()\n",
    "for n in sig_PAS_events:\n",
    "    o = sig_PAS_events[n].groupby(['apa_type', 'apa_class']).count().reset_index()\n",
    "    o['key'] = o.apply(lambda x: f\"{x['apa_type']}_{x['apa_class']}\", axis=1)\n",
    "    o_k = o[['key', 'SYMBOL']].set_index('key').rename(columns={'SYMBOL':n}).copy()\n",
    "    apa_paper_table = pd.concat([apa_paper_table, o_k.T])"
   ]
  },
  {
   "cell_type": "code",
   "execution_count": 65,
   "id": "bd9d5584-a701-47ea-bd93-7d3eea769b2e",
   "metadata": {},
   "outputs": [],
   "source": [
    "apa_paper_table['Total'] = apa_paper_table.sum(axis=1)"
   ]
  },
  {
   "cell_type": "code",
   "execution_count": 68,
   "id": "6a4ca1f1-5629-4a5c-a541-7126de36c8eb",
   "metadata": {},
   "outputs": [],
   "source": [
    "apa_paper_table.fillna(0).to_csv('APA_paper_event_tableY.txt', sep='\\t')"
   ]
  },
  {
   "cell_type": "code",
   "execution_count": 29,
   "id": "5c74506d-0208-4a19-9ca1-f0a3f63802b2",
   "metadata": {},
   "outputs": [],
   "source": [
    "all_pas_event_counts = pd.DataFrame()\n",
    "for r in sig_PAS_events:\n",
    "    events_tmp = sig_PAS_events[r].groupby(['apa_class', 'apa_type']).count().reset_index().copy()\n",
    "    events_tmp = events_tmp.rename(columns={'SYMBOL': r})\n",
    "    events_tmp['key'] = events_tmp.apply(lambda x: f'{x[\"apa_class\"]}_{x[\"apa_type\"]}', axis=1)\n",
    "    events_tmp = events_tmp.set_index('key')\n",
    "    events_tmp[r] = events_tmp[r].astype('Int64')\n",
    "    all_pas_event_counts = pd.concat([all_pas_event_counts,events_tmp[[r ]]], axis=1)\n",
    "    "
   ]
  },
  {
   "cell_type": "code",
   "execution_count": 30,
   "id": "aa0d8346-2b83-4813-8d52-e8bf55af994f",
   "metadata": {},
   "outputs": [
    {
     "data": {
      "text/plain": [
       "(49, 6)"
      ]
     },
     "execution_count": 30,
     "metadata": {},
     "output_type": "execute_result"
    }
   ],
   "source": [
    "all_pas_event_counts.T.fillna(0).shape"
   ]
  },
  {
   "cell_type": "code",
   "execution_count": 31,
   "id": "372d08d4-9c15-466f-b1c5-31104814d22a",
   "metadata": {},
   "outputs": [],
   "source": [
    "#all_pas_event_counts.T.fillna(0).to_csv('all_pass_events_table_for_revision.txt', sep='\\t')"
   ]
  },
  {
   "cell_type": "code",
   "execution_count": 32,
   "id": "586140f2-babf-48b5-b166-122d546538b3",
   "metadata": {},
   "outputs": [],
   "source": [
    "lengthening = []\n",
    "shortening = []\n",
    "rbp_list = []\n",
    "for key in sig_PAS_events:\n",
    "    if key in final_candidate_list:\n",
    "        num_distal = sig_PAS_events[key][sig_PAS_events[key]['apa_class']=='distal'].shape[0]\n",
    "        num_proximal = sig_PAS_events[key][sig_PAS_events[key]['apa_class']=='proximal'].shape[0]\n",
    "        lengthening.append(num_distal)\n",
    "        shortening.append(-num_proximal)\n",
    "        rbp_list.append(key)"
   ]
  },
  {
   "cell_type": "code",
   "execution_count": 33,
   "id": "f3e51730-871a-459c-97c2-934336545674",
   "metadata": {},
   "outputs": [],
   "source": [
    "passeq_events = pd.DataFrame([rbp_list, lengthening, shortening], ['RBP', 'distal', 'proximal']).T"
   ]
  },
  {
   "cell_type": "code",
   "execution_count": 34,
   "id": "59a26e09-c8dc-466b-8044-34443bd7c67b",
   "metadata": {},
   "outputs": [
    {
     "data": {
      "text/html": [
       "<div>\n",
       "<style scoped>\n",
       "    .dataframe tbody tr th:only-of-type {\n",
       "        vertical-align: middle;\n",
       "    }\n",
       "\n",
       "    .dataframe tbody tr th {\n",
       "        vertical-align: top;\n",
       "    }\n",
       "\n",
       "    .dataframe thead th {\n",
       "        text-align: right;\n",
       "    }\n",
       "</style>\n",
       "<table border=\"1\" class=\"dataframe\">\n",
       "  <thead>\n",
       "    <tr style=\"text-align: right;\">\n",
       "      <th></th>\n",
       "      <th>RBP</th>\n",
       "      <th>distal</th>\n",
       "      <th>proximal</th>\n",
       "    </tr>\n",
       "  </thead>\n",
       "  <tbody>\n",
       "    <tr>\n",
       "      <th>32</th>\n",
       "      <td>NUDT21</td>\n",
       "      <td>214</td>\n",
       "      <td>-2152</td>\n",
       "    </tr>\n",
       "    <tr>\n",
       "      <th>30</th>\n",
       "      <td>HNRNPF</td>\n",
       "      <td>121</td>\n",
       "      <td>-1321</td>\n",
       "    </tr>\n",
       "    <tr>\n",
       "      <th>2</th>\n",
       "      <td>RBM5</td>\n",
       "      <td>19</td>\n",
       "      <td>-803</td>\n",
       "    </tr>\n",
       "    <tr>\n",
       "      <th>37</th>\n",
       "      <td>CPSF6</td>\n",
       "      <td>56</td>\n",
       "      <td>-642</td>\n",
       "    </tr>\n",
       "    <tr>\n",
       "      <th>25</th>\n",
       "      <td>PPIA</td>\n",
       "      <td>136</td>\n",
       "      <td>-468</td>\n",
       "    </tr>\n",
       "    <tr>\n",
       "      <th>15</th>\n",
       "      <td>TRNAU1AP</td>\n",
       "      <td>428</td>\n",
       "      <td>-456</td>\n",
       "    </tr>\n",
       "    <tr>\n",
       "      <th>11</th>\n",
       "      <td>RPS19BP1</td>\n",
       "      <td>6</td>\n",
       "      <td>-343</td>\n",
       "    </tr>\n",
       "    <tr>\n",
       "      <th>4</th>\n",
       "      <td>TPD52L2</td>\n",
       "      <td>58</td>\n",
       "      <td>-243</td>\n",
       "    </tr>\n",
       "    <tr>\n",
       "      <th>6</th>\n",
       "      <td>MBNL2</td>\n",
       "      <td>798</td>\n",
       "      <td>-225</td>\n",
       "    </tr>\n",
       "    <tr>\n",
       "      <th>14</th>\n",
       "      <td>ZC3HAV1</td>\n",
       "      <td>339</td>\n",
       "      <td>-193</td>\n",
       "    </tr>\n",
       "  </tbody>\n",
       "</table>\n",
       "</div>"
      ],
      "text/plain": [
       "         RBP distal proximal\n",
       "32    NUDT21    214    -2152\n",
       "30    HNRNPF    121    -1321\n",
       "2       RBM5     19     -803\n",
       "37     CPSF6     56     -642\n",
       "25      PPIA    136     -468\n",
       "15  TRNAU1AP    428     -456\n",
       "11  RPS19BP1      6     -343\n",
       "4    TPD52L2     58     -243\n",
       "6      MBNL2    798     -225\n",
       "14   ZC3HAV1    339     -193"
      ]
     },
     "execution_count": 34,
     "metadata": {},
     "output_type": "execute_result"
    }
   ],
   "source": [
    "passeq_events.sort_values(by='proximal', ascending=True).head(10)"
   ]
  },
  {
   "cell_type": "code",
   "execution_count": 36,
   "id": "4e980835-034b-4f13-8465-ab09530d353e",
   "metadata": {},
   "outputs": [
    {
     "name": "stderr",
     "output_type": "stream",
     "text": [
      "/scratch/pjaganna1/job_7118190/ipykernel_218930/3070662500.py:50: UserWarning: This figure includes Axes that are not compatible with tight_layout, so results might be incorrect.\n",
      "  plt.tight_layout()\n"
     ]
    },
    {
     "data": {
      "image/png": "[encoded data removed]",
      "text/plain": [
       "<Figure size 400x800 with 2 Axes>"
      ]
     },
     "metadata": {},
     "output_type": "display_data"
    }
   ],
   "source": [
    "# Create figure with two subplots (broken axis)\n",
    "fig, (ax1, ax2) = plt.subplots(1, 2, sharey=True, gridspec_kw={'width_ratios': [1, 5], 'wspace': 0.04})\n",
    "fig.set_size_inches(4, 8)\n",
    "\n",
    "# Plot the smaller values on the first axis\n",
    "sns.barplot(\n",
    "    data=passeq_events.sort_values(by='proximal', ascending=True),\n",
    "    y='RBP', x='proximal', color='lightsteelblue', ax=ax1\n",
    ")\n",
    "sns.barplot(\n",
    "    data=passeq_events.sort_values(by='proximal', ascending=True),\n",
    "    y='RBP', x='distal', color='steelblue', ax=ax1\n",
    ")\n",
    "ax1.set_xlim(-2500, -500)\n",
    "ax1.spines['right'].set_visible(False)\n",
    "ax1.tick_params(axis='y', left=False)\n",
    "\n",
    "# Plot the larger values on the second axis\n",
    "sns.barplot(\n",
    "    data=passeq_events.sort_values(by='proximal', ascending=True),\n",
    "    y='RBP', x='proximal', color='lightsteelblue', ax=ax2\n",
    ")\n",
    "sns.barplot(\n",
    "    data=passeq_events.sort_values(by='proximal', ascending=True),\n",
    "    y='RBP', x='distal', color='steelblue', ax=ax2\n",
    ")\n",
    "ax2.set_xlim(-500, 900)\n",
    "ax2.spines['left'].set_visible(False)\n",
    "ax2.yaxis.set_visible(False)\n",
    "\n",
    "# Add a break indicator between the two axes\n",
    "d = 0.015\n",
    "kwargs = dict(transform=ax1.transAxes, color='k', clip_on=False)\n",
    "ax1.plot((1 - d, 1 + d), (-d, +d), **kwargs)\n",
    "ax1.plot((1 - d, 1 + d), (1 - d, 1 + d), **kwargs)\n",
    "\n",
    "kwargs.update(transform=ax2.transAxes)\n",
    "ax2.plot((-d, +d), (-d, +d), **kwargs)\n",
    "ax2.plot((-d, +d), (1 - d, 1 + d), **kwargs)\n",
    "\n",
    "# Add axis labels\n",
    "ax1.set_xlabel('Proximal/Distal Events')\n",
    "ax1.set_ylabel('RBP')\n",
    "ax2.set_xlabel('')\n",
    "\n",
    "# for index, row in passeq_events.sort_values(by='proximal', ascending=True).reset_index(drop=True).iterrows():\n",
    "#     plt.text(row['distal']+10, index+0.3, str(row['distal']), horizontalalignment='left')\n",
    "#     plt.text(row['proximal']-20, index+0.3, str(-row['proximal']), horizontalalignment='right')\n",
    "\n",
    "plt.tight_layout()\n",
    "plt.savefig('passeq_distal_prox_counts_barplot_allpas_wbreak_revision.png')\n",
    "plt.savefig('passeq_distal_prox_counts_barplot_allpas_wbreak_revision.jpg')\n",
    "plt.savefig('passeq_distal_prox_counts_barplot_allpas_wbreak_revision.svg')\n",
    "\n",
    "plt.show()"
   ]
  },
  {
   "cell_type": "code",
   "execution_count": 37,
   "id": "8405278f-6922-4f95-ab5f-5c6d76f97dd5",
   "metadata": {},
   "outputs": [],
   "source": [
    "def jaccard_similarity(set1, set2):\n",
    "    # intersection of two sets\n",
    "    intersection = len(set1.intersection(set2))\n",
    "    # Unions of two sets\n",
    "    union = len(set1.union(set2))\n",
    "\n",
    "    #print(intersection, union)\n",
    "    return intersection / union\n"
   ]
  },
  {
   "cell_type": "code",
   "execution_count": 38,
   "id": "fc2f0fe2-28bd-49a9-8ad4-2c17f310efea",
   "metadata": {},
   "outputs": [],
   "source": [
    "rbp_list = []\n",
    "ji_list = []\n",
    "for rbp in set(final_candidate_list):\n",
    "    if rbp in sig_PAS:\n",
    "        set_a = set(sig_AS[rbp])\n",
    "        set_b = set(sig_PAS[rbp])\n",
    "     \n",
    "        similarity = jaccard_similarity(set_a, set_b)\n",
    "        #print(len(set_a), len(set_b))\n",
    "        rbp_list.append(rbp)\n",
    "        ji_list.append(similarity)\n",
    "        \n"
   ]
  },
  {
   "cell_type": "code",
   "execution_count": 39,
   "id": "aed98f17-3a41-4c7e-84a2-f5f0608db067",
   "metadata": {},
   "outputs": [],
   "source": [
    "ji_df = pd.DataFrame([rbp_list,ji_list], index=['RBP', 'JI']).T.sort_values(by='JI', ascending=False).set_index('RBP')\n"
   ]
  },
  {
   "cell_type": "code",
   "execution_count": null,
   "id": "4cb172ba-96e1-446f-a9f1-025547e8042b",
   "metadata": {},
   "outputs": [],
   "source": []
  },
  {
   "cell_type": "code",
   "execution_count": 40,
   "id": "219088f4-18b7-4ea8-9b57-6e08f3a4f4f3",
   "metadata": {},
   "outputs": [],
   "source": [
    "#AS_subset = AS_subset.loc[ji_order]"
   ]
  },
  {
   "cell_type": "code",
   "execution_count": 42,
   "id": "6239a7e2-a51d-4311-9a6c-f7a8a852e51d",
   "metadata": {},
   "outputs": [
    {
     "data": {
      "image/png": "[encoded data removed]",
      "text/plain": [
       "<Figure size 600x800 with 1 Axes>"
      ]
     },
     "metadata": {},
     "output_type": "display_data"
    }
   ],
   "source": [
    "plt.rcParams['figure.figsize'] = [6, 8]\n",
    "AS_subset.loc[list(ji_df.index)].plot.barh(stacked=True, color=colorblind_palette)\n",
    "plt.savefig('AS_barplot.png')\n",
    "plt.savefig('AS_barplot.svg')\n",
    "plt.savefig('AS_barplot.jpg')"
   ]
  },
  {
   "cell_type": "code",
   "execution_count": 43,
   "id": "30762877-a1bd-4f6f-9a9a-2c161e60b507",
   "metadata": {},
   "outputs": [],
   "source": [
    "import networkx as nx"
   ]
  },
  {
   "cell_type": "code",
   "execution_count": 44,
   "id": "7804bdde-c206-4f33-b723-f23f33db385c",
   "metadata": {},
   "outputs": [],
   "source": [
    "protein_network_df = pd.read_csv('../../../protein_network_analysis/9606.protein.physical.links.v12.0.txt.gz', sep=' ')"
   ]
  },
  {
   "cell_type": "code",
   "execution_count": 45,
   "id": "4ba2d1ae-b1c0-4aa8-896e-f429ae26d645",
   "metadata": {},
   "outputs": [],
   "source": [
    "#protein_network_df = protein_network_df[protein_network_df['combined_score']>500]"
   ]
  },
  {
   "cell_type": "code",
   "execution_count": 46,
   "id": "6d100a9a-f867-4ac8-8c8e-e899a142c3e7",
   "metadata": {},
   "outputs": [],
   "source": [
    "protein_info = pd.read_csv('../../../protein_network_analysis/9606.protein.info.v12.0.txt.gz', sep='\\t')\n",
    "protein_info_dict = dict(zip(protein_info['#string_protein_id'], protein_info['preferred_name']))"
   ]
  },
  {
   "cell_type": "code",
   "execution_count": 47,
   "id": "34a00ffa-2639-4523-b70a-2a3cd218d68a",
   "metadata": {},
   "outputs": [],
   "source": [
    "protein_network_df['protein1_name'] = protein_network_df.protein1.map(protein_info_dict)"
   ]
  },
  {
   "cell_type": "code",
   "execution_count": 48,
   "id": "7e5114e4-6f92-495e-9fbc-c72c825efb07",
   "metadata": {},
   "outputs": [],
   "source": [
    "protein_network_df['protein2_name'] = protein_network_df.protein2.map(protein_info_dict)"
   ]
  },
  {
   "cell_type": "code",
   "execution_count": 49,
   "id": "06a1d0a7-e25c-45c2-90cf-a78ea6e13249",
   "metadata": {},
   "outputs": [
    {
     "data": {
      "text/html": [
       "<div>\n",
       "<style scoped>\n",
       "    .dataframe tbody tr th:only-of-type {\n",
       "        vertical-align: middle;\n",
       "    }\n",
       "\n",
       "    .dataframe tbody tr th {\n",
       "        vertical-align: top;\n",
       "    }\n",
       "\n",
       "    .dataframe thead th {\n",
       "        text-align: right;\n",
       "    }\n",
       "</style>\n",
       "<table border=\"1\" class=\"dataframe\">\n",
       "  <thead>\n",
       "    <tr style=\"text-align: right;\">\n",
       "      <th></th>\n",
       "      <th>protein1</th>\n",
       "      <th>protein2</th>\n",
       "      <th>combined_score</th>\n",
       "      <th>protein1_name</th>\n",
       "      <th>protein2_name</th>\n",
       "    </tr>\n",
       "  </thead>\n",
       "  <tbody>\n",
       "    <tr>\n",
       "      <th>0</th>\n",
       "      <td>9606.ENSP00000000233</td>\n",
       "      <td>9606.ENSP00000257770</td>\n",
       "      <td>311</td>\n",
       "      <td>ARF5</td>\n",
       "      <td>NT5E</td>\n",
       "    </tr>\n",
       "    <tr>\n",
       "      <th>1</th>\n",
       "      <td>9606.ENSP00000000233</td>\n",
       "      <td>9606.ENSP00000226004</td>\n",
       "      <td>161</td>\n",
       "      <td>ARF5</td>\n",
       "      <td>DUSP3</td>\n",
       "    </tr>\n",
       "    <tr>\n",
       "      <th>2</th>\n",
       "      <td>9606.ENSP00000000233</td>\n",
       "      <td>9606.ENSP00000434442</td>\n",
       "      <td>499</td>\n",
       "      <td>ARF5</td>\n",
       "      <td>ARFGAP2</td>\n",
       "    </tr>\n",
       "    <tr>\n",
       "      <th>3</th>\n",
       "      <td>9606.ENSP00000000233</td>\n",
       "      <td>9606.ENSP00000262455</td>\n",
       "      <td>531</td>\n",
       "      <td>ARF5</td>\n",
       "      <td>ERP44</td>\n",
       "    </tr>\n",
       "    <tr>\n",
       "      <th>4</th>\n",
       "      <td>9606.ENSP00000000233</td>\n",
       "      <td>9606.ENSP00000303145</td>\n",
       "      <td>499</td>\n",
       "      <td>ARF5</td>\n",
       "      <td>TMED10</td>\n",
       "    </tr>\n",
       "  </tbody>\n",
       "</table>\n",
       "</div>"
      ],
      "text/plain": [
       "               protein1              protein2  combined_score protein1_name  \\\n",
       "0  9606.ENSP00000000233  9606.ENSP00000257770             311          ARF5   \n",
       "1  9606.ENSP00000000233  9606.ENSP00000226004             161          ARF5   \n",
       "2  9606.ENSP00000000233  9606.ENSP00000434442             499          ARF5   \n",
       "3  9606.ENSP00000000233  9606.ENSP00000262455             531          ARF5   \n",
       "4  9606.ENSP00000000233  9606.ENSP00000303145             499          ARF5   \n",
       "\n",
       "  protein2_name  \n",
       "0          NT5E  \n",
       "1         DUSP3  \n",
       "2       ARFGAP2  \n",
       "3         ERP44  \n",
       "4        TMED10  "
      ]
     },
     "execution_count": 49,
     "metadata": {},
     "output_type": "execute_result"
    }
   ],
   "source": [
    "protein_network_df.head()"
   ]
  },
  {
   "cell_type": "code",
   "execution_count": 50,
   "id": "e8ee9756-6bf9-4979-b41c-8bfb96ab0343",
   "metadata": {},
   "outputs": [
    {
     "data": {
      "text/plain": [
       "(1477610, 5)"
      ]
     },
     "execution_count": 50,
     "metadata": {},
     "output_type": "execute_result"
    }
   ],
   "source": [
    "protein_network_df.shape"
   ]
  },
  {
   "cell_type": "code",
   "execution_count": 51,
   "id": "5a9372dd-0d1b-4bc8-8149-07b8bb645bfb",
   "metadata": {},
   "outputs": [],
   "source": [
    "interest = protein_network_df[(protein_network_df['protein1_name'].isin(final_candidate_list))]"
   ]
  },
  {
   "cell_type": "code",
   "execution_count": 52,
   "id": "a798230d-deaf-4c07-a04a-1d000121a04c",
   "metadata": {},
   "outputs": [],
   "source": [
    "interest_mat = interest.pivot(columns='protein1_name', index='protein2_name', values='combined_score').fillna(0)"
   ]
  },
  {
   "cell_type": "code",
   "execution_count": 53,
   "id": "3f8a61e4-4b02-41ab-a804-1fa921a38c91",
   "metadata": {},
   "outputs": [],
   "source": [
    "interest_mat = interest_mat[[i for i in interest_mat.columns if i in final_candidate_list]]"
   ]
  },
  {
   "cell_type": "code",
   "execution_count": 54,
   "id": "75d5ca01-a8c4-4eb3-a484-75d018110a99",
   "metadata": {},
   "outputs": [],
   "source": [
    "core_cleavage_polyadenylation_factors = [\n",
    "    'CPSF1', 'CPSF2', 'CPSF3', 'CPSF4',  # Cleavage and Polyadenylation Specificity Factors\n",
    "    'CSTF1', 'CSTF2', 'CSTF3',           # Cleavage Stimulation Factors\n",
    "    'CPSF5', 'CFI68', 'NUDT21',                   # Cleavage Factor I subunits\n",
    "    'CFII_m', 'PAPOLA', 'PAPOLB',        # Cleavage Factor II and Poly(A) Polymerase\n",
    "    'PABPN1',                            # Poly(A)-Binding Protein Nuclear 1\n",
    "    'FIP1L1', 'NUDT21', 'SYMPK',         # Additional auxiliary factors\n",
    "    'PCF11', 'RBBP6', 'ZNF473',          # Factors associated with transcription termination and polyadenylation\n",
    "    'WDR33', 'CLP1', 'SYMPK'                    # Other associated proteins\n",
    "]"
   ]
  },
  {
   "cell_type": "code",
   "execution_count": 55,
   "id": "20fff823-4784-47dd-99f1-46e8d3fc0cde",
   "metadata": {},
   "outputs": [],
   "source": [
    "core_spliceosome_factors = [\n",
    "    # U1 snRNP Components\n",
    "    'U1-70K', 'SNRPA', 'SNRPB', 'SNRPC',\n",
    "    # U2 snRNP Components\n",
    "    'SF3A1', 'SF3A2', 'SF3A3', 'SF3B1', 'SF3B2', 'SF3B3', 'SF3B4', 'SF3B5', 'SF3B6', 'SNRPA1', 'SNRPB2',\n",
    "    # U4/U6-U5 tri-snRNP Components\n",
    "    'PRPF3', 'PRPF4', 'PRPF6', 'PRPF8', 'PRPF31', 'SNU114', 'EFTUD2',\n",
    "    # U5 snRNP Components\n",
    "    'SNRNP200', 'DDX23', 'SNRNP40', 'SNRPB', 'SNRPD1', 'SNRPD2', 'SNRPD3', 'SNRPE', 'SNRPF', 'SNRPG',\n",
    "    # U6 snRNP Components\n",
    "    'SNRNP24', 'SNRPD1', 'SNRPD2', 'SNRPD3', 'SNRPE', 'SNRPF', 'SNRPG',\n",
    "    # Splicing Factors Associated with Spliceosome\n",
    "    'U2AF1', 'U2AF2', 'SF1', 'SMNDC1', 'CDC5L', 'ISY1', 'SKIP',\n",
    "    # Other Important Spliceosomal Components\n",
    "    'PRP19 complex', 'RNF113A', 'SPF45', 'PPIH', 'CWC22',\n",
    "    # SR Proteins (Serine/Arginine-rich Splicing Factors)\n",
    "    'SRSF1', 'SRSF2', 'SRSF3', 'SRSF4', 'SRSF5', 'SRSF6', 'SRSF7', 'SRSF9',\n",
    "    # DEAH-box RNA Helicases\n",
    "    'DHX8', 'DHX15', 'PRP16', 'PRP22', 'PRP43'\n",
    "]"
   ]
  },
  {
   "cell_type": "code",
   "execution_count": 56,
   "id": "f8fe8d6d-db28-4284-96ab-87e103fcf91b",
   "metadata": {},
   "outputs": [],
   "source": [
    "interest_mat_cpa = interest_mat[interest_mat.index.isin(core_cleavage_polyadenylation_factors)]"
   ]
  },
  {
   "cell_type": "code",
   "execution_count": 57,
   "id": "35f35d48-92ad-405f-ba8c-5e6f2dc592a4",
   "metadata": {},
   "outputs": [],
   "source": [
    "nonzero_counts_cpa = interest_mat_cpa.T.apply(lambda row: (row != 0).sum(), axis=1)"
   ]
  },
  {
   "cell_type": "code",
   "execution_count": 58,
   "id": "4992176b-f7b7-4c6b-baf7-3fbe9be3b000",
   "metadata": {},
   "outputs": [],
   "source": [
    "interest_mat_splicing = interest_mat[interest_mat.index.isin(core_spliceosome_factors)]"
   ]
  },
  {
   "cell_type": "code",
   "execution_count": 59,
   "id": "24dfae62-0838-411a-8c67-3cec0cdacced",
   "metadata": {},
   "outputs": [],
   "source": [
    "nonzero_counts_splicing = interest_mat_splicing.T.apply(lambda row: (row != 0).sum(), axis=1)"
   ]
  },
  {
   "cell_type": "code",
   "execution_count": 60,
   "id": "a5e2ff2b-81d9-4303-a80d-1d3454b5e4e6",
   "metadata": {},
   "outputs": [],
   "source": [
    "combined_data = pd.concat([ji_df,\n",
    " #pd.DataFrame.from_dict(protein_lengths, orient='index'),\n",
    " pd.DataFrame(nonzero_counts_cpa),\n",
    " pd.DataFrame(nonzero_counts_splicing)], axis=1).dropna()\n",
    "#combined_data.columns = ['JI', 'protein_length', 'num_CPA', 'num_SP']\n",
    "combined_data.columns = ['JI', 'num_CPA', 'num_SP']\n",
    "combined_data['JI'] = combined_data['JI'].astype(float)\n"
   ]
  },
  {
   "cell_type": "code",
   "execution_count": 61,
   "id": "df86c24e-861c-495a-983e-b0ecebec842e",
   "metadata": {},
   "outputs": [
    {
     "data": {
      "text/html": [
       "<div>\n",
       "<style scoped>\n",
       "    .dataframe tbody tr th:only-of-type {\n",
       "        vertical-align: middle;\n",
       "    }\n",
       "\n",
       "    .dataframe tbody tr th {\n",
       "        vertical-align: top;\n",
       "    }\n",
       "\n",
       "    .dataframe thead th {\n",
       "        text-align: right;\n",
       "    }\n",
       "</style>\n",
       "<table border=\"1\" class=\"dataframe\">\n",
       "  <thead>\n",
       "    <tr style=\"text-align: right;\">\n",
       "      <th></th>\n",
       "      <th>JI</th>\n",
       "      <th>num_CPA</th>\n",
       "      <th>num_SP</th>\n",
       "    </tr>\n",
       "  </thead>\n",
       "  <tbody>\n",
       "    <tr>\n",
       "      <th>SMNDC1</th>\n",
       "      <td>0.000000</td>\n",
       "      <td>3</td>\n",
       "      <td>24</td>\n",
       "    </tr>\n",
       "    <tr>\n",
       "      <th>RNPS1</th>\n",
       "      <td>0.000000</td>\n",
       "      <td>6</td>\n",
       "      <td>20</td>\n",
       "    </tr>\n",
       "    <tr>\n",
       "      <th>DZIP3</th>\n",
       "      <td>0.001111</td>\n",
       "      <td>0</td>\n",
       "      <td>0</td>\n",
       "    </tr>\n",
       "    <tr>\n",
       "      <th>PARN</th>\n",
       "      <td>0.001433</td>\n",
       "      <td>6</td>\n",
       "      <td>1</td>\n",
       "    </tr>\n",
       "    <tr>\n",
       "      <th>RBM10</th>\n",
       "      <td>0.002765</td>\n",
       "      <td>0</td>\n",
       "      <td>22</td>\n",
       "    </tr>\n",
       "    <tr>\n",
       "      <th>STAU2</th>\n",
       "      <td>0.003606</td>\n",
       "      <td>0</td>\n",
       "      <td>1</td>\n",
       "    </tr>\n",
       "    <tr>\n",
       "      <th>WDR6</th>\n",
       "      <td>0.004135</td>\n",
       "      <td>0</td>\n",
       "      <td>0</td>\n",
       "    </tr>\n",
       "    <tr>\n",
       "      <th>RBM42</th>\n",
       "      <td>0.004828</td>\n",
       "      <td>0</td>\n",
       "      <td>31</td>\n",
       "    </tr>\n",
       "    <tr>\n",
       "      <th>RBM22</th>\n",
       "      <td>0.006098</td>\n",
       "      <td>0</td>\n",
       "      <td>32</td>\n",
       "    </tr>\n",
       "    <tr>\n",
       "      <th>ZMAT3</th>\n",
       "      <td>0.006151</td>\n",
       "      <td>0</td>\n",
       "      <td>1</td>\n",
       "    </tr>\n",
       "    <tr>\n",
       "      <th>EIF4B</th>\n",
       "      <td>0.006186</td>\n",
       "      <td>1</td>\n",
       "      <td>2</td>\n",
       "    </tr>\n",
       "    <tr>\n",
       "      <th>PCBP1</th>\n",
       "      <td>0.006375</td>\n",
       "      <td>3</td>\n",
       "      <td>16</td>\n",
       "    </tr>\n",
       "    <tr>\n",
       "      <th>LSM10</th>\n",
       "      <td>0.006744</td>\n",
       "      <td>5</td>\n",
       "      <td>36</td>\n",
       "    </tr>\n",
       "    <tr>\n",
       "      <th>LUC7L</th>\n",
       "      <td>0.008609</td>\n",
       "      <td>2</td>\n",
       "      <td>30</td>\n",
       "    </tr>\n",
       "    <tr>\n",
       "      <th>RBM11</th>\n",
       "      <td>0.009259</td>\n",
       "      <td>0</td>\n",
       "      <td>2</td>\n",
       "    </tr>\n",
       "    <tr>\n",
       "      <th>SCAF8</th>\n",
       "      <td>0.009322</td>\n",
       "      <td>12</td>\n",
       "      <td>2</td>\n",
       "    </tr>\n",
       "    <tr>\n",
       "      <th>LSM1</th>\n",
       "      <td>0.012328</td>\n",
       "      <td>0</td>\n",
       "      <td>15</td>\n",
       "    </tr>\n",
       "    <tr>\n",
       "      <th>MBNL1</th>\n",
       "      <td>0.012400</td>\n",
       "      <td>0</td>\n",
       "      <td>2</td>\n",
       "    </tr>\n",
       "    <tr>\n",
       "      <th>CNOT2</th>\n",
       "      <td>0.012438</td>\n",
       "      <td>0</td>\n",
       "      <td>0</td>\n",
       "    </tr>\n",
       "    <tr>\n",
       "      <th>YTHDF1</th>\n",
       "      <td>0.012584</td>\n",
       "      <td>0</td>\n",
       "      <td>2</td>\n",
       "    </tr>\n",
       "    <tr>\n",
       "      <th>PPP1CA</th>\n",
       "      <td>0.014124</td>\n",
       "      <td>13</td>\n",
       "      <td>8</td>\n",
       "    </tr>\n",
       "    <tr>\n",
       "      <th>YWHAG</th>\n",
       "      <td>0.014363</td>\n",
       "      <td>0</td>\n",
       "      <td>3</td>\n",
       "    </tr>\n",
       "    <tr>\n",
       "      <th>PCBP3</th>\n",
       "      <td>0.017280</td>\n",
       "      <td>0</td>\n",
       "      <td>2</td>\n",
       "    </tr>\n",
       "    <tr>\n",
       "      <th>RBM14</th>\n",
       "      <td>0.019526</td>\n",
       "      <td>10</td>\n",
       "      <td>12</td>\n",
       "    </tr>\n",
       "    <tr>\n",
       "      <th>GRB2</th>\n",
       "      <td>0.025751</td>\n",
       "      <td>1</td>\n",
       "      <td>2</td>\n",
       "    </tr>\n",
       "    <tr>\n",
       "      <th>HNRNPH2</th>\n",
       "      <td>0.026081</td>\n",
       "      <td>2</td>\n",
       "      <td>12</td>\n",
       "    </tr>\n",
       "    <tr>\n",
       "      <th>TPD52L2</th>\n",
       "      <td>0.030874</td>\n",
       "      <td>0</td>\n",
       "      <td>0</td>\n",
       "    </tr>\n",
       "    <tr>\n",
       "      <th>RBM4</th>\n",
       "      <td>0.034815</td>\n",
       "      <td>1</td>\n",
       "      <td>8</td>\n",
       "    </tr>\n",
       "    <tr>\n",
       "      <th>RPS19BP1</th>\n",
       "      <td>0.045105</td>\n",
       "      <td>0</td>\n",
       "      <td>0</td>\n",
       "    </tr>\n",
       "    <tr>\n",
       "      <th>LGALS3</th>\n",
       "      <td>0.047437</td>\n",
       "      <td>0</td>\n",
       "      <td>2</td>\n",
       "    </tr>\n",
       "    <tr>\n",
       "      <th>SRP68</th>\n",
       "      <td>0.051839</td>\n",
       "      <td>0</td>\n",
       "      <td>2</td>\n",
       "    </tr>\n",
       "    <tr>\n",
       "      <th>ZC3HAV1</th>\n",
       "      <td>0.053359</td>\n",
       "      <td>0</td>\n",
       "      <td>4</td>\n",
       "    </tr>\n",
       "    <tr>\n",
       "      <th>CPSF6</th>\n",
       "      <td>0.053551</td>\n",
       "      <td>17</td>\n",
       "      <td>28</td>\n",
       "    </tr>\n",
       "    <tr>\n",
       "      <th>PPIA</th>\n",
       "      <td>0.058763</td>\n",
       "      <td>0</td>\n",
       "      <td>4</td>\n",
       "    </tr>\n",
       "    <tr>\n",
       "      <th>RBM5</th>\n",
       "      <td>0.073328</td>\n",
       "      <td>0</td>\n",
       "      <td>12</td>\n",
       "    </tr>\n",
       "    <tr>\n",
       "      <th>TRNAU1AP</th>\n",
       "      <td>0.083076</td>\n",
       "      <td>0</td>\n",
       "      <td>24</td>\n",
       "    </tr>\n",
       "    <tr>\n",
       "      <th>MBNL2</th>\n",
       "      <td>0.100308</td>\n",
       "      <td>0</td>\n",
       "      <td>1</td>\n",
       "    </tr>\n",
       "    <tr>\n",
       "      <th>NUDT21</th>\n",
       "      <td>0.114261</td>\n",
       "      <td>15</td>\n",
       "      <td>5</td>\n",
       "    </tr>\n",
       "    <tr>\n",
       "      <th>HNRNPF</th>\n",
       "      <td>0.116740</td>\n",
       "      <td>0</td>\n",
       "      <td>14</td>\n",
       "    </tr>\n",
       "  </tbody>\n",
       "</table>\n",
       "</div>"
      ],
      "text/plain": [
       "                JI  num_CPA  num_SP\n",
       "SMNDC1    0.000000        3      24\n",
       "RNPS1     0.000000        6      20\n",
       "DZIP3     0.001111        0       0\n",
       "PARN      0.001433        6       1\n",
       "RBM10     0.002765        0      22\n",
       "STAU2     0.003606        0       1\n",
       "WDR6      0.004135        0       0\n",
       "RBM42     0.004828        0      31\n",
       "RBM22     0.006098        0      32\n",
       "ZMAT3     0.006151        0       1\n",
       "EIF4B     0.006186        1       2\n",
       "PCBP1     0.006375        3      16\n",
       "LSM10     0.006744        5      36\n",
       "LUC7L     0.008609        2      30\n",
       "RBM11     0.009259        0       2\n",
       "SCAF8     0.009322       12       2\n",
       "LSM1      0.012328        0      15\n",
       "MBNL1     0.012400        0       2\n",
       "CNOT2     0.012438        0       0\n",
       "YTHDF1    0.012584        0       2\n",
       "PPP1CA    0.014124       13       8\n",
       "YWHAG     0.014363        0       3\n",
       "PCBP3     0.017280        0       2\n",
       "RBM14     0.019526       10      12\n",
       "GRB2      0.025751        1       2\n",
       "HNRNPH2   0.026081        2      12\n",
       "TPD52L2   0.030874        0       0\n",
       "RBM4      0.034815        1       8\n",
       "RPS19BP1  0.045105        0       0\n",
       "LGALS3    0.047437        0       2\n",
       "SRP68     0.051839        0       2\n",
       "ZC3HAV1   0.053359        0       4\n",
       "CPSF6     0.053551       17      28\n",
       "PPIA      0.058763        0       4\n",
       "RBM5      0.073328        0      12\n",
       "TRNAU1AP  0.083076        0      24\n",
       "MBNL2     0.100308        0       1\n",
       "NUDT21    0.114261       15       5\n",
       "HNRNPF    0.116740        0      14"
      ]
     },
     "execution_count": 61,
     "metadata": {},
     "output_type": "execute_result"
    }
   ],
   "source": [
    "combined_data.sort_values('JI')"
   ]
  },
  {
   "cell_type": "code",
   "execution_count": 62,
   "id": "28e26dd2-87c9-4860-aa1d-375f279b38f2",
   "metadata": {},
   "outputs": [],
   "source": [
    "import scipy.cluster.hierarchy as sch\n"
   ]
  },
  {
   "cell_type": "code",
   "execution_count": 65,
   "id": "4b56d22d-528e-49ab-ac05-b0277a74e3c0",
   "metadata": {},
   "outputs": [
    {
     "name": "stdout",
     "output_type": "stream",
     "text": [
      "{'HNRNPF': '1', 'NUDT21': '5', 'MBNL2': '1', 'TRNAU1AP': '1', 'RBM5': '1', 'PPIA': '3', 'CPSF6': '6', 'ZC3HAV1': '3', 'SRP68': '3', 'LGALS3': '3', 'RPS19BP1': '3', 'RBM4': '3', 'TPD52L2': '3', 'HNRNPH2': '3', 'GRB2': '3', 'RBM14': '4', 'PCBP3': '3', 'YWHAG': '3', 'PPP1CA': '4', 'YTHDF1': '3', 'CNOT2': '3', 'MBNL1': '3', 'LSM1': '2', 'SCAF8': '4', 'RBM11': '3', 'LUC7L': '2', 'LSM10': '2', 'PCBP1': '2', 'EIF4B': '3', 'ZMAT3': '3', 'RBM22': '2', 'RBM42': '2', 'WDR6': '3', 'STAU2': '3', 'RBM10': '2', 'PARN': '4', 'DZIP3': '3', 'SMNDC1': '2', 'RNPS1': '2'}\n",
      "Index(['TRNAU1AP', 'RBM5', 'HNRNPF', 'MBNL2', 'RNPS1', 'LSM1', 'PCBP1',\n",
      "       'RBM10', 'SMNDC1', 'LSM10', 'LUC7L', 'RBM22', 'RBM42', 'CNOT2', 'RBM11',\n",
      "       'YTHDF1', 'MBNL1', 'PCBP3', 'YWHAG', 'EIF4B', 'ZMAT3', 'STAU2', 'WDR6',\n",
      "       'DZIP3', 'TPD52L2', 'GRB2', 'PPIA', 'ZC3HAV1', 'RPS19BP1', 'SRP68',\n",
      "       'LGALS3', 'RBM4', 'HNRNPH2', 'PARN', 'RBM14', 'PPP1CA', 'SCAF8',\n",
      "       'NUDT21', 'CPSF6'],\n",
      "      dtype='object')\n"
     ]
    },
    {
     "data": {
      "image/png": "[encoded data removed]",
      "text/plain": [
       "<Figure size 800x1500 with 4 Axes>"
      ]
     },
     "metadata": {},
     "output_type": "display_data"
    }
   ],
   "source": [
    "clustermap = sns.clustermap(combined_data, standard_scale=1, col_cluster=False, cmap='mako_r',\n",
    "              figsize=(8,15))\n",
    "clustered_row_order = clustermap.dendrogram_row.reordered_ind\n",
    "clustered_index = combined_data.index[clustered_row_order]\n",
    "\n",
    "# Get the linkage matrix for the rows (RBPs)\n",
    "linkage_matrix = clustermap.dendrogram_row.linkage\n",
    "\n",
    "# Specify the number of clusters\n",
    "n_clusters = 6# Change to your desired number of clusters\n",
    "\n",
    "# Assign each RBP to a cluster\n",
    "cluster_labels = sch.fcluster(linkage_matrix, t=n_clusters, criterion='maxclust')\n",
    "\n",
    "# Create a dictionary mapping RBPs to their clusters\n",
    "rbp_cluster_dict = {rbp: str(cluster) for rbp, cluster in zip(combined_data.index, cluster_labels)}\n",
    "\n",
    "# Print the dictionary\n",
    "print(rbp_cluster_dict)\n",
    "print(clustered_index)\n",
    "plt.savefig('jaccard_features_clustermap_allpas_noproteinlen.png')\n",
    "plt.savefig('jaccard_features_clustermap_allpas_noproteinlen.svg')\n",
    "plt.savefig('jaccard_features_clustermap_allpas_noproteinlen.jpg')"
   ]
  },
  {
   "cell_type": "code",
   "execution_count": 66,
   "id": "7e195360-c4b4-40f7-ae05-92003804e5e1",
   "metadata": {},
   "outputs": [
    {
     "data": {
      "text/plain": [
       "Index(['TRNAU1AP', 'RBM5', 'HNRNPF', 'MBNL2', 'RNPS1', 'LSM1', 'PCBP1',\n",
       "       'RBM10', 'SMNDC1', 'LSM10', 'LUC7L', 'RBM22', 'RBM42', 'CNOT2', 'RBM11',\n",
       "       'YTHDF1', 'MBNL1', 'PCBP3', 'YWHAG', 'EIF4B', 'ZMAT3', 'STAU2', 'WDR6',\n",
       "       'DZIP3', 'TPD52L2', 'GRB2', 'PPIA', 'ZC3HAV1', 'RPS19BP1', 'SRP68',\n",
       "       'LGALS3', 'RBM4', 'HNRNPH2', 'PARN', 'RBM14', 'PPP1CA', 'SCAF8',\n",
       "       'NUDT21', 'CPSF6'],\n",
       "      dtype='object')"
      ]
     },
     "execution_count": 66,
     "metadata": {},
     "output_type": "execute_result"
    }
   ],
   "source": [
    "### THIS CLUSTERING IS USED FOR DOWNSTREAM ANALYSIS\n",
    "clustered_index"
   ]
  },
  {
   "cell_type": "code",
   "execution_count": 67,
   "id": "37259738-89bb-483d-be5e-c6445f81ad9c",
   "metadata": {},
   "outputs": [],
   "source": [
    "ji_df['JI'] = ji_df['JI'].astype('float')"
   ]
  },
  {
   "cell_type": "code",
   "execution_count": 69,
   "id": "f17baa34-06bc-4e73-af1c-21dc63514a9d",
   "metadata": {},
   "outputs": [
    {
     "data": {
      "image/png": "[encoded data removed]",
      "text/plain": [
       "<Figure size 800x1000 with 10 Axes>"
      ]
     },
     "metadata": {},
     "output_type": "display_data"
    }
   ],
   "source": [
    "fig, axes = plt.subplots(1, 7, sharey=True,gridspec_kw={'width_ratios': [2,0.5,2,2,0.5,0.5,1]}, figsize=(8,10\n",
    "                                                                                            ))\n",
    "sns.heatmap(ji_df.loc[clustered_index], ax=axes[0],cmap='YlOrBr')\n",
    "\n",
    "sns.heatmap(pd.DataFrame(nonzero_counts_cpa).loc[clustered_index],\n",
    "            ax=axes[2], cmap='Blues')\n",
    "sns.heatmap(pd.DataFrame(nonzero_counts_splicing).loc[clustered_index],\n",
    "            ax=axes[3], cmap='Greens')\n",
    "plt.savefig('jaccard_features_allpasseq_cluster_allheatmaps_noproteinlen_centrality.png')\n",
    "plt.savefig('jaccard_features_allpasseq_cluster_allheatmaps_noproteinlen_centrality.svg')\n",
    "plt.savefig('jaccard_features_allpasseq_cluster_allheatmaps_noproteinlen_centrality.jpg')"
   ]
  },
  {
   "cell_type": "code",
   "execution_count": 65,
   "id": "87a0d00e-c67e-40e2-8654-566ca67f27e1",
   "metadata": {},
   "outputs": [
    {
     "data": {
      "text/plain": [
       "Index(['TRNAU1AP', 'RBM5', 'HNRNPF', 'MBNL2', 'RNPS1', 'LSM1', 'PCBP1',\n",
       "       'RBM10', 'SMNDC1', 'LSM10', 'LUC7L', 'RBM22', 'RBM42', 'CNOT2', 'RBM11',\n",
       "       'YTHDF1', 'MBNL1', 'PCBP3', 'YWHAG', 'EIF4B', 'ZMAT3', 'STAU2', 'WDR6',\n",
       "       'DZIP3', 'TPD52L2', 'GRB2', 'PPIA', 'ZC3HAV1', 'RPS19BP1', 'SRP68',\n",
       "       'LGALS3', 'RBM4', 'HNRNPH2', 'PARN', 'RBM14', 'PPP1CA', 'SCAF8',\n",
       "       'NUDT21', 'CPSF6'],\n",
       "      dtype='object')"
      ]
     },
     "execution_count": 65,
     "metadata": {},
     "output_type": "execute_result"
    }
   ],
   "source": [
    "clustered_index"
   ]
  },
  {
   "cell_type": "code",
   "execution_count": null,
   "id": "11e64138-ca5e-4cf2-b58d-2bf18c8155ee",
   "metadata": {},
   "outputs": [],
   "source": []
  },
  {
   "cell_type": "code",
   "execution_count": null,
   "id": "22bea60c-a668-467c-996d-84e9003800ff",
   "metadata": {},
   "outputs": [],
   "source": []
  },
  {
   "cell_type": "code",
   "execution_count": null,
   "id": "34dd43e8-0073-4919-bf29-97d8219546e9",
   "metadata": {},
   "outputs": [],
   "source": []
  },
  {
   "cell_type": "code",
   "execution_count": null,
   "id": "a7caf6bb-d9e9-4a49-ab9a-8280e4cdb5d8",
   "metadata": {},
   "outputs": [],
   "source": []
  },
  {
   "cell_type": "code",
   "execution_count": null,
   "id": "5adc933e-23df-436a-8169-efecf9529dfb",
   "metadata": {},
   "outputs": [],
   "source": []
  },
  {
   "cell_type": "code",
   "execution_count": null,
   "id": "c05d113b-0bde-4e96-a97b-9e42710eabf8",
   "metadata": {},
   "outputs": [],
   "source": []
  }
 ],
 "metadata": {
  "kernelspec": {
   "display_name": "Python 3 (ipykernel)",
   "language": "python",
   "name": "python3"
  },
  "language_info": {
   "codemirror_mode": {
    "name": "ipython",
    "version": 3
   },
   "file_extension": ".py",
   "mimetype": "text/x-python",
   "name": "python",
   "nbconvert_exporter": "python",
   "pygments_lexer": "ipython3",
   "version": "3.9.19"
  }
 },
 "nbformat": 4,
 "nbformat_minor": 5
}
