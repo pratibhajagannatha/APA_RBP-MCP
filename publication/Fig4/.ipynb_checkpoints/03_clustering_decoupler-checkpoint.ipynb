{
 "cells": [
  {
   "cell_type": "code",
   "execution_count": 1,
   "id": "f3a10ebe-6bb6-4eb6-b501-9b8f5dd889e3",
   "metadata": {},
   "outputs": [],
   "source": [
    "import os\n",
    "import pandas as pd\n",
    "import seaborn as sns\n",
    "import matplotlib.pyplot as plt\n",
    "import glob\n",
    "import tqdm\n",
    "import decoupler as dc\n",
    "import numpy as np"
   ]
  },
  {
   "cell_type": "code",
   "execution_count": 2,
   "id": "5aa004d7-42a2-47ba-95f7-d2946cda64e2",
   "metadata": {},
   "outputs": [],
   "source": [
    "protein_network_df = pd.read_csv('../../../protein_network_analysis/9606.protein.physical.links.v12.0.txt.gz', sep=' ')"
   ]
  },
  {
   "cell_type": "code",
   "execution_count": 3,
   "id": "fdaeabfa-5777-4a16-bdaf-034366545467",
   "metadata": {},
   "outputs": [],
   "source": [
    "protein_info = pd.read_csv('../../../protein_network_analysis/9606.protein.info.v12.0.txt.gz', sep='\\t')\n",
    "protein_info_dict = dict(zip(protein_info['#string_protein_id'], protein_info['preferred_name']))"
   ]
  },
  {
   "cell_type": "code",
   "execution_count": 4,
   "id": "69c4acb0-5c99-4518-8d67-f26326c2fb2e",
   "metadata": {},
   "outputs": [],
   "source": [
    "protein_network_df['protein1_name'] = protein_network_df.protein1.map(protein_info_dict)"
   ]
  },
  {
   "cell_type": "code",
   "execution_count": 5,
   "id": "d04ce077-0f87-4349-9680-0a5d30e20a98",
   "metadata": {},
   "outputs": [],
   "source": [
    "protein_network_df['protein2_name'] = protein_network_df.protein2.map(protein_info_dict)"
   ]
  },
  {
   "cell_type": "code",
   "execution_count": 6,
   "id": "8e32b9bf-924e-44a3-998e-47f7164c3cd6",
   "metadata": {},
   "outputs": [],
   "source": [
    "cluster_index = ['TRNAU1AP', 'RBM5', 'HNRNPF', 'MBNL2', 'RNPS1', 'LSM1', 'PCBP1',\n",
    "       'RBM10', 'SMNDC1', 'LSM10', 'LUC7L', 'RBM22', 'RBM42', 'CNOT2', 'RBM11',\n",
    "       'YTHDF1', 'MBNL1', 'PCBP3', 'YWHAG', 'EIF4B', 'ZMAT3', 'STAU2', 'WDR6',\n",
    "       'DZIP3', 'TPD52L2', 'GRB2', 'PPIA', 'ZC3HAV1', 'RPS19BP1', 'SRP68',\n",
    "       'LGALS3', 'RBM4', 'HNRNPH2', 'PARN', 'RBM14', 'PPP1CA', 'SCAF8',\n",
    "       'NUDT21', 'CPSF6']"
   ]
  },
  {
   "cell_type": "code",
   "execution_count": 7,
   "id": "42e4705b-d1f5-4d58-be36-e3f8a3ac3c68",
   "metadata": {},
   "outputs": [],
   "source": [
    "interest=cluster_index.copy()"
   ]
  },
  {
   "cell_type": "code",
   "execution_count": 8,
   "id": "e77e6519-333e-47b3-9f81-e38bc4d2005e",
   "metadata": {},
   "outputs": [],
   "source": [
    "interactors_dict = protein_network_df[protein_network_df['protein1_name'].isin(interest)].groupby('protein1_name')['protein2_name'].apply(list).to_dict()"
   ]
  },
  {
   "cell_type": "code",
   "execution_count": 9,
   "id": "7e431480-0da2-4756-ada0-ab35bc26ee12",
   "metadata": {},
   "outputs": [
    {
     "name": "stderr",
     "output_type": "stream",
     "text": [
      "/tscc/nfs/home/pjaganna1/anaconda3/envs/decoupler/lib/python3.11/site-packages/tqdm/auto.py:21: TqdmWarning: IProgress not found. Please update jupyter and ipywidgets. See https://ipywidgets.readthedocs.io/en/stable/user_install.html\n",
      "  from .autonotebook import tqdm as notebook_tqdm\n"
     ]
    },
    {
     "data": {
      "text/html": [
       "<div>\n",
       "<style scoped>\n",
       "    .dataframe tbody tr th:only-of-type {\n",
       "        vertical-align: middle;\n",
       "    }\n",
       "\n",
       "    .dataframe tbody tr th {\n",
       "        vertical-align: top;\n",
       "    }\n",
       "\n",
       "    .dataframe thead th {\n",
       "        text-align: right;\n",
       "    }\n",
       "</style>\n",
       "<table border=\"1\" class=\"dataframe\">\n",
       "  <thead>\n",
       "    <tr style=\"text-align: right;\">\n",
       "      <th></th>\n",
       "      <th>genesymbol</th>\n",
       "      <th>collection</th>\n",
       "      <th>geneset</th>\n",
       "    </tr>\n",
       "  </thead>\n",
       "  <tbody>\n",
       "    <tr>\n",
       "      <th>0</th>\n",
       "      <td>MAFF</td>\n",
       "      <td>chemical_and_genetic_perturbations</td>\n",
       "      <td>BOYAULT_LIVER_CANCER_SUBCLASS_G56_DN</td>\n",
       "    </tr>\n",
       "    <tr>\n",
       "      <th>1</th>\n",
       "      <td>MAFF</td>\n",
       "      <td>chemical_and_genetic_perturbations</td>\n",
       "      <td>ELVIDGE_HYPOXIA_UP</td>\n",
       "    </tr>\n",
       "    <tr>\n",
       "      <th>2</th>\n",
       "      <td>MAFF</td>\n",
       "      <td>chemical_and_genetic_perturbations</td>\n",
       "      <td>NUYTTEN_NIPP1_TARGETS_DN</td>\n",
       "    </tr>\n",
       "    <tr>\n",
       "      <th>3</th>\n",
       "      <td>MAFF</td>\n",
       "      <td>immunesigdb</td>\n",
       "      <td>GSE17721_POLYIC_VS_GARDIQUIMOD_4H_BMDC_DN</td>\n",
       "    </tr>\n",
       "    <tr>\n",
       "      <th>4</th>\n",
       "      <td>MAFF</td>\n",
       "      <td>chemical_and_genetic_perturbations</td>\n",
       "      <td>SCHAEFFER_PROSTATE_DEVELOPMENT_12HR_UP</td>\n",
       "    </tr>\n",
       "    <tr>\n",
       "      <th>...</th>\n",
       "      <td>...</td>\n",
       "      <td>...</td>\n",
       "      <td>...</td>\n",
       "    </tr>\n",
       "    <tr>\n",
       "      <th>3838543</th>\n",
       "      <td>PRAMEF22</td>\n",
       "      <td>go_biological_process</td>\n",
       "      <td>GOBP_POSITIVE_REGULATION_OF_CELL_POPULATION_PR...</td>\n",
       "    </tr>\n",
       "    <tr>\n",
       "      <th>3838544</th>\n",
       "      <td>PRAMEF22</td>\n",
       "      <td>go_biological_process</td>\n",
       "      <td>GOBP_APOPTOTIC_PROCESS</td>\n",
       "    </tr>\n",
       "    <tr>\n",
       "      <th>3838545</th>\n",
       "      <td>PRAMEF22</td>\n",
       "      <td>go_biological_process</td>\n",
       "      <td>GOBP_REGULATION_OF_CELL_DEATH</td>\n",
       "    </tr>\n",
       "    <tr>\n",
       "      <th>3838546</th>\n",
       "      <td>PRAMEF22</td>\n",
       "      <td>go_biological_process</td>\n",
       "      <td>GOBP_NEGATIVE_REGULATION_OF_DEVELOPMENTAL_PROCESS</td>\n",
       "    </tr>\n",
       "    <tr>\n",
       "      <th>3838547</th>\n",
       "      <td>PRAMEF22</td>\n",
       "      <td>go_biological_process</td>\n",
       "      <td>GOBP_NEGATIVE_REGULATION_OF_CELL_DEATH</td>\n",
       "    </tr>\n",
       "  </tbody>\n",
       "</table>\n",
       "<p>3838548 rows × 3 columns</p>\n",
       "</div>"
      ],
      "text/plain": [
       "        genesymbol                          collection  \\\n",
       "0             MAFF  chemical_and_genetic_perturbations   \n",
       "1             MAFF  chemical_and_genetic_perturbations   \n",
       "2             MAFF  chemical_and_genetic_perturbations   \n",
       "3             MAFF                         immunesigdb   \n",
       "4             MAFF  chemical_and_genetic_perturbations   \n",
       "...            ...                                 ...   \n",
       "3838543   PRAMEF22               go_biological_process   \n",
       "3838544   PRAMEF22               go_biological_process   \n",
       "3838545   PRAMEF22               go_biological_process   \n",
       "3838546   PRAMEF22               go_biological_process   \n",
       "3838547   PRAMEF22               go_biological_process   \n",
       "\n",
       "                                                   geneset  \n",
       "0                     BOYAULT_LIVER_CANCER_SUBCLASS_G56_DN  \n",
       "1                                       ELVIDGE_HYPOXIA_UP  \n",
       "2                                 NUYTTEN_NIPP1_TARGETS_DN  \n",
       "3                GSE17721_POLYIC_VS_GARDIQUIMOD_4H_BMDC_DN  \n",
       "4                   SCHAEFFER_PROSTATE_DEVELOPMENT_12HR_UP  \n",
       "...                                                    ...  \n",
       "3838543  GOBP_POSITIVE_REGULATION_OF_CELL_POPULATION_PR...  \n",
       "3838544                             GOBP_APOPTOTIC_PROCESS  \n",
       "3838545                      GOBP_REGULATION_OF_CELL_DEATH  \n",
       "3838546  GOBP_NEGATIVE_REGULATION_OF_DEVELOPMENTAL_PROCESS  \n",
       "3838547             GOBP_NEGATIVE_REGULATION_OF_CELL_DEATH  \n",
       "\n",
       "[3838548 rows x 3 columns]"
      ]
     },
     "execution_count": 9,
     "metadata": {},
     "output_type": "execute_result"
    }
   ],
   "source": [
    "msigdb = dc.get_resource('MSigDB')\n",
    "msigdb"
   ]
  },
  {
   "cell_type": "code",
   "execution_count": 10,
   "id": "32a346f0-a9c6-49cb-9904-12e4174664ae",
   "metadata": {},
   "outputs": [
    {
     "data": {
      "text/html": [
       "<div>\n",
       "<style scoped>\n",
       "    .dataframe tbody tr th:only-of-type {\n",
       "        vertical-align: middle;\n",
       "    }\n",
       "\n",
       "    .dataframe tbody tr th {\n",
       "        vertical-align: top;\n",
       "    }\n",
       "\n",
       "    .dataframe thead th {\n",
       "        text-align: right;\n",
       "    }\n",
       "</style>\n",
       "<table border=\"1\" class=\"dataframe\">\n",
       "  <thead>\n",
       "    <tr style=\"text-align: right;\">\n",
       "      <th></th>\n",
       "      <th>genesymbol</th>\n",
       "      <th>collection</th>\n",
       "      <th>geneset</th>\n",
       "    </tr>\n",
       "  </thead>\n",
       "  <tbody>\n",
       "    <tr>\n",
       "      <th>33</th>\n",
       "      <td>MAFF</td>\n",
       "      <td>go_biological_process</td>\n",
       "      <td>GOBP_EMBRYO_DEVELOPMENT</td>\n",
       "    </tr>\n",
       "    <tr>\n",
       "      <th>44</th>\n",
       "      <td>MAFF</td>\n",
       "      <td>go_biological_process</td>\n",
       "      <td>GOBP_POSITIVE_REGULATION_OF_RNA_METABOLIC_PROCESS</td>\n",
       "    </tr>\n",
       "    <tr>\n",
       "      <th>82</th>\n",
       "      <td>MAFF</td>\n",
       "      <td>go_biological_process</td>\n",
       "      <td>GOBP_REGULATION_OF_EPITHELIAL_CELL_DIFFERENTIA...</td>\n",
       "    </tr>\n",
       "    <tr>\n",
       "      <th>94</th>\n",
       "      <td>MAFF</td>\n",
       "      <td>go_biological_process</td>\n",
       "      <td>GOBP_EMBRYO_DEVELOPMENT_ENDING_IN_BIRTH_OR_EGG...</td>\n",
       "    </tr>\n",
       "    <tr>\n",
       "      <th>108</th>\n",
       "      <td>MAFF</td>\n",
       "      <td>go_biological_process</td>\n",
       "      <td>GOBP_IN_UTERO_EMBRYONIC_DEVELOPMENT</td>\n",
       "    </tr>\n",
       "    <tr>\n",
       "      <th>...</th>\n",
       "      <td>...</td>\n",
       "      <td>...</td>\n",
       "      <td>...</td>\n",
       "    </tr>\n",
       "    <tr>\n",
       "      <th>3838543</th>\n",
       "      <td>PRAMEF22</td>\n",
       "      <td>go_biological_process</td>\n",
       "      <td>GOBP_POSITIVE_REGULATION_OF_CELL_POPULATION_PR...</td>\n",
       "    </tr>\n",
       "    <tr>\n",
       "      <th>3838544</th>\n",
       "      <td>PRAMEF22</td>\n",
       "      <td>go_biological_process</td>\n",
       "      <td>GOBP_APOPTOTIC_PROCESS</td>\n",
       "    </tr>\n",
       "    <tr>\n",
       "      <th>3838545</th>\n",
       "      <td>PRAMEF22</td>\n",
       "      <td>go_biological_process</td>\n",
       "      <td>GOBP_REGULATION_OF_CELL_DEATH</td>\n",
       "    </tr>\n",
       "    <tr>\n",
       "      <th>3838546</th>\n",
       "      <td>PRAMEF22</td>\n",
       "      <td>go_biological_process</td>\n",
       "      <td>GOBP_NEGATIVE_REGULATION_OF_DEVELOPMENTAL_PROCESS</td>\n",
       "    </tr>\n",
       "    <tr>\n",
       "      <th>3838547</th>\n",
       "      <td>PRAMEF22</td>\n",
       "      <td>go_biological_process</td>\n",
       "      <td>GOBP_NEGATIVE_REGULATION_OF_CELL_DEATH</td>\n",
       "    </tr>\n",
       "  </tbody>\n",
       "</table>\n",
       "<p>620627 rows × 3 columns</p>\n",
       "</div>"
      ],
      "text/plain": [
       "        genesymbol             collection  \\\n",
       "33            MAFF  go_biological_process   \n",
       "44            MAFF  go_biological_process   \n",
       "82            MAFF  go_biological_process   \n",
       "94            MAFF  go_biological_process   \n",
       "108           MAFF  go_biological_process   \n",
       "...            ...                    ...   \n",
       "3838543   PRAMEF22  go_biological_process   \n",
       "3838544   PRAMEF22  go_biological_process   \n",
       "3838545   PRAMEF22  go_biological_process   \n",
       "3838546   PRAMEF22  go_biological_process   \n",
       "3838547   PRAMEF22  go_biological_process   \n",
       "\n",
       "                                                   geneset  \n",
       "33                                 GOBP_EMBRYO_DEVELOPMENT  \n",
       "44       GOBP_POSITIVE_REGULATION_OF_RNA_METABOLIC_PROCESS  \n",
       "82       GOBP_REGULATION_OF_EPITHELIAL_CELL_DIFFERENTIA...  \n",
       "94       GOBP_EMBRYO_DEVELOPMENT_ENDING_IN_BIRTH_OR_EGG...  \n",
       "108                    GOBP_IN_UTERO_EMBRYONIC_DEVELOPMENT  \n",
       "...                                                    ...  \n",
       "3838543  GOBP_POSITIVE_REGULATION_OF_CELL_POPULATION_PR...  \n",
       "3838544                             GOBP_APOPTOTIC_PROCESS  \n",
       "3838545                      GOBP_REGULATION_OF_CELL_DEATH  \n",
       "3838546  GOBP_NEGATIVE_REGULATION_OF_DEVELOPMENTAL_PROCESS  \n",
       "3838547             GOBP_NEGATIVE_REGULATION_OF_CELL_DEATH  \n",
       "\n",
       "[620627 rows x 3 columns]"
      ]
     },
     "execution_count": 10,
     "metadata": {},
     "output_type": "execute_result"
    }
   ],
   "source": [
    "# Filter by hallmark\n",
    "msigdb = msigdb[msigdb['collection']=='go_biological_process']\n",
    "\n",
    "# Remove duplicated entries\n",
    "msigdb = msigdb[~msigdb.duplicated(['geneset', 'genesymbol'])]\n",
    "\n",
    "msigdb"
   ]
  },
  {
   "cell_type": "code",
   "execution_count": 11,
   "id": "b182eb74-02c8-4356-87c4-3b339bbb476c",
   "metadata": {},
   "outputs": [
    {
     "data": {
      "text/html": [
       "<div>\n",
       "<style scoped>\n",
       "    .dataframe tbody tr th:only-of-type {\n",
       "        vertical-align: middle;\n",
       "    }\n",
       "\n",
       "    .dataframe tbody tr th {\n",
       "        vertical-align: top;\n",
       "    }\n",
       "\n",
       "    .dataframe thead th {\n",
       "        text-align: right;\n",
       "    }\n",
       "</style>\n",
       "<table border=\"1\" class=\"dataframe\">\n",
       "  <thead>\n",
       "    <tr style=\"text-align: right;\">\n",
       "      <th></th>\n",
       "      <th>genesymbol</th>\n",
       "      <th>collection</th>\n",
       "      <th>geneset</th>\n",
       "    </tr>\n",
       "  </thead>\n",
       "  <tbody>\n",
       "    <tr>\n",
       "      <th>33</th>\n",
       "      <td>MAFF</td>\n",
       "      <td>go_biological_process</td>\n",
       "      <td>EMBRYO_DEVELOPMENT</td>\n",
       "    </tr>\n",
       "    <tr>\n",
       "      <th>44</th>\n",
       "      <td>MAFF</td>\n",
       "      <td>go_biological_process</td>\n",
       "      <td>POSITIVE_REGULATION_OF_RNA_METABOLIC_PROCESS</td>\n",
       "    </tr>\n",
       "    <tr>\n",
       "      <th>82</th>\n",
       "      <td>MAFF</td>\n",
       "      <td>go_biological_process</td>\n",
       "      <td>REGULATION_OF_EPITHELIAL_CELL_DIFFERENTIATION</td>\n",
       "    </tr>\n",
       "    <tr>\n",
       "      <th>94</th>\n",
       "      <td>MAFF</td>\n",
       "      <td>go_biological_process</td>\n",
       "      <td>EMBRYO_DEVELOPMENT_ENDING_IN_BIRTH_OR_EGG_HATC...</td>\n",
       "    </tr>\n",
       "    <tr>\n",
       "      <th>108</th>\n",
       "      <td>MAFF</td>\n",
       "      <td>go_biological_process</td>\n",
       "      <td>IN_UTERO_EMBRYONIC_DEVELOPMENT</td>\n",
       "    </tr>\n",
       "    <tr>\n",
       "      <th>...</th>\n",
       "      <td>...</td>\n",
       "      <td>...</td>\n",
       "      <td>...</td>\n",
       "    </tr>\n",
       "    <tr>\n",
       "      <th>3838543</th>\n",
       "      <td>PRAMEF22</td>\n",
       "      <td>go_biological_process</td>\n",
       "      <td>POSITIVE_REGULATION_OF_CELL_POPULATION_PROLIFE...</td>\n",
       "    </tr>\n",
       "    <tr>\n",
       "      <th>3838544</th>\n",
       "      <td>PRAMEF22</td>\n",
       "      <td>go_biological_process</td>\n",
       "      <td>APOPTOTIC_PROCESS</td>\n",
       "    </tr>\n",
       "    <tr>\n",
       "      <th>3838545</th>\n",
       "      <td>PRAMEF22</td>\n",
       "      <td>go_biological_process</td>\n",
       "      <td>REGULATION_OF_CELL_DEATH</td>\n",
       "    </tr>\n",
       "    <tr>\n",
       "      <th>3838546</th>\n",
       "      <td>PRAMEF22</td>\n",
       "      <td>go_biological_process</td>\n",
       "      <td>NEGATIVE_REGULATION_OF_DEVELOPMENTAL_PROCESS</td>\n",
       "    </tr>\n",
       "    <tr>\n",
       "      <th>3838547</th>\n",
       "      <td>PRAMEF22</td>\n",
       "      <td>go_biological_process</td>\n",
       "      <td>NEGATIVE_REGULATION_OF_CELL_DEATH</td>\n",
       "    </tr>\n",
       "  </tbody>\n",
       "</table>\n",
       "<p>620627 rows × 3 columns</p>\n",
       "</div>"
      ],
      "text/plain": [
       "        genesymbol             collection  \\\n",
       "33            MAFF  go_biological_process   \n",
       "44            MAFF  go_biological_process   \n",
       "82            MAFF  go_biological_process   \n",
       "94            MAFF  go_biological_process   \n",
       "108           MAFF  go_biological_process   \n",
       "...            ...                    ...   \n",
       "3838543   PRAMEF22  go_biological_process   \n",
       "3838544   PRAMEF22  go_biological_process   \n",
       "3838545   PRAMEF22  go_biological_process   \n",
       "3838546   PRAMEF22  go_biological_process   \n",
       "3838547   PRAMEF22  go_biological_process   \n",
       "\n",
       "                                                   geneset  \n",
       "33                                      EMBRYO_DEVELOPMENT  \n",
       "44            POSITIVE_REGULATION_OF_RNA_METABOLIC_PROCESS  \n",
       "82           REGULATION_OF_EPITHELIAL_CELL_DIFFERENTIATION  \n",
       "94       EMBRYO_DEVELOPMENT_ENDING_IN_BIRTH_OR_EGG_HATC...  \n",
       "108                         IN_UTERO_EMBRYONIC_DEVELOPMENT  \n",
       "...                                                    ...  \n",
       "3838543  POSITIVE_REGULATION_OF_CELL_POPULATION_PROLIFE...  \n",
       "3838544                                  APOPTOTIC_PROCESS  \n",
       "3838545                           REGULATION_OF_CELL_DEATH  \n",
       "3838546       NEGATIVE_REGULATION_OF_DEVELOPMENTAL_PROCESS  \n",
       "3838547                  NEGATIVE_REGULATION_OF_CELL_DEATH  \n",
       "\n",
       "[620627 rows x 3 columns]"
      ]
     },
     "execution_count": 11,
     "metadata": {},
     "output_type": "execute_result"
    }
   ],
   "source": [
    "msigdb.loc[:, 'geneset'] = [name.split('GOBP_')[1] for name in msigdb['geneset']]\n",
    "msigdb"
   ]
  },
  {
   "cell_type": "code",
   "execution_count": 12,
   "id": "895d65a4-5d9c-433b-b613-5356fc46f524",
   "metadata": {},
   "outputs": [
    {
     "name": "stderr",
     "output_type": "stream",
     "text": [
      "  3%|▎         | 1/39 [00:00<00:22,  1.72it/s]"
     ]
    },
    {
     "name": "stdout",
     "output_type": "stream",
     "text": [
      "TRNAU1AP 80 78\n"
     ]
    },
    {
     "name": "stderr",
     "output_type": "stream",
     "text": [
      "  5%|▌         | 2/39 [00:01<00:21,  1.74it/s]"
     ]
    },
    {
     "name": "stdout",
     "output_type": "stream",
     "text": [
      "RBM5 107 121\n"
     ]
    },
    {
     "name": "stderr",
     "output_type": "stream",
     "text": [
      "  8%|▊         | 3/39 [00:01<00:20,  1.72it/s]"
     ]
    },
    {
     "name": "stdout",
     "output_type": "stream",
     "text": [
      "HNRNPF 296 556\n"
     ]
    },
    {
     "name": "stderr",
     "output_type": "stream",
     "text": [
      " 10%|█         | 4/39 [00:02<00:20,  1.74it/s]"
     ]
    },
    {
     "name": "stdout",
     "output_type": "stream",
     "text": [
      "MBNL2 17 35\n"
     ]
    },
    {
     "name": "stderr",
     "output_type": "stream",
     "text": [
      " 13%|█▎        | 5/39 [00:02<00:19,  1.73it/s]"
     ]
    },
    {
     "name": "stdout",
     "output_type": "stream",
     "text": [
      "RNPS1 233 198\n"
     ]
    },
    {
     "name": "stderr",
     "output_type": "stream",
     "text": [
      " 15%|█▌        | 6/39 [00:03<00:19,  1.73it/s]"
     ]
    },
    {
     "name": "stdout",
     "output_type": "stream",
     "text": [
      "LSM1 156 140\n"
     ]
    },
    {
     "name": "stderr",
     "output_type": "stream",
     "text": [
      " 18%|█▊        | 7/39 [00:04<00:18,  1.71it/s]"
     ]
    },
    {
     "name": "stdout",
     "output_type": "stream",
     "text": [
      "PCBP1 343 721\n"
     ]
    },
    {
     "name": "stderr",
     "output_type": "stream",
     "text": [
      " 21%|██        | 8/39 [00:04<00:18,  1.70it/s]"
     ]
    },
    {
     "name": "stdout",
     "output_type": "stream",
     "text": [
      "RBM10 168 248\n"
     ]
    },
    {
     "name": "stderr",
     "output_type": "stream",
     "text": [
      " 23%|██▎       | 9/39 [00:05<00:17,  1.72it/s]"
     ]
    },
    {
     "name": "stdout",
     "output_type": "stream",
     "text": [
      "SMNDC1 77 34\n"
     ]
    },
    {
     "name": "stderr",
     "output_type": "stream",
     "text": [
      " 26%|██▌       | 10/39 [00:05<00:16,  1.73it/s]"
     ]
    },
    {
     "name": "stdout",
     "output_type": "stream",
     "text": [
      "LSM10 157 74\n"
     ]
    },
    {
     "name": "stderr",
     "output_type": "stream",
     "text": [
      " 28%|██▊       | 11/39 [00:06<00:16,  1.73it/s]"
     ]
    },
    {
     "name": "stdout",
     "output_type": "stream",
     "text": [
      "LUC7L 195 88\n"
     ]
    },
    {
     "name": "stderr",
     "output_type": "stream",
     "text": [
      " 31%|███       | 12/39 [00:06<00:15,  1.72it/s]"
     ]
    },
    {
     "name": "stdout",
     "output_type": "stream",
     "text": [
      "RBM22 196 111\n"
     ]
    },
    {
     "name": "stderr",
     "output_type": "stream",
     "text": [
      " 33%|███▎      | 13/39 [00:07<00:15,  1.71it/s]"
     ]
    },
    {
     "name": "stdout",
     "output_type": "stream",
     "text": [
      "RBM42 320 177\n"
     ]
    },
    {
     "name": "stderr",
     "output_type": "stream",
     "text": [
      " 36%|███▌      | 14/39 [00:08<00:14,  1.72it/s]"
     ]
    },
    {
     "name": "stdout",
     "output_type": "stream",
     "text": [
      "CNOT2 176 148\n"
     ]
    },
    {
     "name": "stderr",
     "output_type": "stream",
     "text": [
      " 38%|███▊      | 15/39 [00:08<00:13,  1.73it/s]"
     ]
    },
    {
     "name": "stdout",
     "output_type": "stream",
     "text": [
      "RBM11 104 81\n"
     ]
    },
    {
     "name": "stderr",
     "output_type": "stream",
     "text": [
      " 41%|████      | 16/39 [00:09<00:13,  1.72it/s]"
     ]
    },
    {
     "name": "stdout",
     "output_type": "stream",
     "text": [
      "YTHDF1 185 264\n"
     ]
    },
    {
     "name": "stderr",
     "output_type": "stream",
     "text": [
      " 44%|████▎     | 17/39 [00:09<00:12,  1.73it/s]"
     ]
    },
    {
     "name": "stdout",
     "output_type": "stream",
     "text": [
      "MBNL1 68 90\n"
     ]
    },
    {
     "name": "stderr",
     "output_type": "stream",
     "text": [
      " 46%|████▌     | 18/39 [00:10<00:12,  1.73it/s]"
     ]
    },
    {
     "name": "stdout",
     "output_type": "stream",
     "text": [
      "PCBP3 80 127\n"
     ]
    },
    {
     "name": "stderr",
     "output_type": "stream",
     "text": [
      " 49%|████▊     | 19/39 [00:11<00:11,  1.70it/s]"
     ]
    },
    {
     "name": "stdout",
     "output_type": "stream",
     "text": [
      "YWHAG 711 1182\n"
     ]
    },
    {
     "name": "stderr",
     "output_type": "stream",
     "text": [
      " 51%|█████▏    | 20/39 [00:11<00:11,  1.70it/s]"
     ]
    },
    {
     "name": "stdout",
     "output_type": "stream",
     "text": [
      "EIF4B 215 366\n"
     ]
    },
    {
     "name": "stderr",
     "output_type": "stream",
     "text": [
      " 54%|█████▍    | 21/39 [00:12<00:10,  1.72it/s]"
     ]
    },
    {
     "name": "stdout",
     "output_type": "stream",
     "text": [
      "ZMAT3 24 135\n"
     ]
    },
    {
     "name": "stderr",
     "output_type": "stream",
     "text": [
      " 56%|█████▋    | 22/39 [00:12<00:09,  1.72it/s]"
     ]
    },
    {
     "name": "stdout",
     "output_type": "stream",
     "text": [
      "STAU2 141 238\n"
     ]
    },
    {
     "name": "stderr",
     "output_type": "stream",
     "text": [
      " 59%|█████▉    | 23/39 [00:13<00:09,  1.71it/s]"
     ]
    },
    {
     "name": "stdout",
     "output_type": "stream",
     "text": [
      "WDR6 112 484\n"
     ]
    },
    {
     "name": "stderr",
     "output_type": "stream",
     "text": [
      " 62%|██████▏   | 24/39 [00:13<00:08,  1.71it/s]"
     ]
    },
    {
     "name": "stdout",
     "output_type": "stream",
     "text": [
      "DZIP3 65 162\n"
     ]
    },
    {
     "name": "stderr",
     "output_type": "stream",
     "text": [
      " 64%|██████▍   | 25/39 [00:14<00:08,  1.72it/s]"
     ]
    },
    {
     "name": "stdout",
     "output_type": "stream",
     "text": [
      "TPD52L2 63 8\n"
     ]
    },
    {
     "name": "stderr",
     "output_type": "stream",
     "text": [
      " 67%|██████▋   | 26/39 [00:15<00:07,  1.68it/s]"
     ]
    },
    {
     "name": "stdout",
     "output_type": "stream",
     "text": [
      "GRB2 835 2202\n"
     ]
    },
    {
     "name": "stderr",
     "output_type": "stream",
     "text": [
      " 69%|██████▉   | 27/39 [00:15<00:07,  1.60it/s]"
     ]
    },
    {
     "name": "stdout",
     "output_type": "stream",
     "text": [
      "PPIA 314 917\n"
     ]
    },
    {
     "name": "stderr",
     "output_type": "stream",
     "text": [
      " 72%|███████▏  | 28/39 [00:16<00:06,  1.62it/s]"
     ]
    },
    {
     "name": "stdout",
     "output_type": "stream",
     "text": [
      "ZC3HAV1 412 265\n"
     ]
    },
    {
     "name": "stderr",
     "output_type": "stream",
     "text": [
      " 74%|███████▍  | 29/39 [00:17<00:06,  1.65it/s]"
     ]
    },
    {
     "name": "stdout",
     "output_type": "stream",
     "text": [
      "RPS19BP1 109 75\n"
     ]
    },
    {
     "name": "stderr",
     "output_type": "stream",
     "text": [
      " 77%|███████▋  | 30/39 [00:17<00:05,  1.67it/s]"
     ]
    },
    {
     "name": "stdout",
     "output_type": "stream",
     "text": [
      "SRP68 333 164\n"
     ]
    },
    {
     "name": "stderr",
     "output_type": "stream",
     "text": [
      " 79%|███████▉  | 31/39 [00:18<00:04,  1.66it/s]"
     ]
    },
    {
     "name": "stdout",
     "output_type": "stream",
     "text": [
      "LGALS3 371 1597\n"
     ]
    },
    {
     "name": "stderr",
     "output_type": "stream",
     "text": [
      " 82%|████████▏ | 32/39 [00:18<00:04,  1.67it/s]"
     ]
    },
    {
     "name": "stdout",
     "output_type": "stream",
     "text": [
      "RBM4 189 194\n"
     ]
    },
    {
     "name": "stderr",
     "output_type": "stream",
     "text": [
      " 85%|████████▍ | 33/39 [00:19<00:03,  1.68it/s]"
     ]
    },
    {
     "name": "stdout",
     "output_type": "stream",
     "text": [
      "HNRNPH2 220 496\n"
     ]
    },
    {
     "name": "stderr",
     "output_type": "stream",
     "text": [
      " 87%|████████▋ | 34/39 [00:19<00:02,  1.70it/s]"
     ]
    },
    {
     "name": "stdout",
     "output_type": "stream",
     "text": [
      "PARN 106 261\n"
     ]
    },
    {
     "name": "stderr",
     "output_type": "stream",
     "text": [
      " 90%|████████▉ | 35/39 [00:20<00:02,  1.69it/s]"
     ]
    },
    {
     "name": "stdout",
     "output_type": "stream",
     "text": [
      "RBM14 330 725\n"
     ]
    },
    {
     "name": "stderr",
     "output_type": "stream",
     "text": [
      " 92%|█████████▏| 36/39 [00:21<00:01,  1.66it/s]"
     ]
    },
    {
     "name": "stdout",
     "output_type": "stream",
     "text": [
      "PPP1CA 582 923\n"
     ]
    },
    {
     "name": "stderr",
     "output_type": "stream",
     "text": [
      " 95%|█████████▍| 37/39 [00:21<00:01,  1.68it/s]"
     ]
    },
    {
     "name": "stdout",
     "output_type": "stream",
     "text": [
      "SCAF8 75 111\n"
     ]
    },
    {
     "name": "stderr",
     "output_type": "stream",
     "text": [
      " 97%|█████████▋| 38/39 [00:22<00:00,  1.69it/s]"
     ]
    },
    {
     "name": "stdout",
     "output_type": "stream",
     "text": [
      "NUDT21 202 365\n"
     ]
    },
    {
     "name": "stderr",
     "output_type": "stream",
     "text": [
      "100%|██████████| 39/39 [00:22<00:00,  1.70it/s]"
     ]
    },
    {
     "name": "stdout",
     "output_type": "stream",
     "text": [
      "CPSF6 391 362\n"
     ]
    },
    {
     "name": "stderr",
     "output_type": "stream",
     "text": [
      "\n"
     ]
    }
   ],
   "source": [
    "r_list = []\n",
    "num_top_terms = []\n",
    "terms = []\n",
    "go_pvals = pd.DataFrame()\n",
    "for rbp in tqdm.tqdm(cluster_index):\n",
    "    r_list.append(rbp)\n",
    "\n",
    "    \n",
    "    top_genes = pd.DataFrame(interactors_dict[rbp]).copy()\n",
    "    top_genes = top_genes.rename(columns={0: 'gene_name'})\n",
    "    top_genes = top_genes.set_index('gene_name')\n",
    "    top_genes['group'] = 'interactor'\n",
    "    \n",
    "    # Run ora\n",
    "    enr_pvals = dc.get_ora_df(\n",
    "        df=top_genes,\n",
    "        net=msigdb,\n",
    "        source='geneset',\n",
    "        target='genesymbol'\n",
    "    )\n",
    "    \n",
    "    total_num_terms = enr_pvals[enr_pvals['FDR p-value']<0.05].shape[0]\n",
    "    top_pct = int(0.01*total_num_terms)\n",
    "    enr_pvals['-log10 FDR p-value'] = -np.log10(enr_pvals['FDR p-value'])\n",
    "    print(rbp, top_genes.shape[0], enr_pvals[enr_pvals['FDR p-value']<0.05].shape[0])\n",
    "    keep_term = enr_pvals[enr_pvals['FDR p-value']<0.05].sort_values(by=['-log10 FDR p-value', 'Combined score'],ascending=[False, False]).head(10)\n",
    "    terms += keep_term['Term'].tolist()\n",
    "    num_top_terms.append(enr_pvals[enr_pvals['FDR p-value']<0.05].shape[0])\n",
    "    keep_term['RBP'] = rbp\n",
    "    go_pvals = pd.concat([keep_term\n",
    "                          ,go_pvals])"
   ]
  },
  {
   "cell_type": "code",
   "execution_count": 13,
   "id": "8f36ea2b-a77b-4394-8ab9-d08feb4d0c8e",
   "metadata": {
    "scrolled": true
   },
   "outputs": [
    {
     "name": "stderr",
     "output_type": "stream",
     "text": [
      "  0%|          | 0/39 [00:00<?, ?it/s]/scratch/pjaganna1/job_7118577/ipykernel_3900067/1590151308.py:21: SettingWithCopyWarning: \n",
      "A value is trying to be set on a copy of a slice from a DataFrame.\n",
      "Try using .loc[row_indexer,col_indexer] = value instead\n",
      "\n",
      "See the caveats in the documentation: https://pandas.pydata.org/pandas-docs/stable/user_guide/indexing.html#returning-a-view-versus-a-copy\n",
      "  all_term['RBP'] = rbp\n",
      "  3%|▎         | 1/39 [00:00<00:21,  1.77it/s]/scratch/pjaganna1/job_7118577/ipykernel_3900067/1590151308.py:21: SettingWithCopyWarning: \n",
      "A value is trying to be set on a copy of a slice from a DataFrame.\n",
      "Try using .loc[row_indexer,col_indexer] = value instead\n",
      "\n",
      "See the caveats in the documentation: https://pandas.pydata.org/pandas-docs/stable/user_guide/indexing.html#returning-a-view-versus-a-copy\n",
      "  all_term['RBP'] = rbp\n",
      "  5%|▌         | 2/39 [00:01<00:21,  1.76it/s]/scratch/pjaganna1/job_7118577/ipykernel_3900067/1590151308.py:21: SettingWithCopyWarning: \n",
      "A value is trying to be set on a copy of a slice from a DataFrame.\n",
      "Try using .loc[row_indexer,col_indexer] = value instead\n",
      "\n",
      "See the caveats in the documentation: https://pandas.pydata.org/pandas-docs/stable/user_guide/indexing.html#returning-a-view-versus-a-copy\n",
      "  all_term['RBP'] = rbp\n",
      "  8%|▊         | 3/39 [00:01<00:20,  1.73it/s]/scratch/pjaganna1/job_7118577/ipykernel_3900067/1590151308.py:21: SettingWithCopyWarning: \n",
      "A value is trying to be set on a copy of a slice from a DataFrame.\n",
      "Try using .loc[row_indexer,col_indexer] = value instead\n",
      "\n",
      "See the caveats in the documentation: https://pandas.pydata.org/pandas-docs/stable/user_guide/indexing.html#returning-a-view-versus-a-copy\n",
      "  all_term['RBP'] = rbp\n",
      " 10%|█         | 4/39 [00:02<00:20,  1.75it/s]/scratch/pjaganna1/job_7118577/ipykernel_3900067/1590151308.py:21: SettingWithCopyWarning: \n",
      "A value is trying to be set on a copy of a slice from a DataFrame.\n",
      "Try using .loc[row_indexer,col_indexer] = value instead\n",
      "\n",
      "See the caveats in the documentation: https://pandas.pydata.org/pandas-docs/stable/user_guide/indexing.html#returning-a-view-versus-a-copy\n",
      "  all_term['RBP'] = rbp\n",
      " 13%|█▎        | 5/39 [00:02<00:19,  1.72it/s]/scratch/pjaganna1/job_7118577/ipykernel_3900067/1590151308.py:21: SettingWithCopyWarning: \n",
      "A value is trying to be set on a copy of a slice from a DataFrame.\n",
      "Try using .loc[row_indexer,col_indexer] = value instead\n",
      "\n",
      "See the caveats in the documentation: https://pandas.pydata.org/pandas-docs/stable/user_guide/indexing.html#returning-a-view-versus-a-copy\n",
      "  all_term['RBP'] = rbp\n",
      " 15%|█▌        | 6/39 [00:03<00:19,  1.73it/s]/scratch/pjaganna1/job_7118577/ipykernel_3900067/1590151308.py:21: SettingWithCopyWarning: \n",
      "A value is trying to be set on a copy of a slice from a DataFrame.\n",
      "Try using .loc[row_indexer,col_indexer] = value instead\n",
      "\n",
      "See the caveats in the documentation: https://pandas.pydata.org/pandas-docs/stable/user_guide/indexing.html#returning-a-view-versus-a-copy\n",
      "  all_term['RBP'] = rbp\n",
      " 18%|█▊        | 7/39 [00:04<00:18,  1.71it/s]/scratch/pjaganna1/job_7118577/ipykernel_3900067/1590151308.py:21: SettingWithCopyWarning: \n",
      "A value is trying to be set on a copy of a slice from a DataFrame.\n",
      "Try using .loc[row_indexer,col_indexer] = value instead\n",
      "\n",
      "See the caveats in the documentation: https://pandas.pydata.org/pandas-docs/stable/user_guide/indexing.html#returning-a-view-versus-a-copy\n",
      "  all_term['RBP'] = rbp\n",
      " 21%|██        | 8/39 [00:04<00:18,  1.72it/s]/scratch/pjaganna1/job_7118577/ipykernel_3900067/1590151308.py:21: SettingWithCopyWarning: \n",
      "A value is trying to be set on a copy of a slice from a DataFrame.\n",
      "Try using .loc[row_indexer,col_indexer] = value instead\n",
      "\n",
      "See the caveats in the documentation: https://pandas.pydata.org/pandas-docs/stable/user_guide/indexing.html#returning-a-view-versus-a-copy\n",
      "  all_term['RBP'] = rbp\n",
      " 23%|██▎       | 9/39 [00:05<00:17,  1.73it/s]/scratch/pjaganna1/job_7118577/ipykernel_3900067/1590151308.py:21: SettingWithCopyWarning: \n",
      "A value is trying to be set on a copy of a slice from a DataFrame.\n",
      "Try using .loc[row_indexer,col_indexer] = value instead\n",
      "\n",
      "See the caveats in the documentation: https://pandas.pydata.org/pandas-docs/stable/user_guide/indexing.html#returning-a-view-versus-a-copy\n",
      "  all_term['RBP'] = rbp\n",
      " 26%|██▌       | 10/39 [00:05<00:16,  1.74it/s]/scratch/pjaganna1/job_7118577/ipykernel_3900067/1590151308.py:21: SettingWithCopyWarning: \n",
      "A value is trying to be set on a copy of a slice from a DataFrame.\n",
      "Try using .loc[row_indexer,col_indexer] = value instead\n",
      "\n",
      "See the caveats in the documentation: https://pandas.pydata.org/pandas-docs/stable/user_guide/indexing.html#returning-a-view-versus-a-copy\n",
      "  all_term['RBP'] = rbp\n",
      " 28%|██▊       | 11/39 [00:06<00:16,  1.73it/s]/scratch/pjaganna1/job_7118577/ipykernel_3900067/1590151308.py:21: SettingWithCopyWarning: \n",
      "A value is trying to be set on a copy of a slice from a DataFrame.\n",
      "Try using .loc[row_indexer,col_indexer] = value instead\n",
      "\n",
      "See the caveats in the documentation: https://pandas.pydata.org/pandas-docs/stable/user_guide/indexing.html#returning-a-view-versus-a-copy\n",
      "  all_term['RBP'] = rbp\n",
      " 31%|███       | 12/39 [00:06<00:15,  1.73it/s]/scratch/pjaganna1/job_7118577/ipykernel_3900067/1590151308.py:21: SettingWithCopyWarning: \n",
      "A value is trying to be set on a copy of a slice from a DataFrame.\n",
      "Try using .loc[row_indexer,col_indexer] = value instead\n",
      "\n",
      "See the caveats in the documentation: https://pandas.pydata.org/pandas-docs/stable/user_guide/indexing.html#returning-a-view-versus-a-copy\n",
      "  all_term['RBP'] = rbp\n",
      " 33%|███▎      | 13/39 [00:07<00:15,  1.73it/s]/scratch/pjaganna1/job_7118577/ipykernel_3900067/1590151308.py:21: SettingWithCopyWarning: \n",
      "A value is trying to be set on a copy of a slice from a DataFrame.\n",
      "Try using .loc[row_indexer,col_indexer] = value instead\n",
      "\n",
      "See the caveats in the documentation: https://pandas.pydata.org/pandas-docs/stable/user_guide/indexing.html#returning-a-view-versus-a-copy\n",
      "  all_term['RBP'] = rbp\n",
      " 36%|███▌      | 14/39 [00:08<00:14,  1.73it/s]/scratch/pjaganna1/job_7118577/ipykernel_3900067/1590151308.py:21: SettingWithCopyWarning: \n",
      "A value is trying to be set on a copy of a slice from a DataFrame.\n",
      "Try using .loc[row_indexer,col_indexer] = value instead\n",
      "\n",
      "See the caveats in the documentation: https://pandas.pydata.org/pandas-docs/stable/user_guide/indexing.html#returning-a-view-versus-a-copy\n",
      "  all_term['RBP'] = rbp\n",
      " 38%|███▊      | 15/39 [00:08<00:13,  1.72it/s]/scratch/pjaganna1/job_7118577/ipykernel_3900067/1590151308.py:21: SettingWithCopyWarning: \n",
      "A value is trying to be set on a copy of a slice from a DataFrame.\n",
      "Try using .loc[row_indexer,col_indexer] = value instead\n",
      "\n",
      "See the caveats in the documentation: https://pandas.pydata.org/pandas-docs/stable/user_guide/indexing.html#returning-a-view-versus-a-copy\n",
      "  all_term['RBP'] = rbp\n",
      " 41%|████      | 16/39 [00:09<00:13,  1.72it/s]/scratch/pjaganna1/job_7118577/ipykernel_3900067/1590151308.py:21: SettingWithCopyWarning: \n",
      "A value is trying to be set on a copy of a slice from a DataFrame.\n",
      "Try using .loc[row_indexer,col_indexer] = value instead\n",
      "\n",
      "See the caveats in the documentation: https://pandas.pydata.org/pandas-docs/stable/user_guide/indexing.html#returning-a-view-versus-a-copy\n",
      "  all_term['RBP'] = rbp\n",
      " 44%|████▎     | 17/39 [00:09<00:12,  1.73it/s]/scratch/pjaganna1/job_7118577/ipykernel_3900067/1590151308.py:21: SettingWithCopyWarning: \n",
      "A value is trying to be set on a copy of a slice from a DataFrame.\n",
      "Try using .loc[row_indexer,col_indexer] = value instead\n",
      "\n",
      "See the caveats in the documentation: https://pandas.pydata.org/pandas-docs/stable/user_guide/indexing.html#returning-a-view-versus-a-copy\n",
      "  all_term['RBP'] = rbp\n",
      " 46%|████▌     | 18/39 [00:10<00:12,  1.73it/s]/scratch/pjaganna1/job_7118577/ipykernel_3900067/1590151308.py:21: SettingWithCopyWarning: \n",
      "A value is trying to be set on a copy of a slice from a DataFrame.\n",
      "Try using .loc[row_indexer,col_indexer] = value instead\n",
      "\n",
      "See the caveats in the documentation: https://pandas.pydata.org/pandas-docs/stable/user_guide/indexing.html#returning-a-view-versus-a-copy\n",
      "  all_term['RBP'] = rbp\n",
      " 49%|████▊     | 19/39 [00:11<00:11,  1.70it/s]/scratch/pjaganna1/job_7118577/ipykernel_3900067/1590151308.py:21: SettingWithCopyWarning: \n",
      "A value is trying to be set on a copy of a slice from a DataFrame.\n",
      "Try using .loc[row_indexer,col_indexer] = value instead\n",
      "\n",
      "See the caveats in the documentation: https://pandas.pydata.org/pandas-docs/stable/user_guide/indexing.html#returning-a-view-versus-a-copy\n",
      "  all_term['RBP'] = rbp\n",
      " 51%|█████▏    | 20/39 [00:11<00:11,  1.70it/s]/scratch/pjaganna1/job_7118577/ipykernel_3900067/1590151308.py:21: SettingWithCopyWarning: \n",
      "A value is trying to be set on a copy of a slice from a DataFrame.\n",
      "Try using .loc[row_indexer,col_indexer] = value instead\n",
      "\n",
      "See the caveats in the documentation: https://pandas.pydata.org/pandas-docs/stable/user_guide/indexing.html#returning-a-view-versus-a-copy\n",
      "  all_term['RBP'] = rbp\n",
      " 54%|█████▍    | 21/39 [00:12<00:10,  1.72it/s]/scratch/pjaganna1/job_7118577/ipykernel_3900067/1590151308.py:21: SettingWithCopyWarning: \n",
      "A value is trying to be set on a copy of a slice from a DataFrame.\n",
      "Try using .loc[row_indexer,col_indexer] = value instead\n",
      "\n",
      "See the caveats in the documentation: https://pandas.pydata.org/pandas-docs/stable/user_guide/indexing.html#returning-a-view-versus-a-copy\n",
      "  all_term['RBP'] = rbp\n",
      " 56%|█████▋    | 22/39 [00:12<00:09,  1.72it/s]/scratch/pjaganna1/job_7118577/ipykernel_3900067/1590151308.py:21: SettingWithCopyWarning: \n",
      "A value is trying to be set on a copy of a slice from a DataFrame.\n",
      "Try using .loc[row_indexer,col_indexer] = value instead\n",
      "\n",
      "See the caveats in the documentation: https://pandas.pydata.org/pandas-docs/stable/user_guide/indexing.html#returning-a-view-versus-a-copy\n",
      "  all_term['RBP'] = rbp\n",
      " 59%|█████▉    | 23/39 [00:13<00:09,  1.72it/s]/scratch/pjaganna1/job_7118577/ipykernel_3900067/1590151308.py:21: SettingWithCopyWarning: \n",
      "A value is trying to be set on a copy of a slice from a DataFrame.\n",
      "Try using .loc[row_indexer,col_indexer] = value instead\n",
      "\n",
      "See the caveats in the documentation: https://pandas.pydata.org/pandas-docs/stable/user_guide/indexing.html#returning-a-view-versus-a-copy\n",
      "  all_term['RBP'] = rbp\n",
      " 64%|██████▍   | 25/39 [00:14<00:08,  1.73it/s]/scratch/pjaganna1/job_7118577/ipykernel_3900067/1590151308.py:21: SettingWithCopyWarning: \n",
      "A value is trying to be set on a copy of a slice from a DataFrame.\n",
      "Try using .loc[row_indexer,col_indexer] = value instead\n",
      "\n",
      "See the caveats in the documentation: https://pandas.pydata.org/pandas-docs/stable/user_guide/indexing.html#returning-a-view-versus-a-copy\n",
      "  all_term['RBP'] = rbp\n",
      " 67%|██████▋   | 26/39 [00:15<00:07,  1.69it/s]/scratch/pjaganna1/job_7118577/ipykernel_3900067/1590151308.py:21: SettingWithCopyWarning: \n",
      "A value is trying to be set on a copy of a slice from a DataFrame.\n",
      "Try using .loc[row_indexer,col_indexer] = value instead\n",
      "\n",
      "See the caveats in the documentation: https://pandas.pydata.org/pandas-docs/stable/user_guide/indexing.html#returning-a-view-versus-a-copy\n",
      "  all_term['RBP'] = rbp\n",
      " 69%|██████▉   | 27/39 [00:15<00:07,  1.68it/s]/scratch/pjaganna1/job_7118577/ipykernel_3900067/1590151308.py:21: SettingWithCopyWarning: \n",
      "A value is trying to be set on a copy of a slice from a DataFrame.\n",
      "Try using .loc[row_indexer,col_indexer] = value instead\n",
      "\n",
      "See the caveats in the documentation: https://pandas.pydata.org/pandas-docs/stable/user_guide/indexing.html#returning-a-view-versus-a-copy\n",
      "  all_term['RBP'] = rbp\n",
      " 72%|███████▏  | 28/39 [00:16<00:06,  1.68it/s]/scratch/pjaganna1/job_7118577/ipykernel_3900067/1590151308.py:21: SettingWithCopyWarning: \n",
      "A value is trying to be set on a copy of a slice from a DataFrame.\n",
      "Try using .loc[row_indexer,col_indexer] = value instead\n",
      "\n",
      "See the caveats in the documentation: https://pandas.pydata.org/pandas-docs/stable/user_guide/indexing.html#returning-a-view-versus-a-copy\n",
      "  all_term['RBP'] = rbp\n",
      " 74%|███████▍  | 29/39 [00:16<00:06,  1.62it/s]/scratch/pjaganna1/job_7118577/ipykernel_3900067/1590151308.py:21: SettingWithCopyWarning: \n",
      "A value is trying to be set on a copy of a slice from a DataFrame.\n",
      "Try using .loc[row_indexer,col_indexer] = value instead\n",
      "\n",
      "See the caveats in the documentation: https://pandas.pydata.org/pandas-docs/stable/user_guide/indexing.html#returning-a-view-versus-a-copy\n",
      "  all_term['RBP'] = rbp\n",
      " 77%|███████▋  | 30/39 [00:17<00:05,  1.64it/s]/scratch/pjaganna1/job_7118577/ipykernel_3900067/1590151308.py:21: SettingWithCopyWarning: \n",
      "A value is trying to be set on a copy of a slice from a DataFrame.\n",
      "Try using .loc[row_indexer,col_indexer] = value instead\n",
      "\n",
      "See the caveats in the documentation: https://pandas.pydata.org/pandas-docs/stable/user_guide/indexing.html#returning-a-view-versus-a-copy\n",
      "  all_term['RBP'] = rbp\n",
      " 79%|███████▉  | 31/39 [00:18<00:04,  1.64it/s]/scratch/pjaganna1/job_7118577/ipykernel_3900067/1590151308.py:21: SettingWithCopyWarning: \n",
      "A value is trying to be set on a copy of a slice from a DataFrame.\n",
      "Try using .loc[row_indexer,col_indexer] = value instead\n",
      "\n",
      "See the caveats in the documentation: https://pandas.pydata.org/pandas-docs/stable/user_guide/indexing.html#returning-a-view-versus-a-copy\n",
      "  all_term['RBP'] = rbp\n",
      " 82%|████████▏ | 32/39 [00:18<00:04,  1.67it/s]/scratch/pjaganna1/job_7118577/ipykernel_3900067/1590151308.py:21: SettingWithCopyWarning: \n",
      "A value is trying to be set on a copy of a slice from a DataFrame.\n",
      "Try using .loc[row_indexer,col_indexer] = value instead\n",
      "\n",
      "See the caveats in the documentation: https://pandas.pydata.org/pandas-docs/stable/user_guide/indexing.html#returning-a-view-versus-a-copy\n",
      "  all_term['RBP'] = rbp\n",
      " 85%|████████▍ | 33/39 [00:19<00:03,  1.67it/s]/scratch/pjaganna1/job_7118577/ipykernel_3900067/1590151308.py:21: SettingWithCopyWarning: \n",
      "A value is trying to be set on a copy of a slice from a DataFrame.\n",
      "Try using .loc[row_indexer,col_indexer] = value instead\n",
      "\n",
      "See the caveats in the documentation: https://pandas.pydata.org/pandas-docs/stable/user_guide/indexing.html#returning-a-view-versus-a-copy\n",
      "  all_term['RBP'] = rbp\n",
      " 87%|████████▋ | 34/39 [00:19<00:02,  1.69it/s]/scratch/pjaganna1/job_7118577/ipykernel_3900067/1590151308.py:21: SettingWithCopyWarning: \n",
      "A value is trying to be set on a copy of a slice from a DataFrame.\n",
      "Try using .loc[row_indexer,col_indexer] = value instead\n",
      "\n",
      "See the caveats in the documentation: https://pandas.pydata.org/pandas-docs/stable/user_guide/indexing.html#returning-a-view-versus-a-copy\n",
      "  all_term['RBP'] = rbp\n",
      " 90%|████████▉ | 35/39 [00:20<00:02,  1.69it/s]/scratch/pjaganna1/job_7118577/ipykernel_3900067/1590151308.py:21: SettingWithCopyWarning: \n",
      "A value is trying to be set on a copy of a slice from a DataFrame.\n",
      "Try using .loc[row_indexer,col_indexer] = value instead\n",
      "\n",
      "See the caveats in the documentation: https://pandas.pydata.org/pandas-docs/stable/user_guide/indexing.html#returning-a-view-versus-a-copy\n",
      "  all_term['RBP'] = rbp\n",
      " 92%|█████████▏| 36/39 [00:21<00:01,  1.67it/s]/scratch/pjaganna1/job_7118577/ipykernel_3900067/1590151308.py:21: SettingWithCopyWarning: \n",
      "A value is trying to be set on a copy of a slice from a DataFrame.\n",
      "Try using .loc[row_indexer,col_indexer] = value instead\n",
      "\n",
      "See the caveats in the documentation: https://pandas.pydata.org/pandas-docs/stable/user_guide/indexing.html#returning-a-view-versus-a-copy\n",
      "  all_term['RBP'] = rbp\n",
      " 95%|█████████▍| 37/39 [00:21<00:01,  1.68it/s]/scratch/pjaganna1/job_7118577/ipykernel_3900067/1590151308.py:21: SettingWithCopyWarning: \n",
      "A value is trying to be set on a copy of a slice from a DataFrame.\n",
      "Try using .loc[row_indexer,col_indexer] = value instead\n",
      "\n",
      "See the caveats in the documentation: https://pandas.pydata.org/pandas-docs/stable/user_guide/indexing.html#returning-a-view-versus-a-copy\n",
      "  all_term['RBP'] = rbp\n",
      " 97%|█████████▋| 38/39 [00:22<00:00,  1.69it/s]/scratch/pjaganna1/job_7118577/ipykernel_3900067/1590151308.py:21: SettingWithCopyWarning: \n",
      "A value is trying to be set on a copy of a slice from a DataFrame.\n",
      "Try using .loc[row_indexer,col_indexer] = value instead\n",
      "\n",
      "See the caveats in the documentation: https://pandas.pydata.org/pandas-docs/stable/user_guide/indexing.html#returning-a-view-versus-a-copy\n",
      "  all_term['RBP'] = rbp\n",
      "100%|██████████| 39/39 [00:22<00:00,  1.70it/s]\n"
     ]
    }
   ],
   "source": [
    "go_pvals_all_top_terms = pd.DataFrame()\n",
    "for rbp in tqdm.tqdm(cluster_index):\n",
    "    r_list.append(rbp)\n",
    "    \n",
    "    top_genes = pd.DataFrame(interactors_dict[rbp]).copy()\n",
    "    top_genes = top_genes.rename(columns={0: 'gene_name'})\n",
    "    top_genes = top_genes.set_index('gene_name')\n",
    "    top_genes['group'] = 'interactor'\n",
    "    \n",
    "    # Run ora\n",
    "    enr_pvals = dc.get_ora_df(\n",
    "        df=top_genes,\n",
    "        net=msigdb,\n",
    "        source='geneset',\n",
    "        target='genesymbol'\n",
    "    )\n",
    "    \n",
    "    enr_pvals['-log10 FDR p-value'] = -np.log10(enr_pvals['FDR p-value'])\n",
    "    enr_pvals = enr_pvals[enr_pvals['FDR p-value'] <0.05]\n",
    "    all_term = enr_pvals[enr_pvals['Term'].isin(terms)]\n",
    "    all_term['RBP'] = rbp\n",
    "    \n",
    "    go_pvals_all_top_terms = pd.concat([all_term\n",
    "                          ,go_pvals_all_top_terms])"
   ]
  },
  {
   "cell_type": "code",
   "execution_count": 14,
   "id": "c06b3a19-f8e3-4fd9-96b9-a1b580d9c795",
   "metadata": {},
   "outputs": [
    {
     "data": {
      "text/html": [
       "<div>\n",
       "<style scoped>\n",
       "    .dataframe tbody tr th:only-of-type {\n",
       "        vertical-align: middle;\n",
       "    }\n",
       "\n",
       "    .dataframe tbody tr th {\n",
       "        vertical-align: top;\n",
       "    }\n",
       "\n",
       "    .dataframe thead th {\n",
       "        text-align: right;\n",
       "    }\n",
       "</style>\n",
       "<table border=\"1\" class=\"dataframe\">\n",
       "  <thead>\n",
       "    <tr style=\"text-align: right;\">\n",
       "      <th></th>\n",
       "      <th>Term</th>\n",
       "      <th>Set size</th>\n",
       "      <th>Overlap ratio</th>\n",
       "      <th>p-value</th>\n",
       "      <th>FDR p-value</th>\n",
       "      <th>Odds ratio</th>\n",
       "      <th>Combined score</th>\n",
       "      <th>Features</th>\n",
       "      <th>-log10 FDR p-value</th>\n",
       "      <th>RBP</th>\n",
       "    </tr>\n",
       "  </thead>\n",
       "  <tbody>\n",
       "    <tr>\n",
       "      <th>45</th>\n",
       "      <td>ALTERNATIVE_MRNA_SPLICING_VIA_SPLICEOSOME</td>\n",
       "      <td>72</td>\n",
       "      <td>0.430556</td>\n",
       "      <td>3.457890e-34</td>\n",
       "      <td>7.283798e-32</td>\n",
       "      <td>24.018279</td>\n",
       "      <td>1850.541994</td>\n",
       "      <td>CELF1;DDX17;DDX5;DHX9;FXR1;FXR2;HNRNPA0;HNRNPA...</td>\n",
       "      <td>31.137642</td>\n",
       "      <td>CPSF6</td>\n",
       "    </tr>\n",
       "    <tr>\n",
       "      <th>47</th>\n",
       "      <td>AMIDE_BIOSYNTHETIC_PROCESS</td>\n",
       "      <td>853</td>\n",
       "      <td>0.043376</td>\n",
       "      <td>5.372026e-06</td>\n",
       "      <td>1.200159e-04</td>\n",
       "      <td>2.373141</td>\n",
       "      <td>28.796420</td>\n",
       "      <td>CELF1;DAZL;DHX9;EIF4A3;EIF5A;ELAVL1;FXR1;FXR2;...</td>\n",
       "      <td>3.920761</td>\n",
       "      <td>CPSF6</td>\n",
       "    </tr>\n",
       "    <tr>\n",
       "      <th>49</th>\n",
       "      <td>AMIDE_METABOLIC_PROCESS</td>\n",
       "      <td>1140</td>\n",
       "      <td>0.036842</td>\n",
       "      <td>6.120951e-05</td>\n",
       "      <td>1.014083e-03</td>\n",
       "      <td>2.010943</td>\n",
       "      <td>19.508572</td>\n",
       "      <td>CELF1;DAZL;DHX9;EIF4A3;EIF5A;ELAVL1;FXR1;FXR2;...</td>\n",
       "      <td>2.993926</td>\n",
       "      <td>CPSF6</td>\n",
       "    </tr>\n",
       "    <tr>\n",
       "      <th>109</th>\n",
       "      <td>BIOLOGICAL_PROCESS_INVOLVED_IN_INTERSPECIES_IN...</td>\n",
       "      <td>1646</td>\n",
       "      <td>0.033414</td>\n",
       "      <td>6.258223e-05</td>\n",
       "      <td>1.030254e-03</td>\n",
       "      <td>1.838606</td>\n",
       "      <td>17.795924</td>\n",
       "      <td>ADAR;AKAP8;AKIRIN2;ALYREF;BCR;CCNT1;CDC73;CHMP...</td>\n",
       "      <td>2.987056</td>\n",
       "      <td>CPSF6</td>\n",
       "    </tr>\n",
       "    <tr>\n",
       "      <th>192</th>\n",
       "      <td>CELLULAR_MACROMOLECULE_BIOSYNTHETIC_PROCESS</td>\n",
       "      <td>1149</td>\n",
       "      <td>0.033072</td>\n",
       "      <td>1.104151e-03</td>\n",
       "      <td>1.214978e-02</td>\n",
       "      <td>1.786110</td>\n",
       "      <td>12.161050</td>\n",
       "      <td>ALG13;CELF1;DAZL;DHX9;EIF4A3;EIF5A;ELAVL1;FXR1...</td>\n",
       "      <td>1.915431</td>\n",
       "      <td>CPSF6</td>\n",
       "    </tr>\n",
       "  </tbody>\n",
       "</table>\n",
       "</div>"
      ],
      "text/plain": [
       "                                                  Term  Set size  \\\n",
       "45           ALTERNATIVE_MRNA_SPLICING_VIA_SPLICEOSOME        72   \n",
       "47                          AMIDE_BIOSYNTHETIC_PROCESS       853   \n",
       "49                             AMIDE_METABOLIC_PROCESS      1140   \n",
       "109  BIOLOGICAL_PROCESS_INVOLVED_IN_INTERSPECIES_IN...      1646   \n",
       "192        CELLULAR_MACROMOLECULE_BIOSYNTHETIC_PROCESS      1149   \n",
       "\n",
       "     Overlap ratio       p-value   FDR p-value  Odds ratio  Combined score  \\\n",
       "45        0.430556  3.457890e-34  7.283798e-32   24.018279     1850.541994   \n",
       "47        0.043376  5.372026e-06  1.200159e-04    2.373141       28.796420   \n",
       "49        0.036842  6.120951e-05  1.014083e-03    2.010943       19.508572   \n",
       "109       0.033414  6.258223e-05  1.030254e-03    1.838606       17.795924   \n",
       "192       0.033072  1.104151e-03  1.214978e-02    1.786110       12.161050   \n",
       "\n",
       "                                              Features  -log10 FDR p-value  \\\n",
       "45   CELF1;DDX17;DDX5;DHX9;FXR1;FXR2;HNRNPA0;HNRNPA...           31.137642   \n",
       "47   CELF1;DAZL;DHX9;EIF4A3;EIF5A;ELAVL1;FXR1;FXR2;...            3.920761   \n",
       "49   CELF1;DAZL;DHX9;EIF4A3;EIF5A;ELAVL1;FXR1;FXR2;...            2.993926   \n",
       "109  ADAR;AKAP8;AKIRIN2;ALYREF;BCR;CCNT1;CDC73;CHMP...            2.987056   \n",
       "192  ALG13;CELF1;DAZL;DHX9;EIF4A3;EIF5A;ELAVL1;FXR1...            1.915431   \n",
       "\n",
       "       RBP  \n",
       "45   CPSF6  \n",
       "47   CPSF6  \n",
       "49   CPSF6  \n",
       "109  CPSF6  \n",
       "192  CPSF6  "
      ]
     },
     "execution_count": 14,
     "metadata": {},
     "output_type": "execute_result"
    }
   ],
   "source": [
    "go_pvals_all_top_terms.head()"
   ]
  },
  {
   "cell_type": "code",
   "execution_count": 15,
   "id": "16007acc-83e1-4615-8dc6-1e22e7d1c916",
   "metadata": {},
   "outputs": [
    {
     "data": {
      "text/html": [
       "<div>\n",
       "<style scoped>\n",
       "    .dataframe tbody tr th:only-of-type {\n",
       "        vertical-align: middle;\n",
       "    }\n",
       "\n",
       "    .dataframe tbody tr th {\n",
       "        vertical-align: top;\n",
       "    }\n",
       "\n",
       "    .dataframe thead th {\n",
       "        text-align: right;\n",
       "    }\n",
       "</style>\n",
       "<table border=\"1\" class=\"dataframe\">\n",
       "  <thead>\n",
       "    <tr style=\"text-align: right;\">\n",
       "      <th></th>\n",
       "      <th>Term</th>\n",
       "      <th>Set size</th>\n",
       "      <th>Overlap ratio</th>\n",
       "      <th>p-value</th>\n",
       "      <th>FDR p-value</th>\n",
       "      <th>Odds ratio</th>\n",
       "      <th>Combined score</th>\n",
       "      <th>Features</th>\n",
       "      <th>-log10 FDR p-value</th>\n",
       "      <th>RBP</th>\n",
       "    </tr>\n",
       "  </thead>\n",
       "  <tbody>\n",
       "    <tr>\n",
       "      <th>943</th>\n",
       "      <td>MRNA_PROCESSING</td>\n",
       "      <td>465</td>\n",
       "      <td>0.395699</td>\n",
       "      <td>1.538130e-204</td>\n",
       "      <td>4.535944e-201</td>\n",
       "      <td>37.314972</td>\n",
       "      <td>17511.796455</td>\n",
       "      <td>ACIN1;ADAR;AKAP17A;ALYREF;AQR;ARL6IP4;BCAS2;BU...</td>\n",
       "      <td>200.343332</td>\n",
       "      <td>CPSF6</td>\n",
       "    </tr>\n",
       "    <tr>\n",
       "      <th>940</th>\n",
       "      <td>MRNA_METABOLIC_PROCESS</td>\n",
       "      <td>706</td>\n",
       "      <td>0.277620</td>\n",
       "      <td>7.203118e-184</td>\n",
       "      <td>1.062100e-180</td>\n",
       "      <td>27.449672</td>\n",
       "      <td>11575.557956</td>\n",
       "      <td>ACIN1;ADAR;AKAP17A;ALYREF;AQR;ARL6IP4;ATXN2L;B...</td>\n",
       "      <td>179.973835</td>\n",
       "      <td>CPSF6</td>\n",
       "    </tr>\n",
       "    <tr>\n",
       "      <th>2683</th>\n",
       "      <td>RNA_PROCESSING</td>\n",
       "      <td>935</td>\n",
       "      <td>0.213904</td>\n",
       "      <td>3.428595e-163</td>\n",
       "      <td>3.370309e-160</td>\n",
       "      <td>21.337818</td>\n",
       "      <td>7982.247678</td>\n",
       "      <td>ACIN1;ADAR;AKAP17A;ALYREF;AQR;ARL6IP4;BCAS2;BU...</td>\n",
       "      <td>159.472330</td>\n",
       "      <td>CPSF6</td>\n",
       "    </tr>\n",
       "    <tr>\n",
       "      <th>2685</th>\n",
       "      <td>RNA_SPLICING</td>\n",
       "      <td>432</td>\n",
       "      <td>0.347222</td>\n",
       "      <td>6.002141e-153</td>\n",
       "      <td>4.425079e-150</td>\n",
       "      <td>28.196213</td>\n",
       "      <td>9882.868765</td>\n",
       "      <td>ACIN1;AKAP17A;ALYREF;AQR;ARL6IP4;BCAS2;BUD13;C...</td>\n",
       "      <td>149.354079</td>\n",
       "      <td>CPSF6</td>\n",
       "    </tr>\n",
       "    <tr>\n",
       "      <th>2687</th>\n",
       "      <td>RNA_SPLICING_VIA_TRANSESTERIFICATION_REACTIONS</td>\n",
       "      <td>295</td>\n",
       "      <td>0.427119</td>\n",
       "      <td>1.299003e-140</td>\n",
       "      <td>7.661517e-138</td>\n",
       "      <td>31.772835</td>\n",
       "      <td>10234.040356</td>\n",
       "      <td>ALYREF;AQR;BCAS2;BUD13;CDC40;CDC5L;CELF1;CRNKL...</td>\n",
       "      <td>137.115685</td>\n",
       "      <td>CPSF6</td>\n",
       "    </tr>\n",
       "  </tbody>\n",
       "</table>\n",
       "</div>"
      ],
      "text/plain": [
       "                                                Term  Set size  Overlap ratio  \\\n",
       "943                                  MRNA_PROCESSING       465       0.395699   \n",
       "940                           MRNA_METABOLIC_PROCESS       706       0.277620   \n",
       "2683                                  RNA_PROCESSING       935       0.213904   \n",
       "2685                                    RNA_SPLICING       432       0.347222   \n",
       "2687  RNA_SPLICING_VIA_TRANSESTERIFICATION_REACTIONS       295       0.427119   \n",
       "\n",
       "            p-value    FDR p-value  Odds ratio  Combined score  \\\n",
       "943   1.538130e-204  4.535944e-201   37.314972    17511.796455   \n",
       "940   7.203118e-184  1.062100e-180   27.449672    11575.557956   \n",
       "2683  3.428595e-163  3.370309e-160   21.337818     7982.247678   \n",
       "2685  6.002141e-153  4.425079e-150   28.196213     9882.868765   \n",
       "2687  1.299003e-140  7.661517e-138   31.772835    10234.040356   \n",
       "\n",
       "                                               Features  -log10 FDR p-value  \\\n",
       "943   ACIN1;ADAR;AKAP17A;ALYREF;AQR;ARL6IP4;BCAS2;BU...          200.343332   \n",
       "940   ACIN1;ADAR;AKAP17A;ALYREF;AQR;ARL6IP4;ATXN2L;B...          179.973835   \n",
       "2683  ACIN1;ADAR;AKAP17A;ALYREF;AQR;ARL6IP4;BCAS2;BU...          159.472330   \n",
       "2685  ACIN1;AKAP17A;ALYREF;AQR;ARL6IP4;BCAS2;BUD13;C...          149.354079   \n",
       "2687  ALYREF;AQR;BCAS2;BUD13;CDC40;CDC5L;CELF1;CRNKL...          137.115685   \n",
       "\n",
       "        RBP  \n",
       "943   CPSF6  \n",
       "940   CPSF6  \n",
       "2683  CPSF6  \n",
       "2685  CPSF6  \n",
       "2687  CPSF6  "
      ]
     },
     "execution_count": 15,
     "metadata": {},
     "output_type": "execute_result"
    }
   ],
   "source": [
    "go_pvals.head()"
   ]
  },
  {
   "cell_type": "code",
   "execution_count": 16,
   "id": "70d9ce2e-0323-46b1-9b2f-51dfbc489c79",
   "metadata": {},
   "outputs": [],
   "source": [
    "go_pvals_copy = go_pvals.copy()"
   ]
  },
  {
   "cell_type": "code",
   "execution_count": 17,
   "id": "9b17cb13-b971-4f42-a823-b281c49cafaf",
   "metadata": {},
   "outputs": [],
   "source": [
    "go_pvals_all_top_terms_copy = go_pvals_all_top_terms.copy()"
   ]
  },
  {
   "cell_type": "code",
   "execution_count": 18,
   "id": "2799320c-5144-4f48-b943-2377f5691373",
   "metadata": {},
   "outputs": [],
   "source": [
    "import pickle"
   ]
  },
  {
   "cell_type": "code",
   "execution_count": 19,
   "id": "5a0dba37-9458-4d2f-89c9-7c8c3d9a8e8a",
   "metadata": {},
   "outputs": [],
   "source": [
    "### Dictionary with broader categorization of functional terms\n",
    "with open('../functional_groups_dictionary_interactor_analysis.pkl', 'rb') as file:\n",
    "    functional_groups = pickle.load(file)"
   ]
  },
  {
   "cell_type": "code",
   "execution_count": 20,
   "id": "6da62768-b8de-4a50-8c6d-254862ddc840",
   "metadata": {},
   "outputs": [
    {
     "data": {
      "text/plain": [
       "dict_keys(['Cytoskeleton and Cell Structure', 'Cell Cycle and Division', 'Gene Expression and RNA Processing', 'Ribosome and Translation Biogenesis', 'Metabolism and Biosynthesis', 'Signal Transduction and Regulation', 'Immune and Inflammatory Response', 'Cellular Response to Stimuli', 'Protein Modification and Degradation', 'Apoptosis and Cell Death', 'Transport and Localization', 'Development and Morphogenesis'])"
      ]
     },
     "execution_count": 20,
     "metadata": {},
     "output_type": "execute_result"
    }
   ],
   "source": [
    "functional_groups.keys()"
   ]
  },
  {
   "cell_type": "code",
   "execution_count": 21,
   "id": "c39f21b3-442a-486b-9f03-61507e065a83",
   "metadata": {},
   "outputs": [],
   "source": [
    "def assign_larger_function(df):\n",
    "    for key in functional_groups:\n",
    "        if df.Term in functional_groups[key]:\n",
    "            return key\n",
    "            "
   ]
  },
  {
   "cell_type": "code",
   "execution_count": 22,
   "id": "1e1a0434-3d49-46fc-a2cc-cb7d8cb586d1",
   "metadata": {},
   "outputs": [],
   "source": [
    "go_pvals_copy['Functional_group'] = go_pvals_copy.apply(assign_larger_function, axis=1)"
   ]
  },
  {
   "cell_type": "code",
   "execution_count": 23,
   "id": "a781e681-a064-460a-8026-ea46eba37624",
   "metadata": {},
   "outputs": [],
   "source": [
    "go_pvals_copy = go_pvals_copy.set_index('RBP')"
   ]
  },
  {
   "cell_type": "code",
   "execution_count": 24,
   "id": "707f8f37-f8d9-4209-8d17-bc49bf020deb",
   "metadata": {},
   "outputs": [],
   "source": [
    "go_pvals_all_top_terms_copy['Functional_group'] = go_pvals_all_top_terms_copy.apply(assign_larger_function, axis=1)"
   ]
  },
  {
   "cell_type": "code",
   "execution_count": 25,
   "id": "ac815898-ad2d-48b5-8ad5-598c59af635b",
   "metadata": {},
   "outputs": [],
   "source": [
    "go_pvals_all_top_terms_copy = go_pvals_all_top_terms_copy.set_index('RBP')"
   ]
  },
  {
   "cell_type": "code",
   "execution_count": 26,
   "id": "375268fd-5ede-4de1-aa90-fddd9230df13",
   "metadata": {},
   "outputs": [],
   "source": [
    "term_to_group = dict(zip(go_pvals_copy.Term, go_pvals_copy.Functional_group))"
   ]
  },
  {
   "cell_type": "code",
   "execution_count": 29,
   "id": "0673ba59-de75-46b4-8979-7f53c01d3876",
   "metadata": {},
   "outputs": [],
   "source": [
    "### labeled according to the clustering analysis\n",
    "cluster_index_dict = {'HNRNPF': '1', 'NUDT21': '5', 'MBNL2': '1', 'TRNAU1AP': '1', 'RBM5': '1', \n",
    "                      'PPIA': '3', 'CPSF6': '6', 'ZC3HAV1': '3', 'SRP68': '3', 'LGALS3': '3', \n",
    "                      'RPS19BP1': '3', 'RBM4': '3', 'TPD52L2': '3', 'HNRNPH2': '3', 'GRB2': '3', \n",
    "                      'RBM14': '4', 'PCBP3': '3', 'YWHAG': '3', 'PPP1CA': '4', 'YTHDF1': '3', 'CNOT2': \n",
    "                      '3', 'MBNL1': '3', 'LSM1': '2', 'SCAF8': '4', 'RBM11': '3', 'LUC7L': '2', 'LSM10': '2',\n",
    "                      'PCBP1': '2', 'EIF4B': '3', 'ZMAT3': '3', 'RBM22': '2', 'RBM42': '2', 'WDR6': '3', 'STAU2': '3', \n",
    "                      'RBM10': '2', 'PARN': '4', 'DZIP3': '3', 'SMNDC1': '2', 'RNPS1': '2'}"
   ]
  },
  {
   "cell_type": "code",
   "execution_count": null,
   "id": "84294a6b-b235-4e38-a16c-b2b3e13ee040",
   "metadata": {},
   "outputs": [],
   "source": [
    "cluster_index_dict"
   ]
  },
  {
   "cell_type": "code",
   "execution_count": 30,
   "id": "9aafa905-3654-4f40-8f99-4a9b649d1dfc",
   "metadata": {},
   "outputs": [],
   "source": [
    "to_plot = go_pvals_copy.copy()\n",
    "to_plot['cluster_id'] = to_plot.index.map(cluster_index_dict)\n"
   ]
  },
  {
   "cell_type": "code",
   "execution_count": 31,
   "id": "be600714-23ef-47fa-8940-9fbb78eb5fb2",
   "metadata": {},
   "outputs": [],
   "source": [
    "to_plot_all_terms = go_pvals_all_top_terms_copy.copy()\n",
    "to_plot_all_terms['cluster_id'] = to_plot_all_terms.index.map(cluster_index_dict)\n"
   ]
  },
  {
   "cell_type": "code",
   "execution_count": 33,
   "id": "d20a6754-457f-4ed4-89cf-e13700953cf7",
   "metadata": {},
   "outputs": [],
   "source": [
    "def build_scatterplot_swapped(df, metric='Overlap ratio', savefig=False):\n",
    "    # 1) Row order (y-axis): RBPs grouped by cluster\n",
    "    # y_order = (\n",
    "    #     pd.DataFrame({'RBP': list({*df.RBP})})\n",
    "    #       .assign(cluster_id=lambda x: x.RBP.map(cluster_index_dict))\n",
    "    #       .sort_values(['cluster_id','RBP'], ascending=[True, True]).RBP\n",
    "    #       .tolist()\n",
    "    # )[::-1]\n",
    "    y_order = cluster_index[::-1].copy()\n",
    "    \n",
    "    # 2) Column order (x-axis): Terms grouped by functional group\n",
    "    term_stats = (df.groupby(['Term','Functional_group'])[metric]\n",
    "                    .mean()\n",
    "                    .reset_index(name='mean_overlap'))\n",
    "    x_order = (term_stats.sort_values(['Functional_group','mean_overlap'], \n",
    "                                      ascending=[True, False])['Term']\n",
    "                        .drop_duplicates().tolist())\n",
    "    \n",
    "    # --- enforce categorical order ---\n",
    "    df = df.copy()\n",
    "    df['RBP'] = pd.Categorical(df['RBP'], categories=y_order, ordered=True)\n",
    "    df['Term'] = pd.Categorical(df['Term'], categories=x_order, ordered=True)\n",
    "    df['cluster_id'] = df['RBP'].map(cluster_index_dict)\n",
    "\n",
    "    # 3) Cluster colors for RBPs (y-axis groups)\n",
    "    row_clusters = pd.Series([cluster_index_dict[i] for i in y_order], \n",
    "                              index=y_order, name='cluster_id')\n",
    "    unique_clusters = sorted(row_clusters.unique())\n",
    "    cluster_palette = sns.color_palette(\"tab10\", n_colors=len(unique_clusters))\n",
    "    cluster_color_map = {cid: cluster_palette[i] for i, cid in enumerate(['3', '6', '1', '4', '2', '5'])}\n",
    "\n",
    "    # 4) Column groups for Terms (x-axis groups)\n",
    "    col_groups = pd.Series([term_to_group[t] for t in x_order], \n",
    "                           index=x_order, name='Functional_group')\n",
    "    unique_groups = pd.unique(col_groups)\n",
    "    group_palette = sns.color_palette(\"Set2\", n_colors=len(unique_groups))\n",
    "    group_color_map = {g: group_palette[i] for i, g in enumerate(unique_groups)}\n",
    "    col_colors = col_groups.map(group_color_map)\n",
    "\n",
    "    # 5) Scatterplot\n",
    "    plt.figure(figsize=(3.5, 8))\n",
    "    g = sns.scatterplot(\n",
    "        data=df,\n",
    "        x='Term',\n",
    "        y='RBP',\n",
    "        size=np.log10(df[metric]),   # +1 avoids log(0)\n",
    "        hue='cluster_id',\n",
    "        hue_order=['3', '6', '1', '4', '2', '5'],\n",
    "        palette=cluster_color_map,\n",
    "        linewidth=0,\n",
    "        alpha=0.5\n",
    "    )\n",
    "    \n",
    "    # enforce order\n",
    "    g.set_xlim(-0.5, len(x_order)-0.5)\n",
    "    g.set_ylim(-0.5, len(y_order)-0.5)\n",
    "\n",
    "    # Hide tick labels\n",
    "    g.set_xticks(range(len(x_order)))\n",
    "    g.set_xticklabels([], rotation=90)  # no term labels\n",
    "    g.set_yticks(range(len(y_order)))\n",
    "    #g.set_yticklabels([])               # no RBP labels\n",
    "\n",
    "    g.set_xlabel(\"\")\n",
    "    if savefig ==True:\n",
    "        plt.savefig('Jaccard_cluster_decoupler_noproteinlen_scatter_no_grouping.png')\n",
    "        plt.savefig('Jaccard_cluster_decoupler_noproteinlen_scatter_no_grouping.svg')\n",
    "        plt.savefig('Jaccard_cluster_decoupler_noproteinlen_scatter_no_grouping.jpg')\n",
    "\n"
   ]
  },
  {
   "cell_type": "code",
   "execution_count": 34,
   "id": "1a5bdcb3-d79a-4d0d-af00-7c9e0f9f9cf9",
   "metadata": {},
   "outputs": [
    {
     "data": {
      "image/png": "[encoded data removed]",
      "text/plain": [
       "<Figure size 350x800 with 1 Axes>"
      ]
     },
     "metadata": {},
     "output_type": "display_data"
    }
   ],
   "source": [
    "build_scatterplot_swapped(to_plot.reset_index(), 'Odds ratio', True)"
   ]
  },
  {
   "cell_type": "code",
   "execution_count": 35,
   "id": "96ebde6b-1c1a-4363-a432-20cbac4ecc24",
   "metadata": {},
   "outputs": [],
   "source": [
    "import matplotlib.patches as mpatches\n",
    "import matplotlib as mpl\n",
    "def build_heatmap_swapped(df, metric='Overlap ratio', savefig=False):\n",
    "    # 1) Row order (y-axis): RBPs grouped by cluster\n",
    "    y_order = (\n",
    "        pd.DataFrame({'RBP': list({*df.RBP})})\n",
    "          .assign(cluster_id=lambda x: x.RBP.map(cluster_index_dict))\n",
    "          .sort_values(['cluster_id','RBP'], ascending=[True, True]).RBP\n",
    "          .tolist()\n",
    "    )[::-1]\n",
    "    \n",
    "    # 2) Column order (x-axis): Terms grouped by functional group\n",
    "    term_stats = (df.groupby(['Term','Functional_group'])[metric]\n",
    "                    .mean()\n",
    "                    .reset_index(name='mean_overlap'))\n",
    "    x_order = (term_stats.sort_values(['Functional_group','mean_overlap'], \n",
    "                                      ascending=[True, False])['Term']\n",
    "                        .drop_duplicates().tolist())\n",
    "    \n",
    "    # --- enforce categorical order ---\n",
    "    df = df.copy()\n",
    "    df['RBP'] = pd.Categorical(df['RBP'], categories=y_order, ordered=True)\n",
    "    df['Term'] = pd.Categorical(df['Term'], categories=x_order, ordered=True)\n",
    "    df['cluster_id'] = df['RBP'].map(cluster_index_dict)\n",
    "     # 3) Pivot: rows=RBP, cols=Term\n",
    "    mat = (df.pivot_table(index='RBP', columns='Term', values=metric, aggfunc='mean')\n",
    "             .reindex(index=y_order, columns=x_order)\n",
    "             .fillna(0.0))\n",
    "\n",
    "    # 3) Cluster colors for RBPs (y-axis groups)\n",
    "    row_clusters = pd.Series([cluster_index_dict[i] for i in y_order], \n",
    "                              index=y_order, name='cluster_id')\n",
    "    unique_clusters = sorted(row_clusters.unique())\n",
    "    cluster_palette = sns.color_palette(\"tab10\", n_colors=len(unique_clusters))\n",
    "    cluster_color_map = {cid: cluster_palette[i] for i, cid in enumerate(unique_clusters)}\n",
    "\n",
    "    # 4) Column groups for Terms (x-axis groups)\n",
    "    col_groups = pd.Series([term_to_group[t] for t in x_order], \n",
    "                           index=x_order, name='Functional_group')\n",
    "    unique_groups = pd.unique(col_groups)\n",
    "    group_palette = sns.color_palette(\"Set3\", n_colors=len(unique_groups))\n",
    "    group_color_map = {g: group_palette[i] for i, g in enumerate(unique_groups)}\n",
    "    col_colors = col_groups.map(group_color_map)\n",
    "\n",
    "    # 5) Scatterplot\n",
    "    g = sns.clustermap(\n",
    "        np.log10(mat + 1),   # +1 avoids log(0)\n",
    "        row_cluster=False,\n",
    "        col_cluster=False,\n",
    "        col_colors=col_colors,\n",
    "        cmap='Blues',\n",
    "        figsize=(7,16),\n",
    "        cbar_pos=None\n",
    "\n",
    "    )\n",
    "    \n",
    "    # Hide x-term labels for cleaner look\n",
    "    g.ax_heatmap.set_xticklabels([])\n",
    "    g.ax_heatmap.set_yticklabels([])\n",
    "    g.ax_heatmap.set_xlabel(\"\")\n",
    "    # add functional group color bar (columns)\n",
    "\n",
    "    # --- Legends ---\n",
    "    # cluster legend (row colors)\n",
    "   \n",
    "    # functional group legend (col colors)\n",
    "    group_handles = [\n",
    "        mpatches.Patch(color=group_color_map[g], label=g)\n",
    "        for g in unique_groups\n",
    "    ]\n",
    "\n",
    "    g.ax_heatmap.legend(\n",
    "        handles=group_handles,\n",
    "        title=\"Functional Groups\",\n",
    "        bbox_to_anchor=(1.05, 0.7),\n",
    "        loc='upper left',\n",
    "        frameon=False\n",
    "    )\n",
    "\n",
    "    if savefig ==True:\n",
    "        plt.savefig('Jaccard_cluster_decoupler_noproteinlen_heatmap_no_grouping.png')\n",
    "        plt.savefig('Jaccard_cluster_decoupler_noproteinlen_heatmap_no_grouping.svg')\n",
    "        plt.savefig('Jaccard_cluster_decoupler_noproteinlen_heatmap_no_grouping.jpg')\n",
    "    \n",
    "    plt.show()\n",
    "\n"
   ]
  },
  {
   "cell_type": "code",
   "execution_count": 36,
   "id": "3c70c160-399b-4e82-887b-5ad0759c3c1e",
   "metadata": {},
   "outputs": [
    {
     "data": {
      "image/png": "[encoded data removed]",
      "text/plain": [
       "<Figure size 700x1600 with 4 Axes>"
      ]
     },
     "metadata": {},
     "output_type": "display_data"
    }
   ],
   "source": [
    "build_heatmap_swapped(to_plot.reset_index(), 'Odds ratio', True)"
   ]
  },
  {
   "cell_type": "code",
   "execution_count": null,
   "id": "4aa811d5-f7f0-47cb-9a20-d0c83c9e82af",
   "metadata": {},
   "outputs": [],
   "source": []
  }
 ],
 "metadata": {
  "kernelspec": {
   "display_name": "Python 3 (ipykernel)",
   "language": "python",
   "name": "python3"
  },
  "language_info": {
   "codemirror_mode": {
    "name": "ipython",
    "version": 3
   },
   "file_extension": ".py",
   "mimetype": "text/x-python",
   "name": "python",
   "nbconvert_exporter": "python",
   "pygments_lexer": "ipython3",
   "version": "3.11.6"
  }
 },
 "nbformat": 4,
 "nbformat_minor": 5
}
