{
 "cells": [
  {
   "cell_type": "code",
   "execution_count": 1,
   "id": "9ef64650-2ea8-49c9-8c59-fdfc8a40105b",
   "metadata": {},
   "outputs": [],
   "source": [
    "import os\n",
    "import pandas as pd\n",
    "import seaborn as sns\n",
    "import matplotlib.pyplot as plt\n",
    "import glob\n",
    "import tqdm\n",
    "import decoupler as dc\n",
    "import numpy as np"
   ]
  },
  {
   "cell_type": "code",
   "execution_count": 2,
   "id": "015588b8-8887-4d7a-b279-b0f3cc26558c",
   "metadata": {},
   "outputs": [],
   "source": [
    "gtf_path = '/tscc/nfs/home/pjaganna1/projects/apa_screen_yongsheng/apa_kd_data_graveley/refs/gencode.v43.annotation.gtf'"
   ]
  },
  {
   "cell_type": "code",
   "execution_count": 3,
   "id": "7d112b6f-dcc3-4e4f-a39a-3b5473a68835",
   "metadata": {},
   "outputs": [],
   "source": [
    "gtf_df = pd.read_csv(gtf_path, sep='\\t', comment='#',header=None)\n",
    "gtf_df = gtf_df[gtf_df[2]=='transcript']\n",
    "gtf_df['transcript_id'] = gtf_df.apply(lambda x: x[8].split(';')[1].split('\\\"')[1], axis=1)\n",
    "gtf_df['gene_id'] = gtf_df.apply(lambda x: x[8].split(';')[0].split('\\\"')[1].split('.')[0], axis=1)\n",
    "gtf_df['gene_name'] = gtf_df.apply(lambda x: x[8].split(';')[3].split('\\\"')[1], axis=1)\n",
    "gene_id_gene_name = dict(zip(gtf_df.gene_id, gtf_df.gene_name))\n",
    "gene_name_gene_id = dict(zip(gtf_df.gene_name, gtf_df.gene_id))\n",
    "transcript_id_gene_name = dict(zip(gtf_df.transcript_id, gtf_df.gene_name))\n",
    "transcript_id_gene_id = dict(zip(gtf_df.transcript_id, gtf_df.gene_id))"
   ]
  },
  {
   "cell_type": "code",
   "execution_count": 4,
   "id": "b9f07513-94b0-49a5-b2f2-553fe7becefa",
   "metadata": {},
   "outputs": [],
   "source": [
    "pas_dir = '/tscc/nfs/home/pjaganna1/projects/apa_screen_yongsheng/apa_kd_data_graveley_redo/dif_apa/pas_seq'"
   ]
  },
  {
   "cell_type": "code",
   "execution_count": 5,
   "id": "b1c49b39-3b96-441f-b49d-cf2dceb3ff39",
   "metadata": {},
   "outputs": [],
   "source": [
    "def return_class(df):\n",
    "    if df['log(treatment.p/treatment.d)'] > df['log(Ctrl.p/Ctrl.d)']:\n",
    "        return 'proximal'\n",
    "    elif df['log(treatment.p/treatment.d)'] < df['log(Ctrl.p/Ctrl.d)']:\n",
    "        return 'distal'\n",
    "\n",
    "def calc_pas_ratio(df):\n",
    "    return df['log(treatment.p/treatment.d)'] - df['log(Ctrl.p/Ctrl.d)']"
   ]
  },
  {
   "cell_type": "code",
   "execution_count": 6,
   "id": "a3aef8ad-2983-4736-94b0-4ce819ab1639",
   "metadata": {},
   "outputs": [],
   "source": [
    "sig_PAS_events = {}\n",
    "sig_PAS = {}\n",
    "for rbp_table in glob.glob(os.path.join(pas_dir, '*_APA_table.txt')):\n",
    "    test = pd.read_csv(rbp_table, sep='\\t')\n",
    "    test['treatment.p + 1'] = test['treatment.p'] + 1\n",
    "    test['treatment.d + 1'] = test['treatment.d'] + 1\n",
    "    test['Ctrl.p + 1'] = test['Ctrl.p'] + 1\n",
    "    test['Ctrl.d + 1'] = test['Ctrl.d'] + 1\n",
    "    test['log(treatment.p/treatment.d)'] = test.apply(lambda x: np.log2(x['treatment.p + 1']/x['treatment.d + 1']), axis=1)\n",
    "    test['log(Ctrl.p/Ctrl.d)'] = test.apply(lambda x: np.log2(x['Ctrl.p + 1']/x['Ctrl.d + 1']), axis=1)\n",
    "    test['dif'] = test.apply(calc_pas_ratio, axis=1)\n",
    "    test['apa_class'] = test.apply(return_class, axis=1)\n",
    "    test['apa_type'] = test.apply(lambda x: f\"{x['TYPE.p']}_{x['TYPE.d']}\", axis=1)\n",
    "    test = test[test['apa_type'].isin(['LastExon_LastExon', 'Intron_LastExon','Intron_Intron'])]\n",
    "    sig_PAS_events[ rbp_table.split('/')[-1].split('_')[1]] = test\n",
    "    sig_PAS[ rbp_table.split('/')[-1].split('_')[1]] =test['SYMBOL'].tolist()"
   ]
  },
  {
   "cell_type": "code",
   "execution_count": 7,
   "id": "e595d0a9-72f9-432d-9a02-77d57f923b78",
   "metadata": {},
   "outputs": [],
   "source": [
    "salmon_path = '/tscc/nfs/home/pjaganna1/projects/apa_screen_yongsheng/apa_kd_data_graveley_redo/salmon_out'"
   ]
  },
  {
   "cell_type": "code",
   "execution_count": 8,
   "id": "3dcbfe6b-9702-4021-bb44-bb24ec705ede",
   "metadata": {},
   "outputs": [],
   "source": [
    "sequenced_samples = set([i.split('/')[-1].split('-')[0] for i in glob.glob(os.path.join(salmon_path, '*.sf'))])"
   ]
  },
  {
   "cell_type": "code",
   "execution_count": 9,
   "id": "8f4eb197-879d-4574-b7c3-7e35424e706d",
   "metadata": {},
   "outputs": [],
   "source": [
    "candidates_list = pd.read_csv('./candidates_list_updated.txt', header=None)[0].tolist()"
   ]
  },
  {
   "cell_type": "code",
   "execution_count": 10,
   "id": "9c946d0d-f42a-41d5-8cc2-d163e87e5b4b",
   "metadata": {},
   "outputs": [],
   "source": [
    "remove_candidates = ['GTSF1']"
   ]
  },
  {
   "cell_type": "code",
   "execution_count": 11,
   "id": "efef88ca-7013-40a9-9a89-5d9ab6aa3f8a",
   "metadata": {},
   "outputs": [],
   "source": [
    "final_candidate_list = list((set(candidates_list).intersection(sequenced_samples)) - set(remove_candidates))"
   ]
  },
  {
   "cell_type": "code",
   "execution_count": 12,
   "id": "a795aaaa-45de-4b98-9348-3d977168332e",
   "metadata": {},
   "outputs": [],
   "source": [
    "final_candidate_list = final_candidate_list + ['NUDT21']"
   ]
  },
  {
   "cell_type": "code",
   "execution_count": 13,
   "id": "17ed873d-b225-4e0e-bc65-1fa462e28496",
   "metadata": {},
   "outputs": [
    {
     "data": {
      "text/plain": [
       "41"
      ]
     },
     "execution_count": 13,
     "metadata": {},
     "output_type": "execute_result"
    }
   ],
   "source": [
    "len(final_candidate_list)"
   ]
  },
  {
   "cell_type": "code",
   "execution_count": 14,
   "id": "6739d01e-f8f3-4e57-88f3-4853a352f5d4",
   "metadata": {},
   "outputs": [
    {
     "name": "stderr",
     "output_type": "stream",
     "text": [
      "/tscc/nfs/home/pjaganna1/anaconda3/envs/decoupler/lib/python3.11/site-packages/tqdm/auto.py:21: TqdmWarning: IProgress not found. Please update jupyter and ipywidgets. See https://ipywidgets.readthedocs.io/en/stable/user_install.html\n",
      "  from .autonotebook import tqdm as notebook_tqdm\n"
     ]
    }
   ],
   "source": [
    "msigdb = dc.get_resource('MSigDB')"
   ]
  },
  {
   "cell_type": "code",
   "execution_count": 15,
   "id": "f5ca073c-53eb-493d-9c7c-f58a932517f0",
   "metadata": {},
   "outputs": [
    {
     "data": {
      "text/html": [
       "<div>\n",
       "<style scoped>\n",
       "    .dataframe tbody tr th:only-of-type {\n",
       "        vertical-align: middle;\n",
       "    }\n",
       "\n",
       "    .dataframe tbody tr th {\n",
       "        vertical-align: top;\n",
       "    }\n",
       "\n",
       "    .dataframe thead th {\n",
       "        text-align: right;\n",
       "    }\n",
       "</style>\n",
       "<table border=\"1\" class=\"dataframe\">\n",
       "  <thead>\n",
       "    <tr style=\"text-align: right;\">\n",
       "      <th></th>\n",
       "      <th>genesymbol</th>\n",
       "      <th>collection</th>\n",
       "      <th>geneset</th>\n",
       "    </tr>\n",
       "  </thead>\n",
       "  <tbody>\n",
       "    <tr>\n",
       "      <th>33</th>\n",
       "      <td>MAFF</td>\n",
       "      <td>go_biological_process</td>\n",
       "      <td>GOBP_EMBRYO_DEVELOPMENT</td>\n",
       "    </tr>\n",
       "    <tr>\n",
       "      <th>44</th>\n",
       "      <td>MAFF</td>\n",
       "      <td>go_biological_process</td>\n",
       "      <td>GOBP_POSITIVE_REGULATION_OF_RNA_METABOLIC_PROCESS</td>\n",
       "    </tr>\n",
       "    <tr>\n",
       "      <th>82</th>\n",
       "      <td>MAFF</td>\n",
       "      <td>go_biological_process</td>\n",
       "      <td>GOBP_REGULATION_OF_EPITHELIAL_CELL_DIFFERENTIA...</td>\n",
       "    </tr>\n",
       "    <tr>\n",
       "      <th>94</th>\n",
       "      <td>MAFF</td>\n",
       "      <td>go_biological_process</td>\n",
       "      <td>GOBP_EMBRYO_DEVELOPMENT_ENDING_IN_BIRTH_OR_EGG...</td>\n",
       "    </tr>\n",
       "    <tr>\n",
       "      <th>108</th>\n",
       "      <td>MAFF</td>\n",
       "      <td>go_biological_process</td>\n",
       "      <td>GOBP_IN_UTERO_EMBRYONIC_DEVELOPMENT</td>\n",
       "    </tr>\n",
       "  </tbody>\n",
       "</table>\n",
       "</div>"
      ],
      "text/plain": [
       "    genesymbol             collection  \\\n",
       "33        MAFF  go_biological_process   \n",
       "44        MAFF  go_biological_process   \n",
       "82        MAFF  go_biological_process   \n",
       "94        MAFF  go_biological_process   \n",
       "108       MAFF  go_biological_process   \n",
       "\n",
       "                                               geneset  \n",
       "33                             GOBP_EMBRYO_DEVELOPMENT  \n",
       "44   GOBP_POSITIVE_REGULATION_OF_RNA_METABOLIC_PROCESS  \n",
       "82   GOBP_REGULATION_OF_EPITHELIAL_CELL_DIFFERENTIA...  \n",
       "94   GOBP_EMBRYO_DEVELOPMENT_ENDING_IN_BIRTH_OR_EGG...  \n",
       "108                GOBP_IN_UTERO_EMBRYONIC_DEVELOPMENT  "
      ]
     },
     "execution_count": 15,
     "metadata": {},
     "output_type": "execute_result"
    }
   ],
   "source": [
    "# Filter by hallmark\n",
    "msigdb = msigdb[msigdb['collection']=='go_biological_process']\n",
    "\n",
    "# Remove duplicated entries\n",
    "msigdb = msigdb[~msigdb.duplicated(['geneset', 'genesymbol'])]\n",
    "\n",
    "msigdb.head()"
   ]
  },
  {
   "cell_type": "code",
   "execution_count": 16,
   "id": "7db16587-0bae-411d-ac4b-91d21355e088",
   "metadata": {},
   "outputs": [],
   "source": [
    "msigdb.loc[:, 'geneset'] = [name.split('GOBP_')[1] for name in msigdb['geneset']]"
   ]
  },
  {
   "cell_type": "code",
   "execution_count": 17,
   "id": "8157bf6c-7d59-40ba-96e3-1950b5206554",
   "metadata": {},
   "outputs": [
    {
     "name": "stderr",
     "output_type": "stream",
     "text": [
      "  2%|▏         | 1/41 [00:00<00:31,  1.27it/s]"
     ]
    },
    {
     "name": "stdout",
     "output_type": "stream",
     "text": [
      "CNOT2 156 0\n"
     ]
    },
    {
     "name": "stderr",
     "output_type": "stream",
     "text": [
      "  5%|▍         | 2/41 [00:01<00:30,  1.28it/s]"
     ]
    },
    {
     "name": "stdout",
     "output_type": "stream",
     "text": [
      "YWHAG 136 5\n"
     ]
    },
    {
     "name": "stderr",
     "output_type": "stream",
     "text": [
      "  7%|▋         | 3/41 [00:02<00:26,  1.41it/s]"
     ]
    },
    {
     "name": "stdout",
     "output_type": "stream",
     "text": [
      "PARN 21 4\n"
     ]
    },
    {
     "name": "stderr",
     "output_type": "stream",
     "text": [
      " 10%|▉         | 4/41 [00:02<00:24,  1.51it/s]"
     ]
    },
    {
     "name": "stdout",
     "output_type": "stream",
     "text": [
      "GRB2 208 43\n"
     ]
    },
    {
     "name": "stderr",
     "output_type": "stream",
     "text": [
      " 17%|█▋        | 7/41 [00:03<00:12,  2.73it/s]"
     ]
    },
    {
     "name": "stdout",
     "output_type": "stream",
     "text": [
      "LSM1 82 0\n"
     ]
    },
    {
     "name": "stderr",
     "output_type": "stream",
     "text": [
      " 20%|█▉        | 8/41 [00:03<00:13,  2.41it/s]"
     ]
    },
    {
     "name": "stdout",
     "output_type": "stream",
     "text": [
      "ZMAT3 97 0\n"
     ]
    },
    {
     "name": "stderr",
     "output_type": "stream",
     "text": [
      " 22%|██▏       | 9/41 [00:04<00:14,  2.21it/s]"
     ]
    },
    {
     "name": "stdout",
     "output_type": "stream",
     "text": [
      "LSM10 27 0\n"
     ]
    },
    {
     "name": "stderr",
     "output_type": "stream",
     "text": [
      " 24%|██▍       | 10/41 [00:05<00:15,  2.05it/s]"
     ]
    },
    {
     "name": "stdout",
     "output_type": "stream",
     "text": [
      "PCBP3 179 0\n"
     ]
    },
    {
     "name": "stderr",
     "output_type": "stream",
     "text": [
      " 27%|██▋       | 11/41 [00:05<00:15,  1.96it/s]"
     ]
    },
    {
     "name": "stdout",
     "output_type": "stream",
     "text": [
      "RBM10 24 0\n"
     ]
    },
    {
     "name": "stderr",
     "output_type": "stream",
     "text": [
      " 29%|██▉       | 12/41 [00:06<00:15,  1.90it/s]"
     ]
    },
    {
     "name": "stdout",
     "output_type": "stream",
     "text": [
      "SMNDC1 8 0\n"
     ]
    },
    {
     "name": "stderr",
     "output_type": "stream",
     "text": [
      " 32%|███▏      | 13/41 [00:06<00:15,  1.86it/s]"
     ]
    },
    {
     "name": "stdout",
     "output_type": "stream",
     "text": [
      "RBM42 54 0\n"
     ]
    },
    {
     "name": "stderr",
     "output_type": "stream",
     "text": [
      " 34%|███▍      | 14/41 [00:07<00:15,  1.76it/s]"
     ]
    },
    {
     "name": "stdout",
     "output_type": "stream",
     "text": [
      "HNRNPF 1442 219\n"
     ]
    },
    {
     "name": "stderr",
     "output_type": "stream",
     "text": [
      " 37%|███▋      | 15/41 [00:08<00:14,  1.76it/s]"
     ]
    },
    {
     "name": "stdout",
     "output_type": "stream",
     "text": [
      "RBM22 33 0\n"
     ]
    },
    {
     "name": "stderr",
     "output_type": "stream",
     "text": [
      " 39%|███▉      | 16/41 [00:08<00:14,  1.71it/s]"
     ]
    },
    {
     "name": "stdout",
     "output_type": "stream",
     "text": [
      "MBNL2 1023 142\n"
     ]
    },
    {
     "name": "stderr",
     "output_type": "stream",
     "text": [
      " 44%|████▍     | 18/41 [00:09<00:10,  2.22it/s]"
     ]
    },
    {
     "name": "stdout",
     "output_type": "stream",
     "text": [
      "SCAF8 120 0\n"
     ]
    },
    {
     "name": "stderr",
     "output_type": "stream",
     "text": [
      " 46%|████▋     | 19/41 [00:09<00:10,  2.04it/s]"
     ]
    },
    {
     "name": "stdout",
     "output_type": "stream",
     "text": [
      "TRNAU1AP 884 62\n"
     ]
    },
    {
     "name": "stderr",
     "output_type": "stream",
     "text": [
      " 49%|████▉     | 20/41 [00:10<00:10,  1.93it/s]"
     ]
    },
    {
     "name": "stdout",
     "output_type": "stream",
     "text": [
      "LGALS3 410 22\n"
     ]
    },
    {
     "name": "stderr",
     "output_type": "stream",
     "text": [
      " 51%|█████     | 21/41 [00:10<00:10,  1.87it/s]"
     ]
    },
    {
     "name": "stdout",
     "output_type": "stream",
     "text": [
      "MBNL1 91 0\n"
     ]
    },
    {
     "name": "stderr",
     "output_type": "stream",
     "text": [
      " 54%|█████▎    | 22/41 [00:11<00:10,  1.83it/s]"
     ]
    },
    {
     "name": "stdout",
     "output_type": "stream",
     "text": [
      "WDR6 19 0\n"
     ]
    },
    {
     "name": "stderr",
     "output_type": "stream",
     "text": [
      " 56%|█████▌    | 23/41 [00:12<00:10,  1.79it/s]"
     ]
    },
    {
     "name": "stdout",
     "output_type": "stream",
     "text": [
      "HNRNPH2 198 0\n"
     ]
    },
    {
     "name": "stderr",
     "output_type": "stream",
     "text": [
      " 59%|█████▊    | 24/41 [00:12<00:10,  1.70it/s]"
     ]
    },
    {
     "name": "stdout",
     "output_type": "stream",
     "text": [
      "YTHDF1 115 3\n"
     ]
    },
    {
     "name": "stderr",
     "output_type": "stream",
     "text": [
      " 61%|██████    | 25/41 [00:13<00:09,  1.69it/s]"
     ]
    },
    {
     "name": "stdout",
     "output_type": "stream",
     "text": [
      "TPD52L2 301 4\n"
     ]
    },
    {
     "name": "stderr",
     "output_type": "stream",
     "text": [
      " 63%|██████▎   | 26/41 [00:13<00:08,  1.71it/s]"
     ]
    },
    {
     "name": "stdout",
     "output_type": "stream",
     "text": [
      "DZIP3 24 13\n"
     ]
    },
    {
     "name": "stderr",
     "output_type": "stream",
     "text": [
      " 66%|██████▌   | 27/41 [00:14<00:08,  1.69it/s]"
     ]
    },
    {
     "name": "stdout",
     "output_type": "stream",
     "text": [
      "ZC3HAV1 532 95\n"
     ]
    },
    {
     "name": "stderr",
     "output_type": "stream",
     "text": [
      " 68%|██████▊   | 28/41 [00:15<00:07,  1.70it/s]"
     ]
    },
    {
     "name": "stdout",
     "output_type": "stream",
     "text": [
      "PPP1CA 81 11\n"
     ]
    },
    {
     "name": "stderr",
     "output_type": "stream",
     "text": [
      " 71%|███████   | 29/41 [00:15<00:07,  1.71it/s]"
     ]
    },
    {
     "name": "stdout",
     "output_type": "stream",
     "text": [
      "RBM14 204 8\n"
     ]
    },
    {
     "name": "stderr",
     "output_type": "stream",
     "text": [
      " 73%|███████▎  | 30/41 [00:16<00:06,  1.72it/s]"
     ]
    },
    {
     "name": "stdout",
     "output_type": "stream",
     "text": [
      "STAU2 23 0\n"
     ]
    },
    {
     "name": "stderr",
     "output_type": "stream",
     "text": [
      " 76%|███████▌  | 31/41 [00:16<00:05,  1.73it/s]"
     ]
    },
    {
     "name": "stdout",
     "output_type": "stream",
     "text": [
      "RBM11 79 6\n"
     ]
    },
    {
     "name": "stderr",
     "output_type": "stream",
     "text": [
      " 78%|███████▊  | 32/41 [00:17<00:05,  1.69it/s]"
     ]
    },
    {
     "name": "stdout",
     "output_type": "stream",
     "text": [
      "PPIA 604 61\n"
     ]
    },
    {
     "name": "stderr",
     "output_type": "stream",
     "text": [
      " 80%|████████  | 33/41 [00:18<00:04,  1.66it/s]"
     ]
    },
    {
     "name": "stdout",
     "output_type": "stream",
     "text": [
      "RBM5 822 144\n"
     ]
    },
    {
     "name": "stderr",
     "output_type": "stream",
     "text": [
      " 83%|████████▎ | 34/41 [00:18<00:04,  1.66it/s]"
     ]
    },
    {
     "name": "stdout",
     "output_type": "stream",
     "text": [
      "SRP68 511 0\n"
     ]
    },
    {
     "name": "stderr",
     "output_type": "stream",
     "text": [
      " 85%|████████▌ | 35/41 [00:19<00:03,  1.66it/s]"
     ]
    },
    {
     "name": "stdout",
     "output_type": "stream",
     "text": [
      "RBM4 288 70\n"
     ]
    },
    {
     "name": "stderr",
     "output_type": "stream",
     "text": [
      " 88%|████████▊ | 36/41 [00:19<00:02,  1.69it/s]"
     ]
    },
    {
     "name": "stdout",
     "output_type": "stream",
     "text": [
      "RNPS1 25 0\n"
     ]
    },
    {
     "name": "stderr",
     "output_type": "stream",
     "text": [
      " 90%|█████████ | 37/41 [00:20<00:02,  1.67it/s]"
     ]
    },
    {
     "name": "stdout",
     "output_type": "stream",
     "text": [
      "CPSF6 698 131\n"
     ]
    },
    {
     "name": "stderr",
     "output_type": "stream",
     "text": [
      " 93%|█████████▎| 38/41 [00:21<00:01,  1.69it/s]"
     ]
    },
    {
     "name": "stdout",
     "output_type": "stream",
     "text": [
      "PCBP1 81 0\n"
     ]
    },
    {
     "name": "stderr",
     "output_type": "stream",
     "text": [
      " 95%|█████████▌| 39/41 [00:21<00:01,  1.71it/s]"
     ]
    },
    {
     "name": "stdout",
     "output_type": "stream",
     "text": [
      "EIF4B 39 0\n"
     ]
    },
    {
     "name": "stderr",
     "output_type": "stream",
     "text": [
      " 98%|█████████▊| 40/41 [00:22<00:00,  1.70it/s]"
     ]
    },
    {
     "name": "stdout",
     "output_type": "stream",
     "text": [
      "RPS19BP1 349 33\n"
     ]
    },
    {
     "name": "stderr",
     "output_type": "stream",
     "text": [
      "100%|██████████| 41/41 [00:22<00:00,  1.79it/s]"
     ]
    },
    {
     "name": "stdout",
     "output_type": "stream",
     "text": [
      "NUDT21 2366 366\n"
     ]
    },
    {
     "name": "stderr",
     "output_type": "stream",
     "text": [
      "\n"
     ]
    }
   ],
   "source": [
    "r_list = []\n",
    "num_top_terms = []\n",
    "go_pvals = pd.DataFrame()\n",
    "for rbp in tqdm.tqdm(final_candidate_list):\n",
    "    if rbp in sig_PAS:\n",
    "        r_list.append(rbp)\n",
    "    \n",
    "        \n",
    "        top_genes = pd.DataFrame(sig_PAS[rbp]).copy()\n",
    "        top_genes = top_genes.rename(columns={0: 'gene_name'})\n",
    "        top_genes = top_genes.set_index('gene_name')\n",
    "        top_genes['group'] = 'pas_change'\n",
    "        \n",
    "        # Run ora\n",
    "        enr_pvals = dc.get_ora_df(\n",
    "            df=top_genes,\n",
    "            net=msigdb,\n",
    "            source='geneset',\n",
    "            target='genesymbol'\n",
    "        )\n",
    "        \n",
    "        total_num_terms = enr_pvals[enr_pvals['FDR p-value']<0.05].shape[0]\n",
    "        enr_pvals['-log10 FDR p-value'] = -np.log10(enr_pvals['FDR p-value'])\n",
    "        print(rbp, top_genes.shape[0], enr_pvals[enr_pvals['FDR p-value']<0.05].shape[0])\n",
    "        keep_term = enr_pvals[enr_pvals['FDR p-value']<0.05].sort_values(by=['-log10 FDR p-value', 'Combined score'],ascending=[False, False]).head(1)\n",
    "        num_top_terms.append(enr_pvals[enr_pvals['FDR p-value']<0.05].shape[0])\n",
    "        keep_term['RBP'] = rbp\n",
    "        go_pvals = pd.concat([keep_term\n",
    "                              ,go_pvals])"
   ]
  },
  {
   "cell_type": "code",
   "execution_count": 18,
   "id": "cc7731d1-dbb6-4c16-a51e-4a6a55a05ccf",
   "metadata": {},
   "outputs": [
    {
     "data": {
      "text/html": [
       "<div>\n",
       "<style scoped>\n",
       "    .dataframe tbody tr th:only-of-type {\n",
       "        vertical-align: middle;\n",
       "    }\n",
       "\n",
       "    .dataframe tbody tr th {\n",
       "        vertical-align: top;\n",
       "    }\n",
       "\n",
       "    .dataframe thead th {\n",
       "        text-align: right;\n",
       "    }\n",
       "</style>\n",
       "<table border=\"1\" class=\"dataframe\">\n",
       "  <thead>\n",
       "    <tr style=\"text-align: right;\">\n",
       "      <th></th>\n",
       "      <th>Term</th>\n",
       "      <th>Set size</th>\n",
       "      <th>Overlap ratio</th>\n",
       "      <th>p-value</th>\n",
       "      <th>FDR p-value</th>\n",
       "      <th>Odds ratio</th>\n",
       "      <th>Combined score</th>\n",
       "      <th>Features</th>\n",
       "      <th>-log10 FDR p-value</th>\n",
       "      <th>RBP</th>\n",
       "    </tr>\n",
       "  </thead>\n",
       "  <tbody>\n",
       "    <tr>\n",
       "      <th>1686</th>\n",
       "      <td>INTRACELLULAR_TRANSPORT</td>\n",
       "      <td>1574</td>\n",
       "      <td>0.222999</td>\n",
       "      <td>1.054923e-34</td>\n",
       "      <td>6.611204e-31</td>\n",
       "      <td>2.040999</td>\n",
       "      <td>159.676354</td>\n",
       "      <td>ABCE1;ACAP2;AGFG1;AGTPBP1;AKIRIN2;ALMS1;ANKFY1...</td>\n",
       "      <td>30.179719</td>\n",
       "      <td>NUDT21</td>\n",
       "    </tr>\n",
       "    <tr>\n",
       "      <th>1052</th>\n",
       "      <td>MITOTIC_CELL_CYCLE_PROCESS</td>\n",
       "      <td>750</td>\n",
       "      <td>0.046667</td>\n",
       "      <td>1.347698e-07</td>\n",
       "      <td>3.249738e-04</td>\n",
       "      <td>2.895336</td>\n",
       "      <td>45.803347</td>\n",
       "      <td>ANLN;ATM;ATRX;BAZ1B;BIRC5;BRD4;CDC45;CHEK1;CKA...</td>\n",
       "      <td>3.488152</td>\n",
       "      <td>RPS19BP1</td>\n",
       "    </tr>\n",
       "    <tr>\n",
       "      <th>1120</th>\n",
       "      <td>INTRACELLULAR_TRANSPORT</td>\n",
       "      <td>1574</td>\n",
       "      <td>0.073062</td>\n",
       "      <td>1.640384e-14</td>\n",
       "      <td>6.983113e-11</td>\n",
       "      <td>2.316548</td>\n",
       "      <td>73.530156</td>\n",
       "      <td>ACAP2;AGFG1;AKIRIN2;AP1G1;AP3B1;ARIH2;ARL8B;AR...</td>\n",
       "      <td>10.155951</td>\n",
       "      <td>CPSF6</td>\n",
       "    </tr>\n",
       "    <tr>\n",
       "      <th>578</th>\n",
       "      <td>ESTABLISHMENT_OF_PROTEIN_LOCALIZATION</td>\n",
       "      <td>1655</td>\n",
       "      <td>0.031420</td>\n",
       "      <td>6.707454e-08</td>\n",
       "      <td>2.081323e-04</td>\n",
       "      <td>2.459963</td>\n",
       "      <td>40.632339</td>\n",
       "      <td>AKIRIN2;AP3B1;APPBP2;BARD1;BBS7;BRAF;BRSK2;CYB...</td>\n",
       "      <td>3.681661</td>\n",
       "      <td>RBM4</td>\n",
       "    </tr>\n",
       "    <tr>\n",
       "      <th>349</th>\n",
       "      <td>CELLULAR_MACROMOLECULE_CATABOLIC_PROCESS</td>\n",
       "      <td>1021</td>\n",
       "      <td>0.091087</td>\n",
       "      <td>3.468949e-13</td>\n",
       "      <td>1.628325e-09</td>\n",
       "      <td>2.381402</td>\n",
       "      <td>68.321839</td>\n",
       "      <td>AGAP3;AGO2;AMFR;ARIH1;ARIH2;ARMC8;ATM;BBS7;CDC...</td>\n",
       "      <td>8.788259</td>\n",
       "      <td>RBM5</td>\n",
       "    </tr>\n",
       "  </tbody>\n",
       "</table>\n",
       "</div>"
      ],
      "text/plain": [
       "                                          Term  Set size  Overlap ratio  \\\n",
       "1686                   INTRACELLULAR_TRANSPORT      1574       0.222999   \n",
       "1052                MITOTIC_CELL_CYCLE_PROCESS       750       0.046667   \n",
       "1120                   INTRACELLULAR_TRANSPORT      1574       0.073062   \n",
       "578      ESTABLISHMENT_OF_PROTEIN_LOCALIZATION      1655       0.031420   \n",
       "349   CELLULAR_MACROMOLECULE_CATABOLIC_PROCESS      1021       0.091087   \n",
       "\n",
       "           p-value   FDR p-value  Odds ratio  Combined score  \\\n",
       "1686  1.054923e-34  6.611204e-31    2.040999      159.676354   \n",
       "1052  1.347698e-07  3.249738e-04    2.895336       45.803347   \n",
       "1120  1.640384e-14  6.983113e-11    2.316548       73.530156   \n",
       "578   6.707454e-08  2.081323e-04    2.459963       40.632339   \n",
       "349   3.468949e-13  1.628325e-09    2.381402       68.321839   \n",
       "\n",
       "                                               Features  -log10 FDR p-value  \\\n",
       "1686  ABCE1;ACAP2;AGFG1;AGTPBP1;AKIRIN2;ALMS1;ANKFY1...           30.179719   \n",
       "1052  ANLN;ATM;ATRX;BAZ1B;BIRC5;BRD4;CDC45;CHEK1;CKA...            3.488152   \n",
       "1120  ACAP2;AGFG1;AKIRIN2;AP1G1;AP3B1;ARIH2;ARL8B;AR...           10.155951   \n",
       "578   AKIRIN2;AP3B1;APPBP2;BARD1;BBS7;BRAF;BRSK2;CYB...            3.681661   \n",
       "349   AGAP3;AGO2;AMFR;ARIH1;ARIH2;ARMC8;ATM;BBS7;CDC...            8.788259   \n",
       "\n",
       "           RBP  \n",
       "1686    NUDT21  \n",
       "1052  RPS19BP1  \n",
       "1120     CPSF6  \n",
       "578       RBM4  \n",
       "349       RBM5  "
      ]
     },
     "execution_count": 18,
     "metadata": {},
     "output_type": "execute_result"
    }
   ],
   "source": [
    "go_pvals.head()"
   ]
  },
  {
   "cell_type": "code",
   "execution_count": 20,
   "id": "1d4eccab-0d81-4e41-8239-f85b4ad02bd3",
   "metadata": {},
   "outputs": [
    {
     "data": {
      "image/png": "[encoded data removed]",
      "text/plain": [
       "<Figure size 300x500 with 1 Axes>"
      ]
     },
     "metadata": {},
     "output_type": "display_data"
    }
   ],
   "source": [
    "to_plot = go_pvals.copy()\n",
    "to_plot = to_plot.sort_values('Term', ascending=False)\n",
    "plt.rcParams['figure.figsize'] = [3, 5]\n",
    "\n",
    "# Plot using the term count as the size\n",
    "sns.set_style('white')\n",
    "\n",
    "# Use scatter plot with Term_count as size\n",
    "function_scatter = sns.scatterplot(\n",
    "    data=to_plot,\n",
    "    y=to_plot.RBP,\n",
    "    x=to_plot.Term,\n",
    "    size=np.log10(to_plot['Odds ratio']),\n",
    "    #size=to_plot['Odds ratio'],\n",
    "    #sizes=(36, 200),  # Adjust min and max circle sizes as needed,\n",
    "    hue=to_plot['-log10 FDR p-value'],\n",
    "    palette='crest_r'\n",
    ")\n",
    "plt.xticks(rotation=90)\n",
    "plt.grid()\n",
    "plt.savefig('passeq_events_decoupler.png')\n",
    "plt.savefig('passeq_events_decoupler.jpg')\n",
    "plt.savefig('passeq_events_decoupler.svg')"
   ]
  },
  {
   "cell_type": "code",
   "execution_count": null,
   "id": "539b6f78-09b8-46db-b31f-d5e2ca59cfca",
   "metadata": {},
   "outputs": [],
   "source": []
  }
 ],
 "metadata": {
  "kernelspec": {
   "display_name": "Python [conda env:decoupler] *",
   "language": "python",
   "name": "conda-env-decoupler-py"
  },
  "language_info": {
   "codemirror_mode": {
    "name": "ipython",
    "version": 3
   },
   "file_extension": ".py",
   "mimetype": "text/x-python",
   "name": "python",
   "nbconvert_exporter": "python",
   "pygments_lexer": "ipython3",
   "version": "3.11.6"
  }
 },
 "nbformat": 4,
 "nbformat_minor": 5
}
