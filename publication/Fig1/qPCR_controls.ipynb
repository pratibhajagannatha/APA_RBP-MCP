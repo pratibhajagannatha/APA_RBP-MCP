{
 "cells": [
  {
   "cell_type": "code",
   "execution_count": 1,
   "id": "951ca2a6-f802-445f-8baa-f19a0d56df5a",
   "metadata": {},
   "outputs": [],
   "source": [
    "import os\n",
    "import pandas as pd\n",
    "import seaborn as sns\n",
    "import matplotlib.pyplot as plt"
   ]
  },
  {
   "cell_type": "code",
   "execution_count": 2,
   "id": "4daaf3ed-ce93-4fae-b963-1f8585b97f06",
   "metadata": {},
   "outputs": [],
   "source": [
    "qpcr_data = pd.read_csv('APA_Paper_control_qPCR_Yoseop_Aug2025.txt', sep='\\t')[['RBP', 'log2_qpcr', 'reporter', 'stars']]"
   ]
  },
  {
   "cell_type": "code",
   "execution_count": 3,
   "id": "6033cc46-456c-43c4-816d-4f1bc0960648",
   "metadata": {},
   "outputs": [
    {
     "data": {
      "text/html": [
       "<div>\n",
       "<style scoped>\n",
       "    .dataframe tbody tr th:only-of-type {\n",
       "        vertical-align: middle;\n",
       "    }\n",
       "\n",
       "    .dataframe tbody tr th {\n",
       "        vertical-align: top;\n",
       "    }\n",
       "\n",
       "    .dataframe thead th {\n",
       "        text-align: right;\n",
       "    }\n",
       "</style>\n",
       "<table border=\"1\" class=\"dataframe\">\n",
       "  <thead>\n",
       "    <tr style=\"text-align: right;\">\n",
       "      <th></th>\n",
       "      <th>RBP</th>\n",
       "      <th>log2_qpcr</th>\n",
       "      <th>reporter</th>\n",
       "      <th>stars</th>\n",
       "    </tr>\n",
       "  </thead>\n",
       "  <tbody>\n",
       "    <tr>\n",
       "      <th>0</th>\n",
       "      <td>CPSF5</td>\n",
       "      <td>2.258330</td>\n",
       "      <td>upstream</td>\n",
       "      <td>****</td>\n",
       "    </tr>\n",
       "    <tr>\n",
       "      <th>1</th>\n",
       "      <td>CPSF5</td>\n",
       "      <td>2.555763</td>\n",
       "      <td>upstream</td>\n",
       "      <td>****</td>\n",
       "    </tr>\n",
       "    <tr>\n",
       "      <th>2</th>\n",
       "      <td>CPSF5</td>\n",
       "      <td>2.636102</td>\n",
       "      <td>upstream</td>\n",
       "      <td>****</td>\n",
       "    </tr>\n",
       "    <tr>\n",
       "      <th>3</th>\n",
       "      <td>CPSF6</td>\n",
       "      <td>1.041944</td>\n",
       "      <td>upstream</td>\n",
       "      <td>**</td>\n",
       "    </tr>\n",
       "    <tr>\n",
       "      <th>4</th>\n",
       "      <td>CPSF6</td>\n",
       "      <td>1.115767</td>\n",
       "      <td>upstream</td>\n",
       "      <td>**</td>\n",
       "    </tr>\n",
       "    <tr>\n",
       "      <th>5</th>\n",
       "      <td>CPSF6</td>\n",
       "      <td>0.813659</td>\n",
       "      <td>upstream</td>\n",
       "      <td>**</td>\n",
       "    </tr>\n",
       "    <tr>\n",
       "      <th>6</th>\n",
       "      <td>hnrnpcl1</td>\n",
       "      <td>-1.197566</td>\n",
       "      <td>upstream</td>\n",
       "      <td>*</td>\n",
       "    </tr>\n",
       "    <tr>\n",
       "      <th>7</th>\n",
       "      <td>hnrnpcl1</td>\n",
       "      <td>-0.374281</td>\n",
       "      <td>upstream</td>\n",
       "      <td>*</td>\n",
       "    </tr>\n",
       "    <tr>\n",
       "      <th>8</th>\n",
       "      <td>hnrnpcl1</td>\n",
       "      <td>-0.971162</td>\n",
       "      <td>upstream</td>\n",
       "      <td>*</td>\n",
       "    </tr>\n",
       "    <tr>\n",
       "      <th>9</th>\n",
       "      <td>CPSF5</td>\n",
       "      <td>0.103978</td>\n",
       "      <td>downstream</td>\n",
       "      <td>ns</td>\n",
       "    </tr>\n",
       "    <tr>\n",
       "      <th>10</th>\n",
       "      <td>CPSF5</td>\n",
       "      <td>0.089165</td>\n",
       "      <td>downstream</td>\n",
       "      <td>ns</td>\n",
       "    </tr>\n",
       "    <tr>\n",
       "      <th>11</th>\n",
       "      <td>CPSF5</td>\n",
       "      <td>0.126575</td>\n",
       "      <td>downstream</td>\n",
       "      <td>ns</td>\n",
       "    </tr>\n",
       "    <tr>\n",
       "      <th>12</th>\n",
       "      <td>CPSF6</td>\n",
       "      <td>-0.518590</td>\n",
       "      <td>downstream</td>\n",
       "      <td>ns</td>\n",
       "    </tr>\n",
       "    <tr>\n",
       "      <th>13</th>\n",
       "      <td>CPSF6</td>\n",
       "      <td>0.012711</td>\n",
       "      <td>downstream</td>\n",
       "      <td>ns</td>\n",
       "    </tr>\n",
       "    <tr>\n",
       "      <th>14</th>\n",
       "      <td>CPSF6</td>\n",
       "      <td>-0.049530</td>\n",
       "      <td>downstream</td>\n",
       "      <td>ns</td>\n",
       "    </tr>\n",
       "    <tr>\n",
       "      <th>15</th>\n",
       "      <td>hnrnpcl1</td>\n",
       "      <td>-2.180988</td>\n",
       "      <td>downstream</td>\n",
       "      <td>****</td>\n",
       "    </tr>\n",
       "    <tr>\n",
       "      <th>16</th>\n",
       "      <td>hnrnpcl1</td>\n",
       "      <td>-2.235452</td>\n",
       "      <td>downstream</td>\n",
       "      <td>****</td>\n",
       "    </tr>\n",
       "    <tr>\n",
       "      <th>17</th>\n",
       "      <td>hnrnpcl1</td>\n",
       "      <td>-1.627275</td>\n",
       "      <td>downstream</td>\n",
       "      <td>****</td>\n",
       "    </tr>\n",
       "  </tbody>\n",
       "</table>\n",
       "</div>"
      ],
      "text/plain": [
       "         RBP  log2_qpcr    reporter stars\n",
       "0      CPSF5   2.258330   upstream   ****\n",
       "1      CPSF5   2.555763   upstream   ****\n",
       "2      CPSF5   2.636102   upstream   ****\n",
       "3      CPSF6   1.041944   upstream     **\n",
       "4      CPSF6   1.115767   upstream     **\n",
       "5      CPSF6   0.813659   upstream     **\n",
       "6   hnrnpcl1  -1.197566   upstream      *\n",
       "7   hnrnpcl1  -0.374281   upstream      *\n",
       "8   hnrnpcl1  -0.971162   upstream      *\n",
       "9      CPSF5   0.103978  downstream    ns\n",
       "10     CPSF5   0.089165  downstream    ns\n",
       "11     CPSF5   0.126575  downstream    ns\n",
       "12     CPSF6  -0.518590  downstream    ns\n",
       "13     CPSF6   0.012711  downstream    ns\n",
       "14     CPSF6  -0.049530  downstream    ns\n",
       "15  hnrnpcl1  -2.180988  downstream  ****\n",
       "16  hnrnpcl1  -2.235452  downstream  ****\n",
       "17  hnrnpcl1  -1.627275  downstream  ****"
      ]
     },
     "execution_count": 3,
     "metadata": {},
     "output_type": "execute_result"
    }
   ],
   "source": [
    "qpcr_data"
   ]
  },
  {
   "cell_type": "code",
   "execution_count": 4,
   "id": "d6f463a5-509f-4cbe-b872-3843abdefdda",
   "metadata": {},
   "outputs": [
    {
     "data": {
      "text/plain": [
       "<Axes: xlabel='RBP', ylabel='log2_qpcr'>"
      ]
     },
     "execution_count": 4,
     "metadata": {},
     "output_type": "execute_result"
    },
    {
     "data": {
      "image/png": "[encoded data removed]",
      "text/plain": [
       "<Figure size 200x400 with 1 Axes>"
      ]
     },
     "metadata": {},
     "output_type": "display_data"
    }
   ],
   "source": [
    "plt.rcParams['figure.figsize'] = (2, 4\n",
    "                                  )\n",
    "sns.barplot(data=qpcr_data,\n",
    "            x='RBP',\n",
    "            y='log2_qpcr',\n",
    "            hue='reporter',\n",
    "           palette=['#7C5D86', '#668EB1'])"
   ]
  },
  {
   "cell_type": "code",
   "execution_count": 5,
   "id": "4d4b0afa-1cb1-43e3-9581-4e1929ac3ff4",
   "metadata": {},
   "outputs": [],
   "source": [
    "stars_df= qpcr_data.groupby(['RBP', 'reporter', 'stars']).mean('log2_qpcr').reset_index().sort_values(by='reporter', ascending = False).reset_index()\n",
    "stars_dict = dict(zip(stars_df.index, stars_df.stars))"
   ]
  },
  {
   "cell_type": "code",
   "execution_count": 6,
   "id": "9ff05290-b9f5-4079-8921-2050c0ff3876",
   "metadata": {},
   "outputs": [
    {
     "data": {
      "text/plain": [
       "{0: '****', 1: '**', 2: '*', 3: 'ns', 4: 'ns', 5: '****'}"
      ]
     },
     "execution_count": 6,
     "metadata": {},
     "output_type": "execute_result"
    }
   ],
   "source": [
    "stars_dict"
   ]
  },
  {
   "cell_type": "code",
   "execution_count": 7,
   "id": "45f09940-a60d-429a-a22b-ed8344c42563",
   "metadata": {},
   "outputs": [
    {
     "data": {
      "image/png": "[encoded data removed]",
      "text/plain": [
       "<Figure size 200x400 with 1 Axes>"
      ]
     },
     "metadata": {},
     "output_type": "display_data"
    }
   ],
   "source": [
    "sns.set_style('whitegrid')\n",
    "plt.rcParams['figure.figsize'] = (2, 4\n",
    "                                  )\n",
    "ax = sns.barplot(\n",
    "    data=qpcr_data,\n",
    "    x='RBP',\n",
    "    y='log2_qpcr',\n",
    "    hue='reporter',\n",
    "    palette=['#7C5D86', '#668EB1']\n",
    ")\n",
    "\n",
    "# Add stars above bars\n",
    "for i, p in enumerate(ax.patches):\n",
    "    # Find corresponding star text\n",
    "    if i in stars_dict.keys():\n",
    "        star_label = stars_dict[i]\n",
    "        # Get bar height\n",
    "        height = p.get_height()\n",
    "        if height > 0:\n",
    "            # Annotate\n",
    "            ax.text(\n",
    "                p.get_x() + p.get_width()/2.,  # bar midpoint\n",
    "                height + 0.1,                  # just above bar\n",
    "                star_label,\n",
    "                ha=\"center\", va=\"bottom\",\n",
    "                fontsize=12, color=\"black\"\n",
    "            )\n",
    "        else:\n",
    "            ax.text(\n",
    "                p.get_x() + p.get_width()/2.,  # bar midpoint\n",
    "                height - 0.55,                  # just above bar\n",
    "                star_label,\n",
    "                ha=\"center\", va=\"bottom\",\n",
    "                fontsize=12, color=\"black\"\n",
    "            )\n",
    "\n",
    "plt.savefig('qPCR_controls_Yoseop_revision_log2.png')\n",
    "plt.savefig('qPCR_controls_Yoseop_revision_log2.jpg')\n",
    "plt.savefig('qPCR_controls_Yoseop_revision_log2.svg')\n",
    "\n",
    "plt.show()\n"
   ]
  },
  {
   "cell_type": "code",
   "execution_count": null,
   "id": "2b388157-39fb-4f4f-902d-a9b16509420e",
   "metadata": {},
   "outputs": [],
   "source": []
  }
 ],
 "metadata": {
  "kernelspec": {
   "display_name": "Python 3 (ipykernel)",
   "language": "python",
   "name": "python3"
  },
  "language_info": {
   "codemirror_mode": {
    "name": "ipython",
    "version": 3
   },
   "file_extension": ".py",
   "mimetype": "text/x-python",
   "name": "python",
   "nbconvert_exporter": "python",
   "pygments_lexer": "ipython3",
   "version": "3.11.6"
  }
 },
 "nbformat": 4,
 "nbformat_minor": 5
}
